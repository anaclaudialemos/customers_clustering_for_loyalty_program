{
 "cells": [
  {
   "cell_type": "markdown",
   "id": "25464eb3",
   "metadata": {},
   "source": [
    "# 0.0 IMPORTS"
   ]
  },
  {
   "cell_type": "code",
   "execution_count": 1,
   "id": "abc1b00b",
   "metadata": {},
   "outputs": [],
   "source": [
    "import re\n",
    "import sweetviz \n",
    "\n",
    "import numpy                 as np\n",
    "import pandas                as pd\n",
    "\n",
    "import seaborn               as sns\n",
    "import matplotlib.patches    as mpatches\n",
    "import matplotlib.cm         as cm\n",
    "import scikitplot            as skplt\n",
    "import plotly.express        as px\n",
    "import umap.umap_            as umap\n",
    "\n",
    "from pandas_profiling        import ProfileReport\n",
    "from matplotlib              import pyplot as plt\n",
    "from IPython.core.display    import HTML\n",
    "from IPython.display         import Image\n",
    "\n",
    "from sklearn                 import preprocessing as pp\n",
    "from yellowbrick.cluster     import KElbowVisualizer, SilhouetteVisualizer\n",
    "from sklearn.metrics         import silhouette_samples, silhouette_score\n",
    "\n",
    "from sklearn                 import cluster       as c\n",
    "from sklearn                 import metrics       as m\n",
    "from sklearn                 import ensemble      as en\n",
    "from sklearn                 import decomposition as dd\n",
    "from sklearn                 import manifold      as mn\n",
    "from sklearn                 import mixture       as mx\n",
    "from scipy.cluster           import hierarchy     as hc"
   ]
  },
  {
   "cell_type": "markdown",
   "id": "fc8afad7",
   "metadata": {},
   "source": [
    "## 0.1 Helper Functions"
   ]
  },
  {
   "cell_type": "code",
   "execution_count": 2,
   "id": "315361e8",
   "metadata": {},
   "outputs": [],
   "source": [
    "def personal_settings():   \n",
    "    display(HTML('<style>.container{width:80% !important;}</style>'))\n",
    "    np.set_printoptions(suppress=True)\n",
    "    pd.options.display.float_format = '{:.2f}'.format\n",
    "    pd.options.mode.chained_assignment = None\n",
    "    \n",
    "    plt.style.use( 'bmh' )\n",
    "    plt.rcParams['figure.figsize'] = [20,10]\n",
    "    plt.rcParams['font.size'] = 24\n",
    "    \n",
    "    sns.set()"
   ]
  },
  {
   "cell_type": "code",
   "execution_count": 3,
   "id": "21002aaf",
   "metadata": {},
   "outputs": [
    {
     "data": {
      "text/html": [
       "<style>.container{width:80% !important;}</style>"
      ],
      "text/plain": [
       "<IPython.core.display.HTML object>"
      ]
     },
     "metadata": {},
     "output_type": "display_data"
    }
   ],
   "source": [
    "personal_settings()"
   ]
  },
  {
   "cell_type": "markdown",
   "id": "660ba11f",
   "metadata": {},
   "source": [
    "## 0.2 Load Data"
   ]
  },
  {
   "cell_type": "code",
   "execution_count": 4,
   "id": "a4ce7ec4",
   "metadata": {},
   "outputs": [],
   "source": [
    "df_raw = pd.read_csv('../data/OnlineRetail.csv')"
   ]
  },
  {
   "cell_type": "markdown",
   "id": "88cc188d",
   "metadata": {},
   "source": [
    "# 1 DATA DESCRIPTION"
   ]
  },
  {
   "cell_type": "code",
   "execution_count": 5,
   "id": "1494f3ab",
   "metadata": {},
   "outputs": [],
   "source": [
    "df1 = df_raw.copy()"
   ]
  },
  {
   "cell_type": "code",
   "execution_count": 6,
   "id": "f7e345bf",
   "metadata": {},
   "outputs": [
    {
     "data": {
      "text/html": [
       "<div>\n",
       "<style scoped>\n",
       "    .dataframe tbody tr th:only-of-type {\n",
       "        vertical-align: middle;\n",
       "    }\n",
       "\n",
       "    .dataframe tbody tr th {\n",
       "        vertical-align: top;\n",
       "    }\n",
       "\n",
       "    .dataframe thead th {\n",
       "        text-align: right;\n",
       "    }\n",
       "</style>\n",
       "<table border=\"1\" class=\"dataframe\">\n",
       "  <thead>\n",
       "    <tr style=\"text-align: right;\">\n",
       "      <th></th>\n",
       "      <th>InvoiceNo</th>\n",
       "      <th>StockCode</th>\n",
       "      <th>Description</th>\n",
       "      <th>Quantity</th>\n",
       "      <th>InvoiceDate</th>\n",
       "      <th>UnitPrice</th>\n",
       "      <th>CustomerID</th>\n",
       "      <th>Country</th>\n",
       "    </tr>\n",
       "  </thead>\n",
       "  <tbody>\n",
       "    <tr>\n",
       "      <th>0</th>\n",
       "      <td>536365</td>\n",
       "      <td>85123A</td>\n",
       "      <td>WHITE HANGING HEART T-LIGHT HOLDER</td>\n",
       "      <td>6</td>\n",
       "      <td>2010-12-01 08:26:00</td>\n",
       "      <td>2.55</td>\n",
       "      <td>17850.00</td>\n",
       "      <td>United Kingdom</td>\n",
       "    </tr>\n",
       "    <tr>\n",
       "      <th>1</th>\n",
       "      <td>536365</td>\n",
       "      <td>71053</td>\n",
       "      <td>WHITE METAL LANTERN</td>\n",
       "      <td>6</td>\n",
       "      <td>2010-12-01 08:26:00</td>\n",
       "      <td>3.39</td>\n",
       "      <td>17850.00</td>\n",
       "      <td>United Kingdom</td>\n",
       "    </tr>\n",
       "    <tr>\n",
       "      <th>2</th>\n",
       "      <td>536365</td>\n",
       "      <td>84406B</td>\n",
       "      <td>CREAM CUPID HEARTS COAT HANGER</td>\n",
       "      <td>8</td>\n",
       "      <td>2010-12-01 08:26:00</td>\n",
       "      <td>2.75</td>\n",
       "      <td>17850.00</td>\n",
       "      <td>United Kingdom</td>\n",
       "    </tr>\n",
       "    <tr>\n",
       "      <th>3</th>\n",
       "      <td>536365</td>\n",
       "      <td>84029G</td>\n",
       "      <td>KNITTED UNION FLAG HOT WATER BOTTLE</td>\n",
       "      <td>6</td>\n",
       "      <td>2010-12-01 08:26:00</td>\n",
       "      <td>3.39</td>\n",
       "      <td>17850.00</td>\n",
       "      <td>United Kingdom</td>\n",
       "    </tr>\n",
       "    <tr>\n",
       "      <th>4</th>\n",
       "      <td>536365</td>\n",
       "      <td>84029E</td>\n",
       "      <td>RED WOOLLY HOTTIE WHITE HEART.</td>\n",
       "      <td>6</td>\n",
       "      <td>2010-12-01 08:26:00</td>\n",
       "      <td>3.39</td>\n",
       "      <td>17850.00</td>\n",
       "      <td>United Kingdom</td>\n",
       "    </tr>\n",
       "  </tbody>\n",
       "</table>\n",
       "</div>"
      ],
      "text/plain": [
       "  InvoiceNo StockCode                          Description  Quantity  \\\n",
       "0    536365    85123A   WHITE HANGING HEART T-LIGHT HOLDER         6   \n",
       "1    536365     71053                  WHITE METAL LANTERN         6   \n",
       "2    536365    84406B       CREAM CUPID HEARTS COAT HANGER         8   \n",
       "3    536365    84029G  KNITTED UNION FLAG HOT WATER BOTTLE         6   \n",
       "4    536365    84029E       RED WOOLLY HOTTIE WHITE HEART.         6   \n",
       "\n",
       "           InvoiceDate  UnitPrice  CustomerID         Country  \n",
       "0  2010-12-01 08:26:00       2.55    17850.00  United Kingdom  \n",
       "1  2010-12-01 08:26:00       3.39    17850.00  United Kingdom  \n",
       "2  2010-12-01 08:26:00       2.75    17850.00  United Kingdom  \n",
       "3  2010-12-01 08:26:00       3.39    17850.00  United Kingdom  \n",
       "4  2010-12-01 08:26:00       3.39    17850.00  United Kingdom  "
      ]
     },
     "execution_count": 6,
     "metadata": {},
     "output_type": "execute_result"
    }
   ],
   "source": [
    "df1.head()"
   ]
  },
  {
   "cell_type": "markdown",
   "id": "f0e3205d",
   "metadata": {},
   "source": [
    "## 1.1 Data Dimensions"
   ]
  },
  {
   "cell_type": "code",
   "execution_count": 7,
   "id": "b84cdb22",
   "metadata": {},
   "outputs": [
    {
     "name": "stdout",
     "output_type": "stream",
     "text": [
      "541909 rows\n",
      "8 columns\n"
     ]
    }
   ],
   "source": [
    "print(df1.shape[0], 'rows')\n",
    "print(df1.shape[1], 'columns')"
   ]
  },
  {
   "cell_type": "markdown",
   "id": "692b1ab8",
   "metadata": {},
   "source": [
    "## 1.2 Rename columns"
   ]
  },
  {
   "cell_type": "code",
   "execution_count": 8,
   "id": "54908cbc",
   "metadata": {},
   "outputs": [
    {
     "data": {
      "text/plain": [
       "Index(['InvoiceNo', 'StockCode', 'Description', 'Quantity', 'InvoiceDate',\n",
       "       'UnitPrice', 'CustomerID', 'Country'],\n",
       "      dtype='object')"
      ]
     },
     "execution_count": 8,
     "metadata": {},
     "output_type": "execute_result"
    }
   ],
   "source": [
    "df1.columns "
   ]
  },
  {
   "cell_type": "code",
   "execution_count": 9,
   "id": "86b24d6b",
   "metadata": {},
   "outputs": [],
   "source": [
    "cols_new = ['invoice_no', 'stock_code', 'description', 'quantity', 'invoice_date','unit_price', 'customer_id', 'country']\n",
    "df1.columns = cols_new"
   ]
  },
  {
   "cell_type": "markdown",
   "id": "d91691f2",
   "metadata": {},
   "source": [
    "## 1.2 Data Descriptions"
   ]
  },
  {
   "cell_type": "markdown",
   "id": "e7b79098",
   "metadata": {},
   "source": [
    "* `invoice_no` | A 6-digit integral number uniquely assigned to each transaction. If this code starts with letter `c`, it indicates a cancellation. \n",
    "* `stock_code` | A 5-digit integral number uniquely assigned to each distinct product.   \n",
    "* `description` | Product name. \n",
    "* `quantity` | The quantities of each product (item) per transaction.  \n",
    "* `invoice_date` | The day and time when each transaction was generated.    \n",
    "* `unit_price` | Product price per unit in sterling.\n",
    "* `customer_iD` | A 5-digit integral number uniquely assigned to each customer.    \n",
    "* `country` | The name of the country where each customer resides.   "
   ]
  },
  {
   "cell_type": "markdown",
   "id": "6aa37832",
   "metadata": {},
   "source": [
    "## 1.3 Data Types"
   ]
  },
  {
   "cell_type": "code",
   "execution_count": 10,
   "id": "c023965a",
   "metadata": {},
   "outputs": [
    {
     "data": {
      "text/html": [
       "<div>\n",
       "<style scoped>\n",
       "    .dataframe tbody tr th:only-of-type {\n",
       "        vertical-align: middle;\n",
       "    }\n",
       "\n",
       "    .dataframe tbody tr th {\n",
       "        vertical-align: top;\n",
       "    }\n",
       "\n",
       "    .dataframe thead th {\n",
       "        text-align: right;\n",
       "    }\n",
       "</style>\n",
       "<table border=\"1\" class=\"dataframe\">\n",
       "  <thead>\n",
       "    <tr style=\"text-align: right;\">\n",
       "      <th></th>\n",
       "      <th>attributes</th>\n",
       "      <th>dtypes</th>\n",
       "      <th>nunique</th>\n",
       "      <th>sample</th>\n",
       "    </tr>\n",
       "  </thead>\n",
       "  <tbody>\n",
       "    <tr>\n",
       "      <th>0</th>\n",
       "      <td>invoice_no</td>\n",
       "      <td>object</td>\n",
       "      <td>25900</td>\n",
       "      <td>[575494, 560200]</td>\n",
       "    </tr>\n",
       "    <tr>\n",
       "      <th>1</th>\n",
       "      <td>stock_code</td>\n",
       "      <td>object</td>\n",
       "      <td>4070</td>\n",
       "      <td>[35819P, 21722]</td>\n",
       "    </tr>\n",
       "    <tr>\n",
       "      <th>2</th>\n",
       "      <td>description</td>\n",
       "      <td>object</td>\n",
       "      <td>4223</td>\n",
       "      <td>[BLUE CHENILLE SHAGGY CUSHION COVER , WRAP GIN...</td>\n",
       "    </tr>\n",
       "    <tr>\n",
       "      <th>3</th>\n",
       "      <td>quantity</td>\n",
       "      <td>int64</td>\n",
       "      <td>722</td>\n",
       "      <td>[45, 26]</td>\n",
       "    </tr>\n",
       "    <tr>\n",
       "      <th>4</th>\n",
       "      <td>invoice_date</td>\n",
       "      <td>object</td>\n",
       "      <td>23260</td>\n",
       "      <td>[2011-04-06 15:33:00, 2011-10-11 12:44:00]</td>\n",
       "    </tr>\n",
       "    <tr>\n",
       "      <th>5</th>\n",
       "      <td>unit_price</td>\n",
       "      <td>float64</td>\n",
       "      <td>1630</td>\n",
       "      <td>[0.11, 169.55]</td>\n",
       "    </tr>\n",
       "    <tr>\n",
       "      <th>6</th>\n",
       "      <td>customer_id</td>\n",
       "      <td>float64</td>\n",
       "      <td>4372</td>\n",
       "      <td>[18268.0, 17412.0]</td>\n",
       "    </tr>\n",
       "    <tr>\n",
       "      <th>7</th>\n",
       "      <td>country</td>\n",
       "      <td>object</td>\n",
       "      <td>38</td>\n",
       "      <td>[Norway, Netherlands]</td>\n",
       "    </tr>\n",
       "  </tbody>\n",
       "</table>\n",
       "</div>"
      ],
      "text/plain": [
       "     attributes   dtypes  nunique  \\\n",
       "0    invoice_no   object    25900   \n",
       "1    stock_code   object     4070   \n",
       "2   description   object     4223   \n",
       "3      quantity    int64      722   \n",
       "4  invoice_date   object    23260   \n",
       "5    unit_price  float64     1630   \n",
       "6   customer_id  float64     4372   \n",
       "7       country   object       38   \n",
       "\n",
       "                                              sample  \n",
       "0                                   [575494, 560200]  \n",
       "1                                    [35819P, 21722]  \n",
       "2  [BLUE CHENILLE SHAGGY CUSHION COVER , WRAP GIN...  \n",
       "3                                           [45, 26]  \n",
       "4         [2011-04-06 15:33:00, 2011-10-11 12:44:00]  \n",
       "5                                     [0.11, 169.55]  \n",
       "6                                 [18268.0, 17412.0]  \n",
       "7                              [Norway, Netherlands]  "
      ]
     },
     "execution_count": 10,
     "metadata": {},
     "output_type": "execute_result"
    }
   ],
   "source": [
    "description = []\n",
    "\n",
    "for i in df1.columns:\n",
    "    description.append([\n",
    "        i,\n",
    "        df1[i].dtypes,\n",
    "        df1[i].nunique(),\n",
    "        df1[i].drop_duplicates().sample(2).values\n",
    "    ])\n",
    "\n",
    "pd.DataFrame(data = description, columns=['attributes', 'dtypes', 'nunique', 'sample'])"
   ]
  },
  {
   "cell_type": "markdown",
   "id": "cb01ebe0",
   "metadata": {},
   "source": [
    "## 1.4 Check NA"
   ]
  },
  {
   "cell_type": "code",
   "execution_count": 11,
   "id": "09b8734d",
   "metadata": {},
   "outputs": [
    {
     "data": {
      "text/html": [
       "<div>\n",
       "<style scoped>\n",
       "    .dataframe tbody tr th:only-of-type {\n",
       "        vertical-align: middle;\n",
       "    }\n",
       "\n",
       "    .dataframe tbody tr th {\n",
       "        vertical-align: top;\n",
       "    }\n",
       "\n",
       "    .dataframe thead th {\n",
       "        text-align: right;\n",
       "    }\n",
       "</style>\n",
       "<table border=\"1\" class=\"dataframe\">\n",
       "  <thead>\n",
       "    <tr style=\"text-align: right;\">\n",
       "      <th></th>\n",
       "      <th>attributes</th>\n",
       "      <th>null</th>\n",
       "      <th>%null</th>\n",
       "    </tr>\n",
       "  </thead>\n",
       "  <tbody>\n",
       "    <tr>\n",
       "      <th>0</th>\n",
       "      <td>invoice_no</td>\n",
       "      <td>0</td>\n",
       "      <td>0</td>\n",
       "    </tr>\n",
       "    <tr>\n",
       "      <th>1</th>\n",
       "      <td>stock_code</td>\n",
       "      <td>0</td>\n",
       "      <td>0</td>\n",
       "    </tr>\n",
       "    <tr>\n",
       "      <th>2</th>\n",
       "      <td>description</td>\n",
       "      <td>1454</td>\n",
       "      <td>0</td>\n",
       "    </tr>\n",
       "    <tr>\n",
       "      <th>3</th>\n",
       "      <td>quantity</td>\n",
       "      <td>0</td>\n",
       "      <td>0</td>\n",
       "    </tr>\n",
       "    <tr>\n",
       "      <th>4</th>\n",
       "      <td>invoice_date</td>\n",
       "      <td>0</td>\n",
       "      <td>0</td>\n",
       "    </tr>\n",
       "    <tr>\n",
       "      <th>5</th>\n",
       "      <td>unit_price</td>\n",
       "      <td>0</td>\n",
       "      <td>0</td>\n",
       "    </tr>\n",
       "    <tr>\n",
       "      <th>6</th>\n",
       "      <td>customer_id</td>\n",
       "      <td>135080</td>\n",
       "      <td>25</td>\n",
       "    </tr>\n",
       "    <tr>\n",
       "      <th>7</th>\n",
       "      <td>country</td>\n",
       "      <td>0</td>\n",
       "      <td>0</td>\n",
       "    </tr>\n",
       "  </tbody>\n",
       "</table>\n",
       "</div>"
      ],
      "text/plain": [
       "     attributes    null  %null\n",
       "0    invoice_no       0      0\n",
       "1    stock_code       0      0\n",
       "2   description    1454      0\n",
       "3      quantity       0      0\n",
       "4  invoice_date       0      0\n",
       "5    unit_price       0      0\n",
       "6   customer_id  135080     25\n",
       "7       country       0      0"
      ]
     },
     "execution_count": 11,
     "metadata": {},
     "output_type": "execute_result"
    }
   ],
   "source": [
    "description = []\n",
    "\n",
    "for i in df1.columns:\n",
    "    description.append([\n",
    "        i,\n",
    "        df1[i].isna().sum(),\n",
    "        round((df1[i].isna().sum()/len(df1))*100)\n",
    "    ])\n",
    "\n",
    "pd.DataFrame(data = description, columns=['attributes','null', '%null'])"
   ]
  },
  {
   "cell_type": "markdown",
   "id": "83f40fdd",
   "metadata": {},
   "source": [
    "## 1.5 Replace NA"
   ]
  },
  {
   "cell_type": "markdown",
   "id": "b99c9098",
   "metadata": {},
   "source": [
    "Since the total `customer_id` nulls represent 25% of the dataset, we are missing a lot of data about the customer's behavior. Therefore, we will replace the nulls by grouping by `invoice_no`, with values greater than the maximum `customer_id` in the dataset. Of course, in this case these `customer_id` cannot be defined as part of the customer Insiders, because in this context we don't have who these customers are, but by using them we can use them to improve our clustering.  "
   ]
  },
  {
   "cell_type": "code",
   "execution_count": 12,
   "id": "b14a5398",
   "metadata": {},
   "outputs": [],
   "source": [
    "df_missing = df1.loc[df1['customer_id'].isna(), :]\n",
    "df_not_missing = df1.loc[~df1['customer_id'].isna(), :]"
   ]
  },
  {
   "cell_type": "code",
   "execution_count": 13,
   "id": "32c4c615",
   "metadata": {},
   "outputs": [
    {
     "data": {
      "text/plain": [
       "18287.0"
      ]
     },
     "execution_count": 13,
     "metadata": {},
     "output_type": "execute_result"
    }
   ],
   "source": [
    "df_not_missing['customer_id'].max()"
   ]
  },
  {
   "cell_type": "code",
   "execution_count": 14,
   "id": "1436e31e",
   "metadata": {},
   "outputs": [],
   "source": [
    "# creating reference\n",
    "df_backup = pd.DataFrame(df_missing['invoice_no'].drop_duplicates())\n",
    "df_backup['customer_id'] = np.arange(19000, 19000+len(df_backup), 1)\n",
    "\n",
    "# merge \n",
    "df1 = pd.merge(df1, df_backup, on='invoice_no', how='left')\n",
    "\n",
    "# coalesce \n",
    "df1['customer_id'] = df1['customer_id_x'].combine_first(df1['customer_id_y'])\n",
    "\n",
    "# drop extra columns\n",
    "df1 = df1.drop(columns=['customer_id_x', 'customer_id_y'], axis=1)"
   ]
  },
  {
   "cell_type": "code",
   "execution_count": 15,
   "id": "2797b082",
   "metadata": {},
   "outputs": [
    {
     "data": {
      "text/html": [
       "<div>\n",
       "<style scoped>\n",
       "    .dataframe tbody tr th:only-of-type {\n",
       "        vertical-align: middle;\n",
       "    }\n",
       "\n",
       "    .dataframe tbody tr th {\n",
       "        vertical-align: top;\n",
       "    }\n",
       "\n",
       "    .dataframe thead th {\n",
       "        text-align: right;\n",
       "    }\n",
       "</style>\n",
       "<table border=\"1\" class=\"dataframe\">\n",
       "  <thead>\n",
       "    <tr style=\"text-align: right;\">\n",
       "      <th></th>\n",
       "      <th>invoice_no</th>\n",
       "      <th>stock_code</th>\n",
       "      <th>description</th>\n",
       "      <th>quantity</th>\n",
       "      <th>invoice_date</th>\n",
       "      <th>unit_price</th>\n",
       "      <th>country</th>\n",
       "      <th>customer_id</th>\n",
       "    </tr>\n",
       "  </thead>\n",
       "  <tbody>\n",
       "    <tr>\n",
       "      <th>0</th>\n",
       "      <td>536365</td>\n",
       "      <td>85123A</td>\n",
       "      <td>WHITE HANGING HEART T-LIGHT HOLDER</td>\n",
       "      <td>6</td>\n",
       "      <td>2010-12-01 08:26:00</td>\n",
       "      <td>2.55</td>\n",
       "      <td>United Kingdom</td>\n",
       "      <td>17850.00</td>\n",
       "    </tr>\n",
       "    <tr>\n",
       "      <th>1</th>\n",
       "      <td>536365</td>\n",
       "      <td>71053</td>\n",
       "      <td>WHITE METAL LANTERN</td>\n",
       "      <td>6</td>\n",
       "      <td>2010-12-01 08:26:00</td>\n",
       "      <td>3.39</td>\n",
       "      <td>United Kingdom</td>\n",
       "      <td>17850.00</td>\n",
       "    </tr>\n",
       "    <tr>\n",
       "      <th>2</th>\n",
       "      <td>536365</td>\n",
       "      <td>84406B</td>\n",
       "      <td>CREAM CUPID HEARTS COAT HANGER</td>\n",
       "      <td>8</td>\n",
       "      <td>2010-12-01 08:26:00</td>\n",
       "      <td>2.75</td>\n",
       "      <td>United Kingdom</td>\n",
       "      <td>17850.00</td>\n",
       "    </tr>\n",
       "    <tr>\n",
       "      <th>3</th>\n",
       "      <td>536365</td>\n",
       "      <td>84029G</td>\n",
       "      <td>KNITTED UNION FLAG HOT WATER BOTTLE</td>\n",
       "      <td>6</td>\n",
       "      <td>2010-12-01 08:26:00</td>\n",
       "      <td>3.39</td>\n",
       "      <td>United Kingdom</td>\n",
       "      <td>17850.00</td>\n",
       "    </tr>\n",
       "    <tr>\n",
       "      <th>4</th>\n",
       "      <td>536365</td>\n",
       "      <td>84029E</td>\n",
       "      <td>RED WOOLLY HOTTIE WHITE HEART.</td>\n",
       "      <td>6</td>\n",
       "      <td>2010-12-01 08:26:00</td>\n",
       "      <td>3.39</td>\n",
       "      <td>United Kingdom</td>\n",
       "      <td>17850.00</td>\n",
       "    </tr>\n",
       "    <tr>\n",
       "      <th>...</th>\n",
       "      <td>...</td>\n",
       "      <td>...</td>\n",
       "      <td>...</td>\n",
       "      <td>...</td>\n",
       "      <td>...</td>\n",
       "      <td>...</td>\n",
       "      <td>...</td>\n",
       "      <td>...</td>\n",
       "    </tr>\n",
       "    <tr>\n",
       "      <th>541904</th>\n",
       "      <td>581587</td>\n",
       "      <td>22613</td>\n",
       "      <td>PACK OF 20 SPACEBOY NAPKINS</td>\n",
       "      <td>12</td>\n",
       "      <td>2011-12-09 12:50:00</td>\n",
       "      <td>0.85</td>\n",
       "      <td>France</td>\n",
       "      <td>12680.00</td>\n",
       "    </tr>\n",
       "    <tr>\n",
       "      <th>541905</th>\n",
       "      <td>581587</td>\n",
       "      <td>22899</td>\n",
       "      <td>CHILDREN'S APRON DOLLY GIRL</td>\n",
       "      <td>6</td>\n",
       "      <td>2011-12-09 12:50:00</td>\n",
       "      <td>2.10</td>\n",
       "      <td>France</td>\n",
       "      <td>12680.00</td>\n",
       "    </tr>\n",
       "    <tr>\n",
       "      <th>541906</th>\n",
       "      <td>581587</td>\n",
       "      <td>23254</td>\n",
       "      <td>CHILDRENS CUTLERY DOLLY GIRL</td>\n",
       "      <td>4</td>\n",
       "      <td>2011-12-09 12:50:00</td>\n",
       "      <td>4.15</td>\n",
       "      <td>France</td>\n",
       "      <td>12680.00</td>\n",
       "    </tr>\n",
       "    <tr>\n",
       "      <th>541907</th>\n",
       "      <td>581587</td>\n",
       "      <td>23255</td>\n",
       "      <td>CHILDRENS CUTLERY CIRCUS PARADE</td>\n",
       "      <td>4</td>\n",
       "      <td>2011-12-09 12:50:00</td>\n",
       "      <td>4.15</td>\n",
       "      <td>France</td>\n",
       "      <td>12680.00</td>\n",
       "    </tr>\n",
       "    <tr>\n",
       "      <th>541908</th>\n",
       "      <td>581587</td>\n",
       "      <td>22138</td>\n",
       "      <td>BAKING SET 9 PIECE RETROSPOT</td>\n",
       "      <td>3</td>\n",
       "      <td>2011-12-09 12:50:00</td>\n",
       "      <td>4.95</td>\n",
       "      <td>France</td>\n",
       "      <td>12680.00</td>\n",
       "    </tr>\n",
       "  </tbody>\n",
       "</table>\n",
       "<p>541909 rows × 8 columns</p>\n",
       "</div>"
      ],
      "text/plain": [
       "       invoice_no stock_code                          description  quantity  \\\n",
       "0          536365     85123A   WHITE HANGING HEART T-LIGHT HOLDER         6   \n",
       "1          536365      71053                  WHITE METAL LANTERN         6   \n",
       "2          536365     84406B       CREAM CUPID HEARTS COAT HANGER         8   \n",
       "3          536365     84029G  KNITTED UNION FLAG HOT WATER BOTTLE         6   \n",
       "4          536365     84029E       RED WOOLLY HOTTIE WHITE HEART.         6   \n",
       "...           ...        ...                                  ...       ...   \n",
       "541904     581587      22613          PACK OF 20 SPACEBOY NAPKINS        12   \n",
       "541905     581587      22899         CHILDREN'S APRON DOLLY GIRL          6   \n",
       "541906     581587      23254        CHILDRENS CUTLERY DOLLY GIRL          4   \n",
       "541907     581587      23255      CHILDRENS CUTLERY CIRCUS PARADE         4   \n",
       "541908     581587      22138        BAKING SET 9 PIECE RETROSPOT          3   \n",
       "\n",
       "               invoice_date  unit_price         country  customer_id  \n",
       "0       2010-12-01 08:26:00        2.55  United Kingdom     17850.00  \n",
       "1       2010-12-01 08:26:00        3.39  United Kingdom     17850.00  \n",
       "2       2010-12-01 08:26:00        2.75  United Kingdom     17850.00  \n",
       "3       2010-12-01 08:26:00        3.39  United Kingdom     17850.00  \n",
       "4       2010-12-01 08:26:00        3.39  United Kingdom     17850.00  \n",
       "...                     ...         ...             ...          ...  \n",
       "541904  2011-12-09 12:50:00        0.85          France     12680.00  \n",
       "541905  2011-12-09 12:50:00        2.10          France     12680.00  \n",
       "541906  2011-12-09 12:50:00        4.15          France     12680.00  \n",
       "541907  2011-12-09 12:50:00        4.15          France     12680.00  \n",
       "541908  2011-12-09 12:50:00        4.95          France     12680.00  \n",
       "\n",
       "[541909 rows x 8 columns]"
      ]
     },
     "execution_count": 15,
     "metadata": {},
     "output_type": "execute_result"
    }
   ],
   "source": [
    "df1"
   ]
  },
  {
   "cell_type": "code",
   "execution_count": 16,
   "id": "d11d1466",
   "metadata": {},
   "outputs": [
    {
     "data": {
      "text/plain": [
       "invoice_no         0\n",
       "stock_code         0\n",
       "description     1454\n",
       "quantity           0\n",
       "invoice_date       0\n",
       "unit_price         0\n",
       "country            0\n",
       "customer_id        0\n",
       "dtype: int64"
      ]
     },
     "execution_count": 16,
     "metadata": {},
     "output_type": "execute_result"
    }
   ],
   "source": [
    "df1.isna().sum()"
   ]
  },
  {
   "cell_type": "markdown",
   "id": "0a2604b2",
   "metadata": {},
   "source": [
    "## 1.6 Change dtypes"
   ]
  },
  {
   "cell_type": "code",
   "execution_count": 17,
   "id": "49b7b400",
   "metadata": {},
   "outputs": [],
   "source": [
    "# invoice_date\n",
    "df1['invoice_date'] = pd.to_datetime(df1['invoice_date']).dt.normalize()\n",
    "\n",
    "# customer_id\n",
    "df1['customer_id'] = np.int64(df1['customer_id'])"
   ]
  },
  {
   "cell_type": "code",
   "execution_count": 18,
   "id": "747effa3",
   "metadata": {},
   "outputs": [
    {
     "data": {
      "text/plain": [
       "invoice_no              object\n",
       "stock_code              object\n",
       "description             object\n",
       "quantity                 int64\n",
       "invoice_date    datetime64[ns]\n",
       "unit_price             float64\n",
       "country                 object\n",
       "customer_id              int64\n",
       "dtype: object"
      ]
     },
     "execution_count": 18,
     "metadata": {},
     "output_type": "execute_result"
    }
   ],
   "source": [
    "df1.dtypes"
   ]
  },
  {
   "cell_type": "code",
   "execution_count": 19,
   "id": "70f96307",
   "metadata": {},
   "outputs": [
    {
     "data": {
      "text/html": [
       "<div>\n",
       "<style scoped>\n",
       "    .dataframe tbody tr th:only-of-type {\n",
       "        vertical-align: middle;\n",
       "    }\n",
       "\n",
       "    .dataframe tbody tr th {\n",
       "        vertical-align: top;\n",
       "    }\n",
       "\n",
       "    .dataframe thead th {\n",
       "        text-align: right;\n",
       "    }\n",
       "</style>\n",
       "<table border=\"1\" class=\"dataframe\">\n",
       "  <thead>\n",
       "    <tr style=\"text-align: right;\">\n",
       "      <th></th>\n",
       "      <th>invoice_no</th>\n",
       "      <th>stock_code</th>\n",
       "      <th>description</th>\n",
       "      <th>quantity</th>\n",
       "      <th>invoice_date</th>\n",
       "      <th>unit_price</th>\n",
       "      <th>country</th>\n",
       "      <th>customer_id</th>\n",
       "    </tr>\n",
       "  </thead>\n",
       "  <tbody>\n",
       "    <tr>\n",
       "      <th>0</th>\n",
       "      <td>536365</td>\n",
       "      <td>85123A</td>\n",
       "      <td>WHITE HANGING HEART T-LIGHT HOLDER</td>\n",
       "      <td>6</td>\n",
       "      <td>2010-12-01</td>\n",
       "      <td>2.55</td>\n",
       "      <td>United Kingdom</td>\n",
       "      <td>17850</td>\n",
       "    </tr>\n",
       "    <tr>\n",
       "      <th>1</th>\n",
       "      <td>536365</td>\n",
       "      <td>71053</td>\n",
       "      <td>WHITE METAL LANTERN</td>\n",
       "      <td>6</td>\n",
       "      <td>2010-12-01</td>\n",
       "      <td>3.39</td>\n",
       "      <td>United Kingdom</td>\n",
       "      <td>17850</td>\n",
       "    </tr>\n",
       "  </tbody>\n",
       "</table>\n",
       "</div>"
      ],
      "text/plain": [
       "  invoice_no stock_code                         description  quantity  \\\n",
       "0     536365     85123A  WHITE HANGING HEART T-LIGHT HOLDER         6   \n",
       "1     536365      71053                 WHITE METAL LANTERN         6   \n",
       "\n",
       "  invoice_date  unit_price         country  customer_id  \n",
       "0   2010-12-01        2.55  United Kingdom        17850  \n",
       "1   2010-12-01        3.39  United Kingdom        17850  "
      ]
     },
     "execution_count": 19,
     "metadata": {},
     "output_type": "execute_result"
    }
   ],
   "source": [
    "df1.head(2)"
   ]
  },
  {
   "cell_type": "markdown",
   "id": "5d5e00dd",
   "metadata": {},
   "source": [
    "## 1.6 Descriptive Statistics"
   ]
  },
  {
   "cell_type": "code",
   "execution_count": 20,
   "id": "7a7e6ebd",
   "metadata": {},
   "outputs": [],
   "source": [
    "df_num1 = df1.select_dtypes(include = ['int64', 'float64'])\n",
    "df_cat1 = df1.select_dtypes(exclude = ['int64', 'float64', 'datetime64[ns]'])"
   ]
  },
  {
   "cell_type": "markdown",
   "id": "25baa3ec",
   "metadata": {},
   "source": [
    "### 1.6.1 Numeric Attributes"
   ]
  },
  {
   "cell_type": "code",
   "execution_count": 21,
   "id": "f10bfe52",
   "metadata": {},
   "outputs": [
    {
     "data": {
      "text/html": [
       "<div>\n",
       "<style scoped>\n",
       "    .dataframe tbody tr th:only-of-type {\n",
       "        vertical-align: middle;\n",
       "    }\n",
       "\n",
       "    .dataframe tbody tr th {\n",
       "        vertical-align: top;\n",
       "    }\n",
       "\n",
       "    .dataframe thead th {\n",
       "        text-align: right;\n",
       "    }\n",
       "</style>\n",
       "<table border=\"1\" class=\"dataframe\">\n",
       "  <thead>\n",
       "    <tr style=\"text-align: right;\">\n",
       "      <th></th>\n",
       "      <th>attributes</th>\n",
       "      <th>min</th>\n",
       "      <th>max</th>\n",
       "      <th>range</th>\n",
       "      <th>mean</th>\n",
       "      <th>median</th>\n",
       "      <th>std</th>\n",
       "      <th>skew</th>\n",
       "      <th>kurtosis</th>\n",
       "    </tr>\n",
       "  </thead>\n",
       "  <tbody>\n",
       "    <tr>\n",
       "      <th>0</th>\n",
       "      <td>quantity</td>\n",
       "      <td>-80995.00</td>\n",
       "      <td>80995.00</td>\n",
       "      <td>161990.00</td>\n",
       "      <td>9.55</td>\n",
       "      <td>3.00</td>\n",
       "      <td>218.08</td>\n",
       "      <td>-0.26</td>\n",
       "      <td>119769.16</td>\n",
       "    </tr>\n",
       "    <tr>\n",
       "      <th>1</th>\n",
       "      <td>unit_price</td>\n",
       "      <td>-11062.06</td>\n",
       "      <td>38970.00</td>\n",
       "      <td>50032.06</td>\n",
       "      <td>4.61</td>\n",
       "      <td>2.08</td>\n",
       "      <td>96.76</td>\n",
       "      <td>186.51</td>\n",
       "      <td>59005.72</td>\n",
       "    </tr>\n",
       "    <tr>\n",
       "      <th>2</th>\n",
       "      <td>customer_id</td>\n",
       "      <td>12346.00</td>\n",
       "      <td>22709.00</td>\n",
       "      <td>10363.00</td>\n",
       "      <td>16688.84</td>\n",
       "      <td>16249.00</td>\n",
       "      <td>2911.41</td>\n",
       "      <td>0.49</td>\n",
       "      <td>-0.80</td>\n",
       "    </tr>\n",
       "  </tbody>\n",
       "</table>\n",
       "</div>"
      ],
      "text/plain": [
       "    attributes       min      max     range     mean   median     std   skew  \\\n",
       "0     quantity -80995.00 80995.00 161990.00     9.55     3.00  218.08  -0.26   \n",
       "1   unit_price -11062.06 38970.00  50032.06     4.61     2.08   96.76 186.51   \n",
       "2  customer_id  12346.00 22709.00  10363.00 16688.84 16249.00 2911.41   0.49   \n",
       "\n",
       "   kurtosis  \n",
       "0 119769.16  \n",
       "1  59005.72  \n",
       "2     -0.80  "
      ]
     },
     "execution_count": 21,
     "metadata": {},
     "output_type": "execute_result"
    }
   ],
   "source": [
    "# central tendency - mean, median\n",
    "ct1 = pd.DataFrame(df_num1.apply(np.mean)).T\n",
    "ct2 = pd.DataFrame(df_num1.apply(np.median)).T\n",
    "\n",
    "# dispersion - std, min, max, range, skew, kurtosis\n",
    "d1 = pd.DataFrame(df_num1.apply(np.std)).T \n",
    "d2 = pd.DataFrame(df_num1.apply(min)).T\n",
    "d3 = pd.DataFrame(df_num1.apply(max)).T\n",
    "d4 = pd.DataFrame(df_num1.apply(lambda x: x.max() - x.min())).T\n",
    "d5 = pd.DataFrame(df_num1.apply(lambda x: x.skew())).T\n",
    "d6 = pd.DataFrame(df_num1.apply(lambda x: x.kurtosis())).T\n",
    "\n",
    "# concat\n",
    "num1_summary = pd.concat([d2, d3, d4, ct1, ct2, d1, d5, d6]).T.reset_index()\n",
    "num1_summary.columns = ['attributes', 'min', 'max', 'range', 'mean', 'median', 'std', 'skew', 'kurtosis']\n",
    "num1_summary"
   ]
  },
  {
   "cell_type": "markdown",
   "id": "bae100b7",
   "metadata": {},
   "source": [
    "Can negative `quantity` be a return?     \n",
    "Can `unit_price` equal to zero be a promotion?"
   ]
  },
  {
   "cell_type": "markdown",
   "id": "eeb86e45",
   "metadata": {},
   "source": [
    "#### Quantity"
   ]
  },
  {
   "cell_type": "code",
   "execution_count": 22,
   "id": "316e549f",
   "metadata": {},
   "outputs": [
    {
     "data": {
      "text/html": [
       "<div>\n",
       "<style scoped>\n",
       "    .dataframe tbody tr th:only-of-type {\n",
       "        vertical-align: middle;\n",
       "    }\n",
       "\n",
       "    .dataframe tbody tr th {\n",
       "        vertical-align: top;\n",
       "    }\n",
       "\n",
       "    .dataframe thead th {\n",
       "        text-align: right;\n",
       "    }\n",
       "</style>\n",
       "<table border=\"1\" class=\"dataframe\">\n",
       "  <thead>\n",
       "    <tr style=\"text-align: right;\">\n",
       "      <th></th>\n",
       "      <th>invoice_no</th>\n",
       "      <th>stock_code</th>\n",
       "      <th>description</th>\n",
       "      <th>quantity</th>\n",
       "      <th>invoice_date</th>\n",
       "      <th>unit_price</th>\n",
       "      <th>country</th>\n",
       "      <th>customer_id</th>\n",
       "    </tr>\n",
       "  </thead>\n",
       "  <tbody>\n",
       "    <tr>\n",
       "      <th>540422</th>\n",
       "      <td>C581484</td>\n",
       "      <td>23843</td>\n",
       "      <td>PAPER CRAFT , LITTLE BIRDIE</td>\n",
       "      <td>-80995</td>\n",
       "      <td>2011-12-09</td>\n",
       "      <td>2.08</td>\n",
       "      <td>United Kingdom</td>\n",
       "      <td>16446</td>\n",
       "    </tr>\n",
       "    <tr>\n",
       "      <th>61624</th>\n",
       "      <td>C541433</td>\n",
       "      <td>23166</td>\n",
       "      <td>MEDIUM CERAMIC TOP STORAGE JAR</td>\n",
       "      <td>-74215</td>\n",
       "      <td>2011-01-18</td>\n",
       "      <td>1.04</td>\n",
       "      <td>United Kingdom</td>\n",
       "      <td>12346</td>\n",
       "    </tr>\n",
       "    <tr>\n",
       "      <th>225529</th>\n",
       "      <td>556690</td>\n",
       "      <td>23005</td>\n",
       "      <td>printing smudges/thrown away</td>\n",
       "      <td>-9600</td>\n",
       "      <td>2011-06-14</td>\n",
       "      <td>0.00</td>\n",
       "      <td>United Kingdom</td>\n",
       "      <td>20914</td>\n",
       "    </tr>\n",
       "    <tr>\n",
       "      <th>225530</th>\n",
       "      <td>556691</td>\n",
       "      <td>23005</td>\n",
       "      <td>printing smudges/thrown away</td>\n",
       "      <td>-9600</td>\n",
       "      <td>2011-06-14</td>\n",
       "      <td>0.00</td>\n",
       "      <td>United Kingdom</td>\n",
       "      <td>20915</td>\n",
       "    </tr>\n",
       "    <tr>\n",
       "      <th>4287</th>\n",
       "      <td>C536757</td>\n",
       "      <td>84347</td>\n",
       "      <td>ROTATING SILVER ANGELS T-LIGHT HLDR</td>\n",
       "      <td>-9360</td>\n",
       "      <td>2010-12-02</td>\n",
       "      <td>0.03</td>\n",
       "      <td>United Kingdom</td>\n",
       "      <td>15838</td>\n",
       "    </tr>\n",
       "    <tr>\n",
       "      <th>225528</th>\n",
       "      <td>556687</td>\n",
       "      <td>23003</td>\n",
       "      <td>Printing smudges/thrown away</td>\n",
       "      <td>-9058</td>\n",
       "      <td>2011-06-14</td>\n",
       "      <td>0.00</td>\n",
       "      <td>United Kingdom</td>\n",
       "      <td>20913</td>\n",
       "    </tr>\n",
       "    <tr>\n",
       "      <th>115818</th>\n",
       "      <td>546152</td>\n",
       "      <td>72140F</td>\n",
       "      <td>throw away</td>\n",
       "      <td>-5368</td>\n",
       "      <td>2011-03-09</td>\n",
       "      <td>0.00</td>\n",
       "      <td>United Kingdom</td>\n",
       "      <td>19837</td>\n",
       "    </tr>\n",
       "    <tr>\n",
       "      <th>431381</th>\n",
       "      <td>573596</td>\n",
       "      <td>79323W</td>\n",
       "      <td>Unsaleable, destroyed.</td>\n",
       "      <td>-4830</td>\n",
       "      <td>2011-10-31</td>\n",
       "      <td>0.00</td>\n",
       "      <td>United Kingdom</td>\n",
       "      <td>22229</td>\n",
       "    </tr>\n",
       "    <tr>\n",
       "      <th>341601</th>\n",
       "      <td>566768</td>\n",
       "      <td>16045</td>\n",
       "      <td>NaN</td>\n",
       "      <td>-3667</td>\n",
       "      <td>2011-09-14</td>\n",
       "      <td>0.00</td>\n",
       "      <td>United Kingdom</td>\n",
       "      <td>21714</td>\n",
       "    </tr>\n",
       "    <tr>\n",
       "      <th>323458</th>\n",
       "      <td>565304</td>\n",
       "      <td>16259</td>\n",
       "      <td>NaN</td>\n",
       "      <td>-3167</td>\n",
       "      <td>2011-09-02</td>\n",
       "      <td>0.00</td>\n",
       "      <td>United Kingdom</td>\n",
       "      <td>21629</td>\n",
       "    </tr>\n",
       "  </tbody>\n",
       "</table>\n",
       "</div>"
      ],
      "text/plain": [
       "       invoice_no stock_code                          description  quantity  \\\n",
       "540422    C581484      23843          PAPER CRAFT , LITTLE BIRDIE    -80995   \n",
       "61624     C541433      23166       MEDIUM CERAMIC TOP STORAGE JAR    -74215   \n",
       "225529     556690      23005         printing smudges/thrown away     -9600   \n",
       "225530     556691      23005         printing smudges/thrown away     -9600   \n",
       "4287      C536757      84347  ROTATING SILVER ANGELS T-LIGHT HLDR     -9360   \n",
       "225528     556687      23003         Printing smudges/thrown away     -9058   \n",
       "115818     546152     72140F                           throw away     -5368   \n",
       "431381     573596     79323W               Unsaleable, destroyed.     -4830   \n",
       "341601     566768      16045                                  NaN     -3667   \n",
       "323458     565304      16259                                  NaN     -3167   \n",
       "\n",
       "       invoice_date  unit_price         country  customer_id  \n",
       "540422   2011-12-09        2.08  United Kingdom        16446  \n",
       "61624    2011-01-18        1.04  United Kingdom        12346  \n",
       "225529   2011-06-14        0.00  United Kingdom        20914  \n",
       "225530   2011-06-14        0.00  United Kingdom        20915  \n",
       "4287     2010-12-02        0.03  United Kingdom        15838  \n",
       "225528   2011-06-14        0.00  United Kingdom        20913  \n",
       "115818   2011-03-09        0.00  United Kingdom        19837  \n",
       "431381   2011-10-31        0.00  United Kingdom        22229  \n",
       "341601   2011-09-14        0.00  United Kingdom        21714  \n",
       "323458   2011-09-02        0.00  United Kingdom        21629  "
      ]
     },
     "execution_count": 22,
     "metadata": {},
     "output_type": "execute_result"
    }
   ],
   "source": [
    "df1.sort_values('quantity').head(10)"
   ]
  },
  {
   "cell_type": "markdown",
   "id": "bd84f937",
   "metadata": {},
   "source": [
    "#### Customer Id"
   ]
  },
  {
   "cell_type": "markdown",
   "id": "30139d04",
   "metadata": {},
   "source": [
    "Let's take a look at the `custumers_id` for the two smallest `quantity` values."
   ]
  },
  {
   "cell_type": "code",
   "execution_count": 23,
   "id": "6d75c987",
   "metadata": {},
   "outputs": [
    {
     "data": {
      "text/html": [
       "<div>\n",
       "<style scoped>\n",
       "    .dataframe tbody tr th:only-of-type {\n",
       "        vertical-align: middle;\n",
       "    }\n",
       "\n",
       "    .dataframe tbody tr th {\n",
       "        vertical-align: top;\n",
       "    }\n",
       "\n",
       "    .dataframe thead th {\n",
       "        text-align: right;\n",
       "    }\n",
       "</style>\n",
       "<table border=\"1\" class=\"dataframe\">\n",
       "  <thead>\n",
       "    <tr style=\"text-align: right;\">\n",
       "      <th></th>\n",
       "      <th>invoice_no</th>\n",
       "      <th>stock_code</th>\n",
       "      <th>description</th>\n",
       "      <th>quantity</th>\n",
       "      <th>invoice_date</th>\n",
       "      <th>unit_price</th>\n",
       "      <th>country</th>\n",
       "      <th>customer_id</th>\n",
       "    </tr>\n",
       "  </thead>\n",
       "  <tbody>\n",
       "    <tr>\n",
       "      <th>194354</th>\n",
       "      <td>553573</td>\n",
       "      <td>22980</td>\n",
       "      <td>PANTRY SCRUBBING BRUSH</td>\n",
       "      <td>1</td>\n",
       "      <td>2011-05-18</td>\n",
       "      <td>1.65</td>\n",
       "      <td>United Kingdom</td>\n",
       "      <td>16446</td>\n",
       "    </tr>\n",
       "    <tr>\n",
       "      <th>194355</th>\n",
       "      <td>553573</td>\n",
       "      <td>22982</td>\n",
       "      <td>PANTRY PASTRY BRUSH</td>\n",
       "      <td>1</td>\n",
       "      <td>2011-05-18</td>\n",
       "      <td>1.25</td>\n",
       "      <td>United Kingdom</td>\n",
       "      <td>16446</td>\n",
       "    </tr>\n",
       "    <tr>\n",
       "      <th>540421</th>\n",
       "      <td>581483</td>\n",
       "      <td>23843</td>\n",
       "      <td>PAPER CRAFT , LITTLE BIRDIE</td>\n",
       "      <td>80995</td>\n",
       "      <td>2011-12-09</td>\n",
       "      <td>2.08</td>\n",
       "      <td>United Kingdom</td>\n",
       "      <td>16446</td>\n",
       "    </tr>\n",
       "    <tr>\n",
       "      <th>540422</th>\n",
       "      <td>C581484</td>\n",
       "      <td>23843</td>\n",
       "      <td>PAPER CRAFT , LITTLE BIRDIE</td>\n",
       "      <td>-80995</td>\n",
       "      <td>2011-12-09</td>\n",
       "      <td>2.08</td>\n",
       "      <td>United Kingdom</td>\n",
       "      <td>16446</td>\n",
       "    </tr>\n",
       "  </tbody>\n",
       "</table>\n",
       "</div>"
      ],
      "text/plain": [
       "       invoice_no stock_code                  description  quantity  \\\n",
       "194354     553573      22980       PANTRY SCRUBBING BRUSH         1   \n",
       "194355     553573      22982          PANTRY PASTRY BRUSH         1   \n",
       "540421     581483      23843  PAPER CRAFT , LITTLE BIRDIE     80995   \n",
       "540422    C581484      23843  PAPER CRAFT , LITTLE BIRDIE    -80995   \n",
       "\n",
       "       invoice_date  unit_price         country  customer_id  \n",
       "194354   2011-05-18        1.65  United Kingdom        16446  \n",
       "194355   2011-05-18        1.25  United Kingdom        16446  \n",
       "540421   2011-12-09        2.08  United Kingdom        16446  \n",
       "540422   2011-12-09        2.08  United Kingdom        16446  "
      ]
     },
     "execution_count": 23,
     "metadata": {},
     "output_type": "execute_result"
    }
   ],
   "source": [
    "df1.loc[df1['customer_id'] == 16446, :]"
   ]
  },
  {
   "cell_type": "code",
   "execution_count": 24,
   "id": "f710ed97",
   "metadata": {},
   "outputs": [
    {
     "data": {
      "text/html": [
       "<div>\n",
       "<style scoped>\n",
       "    .dataframe tbody tr th:only-of-type {\n",
       "        vertical-align: middle;\n",
       "    }\n",
       "\n",
       "    .dataframe tbody tr th {\n",
       "        vertical-align: top;\n",
       "    }\n",
       "\n",
       "    .dataframe thead th {\n",
       "        text-align: right;\n",
       "    }\n",
       "</style>\n",
       "<table border=\"1\" class=\"dataframe\">\n",
       "  <thead>\n",
       "    <tr style=\"text-align: right;\">\n",
       "      <th></th>\n",
       "      <th>invoice_no</th>\n",
       "      <th>stock_code</th>\n",
       "      <th>description</th>\n",
       "      <th>quantity</th>\n",
       "      <th>invoice_date</th>\n",
       "      <th>unit_price</th>\n",
       "      <th>country</th>\n",
       "      <th>customer_id</th>\n",
       "    </tr>\n",
       "  </thead>\n",
       "  <tbody>\n",
       "    <tr>\n",
       "      <th>61619</th>\n",
       "      <td>541431</td>\n",
       "      <td>23166</td>\n",
       "      <td>MEDIUM CERAMIC TOP STORAGE JAR</td>\n",
       "      <td>74215</td>\n",
       "      <td>2011-01-18</td>\n",
       "      <td>1.04</td>\n",
       "      <td>United Kingdom</td>\n",
       "      <td>12346</td>\n",
       "    </tr>\n",
       "    <tr>\n",
       "      <th>61624</th>\n",
       "      <td>C541433</td>\n",
       "      <td>23166</td>\n",
       "      <td>MEDIUM CERAMIC TOP STORAGE JAR</td>\n",
       "      <td>-74215</td>\n",
       "      <td>2011-01-18</td>\n",
       "      <td>1.04</td>\n",
       "      <td>United Kingdom</td>\n",
       "      <td>12346</td>\n",
       "    </tr>\n",
       "  </tbody>\n",
       "</table>\n",
       "</div>"
      ],
      "text/plain": [
       "      invoice_no stock_code                     description  quantity  \\\n",
       "61619     541431      23166  MEDIUM CERAMIC TOP STORAGE JAR     74215   \n",
       "61624    C541433      23166  MEDIUM CERAMIC TOP STORAGE JAR    -74215   \n",
       "\n",
       "      invoice_date  unit_price         country  customer_id  \n",
       "61619   2011-01-18        1.04  United Kingdom        12346  \n",
       "61624   2011-01-18        1.04  United Kingdom        12346  "
      ]
     },
     "execution_count": 24,
     "metadata": {},
     "output_type": "execute_result"
    }
   ],
   "source": [
    "df1.loc[df1['customer_id'] == 12346, :]"
   ]
  },
  {
   "cell_type": "markdown",
   "id": "6b468ded",
   "metadata": {},
   "source": [
    "### 1.7.2 Categorical Attributes"
   ]
  },
  {
   "cell_type": "code",
   "execution_count": 25,
   "id": "9826068c",
   "metadata": {},
   "outputs": [
    {
     "data": {
      "text/html": [
       "<div>\n",
       "<style scoped>\n",
       "    .dataframe tbody tr th:only-of-type {\n",
       "        vertical-align: middle;\n",
       "    }\n",
       "\n",
       "    .dataframe tbody tr th {\n",
       "        vertical-align: top;\n",
       "    }\n",
       "\n",
       "    .dataframe thead th {\n",
       "        text-align: right;\n",
       "    }\n",
       "</style>\n",
       "<table border=\"1\" class=\"dataframe\">\n",
       "  <thead>\n",
       "    <tr style=\"text-align: right;\">\n",
       "      <th></th>\n",
       "      <th>invoice_no</th>\n",
       "      <th>stock_code</th>\n",
       "      <th>description</th>\n",
       "      <th>country</th>\n",
       "    </tr>\n",
       "  </thead>\n",
       "  <tbody>\n",
       "    <tr>\n",
       "      <th>0</th>\n",
       "      <td>536365</td>\n",
       "      <td>85123A</td>\n",
       "      <td>WHITE HANGING HEART T-LIGHT HOLDER</td>\n",
       "      <td>United Kingdom</td>\n",
       "    </tr>\n",
       "    <tr>\n",
       "      <th>1</th>\n",
       "      <td>536365</td>\n",
       "      <td>71053</td>\n",
       "      <td>WHITE METAL LANTERN</td>\n",
       "      <td>United Kingdom</td>\n",
       "    </tr>\n",
       "    <tr>\n",
       "      <th>2</th>\n",
       "      <td>536365</td>\n",
       "      <td>84406B</td>\n",
       "      <td>CREAM CUPID HEARTS COAT HANGER</td>\n",
       "      <td>United Kingdom</td>\n",
       "    </tr>\n",
       "    <tr>\n",
       "      <th>3</th>\n",
       "      <td>536365</td>\n",
       "      <td>84029G</td>\n",
       "      <td>KNITTED UNION FLAG HOT WATER BOTTLE</td>\n",
       "      <td>United Kingdom</td>\n",
       "    </tr>\n",
       "    <tr>\n",
       "      <th>4</th>\n",
       "      <td>536365</td>\n",
       "      <td>84029E</td>\n",
       "      <td>RED WOOLLY HOTTIE WHITE HEART.</td>\n",
       "      <td>United Kingdom</td>\n",
       "    </tr>\n",
       "  </tbody>\n",
       "</table>\n",
       "</div>"
      ],
      "text/plain": [
       "  invoice_no stock_code                          description         country\n",
       "0     536365     85123A   WHITE HANGING HEART T-LIGHT HOLDER  United Kingdom\n",
       "1     536365      71053                  WHITE METAL LANTERN  United Kingdom\n",
       "2     536365     84406B       CREAM CUPID HEARTS COAT HANGER  United Kingdom\n",
       "3     536365     84029G  KNITTED UNION FLAG HOT WATER BOTTLE  United Kingdom\n",
       "4     536365     84029E       RED WOOLLY HOTTIE WHITE HEART.  United Kingdom"
      ]
     },
     "execution_count": 25,
     "metadata": {},
     "output_type": "execute_result"
    }
   ],
   "source": [
    "df_cat1.head()"
   ]
  },
  {
   "cell_type": "markdown",
   "id": "1851a51c",
   "metadata": {},
   "source": [
    "#### Invoice No"
   ]
  },
  {
   "cell_type": "code",
   "execution_count": 26,
   "id": "d2069a90",
   "metadata": {},
   "outputs": [
    {
     "data": {
      "text/html": [
       "<div>\n",
       "<style scoped>\n",
       "    .dataframe tbody tr th:only-of-type {\n",
       "        vertical-align: middle;\n",
       "    }\n",
       "\n",
       "    .dataframe tbody tr th {\n",
       "        vertical-align: top;\n",
       "    }\n",
       "\n",
       "    .dataframe thead th {\n",
       "        text-align: right;\n",
       "    }\n",
       "</style>\n",
       "<table border=\"1\" class=\"dataframe\">\n",
       "  <thead>\n",
       "    <tr style=\"text-align: right;\">\n",
       "      <th></th>\n",
       "      <th>invoice_no</th>\n",
       "      <th>stock_code</th>\n",
       "      <th>description</th>\n",
       "      <th>quantity</th>\n",
       "      <th>invoice_date</th>\n",
       "      <th>unit_price</th>\n",
       "      <th>country</th>\n",
       "      <th>customer_id</th>\n",
       "    </tr>\n",
       "  </thead>\n",
       "  <tbody>\n",
       "    <tr>\n",
       "      <th>382902</th>\n",
       "      <td>C569975</td>\n",
       "      <td>23111</td>\n",
       "      <td>PARISIENNE SEWING BOX</td>\n",
       "      <td>-1</td>\n",
       "      <td>2011-10-06</td>\n",
       "      <td>12.50</td>\n",
       "      <td>United Kingdom</td>\n",
       "      <td>14333</td>\n",
       "    </tr>\n",
       "    <tr>\n",
       "      <th>26056</th>\n",
       "      <td>C538463</td>\n",
       "      <td>22055</td>\n",
       "      <td>MINI CAKE STAND  HANGING STRAWBERY</td>\n",
       "      <td>-1</td>\n",
       "      <td>2010-12-12</td>\n",
       "      <td>1.65</td>\n",
       "      <td>United Kingdom</td>\n",
       "      <td>17085</td>\n",
       "    </tr>\n",
       "    <tr>\n",
       "      <th>259822</th>\n",
       "      <td>C559741</td>\n",
       "      <td>22978</td>\n",
       "      <td>PANTRY ROLLING PIN</td>\n",
       "      <td>-1</td>\n",
       "      <td>2011-07-12</td>\n",
       "      <td>3.75</td>\n",
       "      <td>United Kingdom</td>\n",
       "      <td>13013</td>\n",
       "    </tr>\n",
       "    <tr>\n",
       "      <th>347705</th>\n",
       "      <td>C567332</td>\n",
       "      <td>21314</td>\n",
       "      <td>SMALL GLASS HEART TRINKET POT</td>\n",
       "      <td>-3</td>\n",
       "      <td>2011-09-19</td>\n",
       "      <td>1.85</td>\n",
       "      <td>United Kingdom</td>\n",
       "      <td>13767</td>\n",
       "    </tr>\n",
       "    <tr>\n",
       "      <th>274373</th>\n",
       "      <td>C560903</td>\n",
       "      <td>22178</td>\n",
       "      <td>VICTORIAN GLASS HANGING T-LIGHT</td>\n",
       "      <td>-75</td>\n",
       "      <td>2011-07-21</td>\n",
       "      <td>1.06</td>\n",
       "      <td>United Kingdom</td>\n",
       "      <td>18198</td>\n",
       "    </tr>\n",
       "  </tbody>\n",
       "</table>\n",
       "</div>"
      ],
      "text/plain": [
       "       invoice_no stock_code                         description  quantity  \\\n",
       "382902    C569975      23111               PARISIENNE SEWING BOX        -1   \n",
       "26056     C538463      22055  MINI CAKE STAND  HANGING STRAWBERY        -1   \n",
       "259822    C559741      22978                  PANTRY ROLLING PIN        -1   \n",
       "347705    C567332      21314       SMALL GLASS HEART TRINKET POT        -3   \n",
       "274373    C560903      22178     VICTORIAN GLASS HANGING T-LIGHT       -75   \n",
       "\n",
       "       invoice_date  unit_price         country  customer_id  \n",
       "382902   2011-10-06       12.50  United Kingdom        14333  \n",
       "26056    2010-12-12        1.65  United Kingdom        17085  \n",
       "259822   2011-07-12        3.75  United Kingdom        13013  \n",
       "347705   2011-09-19        1.85  United Kingdom        13767  \n",
       "274373   2011-07-21        1.06  United Kingdom        18198  "
      ]
     },
     "metadata": {},
     "output_type": "display_data"
    },
    {
     "name": "stdout",
     "output_type": "stream",
     "text": [
      "9291 rows\n"
     ]
    }
   ],
   "source": [
    "aux1 = df1.loc[df1['invoice_no'].apply(lambda x: bool(re.search('[^0-9]+', x))), :]\n",
    "\n",
    "display(aux1.sample(5))\n",
    "\n",
    "print(aux1.shape[0], 'rows')"
   ]
  },
  {
   "cell_type": "markdown",
   "id": "2d7eb959",
   "metadata": {},
   "source": [
    "We know from the data description that `invoice` in what starts with C stands for returns.   \n",
    "Another thing we discovered (in the `custumer_id` analysis) is that the database has the purchase and return invoice represented by different numbers, not just the 'C' in front."
   ]
  },
  {
   "cell_type": "markdown",
   "id": "a98ec4ab",
   "metadata": {},
   "source": [
    "#### Stock Code"
   ]
  },
  {
   "cell_type": "code",
   "execution_count": 27,
   "id": "9de633cf",
   "metadata": {},
   "outputs": [
    {
     "data": {
      "text/html": [
       "<div>\n",
       "<style scoped>\n",
       "    .dataframe tbody tr th:only-of-type {\n",
       "        vertical-align: middle;\n",
       "    }\n",
       "\n",
       "    .dataframe tbody tr th {\n",
       "        vertical-align: top;\n",
       "    }\n",
       "\n",
       "    .dataframe thead th {\n",
       "        text-align: right;\n",
       "    }\n",
       "</style>\n",
       "<table border=\"1\" class=\"dataframe\">\n",
       "  <thead>\n",
       "    <tr style=\"text-align: right;\">\n",
       "      <th></th>\n",
       "      <th>invoice_no</th>\n",
       "      <th>stock_code</th>\n",
       "      <th>description</th>\n",
       "      <th>quantity</th>\n",
       "      <th>invoice_date</th>\n",
       "      <th>unit_price</th>\n",
       "      <th>country</th>\n",
       "      <th>customer_id</th>\n",
       "    </tr>\n",
       "  </thead>\n",
       "  <tbody>\n",
       "    <tr>\n",
       "      <th>436719</th>\n",
       "      <td>C574238</td>\n",
       "      <td>D</td>\n",
       "      <td>Discount</td>\n",
       "      <td>-1</td>\n",
       "      <td>2011-11-03</td>\n",
       "      <td>11.59</td>\n",
       "      <td>United Kingdom</td>\n",
       "      <td>13408</td>\n",
       "    </tr>\n",
       "    <tr>\n",
       "      <th>495300</th>\n",
       "      <td>578298</td>\n",
       "      <td>POST</td>\n",
       "      <td>POSTAGE</td>\n",
       "      <td>3</td>\n",
       "      <td>2011-11-23</td>\n",
       "      <td>18.00</td>\n",
       "      <td>Germany</td>\n",
       "      <td>12619</td>\n",
       "    </tr>\n",
       "    <tr>\n",
       "      <th>227059</th>\n",
       "      <td>556816</td>\n",
       "      <td>POST</td>\n",
       "      <td>POSTAGE</td>\n",
       "      <td>3</td>\n",
       "      <td>2011-06-15</td>\n",
       "      <td>18.00</td>\n",
       "      <td>France</td>\n",
       "      <td>12437</td>\n",
       "    </tr>\n",
       "    <tr>\n",
       "      <th>169822</th>\n",
       "      <td>551258</td>\n",
       "      <td>POST</td>\n",
       "      <td>POSTAGE</td>\n",
       "      <td>8</td>\n",
       "      <td>2011-04-27</td>\n",
       "      <td>18.00</td>\n",
       "      <td>Germany</td>\n",
       "      <td>12621</td>\n",
       "    </tr>\n",
       "    <tr>\n",
       "      <th>497168</th>\n",
       "      <td>578347</td>\n",
       "      <td>DOT</td>\n",
       "      <td>DOTCOM POSTAGE</td>\n",
       "      <td>1</td>\n",
       "      <td>2011-11-24</td>\n",
       "      <td>644.28</td>\n",
       "      <td>United Kingdom</td>\n",
       "      <td>22528</td>\n",
       "    </tr>\n",
       "  </tbody>\n",
       "</table>\n",
       "</div>"
      ],
      "text/plain": [
       "       invoice_no stock_code     description  quantity invoice_date  \\\n",
       "436719    C574238          D        Discount        -1   2011-11-03   \n",
       "495300     578298       POST         POSTAGE         3   2011-11-23   \n",
       "227059     556816       POST         POSTAGE         3   2011-06-15   \n",
       "169822     551258       POST         POSTAGE         8   2011-04-27   \n",
       "497168     578347        DOT  DOTCOM POSTAGE         1   2011-11-24   \n",
       "\n",
       "        unit_price         country  customer_id  \n",
       "436719       11.59  United Kingdom        13408  \n",
       "495300       18.00         Germany        12619  \n",
       "227059       18.00          France        12437  \n",
       "169822       18.00         Germany        12621  \n",
       "497168      644.28  United Kingdom        22528  "
      ]
     },
     "metadata": {},
     "output_type": "display_data"
    },
    {
     "data": {
      "text/plain": [
       "array(['POST', 'D', 'DOT', 'M', 'S', 'AMAZONFEE', 'm', 'DCGSSBOY',\n",
       "       'DCGSSGIRL', 'PADS', 'B', 'CRUK'], dtype=object)"
      ]
     },
     "execution_count": 27,
     "metadata": {},
     "output_type": "execute_result"
    }
   ],
   "source": [
    "# getting stock_code with just characters\n",
    "aux2 = df1.loc[df1['stock_code'].apply(lambda x: bool(re.search('^[a-zA-Z]+$', x))), :]\n",
    "\n",
    "display(aux2.sample(5))\n",
    "\n",
    "aux2['stock_code'].unique()"
   ]
  },
  {
   "cell_type": "markdown",
   "id": "dd992b68",
   "metadata": {},
   "source": [
    "Some `stock_code` we have an idea of what it means, such as \"post\", others we don't. Since we know that some do not represent product purchases, we will discard the lines with these categories later on."
   ]
  },
  {
   "cell_type": "markdown",
   "id": "1dfd6214",
   "metadata": {},
   "source": [
    "#### Country"
   ]
  },
  {
   "cell_type": "code",
   "execution_count": 28,
   "id": "33e9f08e",
   "metadata": {},
   "outputs": [
    {
     "data": {
      "text/plain": [
       "array(['United Kingdom', 'France', 'Australia', 'Netherlands', 'Germany',\n",
       "       'Norway', 'EIRE', 'Switzerland', 'Spain', 'Poland', 'Portugal',\n",
       "       'Italy', 'Belgium', 'Lithuania', 'Japan', 'Iceland',\n",
       "       'Channel Islands', 'Denmark', 'Cyprus', 'Sweden', 'Austria',\n",
       "       'Israel', 'Finland', 'Bahrain', 'Greece', 'Hong Kong', 'Singapore',\n",
       "       'Lebanon', 'United Arab Emirates', 'Saudi Arabia',\n",
       "       'Czech Republic', 'Canada', 'Unspecified', 'Brazil', 'USA',\n",
       "       'European Community', 'Malta', 'RSA'], dtype=object)"
      ]
     },
     "execution_count": 28,
     "metadata": {},
     "output_type": "execute_result"
    }
   ],
   "source": [
    "df1['country'].unique()"
   ]
  },
  {
   "cell_type": "code",
   "execution_count": 29,
   "id": "f928a643",
   "metadata": {},
   "outputs": [
    {
     "data": {
      "text/plain": [
       "38"
      ]
     },
     "execution_count": 29,
     "metadata": {},
     "output_type": "execute_result"
    }
   ],
   "source": [
    "len(df1['country'].unique())"
   ]
  },
  {
   "cell_type": "code",
   "execution_count": 30,
   "id": "44f1aad6",
   "metadata": {},
   "outputs": [
    {
     "data": {
      "text/plain": [
       "United Kingdom   0.91\n",
       "Germany          0.02\n",
       "France           0.02\n",
       "EIRE             0.02\n",
       "Spain            0.00\n",
       "Netherlands      0.00\n",
       "Belgium          0.00\n",
       "Switzerland      0.00\n",
       "Portugal         0.00\n",
       "Australia        0.00\n",
       "Name: country, dtype: float64"
      ]
     },
     "execution_count": 30,
     "metadata": {},
     "output_type": "execute_result"
    }
   ],
   "source": [
    "df1['country'].value_counts(normalize=True).head(10)"
   ]
  },
  {
   "cell_type": "markdown",
   "id": "b9826f62",
   "metadata": {},
   "source": [
    "For `country`, which represents the country where the purchase was made, we have that the majority was made from the United Kingdom, representing 91%."
   ]
  },
  {
   "cell_type": "code",
   "execution_count": 31,
   "id": "aaea85c6",
   "metadata": {},
   "outputs": [
    {
     "data": {
      "text/html": [
       "<div>\n",
       "<style scoped>\n",
       "    .dataframe tbody tr th:only-of-type {\n",
       "        vertical-align: middle;\n",
       "    }\n",
       "\n",
       "    .dataframe tbody tr th {\n",
       "        vertical-align: top;\n",
       "    }\n",
       "\n",
       "    .dataframe thead th {\n",
       "        text-align: right;\n",
       "    }\n",
       "</style>\n",
       "<table border=\"1\" class=\"dataframe\">\n",
       "  <thead>\n",
       "    <tr style=\"text-align: right;\">\n",
       "      <th></th>\n",
       "      <th>country</th>\n",
       "      <th>customer_id</th>\n",
       "    </tr>\n",
       "  </thead>\n",
       "  <tbody>\n",
       "    <tr>\n",
       "      <th>36</th>\n",
       "      <td>United Kingdom</td>\n",
       "      <td>7587</td>\n",
       "    </tr>\n",
       "    <tr>\n",
       "      <th>14</th>\n",
       "      <td>Germany</td>\n",
       "      <td>95</td>\n",
       "    </tr>\n",
       "    <tr>\n",
       "      <th>13</th>\n",
       "      <td>France</td>\n",
       "      <td>90</td>\n",
       "    </tr>\n",
       "    <tr>\n",
       "      <th>10</th>\n",
       "      <td>EIRE</td>\n",
       "      <td>44</td>\n",
       "    </tr>\n",
       "    <tr>\n",
       "      <th>31</th>\n",
       "      <td>Spain</td>\n",
       "      <td>31</td>\n",
       "    </tr>\n",
       "    <tr>\n",
       "      <th>3</th>\n",
       "      <td>Belgium</td>\n",
       "      <td>25</td>\n",
       "    </tr>\n",
       "    <tr>\n",
       "      <th>33</th>\n",
       "      <td>Switzerland</td>\n",
       "      <td>24</td>\n",
       "    </tr>\n",
       "    <tr>\n",
       "      <th>27</th>\n",
       "      <td>Portugal</td>\n",
       "      <td>20</td>\n",
       "    </tr>\n",
       "    <tr>\n",
       "      <th>19</th>\n",
       "      <td>Italy</td>\n",
       "      <td>15</td>\n",
       "    </tr>\n",
       "    <tr>\n",
       "      <th>16</th>\n",
       "      <td>Hong Kong</td>\n",
       "      <td>15</td>\n",
       "    </tr>\n",
       "    <tr>\n",
       "      <th>12</th>\n",
       "      <td>Finland</td>\n",
       "      <td>12</td>\n",
       "    </tr>\n",
       "    <tr>\n",
       "      <th>1</th>\n",
       "      <td>Austria</td>\n",
       "      <td>11</td>\n",
       "    </tr>\n",
       "    <tr>\n",
       "      <th>25</th>\n",
       "      <td>Norway</td>\n",
       "      <td>10</td>\n",
       "    </tr>\n",
       "    <tr>\n",
       "      <th>24</th>\n",
       "      <td>Netherlands</td>\n",
       "      <td>9</td>\n",
       "    </tr>\n",
       "    <tr>\n",
       "      <th>0</th>\n",
       "      <td>Australia</td>\n",
       "      <td>9</td>\n",
       "    </tr>\n",
       "    <tr>\n",
       "      <th>37</th>\n",
       "      <td>Unspecified</td>\n",
       "      <td>9</td>\n",
       "    </tr>\n",
       "    <tr>\n",
       "      <th>9</th>\n",
       "      <td>Denmark</td>\n",
       "      <td>9</td>\n",
       "    </tr>\n",
       "    <tr>\n",
       "      <th>6</th>\n",
       "      <td>Channel Islands</td>\n",
       "      <td>9</td>\n",
       "    </tr>\n",
       "    <tr>\n",
       "      <th>7</th>\n",
       "      <td>Cyprus</td>\n",
       "      <td>8</td>\n",
       "    </tr>\n",
       "    <tr>\n",
       "      <th>32</th>\n",
       "      <td>Sweden</td>\n",
       "      <td>8</td>\n",
       "    </tr>\n",
       "    <tr>\n",
       "      <th>20</th>\n",
       "      <td>Japan</td>\n",
       "      <td>8</td>\n",
       "    </tr>\n",
       "    <tr>\n",
       "      <th>18</th>\n",
       "      <td>Israel</td>\n",
       "      <td>7</td>\n",
       "    </tr>\n",
       "    <tr>\n",
       "      <th>26</th>\n",
       "      <td>Poland</td>\n",
       "      <td>6</td>\n",
       "    </tr>\n",
       "    <tr>\n",
       "      <th>5</th>\n",
       "      <td>Canada</td>\n",
       "      <td>4</td>\n",
       "    </tr>\n",
       "    <tr>\n",
       "      <th>34</th>\n",
       "      <td>USA</td>\n",
       "      <td>4</td>\n",
       "    </tr>\n",
       "    <tr>\n",
       "      <th>2</th>\n",
       "      <td>Bahrain</td>\n",
       "      <td>4</td>\n",
       "    </tr>\n",
       "    <tr>\n",
       "      <th>15</th>\n",
       "      <td>Greece</td>\n",
       "      <td>4</td>\n",
       "    </tr>\n",
       "    <tr>\n",
       "      <th>23</th>\n",
       "      <td>Malta</td>\n",
       "      <td>2</td>\n",
       "    </tr>\n",
       "    <tr>\n",
       "      <th>35</th>\n",
       "      <td>United Arab Emirates</td>\n",
       "      <td>2</td>\n",
       "    </tr>\n",
       "    <tr>\n",
       "      <th>8</th>\n",
       "      <td>Czech Republic</td>\n",
       "      <td>1</td>\n",
       "    </tr>\n",
       "    <tr>\n",
       "      <th>22</th>\n",
       "      <td>Lithuania</td>\n",
       "      <td>1</td>\n",
       "    </tr>\n",
       "    <tr>\n",
       "      <th>11</th>\n",
       "      <td>European Community</td>\n",
       "      <td>1</td>\n",
       "    </tr>\n",
       "    <tr>\n",
       "      <th>21</th>\n",
       "      <td>Lebanon</td>\n",
       "      <td>1</td>\n",
       "    </tr>\n",
       "    <tr>\n",
       "      <th>28</th>\n",
       "      <td>RSA</td>\n",
       "      <td>1</td>\n",
       "    </tr>\n",
       "    <tr>\n",
       "      <th>29</th>\n",
       "      <td>Saudi Arabia</td>\n",
       "      <td>1</td>\n",
       "    </tr>\n",
       "    <tr>\n",
       "      <th>30</th>\n",
       "      <td>Singapore</td>\n",
       "      <td>1</td>\n",
       "    </tr>\n",
       "    <tr>\n",
       "      <th>17</th>\n",
       "      <td>Iceland</td>\n",
       "      <td>1</td>\n",
       "    </tr>\n",
       "    <tr>\n",
       "      <th>4</th>\n",
       "      <td>Brazil</td>\n",
       "      <td>1</td>\n",
       "    </tr>\n",
       "  </tbody>\n",
       "</table>\n",
       "</div>"
      ],
      "text/plain": [
       "                 country  customer_id\n",
       "36        United Kingdom         7587\n",
       "14               Germany           95\n",
       "13                France           90\n",
       "10                  EIRE           44\n",
       "31                 Spain           31\n",
       "3                Belgium           25\n",
       "33           Switzerland           24\n",
       "27              Portugal           20\n",
       "19                 Italy           15\n",
       "16             Hong Kong           15\n",
       "12               Finland           12\n",
       "1                Austria           11\n",
       "25                Norway           10\n",
       "24           Netherlands            9\n",
       "0              Australia            9\n",
       "37           Unspecified            9\n",
       "9                Denmark            9\n",
       "6        Channel Islands            9\n",
       "7                 Cyprus            8\n",
       "32                Sweden            8\n",
       "20                 Japan            8\n",
       "18                Israel            7\n",
       "26                Poland            6\n",
       "5                 Canada            4\n",
       "34                   USA            4\n",
       "2                Bahrain            4\n",
       "15                Greece            4\n",
       "23                 Malta            2\n",
       "35  United Arab Emirates            2\n",
       "8         Czech Republic            1\n",
       "22             Lithuania            1\n",
       "11    European Community            1\n",
       "21               Lebanon            1\n",
       "28                   RSA            1\n",
       "29          Saudi Arabia            1\n",
       "30             Singapore            1\n",
       "17               Iceland            1\n",
       "4                 Brazil            1"
      ]
     },
     "execution_count": 31,
     "metadata": {},
     "output_type": "execute_result"
    }
   ],
   "source": [
    "df1[['customer_id', 'country']].drop_duplicates().groupby('country').count().reset_index().sort_values('customer_id', ascending=False)"
   ]
  },
  {
   "cell_type": "markdown",
   "id": "b74cd0b3",
   "metadata": {},
   "source": [
    "# 2 DATA FILTERING"
   ]
  },
  {
   "cell_type": "code",
   "execution_count": 32,
   "id": "e9d3826c",
   "metadata": {},
   "outputs": [],
   "source": [
    "df2 = df1.copy()"
   ]
  },
  {
   "cell_type": "code",
   "execution_count": 33,
   "id": "3639bb48",
   "metadata": {},
   "outputs": [],
   "source": [
    "# unit_price\n",
    "df2 = df2.loc[df2['unit_price'] >= 0.04, :] # assuming that less than this value is gift\n",
    "\n",
    "# categorical attributes\n",
    "df2 = df2[~df2['stock_code'].isin(['POST', 'D', 'DOT', 'M', 'S', 'AMAZONFEE', 'm', 'DCGSSBOY', 'DCGSSGIRL', 'PADS', 'B', 'CRUK'])]\n",
    "\n",
    "# description\n",
    "# at this point we will not use the feature description, since it is unlikely to influence the clustering\n",
    "df2 = df2.drop(columns='description', axis=1)\n",
    "\n",
    "# country\n",
    "# For now, we will also not use countries, since 91% of the purchases were made from a single country. \n",
    "df2 = df2.drop(columns='country', axis=1)\n",
    "\n",
    "# quantity\n",
    "df2_cancelations = df2.loc[df1['quantity'] < 0, :]\n",
    "df2_purchases = df2.loc[df1['quantity'] >= 0, :]"
   ]
  },
  {
   "cell_type": "markdown",
   "id": "d7c36fb2",
   "metadata": {},
   "source": [
    "# 3.0  FEATURE ENGINEERING"
   ]
  },
  {
   "cell_type": "code",
   "execution_count": 34,
   "id": "454a9d70",
   "metadata": {},
   "outputs": [],
   "source": [
    "df3 = df2.copy() \n",
    "df3_cancelations = df2_cancelations.copy()\n",
    "df3_purchases = df2_purchases.copy()"
   ]
  },
  {
   "cell_type": "markdown",
   "id": "450f844b",
   "metadata": {},
   "source": [
    "## 3.1 Features Creation"
   ]
  },
  {
   "cell_type": "code",
   "execution_count": 35,
   "id": "2bacd074",
   "metadata": {},
   "outputs": [
    {
     "data": {
      "text/html": [
       "<div>\n",
       "<style scoped>\n",
       "    .dataframe tbody tr th:only-of-type {\n",
       "        vertical-align: middle;\n",
       "    }\n",
       "\n",
       "    .dataframe tbody tr th {\n",
       "        vertical-align: top;\n",
       "    }\n",
       "\n",
       "    .dataframe thead th {\n",
       "        text-align: right;\n",
       "    }\n",
       "</style>\n",
       "<table border=\"1\" class=\"dataframe\">\n",
       "  <thead>\n",
       "    <tr style=\"text-align: right;\">\n",
       "      <th></th>\n",
       "      <th>customer_id</th>\n",
       "    </tr>\n",
       "  </thead>\n",
       "  <tbody>\n",
       "    <tr>\n",
       "      <th>0</th>\n",
       "      <td>17850</td>\n",
       "    </tr>\n",
       "    <tr>\n",
       "      <th>1</th>\n",
       "      <td>13047</td>\n",
       "    </tr>\n",
       "    <tr>\n",
       "      <th>2</th>\n",
       "      <td>12583</td>\n",
       "    </tr>\n",
       "    <tr>\n",
       "      <th>3</th>\n",
       "      <td>13748</td>\n",
       "    </tr>\n",
       "    <tr>\n",
       "      <th>4</th>\n",
       "      <td>15100</td>\n",
       "    </tr>\n",
       "  </tbody>\n",
       "</table>\n",
       "</div>"
      ],
      "text/plain": [
       "   customer_id\n",
       "0        17850\n",
       "1        13047\n",
       "2        12583\n",
       "3        13748\n",
       "4        15100"
      ]
     },
     "execution_count": 35,
     "metadata": {},
     "output_type": "execute_result"
    }
   ],
   "source": [
    "# reference table\n",
    "df_ref = df3.drop(['invoice_no', 'stock_code', 'quantity', \n",
    "                   'invoice_date', 'unit_price'], axis=1).drop_duplicates(ignore_index=True)\n",
    "\n",
    "df_ref.head()"
   ]
  },
  {
   "cell_type": "markdown",
   "id": "8bda0912",
   "metadata": {},
   "source": [
    "####  Gross Revenue"
   ]
  },
  {
   "cell_type": "code",
   "execution_count": 36,
   "id": "deae7a75",
   "metadata": {},
   "outputs": [],
   "source": [
    "# gross revenue\n",
    "df3['gross_revenue'] = df3['quantity'] * df3['unit_price']\n",
    "\n",
    "df_gross_revenue = df3[['customer_id', 'gross_revenue']].groupby('customer_id').sum().reset_index()\n",
    "\n",
    "df_ref = pd.merge(df_ref, df_gross_revenue, on='customer_id', how='left')"
   ]
  },
  {
   "cell_type": "code",
   "execution_count": 37,
   "id": "861cc488",
   "metadata": {},
   "outputs": [
    {
     "data": {
      "text/html": [
       "<div>\n",
       "<style scoped>\n",
       "    .dataframe tbody tr th:only-of-type {\n",
       "        vertical-align: middle;\n",
       "    }\n",
       "\n",
       "    .dataframe tbody tr th {\n",
       "        vertical-align: top;\n",
       "    }\n",
       "\n",
       "    .dataframe thead th {\n",
       "        text-align: right;\n",
       "    }\n",
       "</style>\n",
       "<table border=\"1\" class=\"dataframe\">\n",
       "  <thead>\n",
       "    <tr style=\"text-align: right;\">\n",
       "      <th></th>\n",
       "      <th>customer_id</th>\n",
       "      <th>gross_revenue</th>\n",
       "    </tr>\n",
       "  </thead>\n",
       "  <tbody>\n",
       "    <tr>\n",
       "      <th>5615</th>\n",
       "      <td>22515</td>\n",
       "      <td>-1208.04</td>\n",
       "    </tr>\n",
       "    <tr>\n",
       "      <th>217</th>\n",
       "      <td>14213</td>\n",
       "      <td>-1192.20</td>\n",
       "    </tr>\n",
       "    <tr>\n",
       "      <th>3782</th>\n",
       "      <td>21005</td>\n",
       "      <td>-1096.14</td>\n",
       "    </tr>\n",
       "    <tr>\n",
       "      <th>1419</th>\n",
       "      <td>19439</td>\n",
       "      <td>-1050.15</td>\n",
       "    </tr>\n",
       "    <tr>\n",
       "      <th>794</th>\n",
       "      <td>19207</td>\n",
       "      <td>-966.92</td>\n",
       "    </tr>\n",
       "  </tbody>\n",
       "</table>\n",
       "</div>"
      ],
      "text/plain": [
       "      customer_id  gross_revenue\n",
       "5615        22515       -1208.04\n",
       "217         14213       -1192.20\n",
       "3782        21005       -1096.14\n",
       "1419        19439       -1050.15\n",
       "794         19207        -966.92"
      ]
     },
     "execution_count": 37,
     "metadata": {},
     "output_type": "execute_result"
    }
   ],
   "source": [
    "df_ref.sort_values('gross_revenue').head()"
   ]
  },
  {
   "cell_type": "markdown",
   "id": "edd84c0d",
   "metadata": {},
   "source": [
    "It doesn't make sense to have clients with negative `gross_revenue`, since to have a product canceled you must have bought that product, and the smallest possible value of `gross_revenue` that makes sense is 0. So let's eliminate those negative values from our analysis."
   ]
  },
  {
   "cell_type": "code",
   "execution_count": 38,
   "id": "d7d8a6ef",
   "metadata": {},
   "outputs": [],
   "source": [
    "df_ref = df_ref.loc[df_ref['gross_revenue'] >= 0].reset_index(drop = True)"
   ]
  },
  {
   "cell_type": "code",
   "execution_count": 39,
   "id": "a8806433",
   "metadata": {},
   "outputs": [
    {
     "data": {
      "text/html": [
       "<div>\n",
       "<style scoped>\n",
       "    .dataframe tbody tr th:only-of-type {\n",
       "        vertical-align: middle;\n",
       "    }\n",
       "\n",
       "    .dataframe tbody tr th {\n",
       "        vertical-align: top;\n",
       "    }\n",
       "\n",
       "    .dataframe thead th {\n",
       "        text-align: right;\n",
       "    }\n",
       "</style>\n",
       "<table border=\"1\" class=\"dataframe\">\n",
       "  <thead>\n",
       "    <tr style=\"text-align: right;\">\n",
       "      <th></th>\n",
       "      <th>customer_id</th>\n",
       "      <th>gross_revenue</th>\n",
       "    </tr>\n",
       "  </thead>\n",
       "  <tbody>\n",
       "    <tr>\n",
       "      <th>1205</th>\n",
       "      <td>13672</td>\n",
       "      <td>0.00</td>\n",
       "    </tr>\n",
       "    <tr>\n",
       "      <th>4092</th>\n",
       "      <td>18268</td>\n",
       "      <td>0.00</td>\n",
       "    </tr>\n",
       "    <tr>\n",
       "      <th>4827</th>\n",
       "      <td>14792</td>\n",
       "      <td>0.00</td>\n",
       "    </tr>\n",
       "    <tr>\n",
       "      <th>1350</th>\n",
       "      <td>12346</td>\n",
       "      <td>0.00</td>\n",
       "    </tr>\n",
       "    <tr>\n",
       "      <th>4722</th>\n",
       "      <td>13364</td>\n",
       "      <td>0.00</td>\n",
       "    </tr>\n",
       "  </tbody>\n",
       "</table>\n",
       "</div>"
      ],
      "text/plain": [
       "      customer_id  gross_revenue\n",
       "1205        13672           0.00\n",
       "4092        18268           0.00\n",
       "4827        14792           0.00\n",
       "1350        12346           0.00\n",
       "4722        13364           0.00"
      ]
     },
     "execution_count": 39,
     "metadata": {},
     "output_type": "execute_result"
    }
   ],
   "source": [
    "df_ref.sort_values('gross_revenue').head()"
   ]
  },
  {
   "cell_type": "markdown",
   "id": "345c11a9",
   "metadata": {},
   "source": [
    "#### Mean Ticket "
   ]
  },
  {
   "cell_type": "code",
   "execution_count": 40,
   "id": "85c804b2",
   "metadata": {},
   "outputs": [],
   "source": [
    "df_mean_ticket = (df3[['customer_id', 'gross_revenue']].groupby('customer_id').mean()\n",
    "                                                                              .reset_index()\n",
    "                                                                              .rename(columns={'gross_revenue':'mean_ticket'}))\n",
    "\n",
    "df_ref = pd.merge(df_ref, df_mean_ticket, on='customer_id', how='left')"
   ]
  },
  {
   "cell_type": "markdown",
   "id": "7363c1a3",
   "metadata": {},
   "source": [
    "#### Purchase Quantity"
   ]
  },
  {
   "cell_type": "code",
   "execution_count": 41,
   "id": "b5ef07e3",
   "metadata": {},
   "outputs": [],
   "source": [
    "df_qtdpurchases = (df3_purchases[['customer_id', 'invoice_no']].drop_duplicates().groupby('customer_id')\n",
    "                                                                                 .count()\n",
    "                                                                                 .reset_index()\n",
    "                                                                                 .rename(columns={'invoice_no': 'qtd_purchases'}))\n",
    "\n",
    "df_ref = pd.merge(df_ref, df_qtdpurchases, on='customer_id', how='left')"
   ]
  },
  {
   "cell_type": "markdown",
   "id": "22716257",
   "metadata": {},
   "source": [
    "#### Quantity of Products"
   ]
  },
  {
   "cell_type": "code",
   "execution_count": 42,
   "id": "10c68cd1",
   "metadata": {},
   "outputs": [],
   "source": [
    "df_qtdproducts = (df3_purchases[['customer_id', 'quantity']].groupby('customer_id').sum()\n",
    "                                                                                   .reset_index()\n",
    "                                                                                   .rename(columns={'quantity': 'qtd_products'}))\n",
    "                                                        \n",
    "                                                        \n",
    "df_ref = pd.merge(df_ref, df_qtdproducts, on = 'customer_id', how ='left')"
   ]
  },
  {
   "cell_type": "markdown",
   "id": "50715a70",
   "metadata": {},
   "source": [
    "#### Basket Size | Average of Products Per Purchase"
   ]
  },
  {
   "cell_type": "code",
   "execution_count": 43,
   "id": "2720abbd",
   "metadata": {},
   "outputs": [],
   "source": [
    "df_basket_size = (df3_purchases[['customer_id', 'invoice_no', 'quantity']].groupby('customer_id')\n",
    "                                                                          .agg(n_purchase=('invoice_no', 'nunique'),\n",
    "                                                                               n_products=('quantity', 'sum')).reset_index())\n",
    "\n",
    "df_basket_size['avg_products'] = df_basket_size['n_products'] / df_basket_size['n_purchase']\n",
    "\n",
    "df_ref = pd.merge(df_ref, df_basket_size[['customer_id', 'avg_products']], how='left', on='customer_id')"
   ]
  },
  {
   "cell_type": "markdown",
   "id": "de7fe6fa",
   "metadata": {},
   "source": [
    "#### Average of Distinct Products Per Purchase"
   ]
  },
  {
   "cell_type": "code",
   "execution_count": 44,
   "id": "b1ed7f3e",
   "metadata": {},
   "outputs": [],
   "source": [
    "df_dist_products = (df2_purchases[['customer_id', 'invoice_no', 'stock_code']].groupby('customer_id')\n",
    "                                                                              .agg(n_purchase=('invoice_no', 'nunique'),\n",
    "                                                                                   n_products=('stock_code', 'nunique')).reset_index())\n",
    "\n",
    "df_dist_products['avg_unique_products'] = df_dist_products['n_products'] / df_dist_products['n_purchase']\n",
    "\n",
    "df_ref = pd.merge(df_ref, df_dist_products[['customer_id', 'avg_unique_products']], how='left', on='customer_id')"
   ]
  },
  {
   "cell_type": "markdown",
   "id": "61ebd57c",
   "metadata": {},
   "source": [
    "#### Recency | Days Since Last Purchase"
   ]
  },
  {
   "cell_type": "code",
   "execution_count": 45,
   "id": "604839ff",
   "metadata": {},
   "outputs": [],
   "source": [
    "df_recency = df3_purchases[['customer_id', 'invoice_date']].groupby('customer_id').max().reset_index()\n",
    "df_recency['recency_days'] = (df3_purchases['invoice_date'].max() - df_recency['invoice_date']).dt.days\n",
    "df_recency = df_recency[['customer_id', 'recency_days']].copy()\n",
    "\n",
    "df_ref = pd.merge(df_ref, df_recency, on='customer_id', how='left')"
   ]
  },
  {
   "cell_type": "markdown",
   "id": "b65f4b2c",
   "metadata": {},
   "source": [
    "#### Frequency of Purchase"
   ]
  },
  {
   "cell_type": "code",
   "execution_count": 46,
   "id": "be4bfc9e",
   "metadata": {},
   "outputs": [],
   "source": [
    "df_frequency = (df3_purchases[['customer_id', 'invoice_no', 'invoice_date']].drop_duplicates()\n",
    "                                                                            .groupby('customer_id')\n",
    "                                                                            .agg(max_ = ('invoice_date', 'max'), \n",
    "                                                                                 min_ = ('invoice_date', 'min'),\n",
    "                                                                                 days_= ('invoice_date', lambda x: ((x.max() - x.min()).days) + 1),\n",
    "                                                                                 buy_ = ('invoice_no', 'count')).reset_index())\n",
    "\n",
    "df_frequency['purchase_frequency'] = df_frequency[['buy_', 'days_']].apply(lambda x: x['buy_'] / x['days_'] if x['days_'] != 0 else 0, axis=1)\n",
    "\n",
    "df_ref = pd.merge( df_ref, df_frequency[['customer_id', 'purchase_frequency']], on='customer_id', how='left' )"
   ]
  },
  {
   "cell_type": "markdown",
   "id": "d3404727",
   "metadata": {},
   "source": [
    "#### Quantity of Products Cancelled"
   ]
  },
  {
   "cell_type": "code",
   "execution_count": 47,
   "id": "5111d95c",
   "metadata": {},
   "outputs": [],
   "source": [
    "df_cancelations = (df3_cancelations[['customer_id', 'quantity']].groupby('customer_id').sum()\n",
    "                                                                                       .reset_index()\n",
    "                                                                                       .rename(columns={'quantity':'qtd_cancelled_products'}))\n",
    "\n",
    "df_cancelations['qtd_cancelled_products'] = df_cancelations['qtd_cancelled_products'] * -1\n",
    "\n",
    "df_ref = pd.merge(df_ref, df_cancelations, how='left', on='customer_id')\n",
    "df_ref.loc[df_ref['qtd_cancelled_products'].isna(), 'qtd_cancelled_products'] = 0\n",
    "df_ref['qtd_cancelled_products'] = df_ref['qtd_cancelled_products'].astype(np.int64)"
   ]
  },
  {
   "cell_type": "markdown",
   "id": "80577bb2",
   "metadata": {},
   "source": [
    "#### Cancelled Products Over Purchased Products"
   ]
  },
  {
   "cell_type": "code",
   "execution_count": 48,
   "id": "fd0b8e1c",
   "metadata": {},
   "outputs": [],
   "source": [
    "df_ref['cancelled_over_purchased'] = (df_ref[['qtd_products', 'qtd_cancelled_products']]\n",
    "                                      .apply(lambda x: x['qtd_cancelled_products'] / x['qtd_products'], axis=1))"
   ]
  },
  {
   "cell_type": "code",
   "execution_count": 49,
   "id": "c4cf3de6",
   "metadata": {},
   "outputs": [
    {
     "data": {
      "text/html": [
       "<div>\n",
       "<style scoped>\n",
       "    .dataframe tbody tr th:only-of-type {\n",
       "        vertical-align: middle;\n",
       "    }\n",
       "\n",
       "    .dataframe tbody tr th {\n",
       "        vertical-align: top;\n",
       "    }\n",
       "\n",
       "    .dataframe thead th {\n",
       "        text-align: right;\n",
       "    }\n",
       "</style>\n",
       "<table border=\"1\" class=\"dataframe\">\n",
       "  <thead>\n",
       "    <tr style=\"text-align: right;\">\n",
       "      <th></th>\n",
       "      <th>customer_id</th>\n",
       "      <th>gross_revenue</th>\n",
       "      <th>mean_ticket</th>\n",
       "      <th>qtd_purchases</th>\n",
       "      <th>qtd_products</th>\n",
       "      <th>avg_products</th>\n",
       "      <th>avg_unique_products</th>\n",
       "      <th>recency_days</th>\n",
       "      <th>purchase_frequency</th>\n",
       "      <th>qtd_cancelled_products</th>\n",
       "      <th>cancelled_over_purchased</th>\n",
       "    </tr>\n",
       "  </thead>\n",
       "  <tbody>\n",
       "    <tr>\n",
       "      <th>0</th>\n",
       "      <td>17850</td>\n",
       "      <td>5288.63</td>\n",
       "      <td>16.95</td>\n",
       "      <td>34</td>\n",
       "      <td>1733</td>\n",
       "      <td>50.97</td>\n",
       "      <td>0.62</td>\n",
       "      <td>372</td>\n",
       "      <td>17.00</td>\n",
       "      <td>40</td>\n",
       "      <td>0.02</td>\n",
       "    </tr>\n",
       "    <tr>\n",
       "      <th>1</th>\n",
       "      <td>13047</td>\n",
       "      <td>3089.10</td>\n",
       "      <td>15.92</td>\n",
       "      <td>9</td>\n",
       "      <td>1390</td>\n",
       "      <td>154.44</td>\n",
       "      <td>11.67</td>\n",
       "      <td>56</td>\n",
       "      <td>0.03</td>\n",
       "      <td>35</td>\n",
       "      <td>0.03</td>\n",
       "    </tr>\n",
       "    <tr>\n",
       "      <th>2</th>\n",
       "      <td>12583</td>\n",
       "      <td>6629.34</td>\n",
       "      <td>28.21</td>\n",
       "      <td>15</td>\n",
       "      <td>5028</td>\n",
       "      <td>335.20</td>\n",
       "      <td>7.60</td>\n",
       "      <td>2</td>\n",
       "      <td>0.04</td>\n",
       "      <td>50</td>\n",
       "      <td>0.01</td>\n",
       "    </tr>\n",
       "    <tr>\n",
       "      <th>3</th>\n",
       "      <td>13748</td>\n",
       "      <td>948.25</td>\n",
       "      <td>33.87</td>\n",
       "      <td>5</td>\n",
       "      <td>439</td>\n",
       "      <td>87.80</td>\n",
       "      <td>4.80</td>\n",
       "      <td>95</td>\n",
       "      <td>0.02</td>\n",
       "      <td>0</td>\n",
       "      <td>0.00</td>\n",
       "    </tr>\n",
       "    <tr>\n",
       "      <th>4</th>\n",
       "      <td>15100</td>\n",
       "      <td>635.10</td>\n",
       "      <td>105.85</td>\n",
       "      <td>3</td>\n",
       "      <td>80</td>\n",
       "      <td>26.67</td>\n",
       "      <td>0.33</td>\n",
       "      <td>333</td>\n",
       "      <td>0.07</td>\n",
       "      <td>22</td>\n",
       "      <td>0.28</td>\n",
       "    </tr>\n",
       "  </tbody>\n",
       "</table>\n",
       "</div>"
      ],
      "text/plain": [
       "   customer_id  gross_revenue  mean_ticket  qtd_purchases  qtd_products  \\\n",
       "0        17850        5288.63        16.95             34          1733   \n",
       "1        13047        3089.10        15.92              9          1390   \n",
       "2        12583        6629.34        28.21             15          5028   \n",
       "3        13748         948.25        33.87              5           439   \n",
       "4        15100         635.10       105.85              3            80   \n",
       "\n",
       "   avg_products  avg_unique_products  recency_days  purchase_frequency  \\\n",
       "0         50.97                 0.62           372               17.00   \n",
       "1        154.44                11.67            56                0.03   \n",
       "2        335.20                 7.60             2                0.04   \n",
       "3         87.80                 4.80            95                0.02   \n",
       "4         26.67                 0.33           333                0.07   \n",
       "\n",
       "   qtd_cancelled_products  cancelled_over_purchased  \n",
       "0                      40                      0.02  \n",
       "1                      35                      0.03  \n",
       "2                      50                      0.01  \n",
       "3                       0                      0.00  \n",
       "4                      22                      0.28  "
      ]
     },
     "execution_count": 49,
     "metadata": {},
     "output_type": "execute_result"
    }
   ],
   "source": [
    "df_ref.head()"
   ]
  },
  {
   "cell_type": "code",
   "execution_count": 50,
   "id": "eeba67af",
   "metadata": {},
   "outputs": [
    {
     "data": {
      "text/plain": [
       "customer_id                 0\n",
       "gross_revenue               0\n",
       "mean_ticket                 0\n",
       "qtd_purchases               0\n",
       "qtd_products                0\n",
       "avg_products                0\n",
       "avg_unique_products         0\n",
       "recency_days                0\n",
       "purchase_frequency          0\n",
       "qtd_cancelled_products      0\n",
       "cancelled_over_purchased    0\n",
       "dtype: int64"
      ]
     },
     "execution_count": 50,
     "metadata": {},
     "output_type": "execute_result"
    }
   ],
   "source": [
    "df_ref.isna().sum()"
   ]
  },
  {
   "cell_type": "markdown",
   "id": "118176df",
   "metadata": {},
   "source": [
    "# 4 EXPLORATORY DATA ANALYSIS"
   ]
  },
  {
   "cell_type": "markdown",
   "id": "4c9abad9",
   "metadata": {},
   "source": [
    "Both univariate and bivariate analysis are important to verify that the variables that have been created make sense and that there are no fuzziness in the data, so as not to compromise the clustering. "
   ]
  },
  {
   "cell_type": "code",
   "execution_count": 51,
   "id": "5b0987ec",
   "metadata": {},
   "outputs": [],
   "source": [
    "df4 = df_ref.copy()"
   ]
  },
  {
   "cell_type": "markdown",
   "id": "2d9c6e5b",
   "metadata": {},
   "source": [
    "## 4.1 Univariate Analysis"
   ]
  },
  {
   "cell_type": "markdown",
   "id": "135d82a5",
   "metadata": {},
   "source": [
    "In addition to checking that the variables created make sense and that there is no fuzziness in the data, in univariate analysis we try we try to analyze the varaibility in the features, because if a feature varies a lot on an axis, i.e., has a large range, it means that when I combine it with any other feature the chance of forming clusters cohesive and distant from each other is higher.\n",
    "\n",
    "To do this we will look at the measures of dispersion - minimum, maximum and range; the mean and median - if equal, it have no outliers, and here outliers can be good, since the best customers are not like the majority; standard deviation and variance - a high standard deviation shows that at the mean the data are far from the center; coefficient of variation, represented by the standard deviation over the mean, we want a high coefficient of variation; and histogram - how the data is distributed. \n",
    "\n",
    "We will bring here only those features that we believe need a better look. The complete analysis can be found in the file `eda.html`"
   ]
  },
  {
   "cell_type": "code",
   "execution_count": 52,
   "id": "c3e3862b",
   "metadata": {},
   "outputs": [],
   "source": [
    "## analyzing the dataset ProfileReport\n",
    "#profile = ProfileReport(df4)\n",
    "#profile.to_file('eda.html')"
   ]
  },
  {
   "cell_type": "markdown",
   "id": "fb1a64b1",
   "metadata": {},
   "source": [
    "#### Gross Revenue"
   ]
  },
  {
   "cell_type": "code",
   "execution_count": 53,
   "id": "b139d650",
   "metadata": {},
   "outputs": [
    {
     "data": {
      "text/html": [
       "<div>\n",
       "<style scoped>\n",
       "    .dataframe tbody tr th:only-of-type {\n",
       "        vertical-align: middle;\n",
       "    }\n",
       "\n",
       "    .dataframe tbody tr th {\n",
       "        vertical-align: top;\n",
       "    }\n",
       "\n",
       "    .dataframe thead th {\n",
       "        text-align: right;\n",
       "    }\n",
       "</style>\n",
       "<table border=\"1\" class=\"dataframe\">\n",
       "  <thead>\n",
       "    <tr style=\"text-align: right;\">\n",
       "      <th></th>\n",
       "      <th>customer_id</th>\n",
       "      <th>gross_revenue</th>\n",
       "      <th>mean_ticket</th>\n",
       "      <th>qtd_purchases</th>\n",
       "      <th>qtd_products</th>\n",
       "      <th>avg_products</th>\n",
       "      <th>avg_unique_products</th>\n",
       "      <th>recency_days</th>\n",
       "      <th>purchase_frequency</th>\n",
       "      <th>qtd_cancelled_products</th>\n",
       "      <th>cancelled_over_purchased</th>\n",
       "    </tr>\n",
       "  </thead>\n",
       "  <tbody>\n",
       "    <tr>\n",
       "      <th>992</th>\n",
       "      <td>14646</td>\n",
       "      <td>278778.02</td>\n",
       "      <td>135.20</td>\n",
       "      <td>72</td>\n",
       "      <td>196844</td>\n",
       "      <td>2733.94</td>\n",
       "      <td>9.71</td>\n",
       "      <td>1</td>\n",
       "      <td>0.20</td>\n",
       "      <td>288</td>\n",
       "      <td>0.00</td>\n",
       "    </tr>\n",
       "    <tr>\n",
       "      <th>481</th>\n",
       "      <td>18102</td>\n",
       "      <td>259657.30</td>\n",
       "      <td>602.45</td>\n",
       "      <td>60</td>\n",
       "      <td>64124</td>\n",
       "      <td>1068.73</td>\n",
       "      <td>2.50</td>\n",
       "      <td>0</td>\n",
       "      <td>0.16</td>\n",
       "      <td>0</td>\n",
       "      <td>0.00</td>\n",
       "    </tr>\n",
       "    <tr>\n",
       "      <th>423</th>\n",
       "      <td>17450</td>\n",
       "      <td>189735.53</td>\n",
       "      <td>558.05</td>\n",
       "      <td>46</td>\n",
       "      <td>69993</td>\n",
       "      <td>1521.59</td>\n",
       "      <td>2.70</td>\n",
       "      <td>8</td>\n",
       "      <td>0.13</td>\n",
       "      <td>952</td>\n",
       "      <td>0.01</td>\n",
       "    </tr>\n",
       "    <tr>\n",
       "      <th>65</th>\n",
       "      <td>14911</td>\n",
       "      <td>133007.13</td>\n",
       "      <td>22.56</td>\n",
       "      <td>199</td>\n",
       "      <td>80263</td>\n",
       "      <td>403.33</td>\n",
       "      <td>8.97</td>\n",
       "      <td>1</td>\n",
       "      <td>0.53</td>\n",
       "      <td>3332</td>\n",
       "      <td>0.04</td>\n",
       "    </tr>\n",
       "    <tr>\n",
       "      <th>1121</th>\n",
       "      <td>12415</td>\n",
       "      <td>123638.18</td>\n",
       "      <td>159.74</td>\n",
       "      <td>20</td>\n",
       "      <td>77373</td>\n",
       "      <td>3868.65</td>\n",
       "      <td>22.15</td>\n",
       "      <td>24</td>\n",
       "      <td>0.06</td>\n",
       "      <td>427</td>\n",
       "      <td>0.01</td>\n",
       "    </tr>\n",
       "  </tbody>\n",
       "</table>\n",
       "</div>"
      ],
      "text/plain": [
       "      customer_id  gross_revenue  mean_ticket  qtd_purchases  qtd_products  \\\n",
       "992         14646      278778.02       135.20             72        196844   \n",
       "481         18102      259657.30       602.45             60         64124   \n",
       "423         17450      189735.53       558.05             46         69993   \n",
       "65          14911      133007.13        22.56            199         80263   \n",
       "1121        12415      123638.18       159.74             20         77373   \n",
       "\n",
       "      avg_products  avg_unique_products  recency_days  purchase_frequency  \\\n",
       "992        2733.94                 9.71             1                0.20   \n",
       "481        1068.73                 2.50             0                0.16   \n",
       "423        1521.59                 2.70             8                0.13   \n",
       "65          403.33                 8.97             1                0.53   \n",
       "1121       3868.65                22.15            24                0.06   \n",
       "\n",
       "      qtd_cancelled_products  cancelled_over_purchased  \n",
       "992                      288                      0.00  \n",
       "481                        0                      0.00  \n",
       "423                      952                      0.01  \n",
       "65                      3332                      0.04  \n",
       "1121                     427                      0.01  "
      ]
     },
     "execution_count": 53,
     "metadata": {},
     "output_type": "execute_result"
    }
   ],
   "source": [
    "# taking a look at the maximum values\n",
    "df4.sort_values('gross_revenue', ascending=False).head()"
   ]
  },
  {
   "cell_type": "markdown",
   "id": "27664893",
   "metadata": {},
   "source": [
    "Clients with higher gross_revenue have low cancellations and low recency, which is very good for business."
   ]
  },
  {
   "cell_type": "markdown",
   "id": "c97a8108",
   "metadata": {},
   "source": [
    "#### Mean Ticket"
   ]
  },
  {
   "cell_type": "code",
   "execution_count": 54,
   "id": "e1519571",
   "metadata": {},
   "outputs": [
    {
     "data": {
      "text/html": [
       "<div>\n",
       "<style scoped>\n",
       "    .dataframe tbody tr th:only-of-type {\n",
       "        vertical-align: middle;\n",
       "    }\n",
       "\n",
       "    .dataframe tbody tr th {\n",
       "        vertical-align: top;\n",
       "    }\n",
       "\n",
       "    .dataframe thead th {\n",
       "        text-align: right;\n",
       "    }\n",
       "</style>\n",
       "<table border=\"1\" class=\"dataframe\">\n",
       "  <thead>\n",
       "    <tr style=\"text-align: right;\">\n",
       "      <th></th>\n",
       "      <th>customer_id</th>\n",
       "      <th>gross_revenue</th>\n",
       "      <th>mean_ticket</th>\n",
       "      <th>qtd_purchases</th>\n",
       "      <th>qtd_products</th>\n",
       "      <th>avg_products</th>\n",
       "      <th>avg_unique_products</th>\n",
       "      <th>recency_days</th>\n",
       "      <th>purchase_frequency</th>\n",
       "      <th>qtd_cancelled_products</th>\n",
       "      <th>cancelled_over_purchased</th>\n",
       "    </tr>\n",
       "  </thead>\n",
       "  <tbody>\n",
       "    <tr>\n",
       "      <th>3574</th>\n",
       "      <td>15098</td>\n",
       "      <td>39619.50</td>\n",
       "      <td>9904.88</td>\n",
       "      <td>3</td>\n",
       "      <td>121</td>\n",
       "      <td>40.33</td>\n",
       "      <td>0.33</td>\n",
       "      <td>182</td>\n",
       "      <td>3.00</td>\n",
       "      <td>60</td>\n",
       "      <td>0.50</td>\n",
       "    </tr>\n",
       "    <tr>\n",
       "      <th>5683</th>\n",
       "      <td>15195</td>\n",
       "      <td>3861.00</td>\n",
       "      <td>3861.00</td>\n",
       "      <td>1</td>\n",
       "      <td>1404</td>\n",
       "      <td>1404.00</td>\n",
       "      <td>1.00</td>\n",
       "      <td>2</td>\n",
       "      <td>1.00</td>\n",
       "      <td>0</td>\n",
       "      <td>0.00</td>\n",
       "    </tr>\n",
       "    <tr>\n",
       "      <th>3404</th>\n",
       "      <td>13135</td>\n",
       "      <td>3096.00</td>\n",
       "      <td>3096.00</td>\n",
       "      <td>1</td>\n",
       "      <td>4300</td>\n",
       "      <td>4300.00</td>\n",
       "      <td>1.00</td>\n",
       "      <td>196</td>\n",
       "      <td>1.00</td>\n",
       "      <td>0</td>\n",
       "      <td>0.00</td>\n",
       "    </tr>\n",
       "    <tr>\n",
       "      <th>1107</th>\n",
       "      <td>16532</td>\n",
       "      <td>6748.80</td>\n",
       "      <td>1687.20</td>\n",
       "      <td>3</td>\n",
       "      <td>2016</td>\n",
       "      <td>672.00</td>\n",
       "      <td>0.67</td>\n",
       "      <td>17</td>\n",
       "      <td>0.01</td>\n",
       "      <td>0</td>\n",
       "      <td>0.00</td>\n",
       "    </tr>\n",
       "    <tr>\n",
       "      <th>1232</th>\n",
       "      <td>15749</td>\n",
       "      <td>21535.90</td>\n",
       "      <td>1435.73</td>\n",
       "      <td>3</td>\n",
       "      <td>18028</td>\n",
       "      <td>6009.33</td>\n",
       "      <td>1.67</td>\n",
       "      <td>235</td>\n",
       "      <td>0.03</td>\n",
       "      <td>9014</td>\n",
       "      <td>0.50</td>\n",
       "    </tr>\n",
       "  </tbody>\n",
       "</table>\n",
       "</div>"
      ],
      "text/plain": [
       "      customer_id  gross_revenue  mean_ticket  qtd_purchases  qtd_products  \\\n",
       "3574        15098       39619.50      9904.88              3           121   \n",
       "5683        15195        3861.00      3861.00              1          1404   \n",
       "3404        13135        3096.00      3096.00              1          4300   \n",
       "1107        16532        6748.80      1687.20              3          2016   \n",
       "1232        15749       21535.90      1435.73              3         18028   \n",
       "\n",
       "      avg_products  avg_unique_products  recency_days  purchase_frequency  \\\n",
       "3574         40.33                 0.33           182                3.00   \n",
       "5683       1404.00                 1.00             2                1.00   \n",
       "3404       4300.00                 1.00           196                1.00   \n",
       "1107        672.00                 0.67            17                0.01   \n",
       "1232       6009.33                 1.67           235                0.03   \n",
       "\n",
       "      qtd_cancelled_products  cancelled_over_purchased  \n",
       "3574                      60                      0.50  \n",
       "5683                       0                      0.00  \n",
       "3404                       0                      0.00  \n",
       "1107                       0                      0.00  \n",
       "1232                    9014                      0.50  "
      ]
     },
     "execution_count": 54,
     "metadata": {},
     "output_type": "execute_result"
    }
   ],
   "source": [
    "# taking a look at the maximum values\n",
    "df4.sort_values('mean_ticket', ascending=False).head()"
   ]
  },
  {
   "cell_type": "markdown",
   "id": "1a36afd9",
   "metadata": {},
   "source": [
    "The customers with the highest average ticket, had 50% of their products cancelled. The fifth highest, too."
   ]
  },
  {
   "cell_type": "code",
   "execution_count": 55,
   "id": "dc5bd4b9",
   "metadata": {},
   "outputs": [
    {
     "data": {
      "text/html": [
       "<div>\n",
       "<style scoped>\n",
       "    .dataframe tbody tr th:only-of-type {\n",
       "        vertical-align: middle;\n",
       "    }\n",
       "\n",
       "    .dataframe tbody tr th {\n",
       "        vertical-align: top;\n",
       "    }\n",
       "\n",
       "    .dataframe thead th {\n",
       "        text-align: right;\n",
       "    }\n",
       "</style>\n",
       "<table border=\"1\" class=\"dataframe\">\n",
       "  <thead>\n",
       "    <tr style=\"text-align: right;\">\n",
       "      <th></th>\n",
       "      <th>invoice_no</th>\n",
       "      <th>stock_code</th>\n",
       "      <th>quantity</th>\n",
       "      <th>invoice_date</th>\n",
       "      <th>unit_price</th>\n",
       "      <th>customer_id</th>\n",
       "      <th>gross_revenue</th>\n",
       "    </tr>\n",
       "  </thead>\n",
       "  <tbody>\n",
       "    <tr>\n",
       "      <th>222670</th>\n",
       "      <td>556442</td>\n",
       "      <td>22502</td>\n",
       "      <td>60</td>\n",
       "      <td>2011-06-10</td>\n",
       "      <td>4.95</td>\n",
       "      <td>15098</td>\n",
       "      <td>297.00</td>\n",
       "    </tr>\n",
       "    <tr>\n",
       "      <th>222680</th>\n",
       "      <td>556444</td>\n",
       "      <td>22502</td>\n",
       "      <td>60</td>\n",
       "      <td>2011-06-10</td>\n",
       "      <td>649.50</td>\n",
       "      <td>15098</td>\n",
       "      <td>38970.00</td>\n",
       "    </tr>\n",
       "    <tr>\n",
       "      <th>222682</th>\n",
       "      <td>556446</td>\n",
       "      <td>22502</td>\n",
       "      <td>1</td>\n",
       "      <td>2011-06-10</td>\n",
       "      <td>649.50</td>\n",
       "      <td>15098</td>\n",
       "      <td>649.50</td>\n",
       "    </tr>\n",
       "    <tr>\n",
       "      <th>222692</th>\n",
       "      <td>C556448</td>\n",
       "      <td>22502</td>\n",
       "      <td>-60</td>\n",
       "      <td>2011-06-10</td>\n",
       "      <td>4.95</td>\n",
       "      <td>15098</td>\n",
       "      <td>-297.00</td>\n",
       "    </tr>\n",
       "  </tbody>\n",
       "</table>\n",
       "</div>"
      ],
      "text/plain": [
       "       invoice_no stock_code  quantity invoice_date  unit_price  customer_id  \\\n",
       "222670     556442      22502        60   2011-06-10        4.95        15098   \n",
       "222680     556444      22502        60   2011-06-10      649.50        15098   \n",
       "222682     556446      22502         1   2011-06-10      649.50        15098   \n",
       "222692    C556448      22502       -60   2011-06-10        4.95        15098   \n",
       "\n",
       "        gross_revenue  \n",
       "222670         297.00  \n",
       "222680       38970.00  \n",
       "222682         649.50  \n",
       "222692        -297.00  "
      ]
     },
     "execution_count": 55,
     "metadata": {},
     "output_type": "execute_result"
    }
   ],
   "source": [
    "df3[df3['customer_id']==15098]"
   ]
  },
  {
   "cell_type": "code",
   "execution_count": 56,
   "id": "bb7a8299",
   "metadata": {},
   "outputs": [
    {
     "data": {
      "text/html": [
       "<div>\n",
       "<style scoped>\n",
       "    .dataframe tbody tr th:only-of-type {\n",
       "        vertical-align: middle;\n",
       "    }\n",
       "\n",
       "    .dataframe tbody tr th {\n",
       "        vertical-align: top;\n",
       "    }\n",
       "\n",
       "    .dataframe thead th {\n",
       "        text-align: right;\n",
       "    }\n",
       "</style>\n",
       "<table border=\"1\" class=\"dataframe\">\n",
       "  <thead>\n",
       "    <tr style=\"text-align: right;\">\n",
       "      <th></th>\n",
       "      <th>invoice_no</th>\n",
       "      <th>stock_code</th>\n",
       "      <th>quantity</th>\n",
       "      <th>invoice_date</th>\n",
       "      <th>unit_price</th>\n",
       "      <th>customer_id</th>\n",
       "      <th>gross_revenue</th>\n",
       "    </tr>\n",
       "  </thead>\n",
       "  <tbody>\n",
       "    <tr>\n",
       "      <th>52709</th>\n",
       "      <td>540815</td>\n",
       "      <td>85123A</td>\n",
       "      <td>1930</td>\n",
       "      <td>2011-01-11</td>\n",
       "      <td>2.55</td>\n",
       "      <td>15749</td>\n",
       "      <td>4921.50</td>\n",
       "    </tr>\n",
       "    <tr>\n",
       "      <th>52710</th>\n",
       "      <td>540815</td>\n",
       "      <td>21175</td>\n",
       "      <td>2000</td>\n",
       "      <td>2011-01-11</td>\n",
       "      <td>1.85</td>\n",
       "      <td>15749</td>\n",
       "      <td>3700.00</td>\n",
       "    </tr>\n",
       "    <tr>\n",
       "      <th>52711</th>\n",
       "      <td>540815</td>\n",
       "      <td>21108</td>\n",
       "      <td>3114</td>\n",
       "      <td>2011-01-11</td>\n",
       "      <td>2.10</td>\n",
       "      <td>15749</td>\n",
       "      <td>6539.40</td>\n",
       "    </tr>\n",
       "    <tr>\n",
       "      <th>52771</th>\n",
       "      <td>540818</td>\n",
       "      <td>47556B</td>\n",
       "      <td>1300</td>\n",
       "      <td>2011-01-11</td>\n",
       "      <td>2.55</td>\n",
       "      <td>15749</td>\n",
       "      <td>3315.00</td>\n",
       "    </tr>\n",
       "    <tr>\n",
       "      <th>52772</th>\n",
       "      <td>540818</td>\n",
       "      <td>48185</td>\n",
       "      <td>670</td>\n",
       "      <td>2011-01-11</td>\n",
       "      <td>6.75</td>\n",
       "      <td>15749</td>\n",
       "      <td>4522.50</td>\n",
       "    </tr>\n",
       "    <tr>\n",
       "      <th>160141</th>\n",
       "      <td>C550456</td>\n",
       "      <td>48185</td>\n",
       "      <td>-670</td>\n",
       "      <td>2011-04-18</td>\n",
       "      <td>6.75</td>\n",
       "      <td>15749</td>\n",
       "      <td>-4522.50</td>\n",
       "    </tr>\n",
       "    <tr>\n",
       "      <th>160142</th>\n",
       "      <td>C550456</td>\n",
       "      <td>47566B</td>\n",
       "      <td>-1300</td>\n",
       "      <td>2011-04-18</td>\n",
       "      <td>2.55</td>\n",
       "      <td>15749</td>\n",
       "      <td>-3315.00</td>\n",
       "    </tr>\n",
       "    <tr>\n",
       "      <th>160143</th>\n",
       "      <td>C550456</td>\n",
       "      <td>85123A</td>\n",
       "      <td>-1930</td>\n",
       "      <td>2011-04-18</td>\n",
       "      <td>2.55</td>\n",
       "      <td>15749</td>\n",
       "      <td>-4921.50</td>\n",
       "    </tr>\n",
       "    <tr>\n",
       "      <th>160144</th>\n",
       "      <td>C550456</td>\n",
       "      <td>21175</td>\n",
       "      <td>-2000</td>\n",
       "      <td>2011-04-18</td>\n",
       "      <td>1.85</td>\n",
       "      <td>15749</td>\n",
       "      <td>-3700.00</td>\n",
       "    </tr>\n",
       "    <tr>\n",
       "      <th>160145</th>\n",
       "      <td>C550456</td>\n",
       "      <td>21108</td>\n",
       "      <td>-3114</td>\n",
       "      <td>2011-04-18</td>\n",
       "      <td>2.10</td>\n",
       "      <td>15749</td>\n",
       "      <td>-6539.40</td>\n",
       "    </tr>\n",
       "    <tr>\n",
       "      <th>160542</th>\n",
       "      <td>550461</td>\n",
       "      <td>85123A</td>\n",
       "      <td>1930</td>\n",
       "      <td>2011-04-18</td>\n",
       "      <td>2.40</td>\n",
       "      <td>15749</td>\n",
       "      <td>4632.00</td>\n",
       "    </tr>\n",
       "    <tr>\n",
       "      <th>160543</th>\n",
       "      <td>550461</td>\n",
       "      <td>47556B</td>\n",
       "      <td>1300</td>\n",
       "      <td>2011-04-18</td>\n",
       "      <td>2.10</td>\n",
       "      <td>15749</td>\n",
       "      <td>2730.00</td>\n",
       "    </tr>\n",
       "    <tr>\n",
       "      <th>160544</th>\n",
       "      <td>550461</td>\n",
       "      <td>48185</td>\n",
       "      <td>670</td>\n",
       "      <td>2011-04-18</td>\n",
       "      <td>6.35</td>\n",
       "      <td>15749</td>\n",
       "      <td>4254.50</td>\n",
       "    </tr>\n",
       "    <tr>\n",
       "      <th>160545</th>\n",
       "      <td>550461</td>\n",
       "      <td>21175</td>\n",
       "      <td>2000</td>\n",
       "      <td>2011-04-18</td>\n",
       "      <td>1.69</td>\n",
       "      <td>15749</td>\n",
       "      <td>3380.00</td>\n",
       "    </tr>\n",
       "    <tr>\n",
       "      <th>160546</th>\n",
       "      <td>550461</td>\n",
       "      <td>21108</td>\n",
       "      <td>3114</td>\n",
       "      <td>2011-04-18</td>\n",
       "      <td>2.10</td>\n",
       "      <td>15749</td>\n",
       "      <td>6539.40</td>\n",
       "    </tr>\n",
       "  </tbody>\n",
       "</table>\n",
       "</div>"
      ],
      "text/plain": [
       "       invoice_no stock_code  quantity invoice_date  unit_price  customer_id  \\\n",
       "52709      540815     85123A      1930   2011-01-11        2.55        15749   \n",
       "52710      540815      21175      2000   2011-01-11        1.85        15749   \n",
       "52711      540815      21108      3114   2011-01-11        2.10        15749   \n",
       "52771      540818     47556B      1300   2011-01-11        2.55        15749   \n",
       "52772      540818      48185       670   2011-01-11        6.75        15749   \n",
       "160141    C550456      48185      -670   2011-04-18        6.75        15749   \n",
       "160142    C550456     47566B     -1300   2011-04-18        2.55        15749   \n",
       "160143    C550456     85123A     -1930   2011-04-18        2.55        15749   \n",
       "160144    C550456      21175     -2000   2011-04-18        1.85        15749   \n",
       "160145    C550456      21108     -3114   2011-04-18        2.10        15749   \n",
       "160542     550461     85123A      1930   2011-04-18        2.40        15749   \n",
       "160543     550461     47556B      1300   2011-04-18        2.10        15749   \n",
       "160544     550461      48185       670   2011-04-18        6.35        15749   \n",
       "160545     550461      21175      2000   2011-04-18        1.69        15749   \n",
       "160546     550461      21108      3114   2011-04-18        2.10        15749   \n",
       "\n",
       "        gross_revenue  \n",
       "52709         4921.50  \n",
       "52710         3700.00  \n",
       "52711         6539.40  \n",
       "52771         3315.00  \n",
       "52772         4522.50  \n",
       "160141       -4522.50  \n",
       "160142       -3315.00  \n",
       "160143       -4921.50  \n",
       "160144       -3700.00  \n",
       "160145       -6539.40  \n",
       "160542        4632.00  \n",
       "160543        2730.00  \n",
       "160544        4254.50  \n",
       "160545        3380.00  \n",
       "160546        6539.40  "
      ]
     },
     "execution_count": 56,
     "metadata": {},
     "output_type": "execute_result"
    }
   ],
   "source": [
    "df3[df3['customer_id']==15749]"
   ]
  },
  {
   "cell_type": "markdown",
   "id": "334e3e23",
   "metadata": {},
   "source": [
    "#### Quantity of Products"
   ]
  },
  {
   "cell_type": "code",
   "execution_count": 57,
   "id": "a1fc823e",
   "metadata": {},
   "outputs": [
    {
     "data": {
      "text/html": [
       "<div>\n",
       "<style scoped>\n",
       "    .dataframe tbody tr th:only-of-type {\n",
       "        vertical-align: middle;\n",
       "    }\n",
       "\n",
       "    .dataframe tbody tr th {\n",
       "        vertical-align: top;\n",
       "    }\n",
       "\n",
       "    .dataframe thead th {\n",
       "        text-align: right;\n",
       "    }\n",
       "</style>\n",
       "<table border=\"1\" class=\"dataframe\">\n",
       "  <thead>\n",
       "    <tr style=\"text-align: right;\">\n",
       "      <th></th>\n",
       "      <th>customer_id</th>\n",
       "      <th>gross_revenue</th>\n",
       "      <th>mean_ticket</th>\n",
       "      <th>qtd_purchases</th>\n",
       "      <th>qtd_products</th>\n",
       "      <th>avg_products</th>\n",
       "      <th>avg_unique_products</th>\n",
       "      <th>recency_days</th>\n",
       "      <th>purchase_frequency</th>\n",
       "      <th>qtd_cancelled_products</th>\n",
       "      <th>cancelled_over_purchased</th>\n",
       "    </tr>\n",
       "  </thead>\n",
       "  <tbody>\n",
       "    <tr>\n",
       "      <th>992</th>\n",
       "      <td>14646</td>\n",
       "      <td>278778.02</td>\n",
       "      <td>135.20</td>\n",
       "      <td>72</td>\n",
       "      <td>196844</td>\n",
       "      <td>2733.94</td>\n",
       "      <td>9.71</td>\n",
       "      <td>1</td>\n",
       "      <td>0.20</td>\n",
       "      <td>288</td>\n",
       "      <td>0.00</td>\n",
       "    </tr>\n",
       "    <tr>\n",
       "      <th>3283</th>\n",
       "      <td>16446</td>\n",
       "      <td>2.90</td>\n",
       "      <td>0.72</td>\n",
       "      <td>2</td>\n",
       "      <td>80997</td>\n",
       "      <td>40498.50</td>\n",
       "      <td>1.50</td>\n",
       "      <td>0</td>\n",
       "      <td>0.01</td>\n",
       "      <td>80995</td>\n",
       "      <td>1.00</td>\n",
       "    </tr>\n",
       "    <tr>\n",
       "      <th>65</th>\n",
       "      <td>14911</td>\n",
       "      <td>133007.13</td>\n",
       "      <td>22.56</td>\n",
       "      <td>199</td>\n",
       "      <td>80263</td>\n",
       "      <td>403.33</td>\n",
       "      <td>8.97</td>\n",
       "      <td>1</td>\n",
       "      <td>0.53</td>\n",
       "      <td>3332</td>\n",
       "      <td>0.04</td>\n",
       "    </tr>\n",
       "    <tr>\n",
       "      <th>1121</th>\n",
       "      <td>12415</td>\n",
       "      <td>123638.18</td>\n",
       "      <td>159.74</td>\n",
       "      <td>20</td>\n",
       "      <td>77373</td>\n",
       "      <td>3868.65</td>\n",
       "      <td>22.15</td>\n",
       "      <td>24</td>\n",
       "      <td>0.06</td>\n",
       "      <td>427</td>\n",
       "      <td>0.01</td>\n",
       "    </tr>\n",
       "    <tr>\n",
       "      <th>1350</th>\n",
       "      <td>12346</td>\n",
       "      <td>0.00</td>\n",
       "      <td>0.00</td>\n",
       "      <td>1</td>\n",
       "      <td>74215</td>\n",
       "      <td>74215.00</td>\n",
       "      <td>1.00</td>\n",
       "      <td>325</td>\n",
       "      <td>1.00</td>\n",
       "      <td>74215</td>\n",
       "      <td>1.00</td>\n",
       "    </tr>\n",
       "  </tbody>\n",
       "</table>\n",
       "</div>"
      ],
      "text/plain": [
       "      customer_id  gross_revenue  mean_ticket  qtd_purchases  qtd_products  \\\n",
       "992         14646      278778.02       135.20             72        196844   \n",
       "3283        16446           2.90         0.72              2         80997   \n",
       "65          14911      133007.13        22.56            199         80263   \n",
       "1121        12415      123638.18       159.74             20         77373   \n",
       "1350        12346           0.00         0.00              1         74215   \n",
       "\n",
       "      avg_products  avg_unique_products  recency_days  purchase_frequency  \\\n",
       "992        2733.94                 9.71             1                0.20   \n",
       "3283      40498.50                 1.50             0                0.01   \n",
       "65          403.33                 8.97             1                0.53   \n",
       "1121       3868.65                22.15            24                0.06   \n",
       "1350      74215.00                 1.00           325                1.00   \n",
       "\n",
       "      qtd_cancelled_products  cancelled_over_purchased  \n",
       "992                      288                      0.00  \n",
       "3283                   80995                      1.00  \n",
       "65                      3332                      0.04  \n",
       "1121                     427                      0.01  \n",
       "1350                   74215                      1.00  "
      ]
     },
     "execution_count": 57,
     "metadata": {},
     "output_type": "execute_result"
    }
   ],
   "source": [
    "# taking a look at the maximum values\n",
    "df4.sort_values('qtd_products', ascending=False).head()"
   ]
  },
  {
   "cell_type": "markdown",
   "id": "ddd4d72d",
   "metadata": {},
   "source": [
    "#### Quantity of Cancelled Products"
   ]
  },
  {
   "cell_type": "code",
   "execution_count": 58,
   "id": "8e34636d",
   "metadata": {},
   "outputs": [
    {
     "data": {
      "text/html": [
       "<div>\n",
       "<style scoped>\n",
       "    .dataframe tbody tr th:only-of-type {\n",
       "        vertical-align: middle;\n",
       "    }\n",
       "\n",
       "    .dataframe tbody tr th {\n",
       "        vertical-align: top;\n",
       "    }\n",
       "\n",
       "    .dataframe thead th {\n",
       "        text-align: right;\n",
       "    }\n",
       "</style>\n",
       "<table border=\"1\" class=\"dataframe\">\n",
       "  <thead>\n",
       "    <tr style=\"text-align: right;\">\n",
       "      <th></th>\n",
       "      <th>customer_id</th>\n",
       "      <th>gross_revenue</th>\n",
       "      <th>mean_ticket</th>\n",
       "      <th>qtd_purchases</th>\n",
       "      <th>qtd_products</th>\n",
       "      <th>avg_products</th>\n",
       "      <th>avg_unique_products</th>\n",
       "      <th>recency_days</th>\n",
       "      <th>purchase_frequency</th>\n",
       "      <th>qtd_cancelled_products</th>\n",
       "      <th>cancelled_over_purchased</th>\n",
       "    </tr>\n",
       "  </thead>\n",
       "  <tbody>\n",
       "    <tr>\n",
       "      <th>3283</th>\n",
       "      <td>16446</td>\n",
       "      <td>2.90</td>\n",
       "      <td>0.72</td>\n",
       "      <td>2</td>\n",
       "      <td>80997</td>\n",
       "      <td>40498.50</td>\n",
       "      <td>1.50</td>\n",
       "      <td>0</td>\n",
       "      <td>0.01</td>\n",
       "      <td>80995</td>\n",
       "      <td>1.00</td>\n",
       "    </tr>\n",
       "    <tr>\n",
       "      <th>1350</th>\n",
       "      <td>12346</td>\n",
       "      <td>0.00</td>\n",
       "      <td>0.00</td>\n",
       "      <td>1</td>\n",
       "      <td>74215</td>\n",
       "      <td>74215.00</td>\n",
       "      <td>1.00</td>\n",
       "      <td>325</td>\n",
       "      <td>1.00</td>\n",
       "      <td>74215</td>\n",
       "      <td>1.00</td>\n",
       "    </tr>\n",
       "    <tr>\n",
       "      <th>1232</th>\n",
       "      <td>15749</td>\n",
       "      <td>21535.90</td>\n",
       "      <td>1435.73</td>\n",
       "      <td>3</td>\n",
       "      <td>18028</td>\n",
       "      <td>6009.33</td>\n",
       "      <td>1.67</td>\n",
       "      <td>235</td>\n",
       "      <td>0.03</td>\n",
       "      <td>9014</td>\n",
       "      <td>0.50</td>\n",
       "    </tr>\n",
       "    <tr>\n",
       "      <th>12</th>\n",
       "      <td>16029</td>\n",
       "      <td>58193.85</td>\n",
       "      <td>220.43</td>\n",
       "      <td>62</td>\n",
       "      <td>40207</td>\n",
       "      <td>648.50</td>\n",
       "      <td>0.69</td>\n",
       "      <td>38</td>\n",
       "      <td>0.18</td>\n",
       "      <td>8004</td>\n",
       "      <td>0.20</td>\n",
       "    </tr>\n",
       "    <tr>\n",
       "      <th>946</th>\n",
       "      <td>12931</td>\n",
       "      <td>33544.81</td>\n",
       "      <td>332.13</td>\n",
       "      <td>15</td>\n",
       "      <td>28004</td>\n",
       "      <td>1866.93</td>\n",
       "      <td>1.87</td>\n",
       "      <td>21</td>\n",
       "      <td>0.04</td>\n",
       "      <td>4427</td>\n",
       "      <td>0.16</td>\n",
       "    </tr>\n",
       "  </tbody>\n",
       "</table>\n",
       "</div>"
      ],
      "text/plain": [
       "      customer_id  gross_revenue  mean_ticket  qtd_purchases  qtd_products  \\\n",
       "3283        16446           2.90         0.72              2         80997   \n",
       "1350        12346           0.00         0.00              1         74215   \n",
       "1232        15749       21535.90      1435.73              3         18028   \n",
       "12          16029       58193.85       220.43             62         40207   \n",
       "946         12931       33544.81       332.13             15         28004   \n",
       "\n",
       "      avg_products  avg_unique_products  recency_days  purchase_frequency  \\\n",
       "3283      40498.50                 1.50             0                0.01   \n",
       "1350      74215.00                 1.00           325                1.00   \n",
       "1232       6009.33                 1.67           235                0.03   \n",
       "12          648.50                 0.69            38                0.18   \n",
       "946        1866.93                 1.87            21                0.04   \n",
       "\n",
       "      qtd_cancelled_products  cancelled_over_purchased  \n",
       "3283                   80995                      1.00  \n",
       "1350                   74215                      1.00  \n",
       "1232                    9014                      0.50  \n",
       "12                      8004                      0.20  \n",
       "946                     4427                      0.16  "
      ]
     },
     "execution_count": 58,
     "metadata": {},
     "output_type": "execute_result"
    }
   ],
   "source": [
    "# taking a look at the maximum values\n",
    "df4.sort_values('qtd_cancelled_products', ascending=False).head()"
   ]
  },
  {
   "cell_type": "code",
   "execution_count": 59,
   "id": "9894ff23",
   "metadata": {},
   "outputs": [
    {
     "data": {
      "text/html": [
       "<div>\n",
       "<style scoped>\n",
       "    .dataframe tbody tr th:only-of-type {\n",
       "        vertical-align: middle;\n",
       "    }\n",
       "\n",
       "    .dataframe tbody tr th {\n",
       "        vertical-align: top;\n",
       "    }\n",
       "\n",
       "    .dataframe thead th {\n",
       "        text-align: right;\n",
       "    }\n",
       "</style>\n",
       "<table border=\"1\" class=\"dataframe\">\n",
       "  <thead>\n",
       "    <tr style=\"text-align: right;\">\n",
       "      <th></th>\n",
       "      <th>invoice_no</th>\n",
       "      <th>stock_code</th>\n",
       "      <th>quantity</th>\n",
       "      <th>invoice_date</th>\n",
       "      <th>unit_price</th>\n",
       "      <th>customer_id</th>\n",
       "      <th>gross_revenue</th>\n",
       "    </tr>\n",
       "  </thead>\n",
       "  <tbody>\n",
       "    <tr>\n",
       "      <th>194354</th>\n",
       "      <td>553573</td>\n",
       "      <td>22980</td>\n",
       "      <td>1</td>\n",
       "      <td>2011-05-18</td>\n",
       "      <td>1.65</td>\n",
       "      <td>16446</td>\n",
       "      <td>1.65</td>\n",
       "    </tr>\n",
       "    <tr>\n",
       "      <th>194355</th>\n",
       "      <td>553573</td>\n",
       "      <td>22982</td>\n",
       "      <td>1</td>\n",
       "      <td>2011-05-18</td>\n",
       "      <td>1.25</td>\n",
       "      <td>16446</td>\n",
       "      <td>1.25</td>\n",
       "    </tr>\n",
       "    <tr>\n",
       "      <th>540421</th>\n",
       "      <td>581483</td>\n",
       "      <td>23843</td>\n",
       "      <td>80995</td>\n",
       "      <td>2011-12-09</td>\n",
       "      <td>2.08</td>\n",
       "      <td>16446</td>\n",
       "      <td>168469.60</td>\n",
       "    </tr>\n",
       "    <tr>\n",
       "      <th>540422</th>\n",
       "      <td>C581484</td>\n",
       "      <td>23843</td>\n",
       "      <td>-80995</td>\n",
       "      <td>2011-12-09</td>\n",
       "      <td>2.08</td>\n",
       "      <td>16446</td>\n",
       "      <td>-168469.60</td>\n",
       "    </tr>\n",
       "  </tbody>\n",
       "</table>\n",
       "</div>"
      ],
      "text/plain": [
       "       invoice_no stock_code  quantity invoice_date  unit_price  customer_id  \\\n",
       "194354     553573      22980         1   2011-05-18        1.65        16446   \n",
       "194355     553573      22982         1   2011-05-18        1.25        16446   \n",
       "540421     581483      23843     80995   2011-12-09        2.08        16446   \n",
       "540422    C581484      23843    -80995   2011-12-09        2.08        16446   \n",
       "\n",
       "        gross_revenue  \n",
       "194354           1.65  \n",
       "194355           1.25  \n",
       "540421      168469.60  \n",
       "540422     -168469.60  "
      ]
     },
     "execution_count": 59,
     "metadata": {},
     "output_type": "execute_result"
    }
   ],
   "source": [
    "df3[df3['customer_id']==16446]"
   ]
  },
  {
   "cell_type": "markdown",
   "id": "741f7c07",
   "metadata": {},
   "source": [
    "## 4.2 Bivariate Analysis"
   ]
  },
  {
   "cell_type": "markdown",
   "id": "42cc37d4",
   "metadata": {},
   "source": [
    "In addition to checking that the variables created make sense and that there is no fuzziness in the data, in the bivariate analysis, we try to find features that combined can help form cohesive and distant clusters."
   ]
  },
  {
   "cell_type": "code",
   "execution_count": 60,
   "id": "bd43e157",
   "metadata": {},
   "outputs": [],
   "source": [
    "#df42 = df4.drop('customer_id', axis=1)\n",
    "\n",
    "#plt.figure(figsize=(25, 12))\n",
    "#sns.pairplot(df42);"
   ]
  },
  {
   "cell_type": "markdown",
   "id": "5ad4d197",
   "metadata": {},
   "source": [
    "When using the pair plot we notice that `qtd_canceled_products` and `avg_products` have low variance combined with any other feature. "
   ]
  },
  {
   "cell_type": "markdown",
   "id": "20c79c8b",
   "metadata": {},
   "source": [
    "## 4.3 Spaces Study"
   ]
  },
  {
   "cell_type": "code",
   "execution_count": 61,
   "id": "fe0fcac8",
   "metadata": {},
   "outputs": [],
   "source": [
    "df43 = df4.drop( columns=['customer_id'], axis=1 ).copy()"
   ]
  },
  {
   "cell_type": "code",
   "execution_count": 62,
   "id": "54376efb",
   "metadata": {},
   "outputs": [],
   "source": [
    "mms = pp.MinMaxScaler()\n",
    "\n",
    "df43['gross_revenue'] = mms.fit_transform(df43[['gross_revenue']])\n",
    "df43['mean_ticket'] = mms.fit_transform(df43[['mean_ticket']])\n",
    "df43['qtd_purchases'] = mms.fit_transform(df43[['qtd_purchases']])\n",
    "df43['qtd_cancelled_products'] = mms.fit_transform(df43[['qtd_cancelled_products']])\n",
    "df43['cancelled_over_purchased'] = mms.fit_transform(df43[['cancelled_over_purchased']])\n",
    "df43['qtd_products'] = mms.fit_transform(df43[['qtd_products']])\n",
    "df43['avg_products'] = mms.fit_transform(df43[['avg_products']])\n",
    "df43['avg_unique_products'] = mms.fit_transform(df43[['avg_unique_products']])\n",
    "df43['recency_days'] = mms.fit_transform(df43[['recency_days']])\n",
    "df43['purchase_frequency'] = mms.fit_transform(df43[['purchase_frequency']])"
   ]
  },
  {
   "cell_type": "code",
   "execution_count": 63,
   "id": "3f2e17aa",
   "metadata": {},
   "outputs": [],
   "source": [
    "X = df43.copy()"
   ]
  },
  {
   "cell_type": "markdown",
   "id": "baa6e780",
   "metadata": {},
   "source": [
    "### 4.3.1 PCA"
   ]
  },
  {
   "cell_type": "code",
   "execution_count": 64,
   "id": "f2b1a8c6",
   "metadata": {},
   "outputs": [
    {
     "data": {
      "image/png": "[encoded data removed]",
      "text/plain": [
       "<Figure size 864x432 with 1 Axes>"
      ]
     },
     "metadata": {
      "needs_background": "light"
     },
     "output_type": "display_data"
    }
   ],
   "source": [
    "pca = dd.PCA(n_components=X.shape[1])\n",
    "\n",
    "principal_components = pca.fit_transform(X)\n",
    "\n",
    "# plot explained variable\n",
    "features = range(pca.n_components_)\n",
    "\n",
    "plt.figure(figsize=(12, 6))\n",
    "plt.bar(features, pca.explained_variance_ratio_, color='black');"
   ]
  },
  {
   "cell_type": "code",
   "execution_count": 65,
   "id": "ec101c15",
   "metadata": {},
   "outputs": [
    {
     "data": {
      "image/png": "[encoded data removed]",
      "text/plain": [
       "<Figure size 864x432 with 1 Axes>"
      ]
     },
     "metadata": {
      "needs_background": "light"
     },
     "output_type": "display_data"
    }
   ],
   "source": [
    "# pca component\n",
    "df_pca = pd.DataFrame(principal_components)\n",
    "\n",
    "# looking at components 0 and 1\n",
    "plt.figure(figsize=(12, 6))\n",
    "sns.scatterplot(x=0, y=1, data=df_pca);"
   ]
  },
  {
   "cell_type": "markdown",
   "id": "75bc2533",
   "metadata": {},
   "source": [
    "### 4.3.2 UMAP"
   ]
  },
  {
   "cell_type": "code",
   "execution_count": 66,
   "id": "70f14d00",
   "metadata": {},
   "outputs": [
    {
     "data": {
      "image/png": "[encoded data removed]",
      "text/plain": [
       "<Figure size 864x432 with 1 Axes>"
      ]
     },
     "metadata": {
      "needs_background": "light"
     },
     "output_type": "display_data"
    }
   ],
   "source": [
    "df_umap = pd.DataFrame()\n",
    "reducer = umap.UMAP(n_neighbors=45, random_state=42)\n",
    "embedding = reducer.fit_transform(X)\n",
    "\n",
    "# embedding\n",
    "df_umap['embedding_x'] = embedding[:, 0]\n",
    "df_umap['embedding_y'] = embedding[:, 1]\n",
    "\n",
    "# plot UMAP\n",
    "plt.figure(figsize=(12, 6))\n",
    "sns.scatterplot(x='embedding_x', y='embedding_y', data=df_umap);"
   ]
  },
  {
   "cell_type": "markdown",
   "id": "c6775d7e",
   "metadata": {},
   "source": [
    "### 4.3.3 t-SNE"
   ]
  },
  {
   "cell_type": "code",
   "execution_count": 67,
   "id": "6465e5d3",
   "metadata": {},
   "outputs": [
    {
     "data": {
      "image/png": "[encoded data removed]",
      "text/plain": [
       "<Figure size 864x432 with 1 Axes>"
      ]
     },
     "metadata": {
      "needs_background": "light"
     },
     "output_type": "display_data"
    }
   ],
   "source": [
    "df_tsne = pd.DataFrame()\n",
    "reducer = mn.TSNE(n_components=2, learning_rate='auto', n_jobs=-1, init='random', random_state=42)\n",
    "embedding = reducer.fit_transform(X)\n",
    "\n",
    "# embedding\n",
    "df_tsne['embedding_x'] = embedding[:, 0]\n",
    "df_tsne['embedding_y'] = embedding[:, 1]\n",
    "\n",
    "# plot t-SNE\n",
    "plt.figure(figsize=(12, 6))\n",
    "sns.scatterplot(x='embedding_x', y='embedding_y', data=df_tsne);"
   ]
  },
  {
   "cell_type": "markdown",
   "id": "ec486515",
   "metadata": {},
   "source": [
    "### 4.3.4 Tree-Based Embedding"
   ]
  },
  {
   "cell_type": "code",
   "execution_count": 68,
   "id": "9fb910de",
   "metadata": {},
   "outputs": [],
   "source": [
    "# training dataset\n",
    "X_rf = df4.drop(columns=['customer_id', 'gross_revenue'], axis=1)\n",
    "y_rf = df4['gross_revenue']\n",
    "\n",
    "# model definition\n",
    "rf_model = en.RandomForestRegressor(n_estimators=100, random_state=42)\n",
    "\n",
    "# model training\n",
    "rf_model.fit(X_rf, y_rf);"
   ]
  },
  {
   "cell_type": "code",
   "execution_count": 69,
   "id": "0818a104",
   "metadata": {},
   "outputs": [
    {
     "data": {
      "text/html": [
       "<div>\n",
       "<style scoped>\n",
       "    .dataframe tbody tr th:only-of-type {\n",
       "        vertical-align: middle;\n",
       "    }\n",
       "\n",
       "    .dataframe tbody tr th {\n",
       "        vertical-align: top;\n",
       "    }\n",
       "\n",
       "    .dataframe thead th {\n",
       "        text-align: right;\n",
       "    }\n",
       "</style>\n",
       "<table border=\"1\" class=\"dataframe\">\n",
       "  <thead>\n",
       "    <tr style=\"text-align: right;\">\n",
       "      <th></th>\n",
       "      <th>0</th>\n",
       "      <th>1</th>\n",
       "      <th>2</th>\n",
       "      <th>3</th>\n",
       "      <th>4</th>\n",
       "      <th>5</th>\n",
       "      <th>6</th>\n",
       "      <th>7</th>\n",
       "      <th>8</th>\n",
       "      <th>9</th>\n",
       "      <th>...</th>\n",
       "      <th>90</th>\n",
       "      <th>91</th>\n",
       "      <th>92</th>\n",
       "      <th>93</th>\n",
       "      <th>94</th>\n",
       "      <th>95</th>\n",
       "      <th>96</th>\n",
       "      <th>97</th>\n",
       "      <th>98</th>\n",
       "      <th>99</th>\n",
       "    </tr>\n",
       "  </thead>\n",
       "  <tbody>\n",
       "    <tr>\n",
       "      <th>0</th>\n",
       "      <td>6295</td>\n",
       "      <td>6479</td>\n",
       "      <td>6294</td>\n",
       "      <td>6663</td>\n",
       "      <td>6175</td>\n",
       "      <td>6339</td>\n",
       "      <td>6354</td>\n",
       "      <td>6378</td>\n",
       "      <td>6625</td>\n",
       "      <td>6496</td>\n",
       "      <td>...</td>\n",
       "      <td>6402</td>\n",
       "      <td>6130</td>\n",
       "      <td>6344</td>\n",
       "      <td>6513</td>\n",
       "      <td>6176</td>\n",
       "      <td>6160</td>\n",
       "      <td>6547</td>\n",
       "      <td>6282</td>\n",
       "      <td>6478</td>\n",
       "      <td>6288</td>\n",
       "    </tr>\n",
       "    <tr>\n",
       "      <th>1</th>\n",
       "      <td>6250</td>\n",
       "      <td>6142</td>\n",
       "      <td>6021</td>\n",
       "      <td>6076</td>\n",
       "      <td>6093</td>\n",
       "      <td>6278</td>\n",
       "      <td>6293</td>\n",
       "      <td>5858</td>\n",
       "      <td>5914</td>\n",
       "      <td>6486</td>\n",
       "      <td>...</td>\n",
       "      <td>6223</td>\n",
       "      <td>6007</td>\n",
       "      <td>6298</td>\n",
       "      <td>6417</td>\n",
       "      <td>5932</td>\n",
       "      <td>5778</td>\n",
       "      <td>5866</td>\n",
       "      <td>6269</td>\n",
       "      <td>6217</td>\n",
       "      <td>6217</td>\n",
       "    </tr>\n",
       "    <tr>\n",
       "      <th>2</th>\n",
       "      <td>6925</td>\n",
       "      <td>6947</td>\n",
       "      <td>6885</td>\n",
       "      <td>6892</td>\n",
       "      <td>6849</td>\n",
       "      <td>6910</td>\n",
       "      <td>6801</td>\n",
       "      <td>6911</td>\n",
       "      <td>6955</td>\n",
       "      <td>7017</td>\n",
       "      <td>...</td>\n",
       "      <td>6995</td>\n",
       "      <td>6883</td>\n",
       "      <td>7046</td>\n",
       "      <td>6902</td>\n",
       "      <td>6747</td>\n",
       "      <td>6815</td>\n",
       "      <td>6995</td>\n",
       "      <td>6946</td>\n",
       "      <td>6877</td>\n",
       "      <td>6984</td>\n",
       "    </tr>\n",
       "    <tr>\n",
       "      <th>3</th>\n",
       "      <td>4089</td>\n",
       "      <td>4600</td>\n",
       "      <td>4355</td>\n",
       "      <td>4419</td>\n",
       "      <td>4505</td>\n",
       "      <td>4179</td>\n",
       "      <td>4579</td>\n",
       "      <td>4216</td>\n",
       "      <td>4498</td>\n",
       "      <td>4384</td>\n",
       "      <td>...</td>\n",
       "      <td>4466</td>\n",
       "      <td>4469</td>\n",
       "      <td>4429</td>\n",
       "      <td>4466</td>\n",
       "      <td>4324</td>\n",
       "      <td>4301</td>\n",
       "      <td>4071</td>\n",
       "      <td>4607</td>\n",
       "      <td>4445</td>\n",
       "      <td>4336</td>\n",
       "    </tr>\n",
       "    <tr>\n",
       "      <th>4</th>\n",
       "      <td>1426</td>\n",
       "      <td>964</td>\n",
       "      <td>1792</td>\n",
       "      <td>1240</td>\n",
       "      <td>1345</td>\n",
       "      <td>1800</td>\n",
       "      <td>1357</td>\n",
       "      <td>1416</td>\n",
       "      <td>953</td>\n",
       "      <td>2024</td>\n",
       "      <td>...</td>\n",
       "      <td>1254</td>\n",
       "      <td>1319</td>\n",
       "      <td>1371</td>\n",
       "      <td>1341</td>\n",
       "      <td>1748</td>\n",
       "      <td>1371</td>\n",
       "      <td>1526</td>\n",
       "      <td>1313</td>\n",
       "      <td>1272</td>\n",
       "      <td>1721</td>\n",
       "    </tr>\n",
       "  </tbody>\n",
       "</table>\n",
       "<p>5 rows × 100 columns</p>\n",
       "</div>"
      ],
      "text/plain": [
       "     0     1     2     3     4     5     6     7     8     9   ...    90  \\\n",
       "0  6295  6479  6294  6663  6175  6339  6354  6378  6625  6496  ...  6402   \n",
       "1  6250  6142  6021  6076  6093  6278  6293  5858  5914  6486  ...  6223   \n",
       "2  6925  6947  6885  6892  6849  6910  6801  6911  6955  7017  ...  6995   \n",
       "3  4089  4600  4355  4419  4505  4179  4579  4216  4498  4384  ...  4466   \n",
       "4  1426   964  1792  1240  1345  1800  1357  1416   953  2024  ...  1254   \n",
       "\n",
       "     91    92    93    94    95    96    97    98    99  \n",
       "0  6130  6344  6513  6176  6160  6547  6282  6478  6288  \n",
       "1  6007  6298  6417  5932  5778  5866  6269  6217  6217  \n",
       "2  6883  7046  6902  6747  6815  6995  6946  6877  6984  \n",
       "3  4469  4429  4466  4324  4301  4071  4607  4445  4336  \n",
       "4  1319  1371  1341  1748  1371  1526  1313  1272  1721  \n",
       "\n",
       "[5 rows x 100 columns]"
      ]
     },
     "execution_count": 69,
     "metadata": {},
     "output_type": "execute_result"
    }
   ],
   "source": [
    "df_leaf = pd.DataFrame(rf_model.apply(X_rf))\n",
    "df_leaf.head()"
   ]
  },
  {
   "cell_type": "code",
   "execution_count": 70,
   "id": "14763a74",
   "metadata": {},
   "outputs": [
    {
     "data": {
      "image/png": "[encoded data removed]",
      "text/plain": [
       "<Figure size 864x432 with 1 Axes>"
      ]
     },
     "metadata": {
      "needs_background": "light"
     },
     "output_type": "display_data"
    }
   ],
   "source": [
    "# dimensionality reduction\n",
    "df_reduced_rf = pd.DataFrame()\n",
    "reducer = umap.UMAP(n_neighbors=45, random_state=42)\n",
    "embedding = reducer.fit_transform(df_leaf)\n",
    "\n",
    "# embedding\n",
    "df_reduced_rf['embedding_x'] = embedding[:, 0]\n",
    "df_reduced_rf['embedding_y'] = embedding[:, 1]\n",
    "\n",
    "# plot UMAP\n",
    "plt.figure(figsize=(12, 6))\n",
    "sns.scatterplot(x='embedding_x', y='embedding_y', data=df_reduced_rf);"
   ]
  },
  {
   "cell_type": "markdown",
   "id": "c4024d73",
   "metadata": {},
   "source": [
    "# 5 DATA PREPARATION"
   ]
  },
  {
   "cell_type": "code",
   "execution_count": 71,
   "id": "519598a0",
   "metadata": {},
   "outputs": [],
   "source": [
    "df5 = df4.copy()"
   ]
  },
  {
   "cell_type": "code",
   "execution_count": 72,
   "id": "3729f430",
   "metadata": {},
   "outputs": [],
   "source": [
    "mms = pp.MinMaxScaler()\n",
    "\n",
    "df5['gross_revenue'] = mms.fit_transform(df5[['gross_revenue']])\n",
    "df5['mean_ticket'] = mms.fit_transform(df5[['mean_ticket']])\n",
    "df5['qtd_purchases'] = mms.fit_transform(df5[['qtd_purchases']])\n",
    "df5['qtd_cancelled_products'] = mms.fit_transform(df5[['qtd_cancelled_products']])\n",
    "df5['cancelled_over_purchased'] = mms.fit_transform(df5[['cancelled_over_purchased']])\n",
    "df5['qtd_products'] = mms.fit_transform(df5[['qtd_products']])\n",
    "df5['avg_products'] = mms.fit_transform(df5[['avg_products']])\n",
    "df5['avg_unique_products'] = mms.fit_transform(df5[['avg_unique_products']])\n",
    "df5['recency_days'] = mms.fit_transform(df5[['recency_days']])\n",
    "df5['purchase_frequency'] = mms.fit_transform(df5[['purchase_frequency']])"
   ]
  },
  {
   "cell_type": "markdown",
   "id": "98b5f802",
   "metadata": {},
   "source": [
    "# 6 FEATURES SELECTION"
   ]
  },
  {
   "cell_type": "code",
   "execution_count": 73,
   "id": "0467b569",
   "metadata": {},
   "outputs": [],
   "source": [
    "df6 = df5[['gross_revenue', 'qtd_purchases', 'cancelled_over_purchased', 'qtd_products', 'recency_days', 'purchase_frequency']].copy()"
   ]
  },
  {
   "cell_type": "markdown",
   "id": "2c55f6f3",
   "metadata": {},
   "source": [
    "# 7 HYPERPARAMETER FINE TUNNING"
   ]
  },
  {
   "cell_type": "code",
   "execution_count": 74,
   "id": "7efde538",
   "metadata": {},
   "outputs": [],
   "source": [
    "X = df6.copy()"
   ]
  },
  {
   "cell_type": "code",
   "execution_count": 75,
   "id": "8f01f5b3",
   "metadata": {},
   "outputs": [],
   "source": [
    "clusters = [2, 3, 4, 5, 6, 7]"
   ]
  },
  {
   "cell_type": "markdown",
   "id": "fde48aa2",
   "metadata": {},
   "source": [
    "## 7.1 K-Means"
   ]
  },
  {
   "cell_type": "code",
   "execution_count": 76,
   "id": "b3de7d71",
   "metadata": {},
   "outputs": [],
   "source": [
    "kmeans_list = []\n",
    "\n",
    "for k in clusters:\n",
    "    # model definition\n",
    "    kmeans_model = c.KMeans(init='random', n_clusters=k, n_init=10, max_iter=300, random_state=42)\n",
    "\n",
    "    # model training\n",
    "    kmeans_model.fit(X)\n",
    "\n",
    "    # model predict\n",
    "    labels = kmeans_model.predict(X)\n",
    "\n",
    "    # performance\n",
    "    sil = m.silhouette_score(X, labels, metric='euclidean')\n",
    "    kmeans_list.append(sil)"
   ]
  },
  {
   "cell_type": "code",
   "execution_count": 77,
   "id": "3bf24456",
   "metadata": {},
   "outputs": [
    {
     "data": {
      "image/png": "[encoded data removed]",
      "text/plain": [
       "<Figure size 864x432 with 1 Axes>"
      ]
     },
     "metadata": {
      "needs_background": "light"
     },
     "output_type": "display_data"
    }
   ],
   "source": [
    "plt.figure(figsize=(12, 6))\n",
    "plt.plot(clusters, kmeans_list, linestyle='--', marker='o')\n",
    "plt.xlabel('K');\n",
    "plt.ylabel('Silhouette Score');\n",
    "plt.title('Silhouette Score x K for K-Means');"
   ]
  },
  {
   "cell_type": "markdown",
   "id": "81749004",
   "metadata": {},
   "source": [
    "## 7.2 GMM"
   ]
  },
  {
   "cell_type": "code",
   "execution_count": 78,
   "id": "78e92e08",
   "metadata": {},
   "outputs": [],
   "source": [
    "gmm_list = []\n",
    "\n",
    "for k in clusters:\n",
    "    # model\n",
    "    gmm_model = mx.GaussianMixture(n_components=k)\n",
    "    \n",
    "    # training\n",
    "    gmm_model.fit(X)\n",
    "    \n",
    "    # predict\n",
    "    labels = gmm_model.predict(X)\n",
    "    \n",
    "    # performance\n",
    "    sil = m.silhouette_score(X, labels, metric='euclidean')\n",
    "    gmm_list.append(sil)"
   ]
  },
  {
   "cell_type": "code",
   "execution_count": 79,
   "id": "e5b280bc",
   "metadata": {},
   "outputs": [
    {
     "data": {
      "image/png": "[encoded data removed]",
      "text/plain": [
       "<Figure size 864x432 with 1 Axes>"
      ]
     },
     "metadata": {
      "needs_background": "light"
     },
     "output_type": "display_data"
    }
   ],
   "source": [
    "plt.figure(figsize=(12, 6))\n",
    "plt.plot(clusters, gmm_list, linestyle='--', marker='o')\n",
    "plt.xlabel('K');\n",
    "plt.ylabel('Silhouette Score');\n",
    "plt.title('Silhouette Score x K for GMM');"
   ]
  },
  {
   "cell_type": "markdown",
   "id": "746a9f3c",
   "metadata": {},
   "source": [
    "## 7.3 Hierarchical Clustering"
   ]
  },
  {
   "cell_type": "code",
   "execution_count": 80,
   "id": "e77c6c2c",
   "metadata": {},
   "outputs": [],
   "source": [
    "# model definition and training\n",
    "hc_model = hc.linkage(X, 'ward')"
   ]
  },
  {
   "cell_type": "code",
   "execution_count": 81,
   "id": "f73a3cf4",
   "metadata": {},
   "outputs": [
    {
     "data": {
      "image/png": "[encoded data removed]",
      "text/plain": [
       "<Figure size 432x288 with 1 Axes>"
      ]
     },
     "metadata": {
      "needs_background": "light"
     },
     "output_type": "display_data"
    }
   ],
   "source": [
    "hc.dendrogram( \n",
    "    hc_model,\n",
    "    truncate_mode='lastp',\n",
    "    p=12,\n",
    "    leaf_rotation=90,\n",
    "    leaf_font_size=8,\n",
    "    show_contracted=True)\n",
    "\n",
    "plt.show();"
   ]
  },
  {
   "cell_type": "code",
   "execution_count": 82,
   "id": "3e5fb9ec",
   "metadata": {},
   "outputs": [],
   "source": [
    "hc_list = []\n",
    "\n",
    "for k in clusters:\n",
    "    # model definition and training\n",
    "    hc_model = hc.linkage(X, 'ward')\n",
    "    \n",
    "    # prediction\n",
    "    labels = hc.fcluster(hc_model, k, criterion='maxclust')\n",
    "    \n",
    "    # performance\n",
    "    sil = m.silhouette_score(X, labels, metric='euclidean')\n",
    "    hc_list.append(sil)"
   ]
  },
  {
   "cell_type": "code",
   "execution_count": 83,
   "id": "5e2134e1",
   "metadata": {},
   "outputs": [
    {
     "data": {
      "image/png": "[encoded data removed]",
      "text/plain": [
       "<Figure size 864x432 with 1 Axes>"
      ]
     },
     "metadata": {
      "needs_background": "light"
     },
     "output_type": "display_data"
    }
   ],
   "source": [
    "plt.figure(figsize=(12, 6))\n",
    "plt.plot(clusters, hc_list, linestyle='--', marker='o')\n",
    "plt.xlabel('K');\n",
    "plt.ylabel('Silhouette Score');\n",
    "plt.title('Silhouette Score x K for Hierarchical Clustering');"
   ]
  },
  {
   "cell_type": "markdown",
   "id": "da0c03e5",
   "metadata": {},
   "source": [
    "## 7.4 Results"
   ]
  },
  {
   "cell_type": "code",
   "execution_count": 84,
   "id": "1d634e59",
   "metadata": {},
   "outputs": [],
   "source": [
    "df_results = pd.DataFrame({'KMeans': kmeans_list, \n",
    "                           'GMM': gmm_list,\n",
    "                           'HC': hc_list}).T\n",
    "\n",
    "df_results.columns = clusters"
   ]
  },
  {
   "cell_type": "code",
   "execution_count": 85,
   "id": "c088388b",
   "metadata": {},
   "outputs": [
    {
     "data": {
      "text/html": [
       "<style type=\"text/css\">\n",
       "#T_3c50b_row0_col0, #T_3c50b_row1_col1, #T_3c50b_row2_col0 {\n",
       "  background-color: lightgreen;\n",
       "}\n",
       "</style>\n",
       "<table id=\"T_3c50b\">\n",
       "  <thead>\n",
       "    <tr>\n",
       "      <th class=\"blank level0\" >&nbsp;</th>\n",
       "      <th id=\"T_3c50b_level0_col0\" class=\"col_heading level0 col0\" >2</th>\n",
       "      <th id=\"T_3c50b_level0_col1\" class=\"col_heading level0 col1\" >3</th>\n",
       "      <th id=\"T_3c50b_level0_col2\" class=\"col_heading level0 col2\" >4</th>\n",
       "      <th id=\"T_3c50b_level0_col3\" class=\"col_heading level0 col3\" >5</th>\n",
       "      <th id=\"T_3c50b_level0_col4\" class=\"col_heading level0 col4\" >6</th>\n",
       "      <th id=\"T_3c50b_level0_col5\" class=\"col_heading level0 col5\" >7</th>\n",
       "    </tr>\n",
       "  </thead>\n",
       "  <tbody>\n",
       "    <tr>\n",
       "      <th id=\"T_3c50b_level0_row0\" class=\"row_heading level0 row0\" >KMeans</th>\n",
       "      <td id=\"T_3c50b_row0_col0\" class=\"data row0 col0\" >0.666222</td>\n",
       "      <td id=\"T_3c50b_row0_col1\" class=\"data row0 col1\" >0.596129</td>\n",
       "      <td id=\"T_3c50b_row0_col2\" class=\"data row0 col2\" >0.488825</td>\n",
       "      <td id=\"T_3c50b_row0_col3\" class=\"data row0 col3\" >0.499190</td>\n",
       "      <td id=\"T_3c50b_row0_col4\" class=\"data row0 col4\" >0.484458</td>\n",
       "      <td id=\"T_3c50b_row0_col5\" class=\"data row0 col5\" >0.493914</td>\n",
       "    </tr>\n",
       "    <tr>\n",
       "      <th id=\"T_3c50b_level0_row1\" class=\"row_heading level0 row1\" >GMM</th>\n",
       "      <td id=\"T_3c50b_row1_col0\" class=\"data row1 col0\" >0.039346</td>\n",
       "      <td id=\"T_3c50b_row1_col1\" class=\"data row1 col1\" >0.083092</td>\n",
       "      <td id=\"T_3c50b_row1_col2\" class=\"data row1 col2\" >0.047643</td>\n",
       "      <td id=\"T_3c50b_row1_col3\" class=\"data row1 col3\" >-0.027428</td>\n",
       "      <td id=\"T_3c50b_row1_col4\" class=\"data row1 col4\" >-0.109170</td>\n",
       "      <td id=\"T_3c50b_row1_col5\" class=\"data row1 col5\" >-0.122508</td>\n",
       "    </tr>\n",
       "    <tr>\n",
       "      <th id=\"T_3c50b_level0_row2\" class=\"row_heading level0 row2\" >HC</th>\n",
       "      <td id=\"T_3c50b_row2_col0\" class=\"data row2 col0\" >0.661762</td>\n",
       "      <td id=\"T_3c50b_row2_col1\" class=\"data row2 col1\" >0.604516</td>\n",
       "      <td id=\"T_3c50b_row2_col2\" class=\"data row2 col2\" >0.450580</td>\n",
       "      <td id=\"T_3c50b_row2_col3\" class=\"data row2 col3\" >0.445372</td>\n",
       "      <td id=\"T_3c50b_row2_col4\" class=\"data row2 col4\" >0.453491</td>\n",
       "      <td id=\"T_3c50b_row2_col5\" class=\"data row2 col5\" >0.407446</td>\n",
       "    </tr>\n",
       "  </tbody>\n",
       "</table>\n"
      ],
      "text/plain": [
       "<pandas.io.formats.style.Styler at 0x16f62459d90>"
      ]
     },
     "execution_count": 85,
     "metadata": {},
     "output_type": "execute_result"
    }
   ],
   "source": [
    "df_results.style.highlight_max(color='lightgreen', axis=1)"
   ]
  },
  {
   "cell_type": "markdown",
   "id": "9a0288e0",
   "metadata": {},
   "source": [
    "## 7.5 Silhouette Analysis"
   ]
  },
  {
   "cell_type": "markdown",
   "id": "75cd1321",
   "metadata": {},
   "source": [
    "### 7.5.1 K-Means"
   ]
  },
  {
   "cell_type": "code",
   "execution_count": 86,
   "id": "23665b2a",
   "metadata": {},
   "outputs": [
    {
     "name": "stdout",
     "output_type": "stream",
     "text": [
      "For K=2 -> Silhouette Score: 0.6662221987966016\n",
      "For K=3 -> Silhouette Score: 0.5961288512909443\n",
      "For K=4 -> Silhouette Score: 0.48882461580987385\n",
      "For K=5 -> Silhouette Score: 0.499190228057071\n",
      "For K=6 -> Silhouette Score: 0.4844578591894451\n",
      "For K=7 -> Silhouette Score: 0.49391437375143027\n"
     ]
    },
    {
     "data": {
      "image/png": "[encoded data removed]",
      "text/plain": [
       "<Figure size 1800x1440 with 6 Axes>"
      ]
     },
     "metadata": {
      "needs_background": "light"
     },
     "output_type": "display_data"
    }
   ],
   "source": [
    "fig, ax = plt.subplots(3, 2)\n",
    "fig.set_size_inches(25, 20)\n",
    "\n",
    "for k in clusters:\n",
    "    q, mod = divmod(k, 2)\n",
    "    \n",
    "    ax[q-1, mod].set_xlim([-0.1, 1])\n",
    "    ax[q-1, mod].set_ylim([0, len(X) + (k+1)*10])\n",
    "           \n",
    "    # model definition\n",
    "    kmeans = c.KMeans(init='random', n_clusters=k, n_init=10, max_iter=300, random_state=42)\n",
    "           \n",
    "    # model training\n",
    "    kmeans.fit(X)\n",
    "\n",
    "    # model predict\n",
    "    labels = kmeans.predict(X)\n",
    "\n",
    "    # performance\n",
    "    ss = m.silhouette_score(X, labels, metric='euclidean')\n",
    "    print('For K={} -> Silhouette Score: {}'.format(k, ss))\n",
    "           \n",
    "    samples_silhouette_values = m.silhouette_samples(X, labels)\n",
    "    \n",
    "    y_lower = 10\n",
    "    \n",
    "    for i in range(k):\n",
    "            # select clusters\n",
    "            ith_samples_silhouette_values = samples_silhouette_values[labels==i]\n",
    "           \n",
    "            # sort values\n",
    "            ith_samples_silhouette_values.sort()\n",
    "           \n",
    "            # size clusters\n",
    "            size_cluster_i = ith_samples_silhouette_values.shape[0]\n",
    "            y_upper = y_lower + size_cluster_i\n",
    "           \n",
    "            cmap = cm.get_cmap('Spectral')\n",
    "            color = cmap(i/k)\n",
    "           \n",
    "            ax[q-1, mod].fill_betweenx(np.arange(y_lower, y_upper), 0, ith_samples_silhouette_values)\n",
    "           \n",
    "            y_lower = y_upper + 10\n",
    "    ax[q-1, mod].set_yticks([])\n",
    "    ax[q-1, mod].set_xticks([-0.1, 0, 0.2, 0.4, 0.6, 0.8, 1])"
   ]
  },
  {
   "cell_type": "markdown",
   "id": "9de52219",
   "metadata": {},
   "source": [
    "### 7.5.2 Hierarchical Clustering"
   ]
  },
  {
   "cell_type": "code",
   "execution_count": 87,
   "id": "5d36f81b",
   "metadata": {},
   "outputs": [
    {
     "name": "stdout",
     "output_type": "stream",
     "text": [
      "For K=2 -> Silhouette Score: 0.6617619399781118\n",
      "For K=3 -> Silhouette Score: 0.6045157389085062\n",
      "For K=4 -> Silhouette Score: 0.45057969817312526\n",
      "For K=5 -> Silhouette Score: 0.4453722247108722\n",
      "For K=6 -> Silhouette Score: 0.4534911463415224\n",
      "For K=7 -> Silhouette Score: 0.4074456269053786\n"
     ]
    },
    {
     "data": {
      "image/png": "[encoded data removed]",
      "text/plain": [
       "<Figure size 1800x1440 with 6 Axes>"
      ]
     },
     "metadata": {
      "needs_background": "light"
     },
     "output_type": "display_data"
    }
   ],
   "source": [
    "fig, ax = plt.subplots(3, 2)\n",
    "fig.set_size_inches(25, 20)\n",
    "\n",
    "for k in clusters:\n",
    "    q, mod = divmod(k, 2)\n",
    "    \n",
    "    ax[q-1, mod].set_xlim([-0.1, 1])\n",
    "    ax[q-1, mod].set_ylim([0, len(X) + (k+1)*10])\n",
    "           \n",
    "    # model definition & training\n",
    "    hc_model = hc.linkage(X, 'ward')\n",
    "\n",
    "    # model predict\n",
    "    labels = hc.fcluster(hc_model, k, criterion='maxclust')\n",
    "\n",
    "    # performance\n",
    "    ss = m.silhouette_score(X, labels, metric='euclidean')\n",
    "    print('For K={} -> Silhouette Score: {}'.format(k, ss))\n",
    "           \n",
    "    samples_silhouette_values = m.silhouette_samples(X, labels)\n",
    "    \n",
    "    y_lower = 10\n",
    "    \n",
    "    for i in range(k):\n",
    "            # select clusters\n",
    "            ith_samples_silhouette_values = samples_silhouette_values[labels==i]\n",
    "           \n",
    "            # sort values\n",
    "            ith_samples_silhouette_values.sort()\n",
    "           \n",
    "            # size clusters\n",
    "            size_cluster_i = ith_samples_silhouette_values.shape[0]\n",
    "            y_upper = y_lower + size_cluster_i\n",
    "           \n",
    "            cmap = cm.get_cmap('Spectral')\n",
    "            color = cmap(i/k)\n",
    "           \n",
    "            ax[q-1, mod].fill_betweenx(np.arange(y_lower, y_upper), 0, ith_samples_silhouette_values)\n",
    "           \n",
    "            y_lower = y_upper + 10\n",
    "    ax[q-1, mod].set_yticks([])\n",
    "    ax[q-1, mod].set_xticks([-0.1, 0, 0.2, 0.4, 0.6, 0.8, 1])"
   ]
  },
  {
   "cell_type": "markdown",
   "id": "b87ce49b",
   "metadata": {},
   "source": [
    "# 8.0 MODEL TRAINING"
   ]
  },
  {
   "cell_type": "markdown",
   "id": "add7f0e9",
   "metadata": {},
   "source": [
    "## 8.1 K-Means"
   ]
  },
  {
   "cell_type": "code",
   "execution_count": 94,
   "id": "001250aa",
   "metadata": {},
   "outputs": [],
   "source": [
    "# model definition\n",
    "\n",
    "k = 4          \n",
    "kmeans = c.KMeans(init='random', n_clusters=k, n_init=10, max_iter=300, random_state=42)\n",
    "\n",
    "# model training\n",
    "kmeans.fit(X)\n",
    "\n",
    "# clustering\n",
    "labels = kmeans.labels_"
   ]
  },
  {
   "cell_type": "markdown",
   "id": "2fa2062d",
   "metadata": {},
   "source": [
    "## 8.2 Cluster Validation"
   ]
  },
  {
   "cell_type": "code",
   "execution_count": 95,
   "id": "0845596e",
   "metadata": {},
   "outputs": [
    {
     "name": "stdout",
     "output_type": "stream",
     "text": [
      "WSS: 70.52\n",
      "SS : 0.49\n"
     ]
    }
   ],
   "source": [
    "## WSS \n",
    "print(f'WSS: {kmeans.inertia_:.2f}')\n",
    "\n",
    "## SS\n",
    "print(f'SS : {m.silhouette_score(X, labels, metric=\"euclidean\"):.2f}')"
   ]
  },
  {
   "cell_type": "markdown",
   "id": "100501d0",
   "metadata": {},
   "source": [
    "# 9 CLUSTER ANALYSIS"
   ]
  },
  {
   "cell_type": "code",
   "execution_count": 96,
   "id": "9cb15c7a",
   "metadata": {},
   "outputs": [
    {
     "data": {
      "text/html": [
       "<div>\n",
       "<style scoped>\n",
       "    .dataframe tbody tr th:only-of-type {\n",
       "        vertical-align: middle;\n",
       "    }\n",
       "\n",
       "    .dataframe tbody tr th {\n",
       "        vertical-align: top;\n",
       "    }\n",
       "\n",
       "    .dataframe thead th {\n",
       "        text-align: right;\n",
       "    }\n",
       "</style>\n",
       "<table border=\"1\" class=\"dataframe\">\n",
       "  <thead>\n",
       "    <tr style=\"text-align: right;\">\n",
       "      <th></th>\n",
       "      <th>customer_id</th>\n",
       "      <th>gross_revenue</th>\n",
       "      <th>mean_ticket</th>\n",
       "      <th>qtd_purchases</th>\n",
       "      <th>qtd_products</th>\n",
       "      <th>avg_products</th>\n",
       "      <th>avg_unique_products</th>\n",
       "      <th>recency_days</th>\n",
       "      <th>purchase_frequency</th>\n",
       "      <th>qtd_cancelled_products</th>\n",
       "      <th>cancelled_over_purchased</th>\n",
       "      <th>cluster</th>\n",
       "    </tr>\n",
       "  </thead>\n",
       "  <tbody>\n",
       "    <tr>\n",
       "      <th>0</th>\n",
       "      <td>17850</td>\n",
       "      <td>5288.63</td>\n",
       "      <td>16.95</td>\n",
       "      <td>34</td>\n",
       "      <td>1733</td>\n",
       "      <td>50.97</td>\n",
       "      <td>0.62</td>\n",
       "      <td>372</td>\n",
       "      <td>17.00</td>\n",
       "      <td>40</td>\n",
       "      <td>0.02</td>\n",
       "      <td>2</td>\n",
       "    </tr>\n",
       "    <tr>\n",
       "      <th>1</th>\n",
       "      <td>13047</td>\n",
       "      <td>3089.10</td>\n",
       "      <td>15.92</td>\n",
       "      <td>9</td>\n",
       "      <td>1390</td>\n",
       "      <td>154.44</td>\n",
       "      <td>11.67</td>\n",
       "      <td>56</td>\n",
       "      <td>0.03</td>\n",
       "      <td>35</td>\n",
       "      <td>0.03</td>\n",
       "      <td>3</td>\n",
       "    </tr>\n",
       "    <tr>\n",
       "      <th>2</th>\n",
       "      <td>12583</td>\n",
       "      <td>6629.34</td>\n",
       "      <td>28.21</td>\n",
       "      <td>15</td>\n",
       "      <td>5028</td>\n",
       "      <td>335.20</td>\n",
       "      <td>7.60</td>\n",
       "      <td>2</td>\n",
       "      <td>0.04</td>\n",
       "      <td>50</td>\n",
       "      <td>0.01</td>\n",
       "      <td>1</td>\n",
       "    </tr>\n",
       "    <tr>\n",
       "      <th>3</th>\n",
       "      <td>13748</td>\n",
       "      <td>948.25</td>\n",
       "      <td>33.87</td>\n",
       "      <td>5</td>\n",
       "      <td>439</td>\n",
       "      <td>87.80</td>\n",
       "      <td>4.80</td>\n",
       "      <td>95</td>\n",
       "      <td>0.02</td>\n",
       "      <td>0</td>\n",
       "      <td>0.00</td>\n",
       "      <td>3</td>\n",
       "    </tr>\n",
       "    <tr>\n",
       "      <th>4</th>\n",
       "      <td>15100</td>\n",
       "      <td>635.10</td>\n",
       "      <td>105.85</td>\n",
       "      <td>3</td>\n",
       "      <td>80</td>\n",
       "      <td>26.67</td>\n",
       "      <td>0.33</td>\n",
       "      <td>333</td>\n",
       "      <td>0.07</td>\n",
       "      <td>22</td>\n",
       "      <td>0.28</td>\n",
       "      <td>2</td>\n",
       "    </tr>\n",
       "  </tbody>\n",
       "</table>\n",
       "</div>"
      ],
      "text/plain": [
       "   customer_id  gross_revenue  mean_ticket  qtd_purchases  qtd_products  \\\n",
       "0        17850        5288.63        16.95             34          1733   \n",
       "1        13047        3089.10        15.92              9          1390   \n",
       "2        12583        6629.34        28.21             15          5028   \n",
       "3        13748         948.25        33.87              5           439   \n",
       "4        15100         635.10       105.85              3            80   \n",
       "\n",
       "   avg_products  avg_unique_products  recency_days  purchase_frequency  \\\n",
       "0         50.97                 0.62           372               17.00   \n",
       "1        154.44                11.67            56                0.03   \n",
       "2        335.20                 7.60             2                0.04   \n",
       "3         87.80                 4.80            95                0.02   \n",
       "4         26.67                 0.33           333                0.07   \n",
       "\n",
       "   qtd_cancelled_products  cancelled_over_purchased  cluster  \n",
       "0                      40                      0.02        2  \n",
       "1                      35                      0.03        3  \n",
       "2                      50                      0.01        1  \n",
       "3                       0                      0.00        3  \n",
       "4                      22                      0.28        2  "
      ]
     },
     "execution_count": 96,
     "metadata": {},
     "output_type": "execute_result"
    }
   ],
   "source": [
    "df9 = df_ref.copy()\n",
    "df9['cluster'] = labels\n",
    "df9.head()"
   ]
  },
  {
   "cell_type": "markdown",
   "id": "3f79ab30",
   "metadata": {},
   "source": [
    "## 9.2 UMAP"
   ]
  },
  {
   "cell_type": "code",
   "execution_count": 97,
   "id": "3c26c9de",
   "metadata": {},
   "outputs": [
    {
     "data": {
      "image/png": "[encoded data removed]",
      "text/plain": [
       "<Figure size 864x432 with 1 Axes>"
      ]
     },
     "metadata": {
      "needs_background": "light"
     },
     "output_type": "display_data"
    }
   ],
   "source": [
    "df_viz = df9.drop(columns='customer_id', axis=1)\n",
    "reducer = umap.UMAP(n_neighbors=45, random_state=42)\n",
    "embedding = reducer.fit_transform(X)\n",
    "\n",
    "# embedding\n",
    "df_viz['embedding_x'] = embedding[:,0]\n",
    "df_viz['embedding_y'] = embedding[:,1]\n",
    "\n",
    "# plot UMAP\n",
    "plt.figure(figsize=(12, 6))\n",
    "sns.scatterplot(x='embedding_x', \n",
    "                y='embedding_y', \n",
    "                hue='cluster',\n",
    "                palette=sns.color_palette('hls', n_colors=len(df_viz['cluster'].unique())),\n",
    "                data=df_viz);"
   ]
  },
  {
   "cell_type": "markdown",
   "id": "57bec7c8",
   "metadata": {},
   "source": [
    "## 9.3 Cluster Profile"
   ]
  },
  {
   "cell_type": "code",
   "execution_count": 98,
   "id": "15f9c6ee",
   "metadata": {},
   "outputs": [],
   "source": [
    "# number of customers\n",
    "df_cluster = df9[['customer_id', 'cluster']].groupby('cluster').count().reset_index().rename(columns={'customer_id': 'qtd_customers'})\n",
    "df_cluster['perc_customer'] = df_cluster['qtd_customers'] / (df_cluster['qtd_customers'].sum()) * 100\n",
    "\n",
    "# gross revenue\n",
    "df_gross_revenue = df9[['gross_revenue', 'cluster']].groupby('cluster').mean().reset_index()\n",
    "df_cluster = pd.merge(df_cluster, df_gross_revenue, how='inner', on='cluster' )\n",
    "\n",
    "# mean ticket\n",
    "df_ticket = df9[['mean_ticket', 'cluster']].groupby('cluster').mean().reset_index()\n",
    "df_cluster = pd.merge(df_cluster, df_ticket, how='inner', on='cluster')\n",
    "\n",
    "# qtd purchases\n",
    "df_purchases = (df9[['qtd_purchases', 'cluster']].groupby('cluster').mean()\n",
    "                                                                    .reset_index().rename(columns={'qtd_purchases':'purchases'}))\n",
    "\n",
    "df_cluster = pd.merge(df_cluster, df_purchases, how='inner', on='cluster')\n",
    "\n",
    "# qtd products\n",
    "df_products = (df9[['qtd_products', 'cluster']].groupby('cluster').mean()\n",
    "                                                                  .reset_index()\n",
    "                                                                  .rename(columns={'qtd_products':'products'}))\n",
    "\n",
    "df_cluster = pd.merge(df_cluster, df_products, how='inner', on='cluster')\n",
    "\n",
    "# qtd unique products\n",
    "df_unique_products = (df9[['avg_unique_products', 'cluster']].groupby('cluster').mean()\n",
    "                                                                                .reset_index()\n",
    "                                                                                .rename(columns={'avg_unique_products':'unique_products'}))\n",
    "\n",
    "df_cluster = pd.merge(df_cluster, df_unique_products, how='inner', on='cluster')\n",
    "\n",
    "# recency days\n",
    "df_recency_days = df9[['recency_days', 'cluster']].groupby('cluster').mean().reset_index()\n",
    "df_cluster = pd.merge(df_cluster, df_recency_days, how='inner', on='cluster')\n",
    "\n",
    "# purchased frequency\n",
    "df_purchased_frequency = df9[['purchase_frequency', 'cluster']].groupby('cluster').mean().reset_index()\n",
    "df_cluster = pd.merge(df_cluster, df_purchased_frequency, how='inner', on='cluster')\n",
    "\n",
    "# qtd cancelled products\n",
    "df_cancelled_products = (df9[['qtd_cancelled_products', 'cluster']].groupby('cluster').mean()\n",
    "                                                                                      .reset_index()\n",
    "                                                                                      .rename(columns={'qtd_cancelled_products':'cancelled_products'}))                            \n",
    "\n",
    "df_cluster = pd.merge(df_cluster, df_cancelled_products, how='inner', on='cluster')\n",
    "\n",
    "# cancelled products over purchased products\n",
    "df_cluster['cancelled_over_purchased'] = (df_cluster[['products', 'cancelled_products']]\n",
    "                                          .apply(lambda x: x['cancelled_products'] / x['products'], axis=1))"
   ]
  },
  {
   "cell_type": "code",
   "execution_count": 99,
   "id": "0c710eaa",
   "metadata": {},
   "outputs": [
    {
     "data": {
      "text/html": [
       "<div>\n",
       "<style scoped>\n",
       "    .dataframe tbody tr th:only-of-type {\n",
       "        vertical-align: middle;\n",
       "    }\n",
       "\n",
       "    .dataframe tbody tr th {\n",
       "        vertical-align: top;\n",
       "    }\n",
       "\n",
       "    .dataframe thead th {\n",
       "        text-align: right;\n",
       "    }\n",
       "</style>\n",
       "<table border=\"1\" class=\"dataframe\">\n",
       "  <thead>\n",
       "    <tr style=\"text-align: right;\">\n",
       "      <th></th>\n",
       "      <th>cluster</th>\n",
       "      <th>qtd_customers</th>\n",
       "      <th>perc_customer</th>\n",
       "      <th>gross_revenue</th>\n",
       "      <th>mean_ticket</th>\n",
       "      <th>purchases</th>\n",
       "      <th>products</th>\n",
       "      <th>unique_products</th>\n",
       "      <th>recency_days</th>\n",
       "      <th>purchase_frequency</th>\n",
       "      <th>cancelled_products</th>\n",
       "      <th>cancelled_over_purchased</th>\n",
       "    </tr>\n",
       "  </thead>\n",
       "  <tbody>\n",
       "    <tr>\n",
       "      <th>0</th>\n",
       "      <td>0</td>\n",
       "      <td>1078</td>\n",
       "      <td>18.90</td>\n",
       "      <td>664.10</td>\n",
       "      <td>33.90</td>\n",
       "      <td>1.49</td>\n",
       "      <td>296.25</td>\n",
       "      <td>40.75</td>\n",
       "      <td>190.93</td>\n",
       "      <td>0.77</td>\n",
       "      <td>11.91</td>\n",
       "      <td>0.04</td>\n",
       "    </tr>\n",
       "    <tr>\n",
       "      <th>1</th>\n",
       "      <td>1</td>\n",
       "      <td>2364</td>\n",
       "      <td>41.45</td>\n",
       "      <td>3022.91</td>\n",
       "      <td>28.73</td>\n",
       "      <td>5.97</td>\n",
       "      <td>1785.25</td>\n",
       "      <td>30.22</td>\n",
       "      <td>19.69</td>\n",
       "      <td>0.27</td>\n",
       "      <td>67.07</td>\n",
       "      <td>0.04</td>\n",
       "    </tr>\n",
       "    <tr>\n",
       "      <th>2</th>\n",
       "      <td>2</td>\n",
       "      <td>987</td>\n",
       "      <td>17.31</td>\n",
       "      <td>698.82</td>\n",
       "      <td>22.85</td>\n",
       "      <td>1.17</td>\n",
       "      <td>320.52</td>\n",
       "      <td>53.51</td>\n",
       "      <td>311.59</td>\n",
       "      <td>0.96</td>\n",
       "      <td>77.94</td>\n",
       "      <td>0.24</td>\n",
       "    </tr>\n",
       "    <tr>\n",
       "      <th>3</th>\n",
       "      <td>3</td>\n",
       "      <td>1274</td>\n",
       "      <td>22.34</td>\n",
       "      <td>986.84</td>\n",
       "      <td>26.64</td>\n",
       "      <td>2.28</td>\n",
       "      <td>565.58</td>\n",
       "      <td>34.78</td>\n",
       "      <td>83.41</td>\n",
       "      <td>0.55</td>\n",
       "      <td>7.40</td>\n",
       "      <td>0.01</td>\n",
       "    </tr>\n",
       "  </tbody>\n",
       "</table>\n",
       "</div>"
      ],
      "text/plain": [
       "   cluster  qtd_customers  perc_customer  gross_revenue  mean_ticket  \\\n",
       "0        0           1078          18.90         664.10        33.90   \n",
       "1        1           2364          41.45        3022.91        28.73   \n",
       "2        2            987          17.31         698.82        22.85   \n",
       "3        3           1274          22.34         986.84        26.64   \n",
       "\n",
       "   purchases  products  unique_products  recency_days  purchase_frequency  \\\n",
       "0       1.49    296.25            40.75        190.93                0.77   \n",
       "1       5.97   1785.25            30.22         19.69                0.27   \n",
       "2       1.17    320.52            53.51        311.59                0.96   \n",
       "3       2.28    565.58            34.78         83.41                0.55   \n",
       "\n",
       "   cancelled_products  cancelled_over_purchased  \n",
       "0               11.91                      0.04  \n",
       "1               67.07                      0.04  \n",
       "2               77.94                      0.24  \n",
       "3                7.40                      0.01  "
      ]
     },
     "execution_count": 99,
     "metadata": {},
     "output_type": "execute_result"
    }
   ],
   "source": [
    "df_cluster "
   ]
  }
 ],
 "metadata": {
  "kernelspec": {
   "display_name": "Python 3 (ipykernel)",
   "language": "python",
   "name": "python3"
  },
  "language_info": {
   "codemirror_mode": {
    "name": "ipython",
    "version": 3
   },
   "file_extension": ".py",
   "mimetype": "text/x-python",
   "name": "python",
   "nbconvert_exporter": "python",
   "pygments_lexer": "ipython3",
   "version": "3.9.12"
  }
 },
 "nbformat": 4,
 "nbformat_minor": 5
}
