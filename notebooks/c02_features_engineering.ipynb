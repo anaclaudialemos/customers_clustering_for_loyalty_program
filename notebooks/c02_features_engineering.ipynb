{
 "cells": [
  {
   "cell_type": "markdown",
   "id": "25464eb3",
   "metadata": {},
   "source": [
    "# 0.0 IMPORTS"
   ]
  },
  {
   "cell_type": "code",
   "execution_count": 1,
   "id": "abc1b00b",
   "metadata": {},
   "outputs": [],
   "source": [
    "import re\n",
    "import numpy                 as np\n",
    "import pandas                as pd\n",
    "\n",
    "import seaborn               as sns\n",
    "import matplotlib.patches    as mpatches\n",
    "import scikitplot            as skplt\n",
    "import plotly.express        as px\n",
    "import umap.umap_            as umap\n",
    "\n",
    "from sklearn import cluster  as c\n",
    "from sklearn import metrics  as m\n",
    "\n",
    "from matplotlib              import pyplot as plt\n",
    "from IPython.core.display    import HTML\n",
    "from IPython.display         import Image\n",
    "\n",
    "from sklearn                 import preprocessing as pp\n",
    "from yellowbrick.cluster     import KElbowVisualizer, SilhouetteVisualizer"
   ]
  },
  {
   "cell_type": "markdown",
   "id": "fc8afad7",
   "metadata": {},
   "source": [
    "## 0.1 Helper Functions"
   ]
  },
  {
   "cell_type": "code",
   "execution_count": 2,
   "id": "315361e8",
   "metadata": {},
   "outputs": [],
   "source": [
    "def personal_settings():   \n",
    "    display(HTML('<style>.container{width:80% !important;}</style>'))\n",
    "    np.set_printoptions(suppress=True)\n",
    "    pd.options.display.float_format = '{:.2f}'.format\n",
    "    pd.options.mode.chained_assignment = None\n",
    "    \n",
    "    plt.style.use( 'bmh' )\n",
    "    plt.rcParams['figure.figsize'] = [20,10]\n",
    "    plt.rcParams['font.size'] = 24\n",
    "    \n",
    "    sns.set()"
   ]
  },
  {
   "cell_type": "code",
   "execution_count": 3,
   "id": "21002aaf",
   "metadata": {},
   "outputs": [
    {
     "data": {
      "text/html": [
       "<style>.container{width:80% !important;}</style>"
      ],
      "text/plain": [
       "<IPython.core.display.HTML object>"
      ]
     },
     "metadata": {},
     "output_type": "display_data"
    }
   ],
   "source": [
    "personal_settings()"
   ]
  },
  {
   "cell_type": "markdown",
   "id": "660ba11f",
   "metadata": {},
   "source": [
    "## 0.2 Load Data"
   ]
  },
  {
   "cell_type": "code",
   "execution_count": 4,
   "id": "a4ce7ec4",
   "metadata": {},
   "outputs": [],
   "source": [
    "df_raw = pd.read_csv('../data/OnlineRetail.csv')"
   ]
  },
  {
   "cell_type": "markdown",
   "id": "88cc188d",
   "metadata": {},
   "source": [
    "# 1 DATA DESCRIPTION"
   ]
  },
  {
   "cell_type": "code",
   "execution_count": 5,
   "id": "1494f3ab",
   "metadata": {},
   "outputs": [],
   "source": [
    "df1 = df_raw.copy()"
   ]
  },
  {
   "cell_type": "code",
   "execution_count": 6,
   "id": "f7e345bf",
   "metadata": {},
   "outputs": [
    {
     "data": {
      "text/html": [
       "<div>\n",
       "<style scoped>\n",
       "    .dataframe tbody tr th:only-of-type {\n",
       "        vertical-align: middle;\n",
       "    }\n",
       "\n",
       "    .dataframe tbody tr th {\n",
       "        vertical-align: top;\n",
       "    }\n",
       "\n",
       "    .dataframe thead th {\n",
       "        text-align: right;\n",
       "    }\n",
       "</style>\n",
       "<table border=\"1\" class=\"dataframe\">\n",
       "  <thead>\n",
       "    <tr style=\"text-align: right;\">\n",
       "      <th></th>\n",
       "      <th>InvoiceNo</th>\n",
       "      <th>StockCode</th>\n",
       "      <th>Description</th>\n",
       "      <th>Quantity</th>\n",
       "      <th>InvoiceDate</th>\n",
       "      <th>UnitPrice</th>\n",
       "      <th>CustomerID</th>\n",
       "      <th>Country</th>\n",
       "    </tr>\n",
       "  </thead>\n",
       "  <tbody>\n",
       "    <tr>\n",
       "      <th>0</th>\n",
       "      <td>536365</td>\n",
       "      <td>85123A</td>\n",
       "      <td>WHITE HANGING HEART T-LIGHT HOLDER</td>\n",
       "      <td>6</td>\n",
       "      <td>2010-12-01 08:26:00</td>\n",
       "      <td>2.55</td>\n",
       "      <td>17850.00</td>\n",
       "      <td>United Kingdom</td>\n",
       "    </tr>\n",
       "    <tr>\n",
       "      <th>1</th>\n",
       "      <td>536365</td>\n",
       "      <td>71053</td>\n",
       "      <td>WHITE METAL LANTERN</td>\n",
       "      <td>6</td>\n",
       "      <td>2010-12-01 08:26:00</td>\n",
       "      <td>3.39</td>\n",
       "      <td>17850.00</td>\n",
       "      <td>United Kingdom</td>\n",
       "    </tr>\n",
       "    <tr>\n",
       "      <th>2</th>\n",
       "      <td>536365</td>\n",
       "      <td>84406B</td>\n",
       "      <td>CREAM CUPID HEARTS COAT HANGER</td>\n",
       "      <td>8</td>\n",
       "      <td>2010-12-01 08:26:00</td>\n",
       "      <td>2.75</td>\n",
       "      <td>17850.00</td>\n",
       "      <td>United Kingdom</td>\n",
       "    </tr>\n",
       "    <tr>\n",
       "      <th>3</th>\n",
       "      <td>536365</td>\n",
       "      <td>84029G</td>\n",
       "      <td>KNITTED UNION FLAG HOT WATER BOTTLE</td>\n",
       "      <td>6</td>\n",
       "      <td>2010-12-01 08:26:00</td>\n",
       "      <td>3.39</td>\n",
       "      <td>17850.00</td>\n",
       "      <td>United Kingdom</td>\n",
       "    </tr>\n",
       "    <tr>\n",
       "      <th>4</th>\n",
       "      <td>536365</td>\n",
       "      <td>84029E</td>\n",
       "      <td>RED WOOLLY HOTTIE WHITE HEART.</td>\n",
       "      <td>6</td>\n",
       "      <td>2010-12-01 08:26:00</td>\n",
       "      <td>3.39</td>\n",
       "      <td>17850.00</td>\n",
       "      <td>United Kingdom</td>\n",
       "    </tr>\n",
       "  </tbody>\n",
       "</table>\n",
       "</div>"
      ],
      "text/plain": [
       "  InvoiceNo StockCode                          Description  Quantity  \\\n",
       "0    536365    85123A   WHITE HANGING HEART T-LIGHT HOLDER         6   \n",
       "1    536365     71053                  WHITE METAL LANTERN         6   \n",
       "2    536365    84406B       CREAM CUPID HEARTS COAT HANGER         8   \n",
       "3    536365    84029G  KNITTED UNION FLAG HOT WATER BOTTLE         6   \n",
       "4    536365    84029E       RED WOOLLY HOTTIE WHITE HEART.         6   \n",
       "\n",
       "           InvoiceDate  UnitPrice  CustomerID         Country  \n",
       "0  2010-12-01 08:26:00       2.55    17850.00  United Kingdom  \n",
       "1  2010-12-01 08:26:00       3.39    17850.00  United Kingdom  \n",
       "2  2010-12-01 08:26:00       2.75    17850.00  United Kingdom  \n",
       "3  2010-12-01 08:26:00       3.39    17850.00  United Kingdom  \n",
       "4  2010-12-01 08:26:00       3.39    17850.00  United Kingdom  "
      ]
     },
     "execution_count": 6,
     "metadata": {},
     "output_type": "execute_result"
    }
   ],
   "source": [
    "df1.head()"
   ]
  },
  {
   "cell_type": "markdown",
   "id": "f0e3205d",
   "metadata": {},
   "source": [
    "## 1.1 Data Dimensions"
   ]
  },
  {
   "cell_type": "code",
   "execution_count": 7,
   "id": "b84cdb22",
   "metadata": {},
   "outputs": [
    {
     "name": "stdout",
     "output_type": "stream",
     "text": [
      "541909 rows\n",
      "8 columns\n"
     ]
    }
   ],
   "source": [
    "print(df1.shape[0], 'rows')\n",
    "print(df1.shape[1], 'columns')"
   ]
  },
  {
   "cell_type": "markdown",
   "id": "692b1ab8",
   "metadata": {},
   "source": [
    "## 1.2 Rename columns"
   ]
  },
  {
   "cell_type": "code",
   "execution_count": 8,
   "id": "54908cbc",
   "metadata": {},
   "outputs": [
    {
     "data": {
      "text/plain": [
       "Index(['InvoiceNo', 'StockCode', 'Description', 'Quantity', 'InvoiceDate',\n",
       "       'UnitPrice', 'CustomerID', 'Country'],\n",
       "      dtype='object')"
      ]
     },
     "execution_count": 8,
     "metadata": {},
     "output_type": "execute_result"
    }
   ],
   "source": [
    "df1.columns "
   ]
  },
  {
   "cell_type": "code",
   "execution_count": 9,
   "id": "86b24d6b",
   "metadata": {},
   "outputs": [],
   "source": [
    "cols_new = ['invoice_no', 'stock_code', 'description', 'quantity', 'invoice_date','unit_price', 'customer_id', 'country']\n",
    "df1.columns = cols_new"
   ]
  },
  {
   "cell_type": "markdown",
   "id": "d91691f2",
   "metadata": {},
   "source": [
    "## 1.2 Data Descriptions"
   ]
  },
  {
   "cell_type": "markdown",
   "id": "e7b79098",
   "metadata": {},
   "source": [
    "* `invoice_no` | A 6-digit integral number uniquely assigned to each transaction. If this code starts with letter `c`, it indicates a cancellation. \n",
    "* `stock_code` | A 5-digit integral number uniquely assigned to each distinct product.   \n",
    "* `description` | Product name. \n",
    "* `quantity` | The quantities of each product (item) per transaction.  \n",
    "* `invoice_date` | The day and time when each transaction was generated.    \n",
    "* `unit_price` | Product price per unit in sterling.\n",
    "* `customer_iD` | A 5-digit integral number uniquely assigned to each customer.    \n",
    "* `country` | The name of the country where each customer resides.   "
   ]
  },
  {
   "cell_type": "markdown",
   "id": "6aa37832",
   "metadata": {},
   "source": [
    "## 1.3 Data Types"
   ]
  },
  {
   "cell_type": "code",
   "execution_count": 10,
   "id": "c023965a",
   "metadata": {},
   "outputs": [
    {
     "data": {
      "text/html": [
       "<div>\n",
       "<style scoped>\n",
       "    .dataframe tbody tr th:only-of-type {\n",
       "        vertical-align: middle;\n",
       "    }\n",
       "\n",
       "    .dataframe tbody tr th {\n",
       "        vertical-align: top;\n",
       "    }\n",
       "\n",
       "    .dataframe thead th {\n",
       "        text-align: right;\n",
       "    }\n",
       "</style>\n",
       "<table border=\"1\" class=\"dataframe\">\n",
       "  <thead>\n",
       "    <tr style=\"text-align: right;\">\n",
       "      <th></th>\n",
       "      <th>attributes</th>\n",
       "      <th>dtypes</th>\n",
       "      <th>nunique</th>\n",
       "      <th>sample</th>\n",
       "    </tr>\n",
       "  </thead>\n",
       "  <tbody>\n",
       "    <tr>\n",
       "      <th>0</th>\n",
       "      <td>invoice_no</td>\n",
       "      <td>object</td>\n",
       "      <td>25900</td>\n",
       "      <td>[560191, 578804]</td>\n",
       "    </tr>\n",
       "    <tr>\n",
       "      <th>1</th>\n",
       "      <td>stock_code</td>\n",
       "      <td>object</td>\n",
       "      <td>4070</td>\n",
       "      <td>[21425, 23214]</td>\n",
       "    </tr>\n",
       "    <tr>\n",
       "      <th>2</th>\n",
       "      <td>description</td>\n",
       "      <td>object</td>\n",
       "      <td>4223</td>\n",
       "      <td>[RUBY GLASS CLUSTER BRACELET, LA PALMIERA TILE...</td>\n",
       "    </tr>\n",
       "    <tr>\n",
       "      <th>3</th>\n",
       "      <td>quantity</td>\n",
       "      <td>int64</td>\n",
       "      <td>722</td>\n",
       "      <td>[701, 245]</td>\n",
       "    </tr>\n",
       "    <tr>\n",
       "      <th>4</th>\n",
       "      <td>invoice_date</td>\n",
       "      <td>object</td>\n",
       "      <td>23260</td>\n",
       "      <td>[2011-06-13 14:49:00, 2011-06-15 14:14:00]</td>\n",
       "    </tr>\n",
       "    <tr>\n",
       "      <th>5</th>\n",
       "      <td>unit_price</td>\n",
       "      <td>float64</td>\n",
       "      <td>1630</td>\n",
       "      <td>[576.18, 264.65]</td>\n",
       "    </tr>\n",
       "    <tr>\n",
       "      <th>6</th>\n",
       "      <td>customer_id</td>\n",
       "      <td>float64</td>\n",
       "      <td>4372</td>\n",
       "      <td>[15119.0, 12365.0]</td>\n",
       "    </tr>\n",
       "    <tr>\n",
       "      <th>7</th>\n",
       "      <td>country</td>\n",
       "      <td>object</td>\n",
       "      <td>38</td>\n",
       "      <td>[Austria, Hong Kong]</td>\n",
       "    </tr>\n",
       "  </tbody>\n",
       "</table>\n",
       "</div>"
      ],
      "text/plain": [
       "     attributes   dtypes  nunique  \\\n",
       "0    invoice_no   object    25900   \n",
       "1    stock_code   object     4070   \n",
       "2   description   object     4223   \n",
       "3      quantity    int64      722   \n",
       "4  invoice_date   object    23260   \n",
       "5    unit_price  float64     1630   \n",
       "6   customer_id  float64     4372   \n",
       "7       country   object       38   \n",
       "\n",
       "                                              sample  \n",
       "0                                   [560191, 578804]  \n",
       "1                                     [21425, 23214]  \n",
       "2  [RUBY GLASS CLUSTER BRACELET, LA PALMIERA TILE...  \n",
       "3                                         [701, 245]  \n",
       "4         [2011-06-13 14:49:00, 2011-06-15 14:14:00]  \n",
       "5                                   [576.18, 264.65]  \n",
       "6                                 [15119.0, 12365.0]  \n",
       "7                               [Austria, Hong Kong]  "
      ]
     },
     "execution_count": 10,
     "metadata": {},
     "output_type": "execute_result"
    }
   ],
   "source": [
    "description = []\n",
    "\n",
    "for i in df1.columns:\n",
    "    description.append([\n",
    "        i,\n",
    "        df1[i].dtypes,\n",
    "        df1[i].nunique(),\n",
    "        df1[i].drop_duplicates().sample(2).values\n",
    "    ])\n",
    "\n",
    "pd.DataFrame(data = description, columns=['attributes', 'dtypes', 'nunique', 'sample'])"
   ]
  },
  {
   "cell_type": "markdown",
   "id": "cb01ebe0",
   "metadata": {},
   "source": [
    "## 1.4 Check NA"
   ]
  },
  {
   "cell_type": "code",
   "execution_count": 11,
   "id": "09b8734d",
   "metadata": {},
   "outputs": [
    {
     "data": {
      "text/html": [
       "<div>\n",
       "<style scoped>\n",
       "    .dataframe tbody tr th:only-of-type {\n",
       "        vertical-align: middle;\n",
       "    }\n",
       "\n",
       "    .dataframe tbody tr th {\n",
       "        vertical-align: top;\n",
       "    }\n",
       "\n",
       "    .dataframe thead th {\n",
       "        text-align: right;\n",
       "    }\n",
       "</style>\n",
       "<table border=\"1\" class=\"dataframe\">\n",
       "  <thead>\n",
       "    <tr style=\"text-align: right;\">\n",
       "      <th></th>\n",
       "      <th>attributes</th>\n",
       "      <th>null</th>\n",
       "      <th>%null</th>\n",
       "    </tr>\n",
       "  </thead>\n",
       "  <tbody>\n",
       "    <tr>\n",
       "      <th>0</th>\n",
       "      <td>invoice_no</td>\n",
       "      <td>0</td>\n",
       "      <td>0</td>\n",
       "    </tr>\n",
       "    <tr>\n",
       "      <th>1</th>\n",
       "      <td>stock_code</td>\n",
       "      <td>0</td>\n",
       "      <td>0</td>\n",
       "    </tr>\n",
       "    <tr>\n",
       "      <th>2</th>\n",
       "      <td>description</td>\n",
       "      <td>1454</td>\n",
       "      <td>0</td>\n",
       "    </tr>\n",
       "    <tr>\n",
       "      <th>3</th>\n",
       "      <td>quantity</td>\n",
       "      <td>0</td>\n",
       "      <td>0</td>\n",
       "    </tr>\n",
       "    <tr>\n",
       "      <th>4</th>\n",
       "      <td>invoice_date</td>\n",
       "      <td>0</td>\n",
       "      <td>0</td>\n",
       "    </tr>\n",
       "    <tr>\n",
       "      <th>5</th>\n",
       "      <td>unit_price</td>\n",
       "      <td>0</td>\n",
       "      <td>0</td>\n",
       "    </tr>\n",
       "    <tr>\n",
       "      <th>6</th>\n",
       "      <td>customer_id</td>\n",
       "      <td>135080</td>\n",
       "      <td>25</td>\n",
       "    </tr>\n",
       "    <tr>\n",
       "      <th>7</th>\n",
       "      <td>country</td>\n",
       "      <td>0</td>\n",
       "      <td>0</td>\n",
       "    </tr>\n",
       "  </tbody>\n",
       "</table>\n",
       "</div>"
      ],
      "text/plain": [
       "     attributes    null  %null\n",
       "0    invoice_no       0      0\n",
       "1    stock_code       0      0\n",
       "2   description    1454      0\n",
       "3      quantity       0      0\n",
       "4  invoice_date       0      0\n",
       "5    unit_price       0      0\n",
       "6   customer_id  135080     25\n",
       "7       country       0      0"
      ]
     },
     "execution_count": 11,
     "metadata": {},
     "output_type": "execute_result"
    }
   ],
   "source": [
    "description = []\n",
    "\n",
    "for i in df1.columns:\n",
    "    description.append([\n",
    "        i,\n",
    "        df1[i].isna().sum(),\n",
    "        round((df1[i].isna().sum()/len(df1))*100)\n",
    "    ])\n",
    "\n",
    "pd.DataFrame(data = description, columns=['attributes','null', '%null'])"
   ]
  },
  {
   "cell_type": "markdown",
   "id": "83f40fdd",
   "metadata": {},
   "source": [
    "## 1.5 Replace NA"
   ]
  },
  {
   "cell_type": "markdown",
   "id": "b99c9098",
   "metadata": {},
   "source": [
    "Since the total `customer_id` nulls represent 25% of the dataset, we are missing a lot of data about the customer's behavior. Therefore, we will replace the nulls by grouping by `invoice_no`, with values greater than the maximum `customer_id` in the dataset. Of course, in this case these `customer_id` cannot be defined as part of the customer Insiders, because in this context we don't have who these customers are, but by using them we can use them to improve our clustering.  "
   ]
  },
  {
   "cell_type": "code",
   "execution_count": 12,
   "id": "b14a5398",
   "metadata": {},
   "outputs": [],
   "source": [
    "df_missing = df1.loc[df1['customer_id'].isna(), :]\n",
    "df_not_missing = df1.loc[~df1['customer_id'].isna(), :]"
   ]
  },
  {
   "cell_type": "code",
   "execution_count": 13,
   "id": "32c4c615",
   "metadata": {},
   "outputs": [
    {
     "data": {
      "text/plain": [
       "18287.0"
      ]
     },
     "execution_count": 13,
     "metadata": {},
     "output_type": "execute_result"
    }
   ],
   "source": [
    "df_not_missing['customer_id'].max()"
   ]
  },
  {
   "cell_type": "code",
   "execution_count": 14,
   "id": "1436e31e",
   "metadata": {},
   "outputs": [],
   "source": [
    "# creating reference\n",
    "df_backup = pd.DataFrame(df_missing['invoice_no'].drop_duplicates())\n",
    "df_backup['customer_id'] = np.arange(19000, 19000+len(df_backup), 1)\n",
    "\n",
    "# merge \n",
    "df1 = pd.merge(df1, df_backup, on='invoice_no', how='left')\n",
    "\n",
    "# coalesce \n",
    "df1['customer_id'] = df1['customer_id_x'].combine_first(df1['customer_id_y'])\n",
    "\n",
    "# drop extra columns\n",
    "df1 = df1.drop(columns=['customer_id_x', 'customer_id_y'], axis=1)"
   ]
  },
  {
   "cell_type": "code",
   "execution_count": 15,
   "id": "2797b082",
   "metadata": {},
   "outputs": [
    {
     "data": {
      "text/html": [
       "<div>\n",
       "<style scoped>\n",
       "    .dataframe tbody tr th:only-of-type {\n",
       "        vertical-align: middle;\n",
       "    }\n",
       "\n",
       "    .dataframe tbody tr th {\n",
       "        vertical-align: top;\n",
       "    }\n",
       "\n",
       "    .dataframe thead th {\n",
       "        text-align: right;\n",
       "    }\n",
       "</style>\n",
       "<table border=\"1\" class=\"dataframe\">\n",
       "  <thead>\n",
       "    <tr style=\"text-align: right;\">\n",
       "      <th></th>\n",
       "      <th>invoice_no</th>\n",
       "      <th>stock_code</th>\n",
       "      <th>description</th>\n",
       "      <th>quantity</th>\n",
       "      <th>invoice_date</th>\n",
       "      <th>unit_price</th>\n",
       "      <th>country</th>\n",
       "      <th>customer_id</th>\n",
       "    </tr>\n",
       "  </thead>\n",
       "  <tbody>\n",
       "    <tr>\n",
       "      <th>0</th>\n",
       "      <td>536365</td>\n",
       "      <td>85123A</td>\n",
       "      <td>WHITE HANGING HEART T-LIGHT HOLDER</td>\n",
       "      <td>6</td>\n",
       "      <td>2010-12-01 08:26:00</td>\n",
       "      <td>2.55</td>\n",
       "      <td>United Kingdom</td>\n",
       "      <td>17850.00</td>\n",
       "    </tr>\n",
       "    <tr>\n",
       "      <th>1</th>\n",
       "      <td>536365</td>\n",
       "      <td>71053</td>\n",
       "      <td>WHITE METAL LANTERN</td>\n",
       "      <td>6</td>\n",
       "      <td>2010-12-01 08:26:00</td>\n",
       "      <td>3.39</td>\n",
       "      <td>United Kingdom</td>\n",
       "      <td>17850.00</td>\n",
       "    </tr>\n",
       "    <tr>\n",
       "      <th>2</th>\n",
       "      <td>536365</td>\n",
       "      <td>84406B</td>\n",
       "      <td>CREAM CUPID HEARTS COAT HANGER</td>\n",
       "      <td>8</td>\n",
       "      <td>2010-12-01 08:26:00</td>\n",
       "      <td>2.75</td>\n",
       "      <td>United Kingdom</td>\n",
       "      <td>17850.00</td>\n",
       "    </tr>\n",
       "    <tr>\n",
       "      <th>3</th>\n",
       "      <td>536365</td>\n",
       "      <td>84029G</td>\n",
       "      <td>KNITTED UNION FLAG HOT WATER BOTTLE</td>\n",
       "      <td>6</td>\n",
       "      <td>2010-12-01 08:26:00</td>\n",
       "      <td>3.39</td>\n",
       "      <td>United Kingdom</td>\n",
       "      <td>17850.00</td>\n",
       "    </tr>\n",
       "    <tr>\n",
       "      <th>4</th>\n",
       "      <td>536365</td>\n",
       "      <td>84029E</td>\n",
       "      <td>RED WOOLLY HOTTIE WHITE HEART.</td>\n",
       "      <td>6</td>\n",
       "      <td>2010-12-01 08:26:00</td>\n",
       "      <td>3.39</td>\n",
       "      <td>United Kingdom</td>\n",
       "      <td>17850.00</td>\n",
       "    </tr>\n",
       "    <tr>\n",
       "      <th>...</th>\n",
       "      <td>...</td>\n",
       "      <td>...</td>\n",
       "      <td>...</td>\n",
       "      <td>...</td>\n",
       "      <td>...</td>\n",
       "      <td>...</td>\n",
       "      <td>...</td>\n",
       "      <td>...</td>\n",
       "    </tr>\n",
       "    <tr>\n",
       "      <th>541904</th>\n",
       "      <td>581587</td>\n",
       "      <td>22613</td>\n",
       "      <td>PACK OF 20 SPACEBOY NAPKINS</td>\n",
       "      <td>12</td>\n",
       "      <td>2011-12-09 12:50:00</td>\n",
       "      <td>0.85</td>\n",
       "      <td>France</td>\n",
       "      <td>12680.00</td>\n",
       "    </tr>\n",
       "    <tr>\n",
       "      <th>541905</th>\n",
       "      <td>581587</td>\n",
       "      <td>22899</td>\n",
       "      <td>CHILDREN'S APRON DOLLY GIRL</td>\n",
       "      <td>6</td>\n",
       "      <td>2011-12-09 12:50:00</td>\n",
       "      <td>2.10</td>\n",
       "      <td>France</td>\n",
       "      <td>12680.00</td>\n",
       "    </tr>\n",
       "    <tr>\n",
       "      <th>541906</th>\n",
       "      <td>581587</td>\n",
       "      <td>23254</td>\n",
       "      <td>CHILDRENS CUTLERY DOLLY GIRL</td>\n",
       "      <td>4</td>\n",
       "      <td>2011-12-09 12:50:00</td>\n",
       "      <td>4.15</td>\n",
       "      <td>France</td>\n",
       "      <td>12680.00</td>\n",
       "    </tr>\n",
       "    <tr>\n",
       "      <th>541907</th>\n",
       "      <td>581587</td>\n",
       "      <td>23255</td>\n",
       "      <td>CHILDRENS CUTLERY CIRCUS PARADE</td>\n",
       "      <td>4</td>\n",
       "      <td>2011-12-09 12:50:00</td>\n",
       "      <td>4.15</td>\n",
       "      <td>France</td>\n",
       "      <td>12680.00</td>\n",
       "    </tr>\n",
       "    <tr>\n",
       "      <th>541908</th>\n",
       "      <td>581587</td>\n",
       "      <td>22138</td>\n",
       "      <td>BAKING SET 9 PIECE RETROSPOT</td>\n",
       "      <td>3</td>\n",
       "      <td>2011-12-09 12:50:00</td>\n",
       "      <td>4.95</td>\n",
       "      <td>France</td>\n",
       "      <td>12680.00</td>\n",
       "    </tr>\n",
       "  </tbody>\n",
       "</table>\n",
       "<p>541909 rows × 8 columns</p>\n",
       "</div>"
      ],
      "text/plain": [
       "       invoice_no stock_code                          description  quantity  \\\n",
       "0          536365     85123A   WHITE HANGING HEART T-LIGHT HOLDER         6   \n",
       "1          536365      71053                  WHITE METAL LANTERN         6   \n",
       "2          536365     84406B       CREAM CUPID HEARTS COAT HANGER         8   \n",
       "3          536365     84029G  KNITTED UNION FLAG HOT WATER BOTTLE         6   \n",
       "4          536365     84029E       RED WOOLLY HOTTIE WHITE HEART.         6   \n",
       "...           ...        ...                                  ...       ...   \n",
       "541904     581587      22613          PACK OF 20 SPACEBOY NAPKINS        12   \n",
       "541905     581587      22899         CHILDREN'S APRON DOLLY GIRL          6   \n",
       "541906     581587      23254        CHILDRENS CUTLERY DOLLY GIRL          4   \n",
       "541907     581587      23255      CHILDRENS CUTLERY CIRCUS PARADE         4   \n",
       "541908     581587      22138        BAKING SET 9 PIECE RETROSPOT          3   \n",
       "\n",
       "               invoice_date  unit_price         country  customer_id  \n",
       "0       2010-12-01 08:26:00        2.55  United Kingdom     17850.00  \n",
       "1       2010-12-01 08:26:00        3.39  United Kingdom     17850.00  \n",
       "2       2010-12-01 08:26:00        2.75  United Kingdom     17850.00  \n",
       "3       2010-12-01 08:26:00        3.39  United Kingdom     17850.00  \n",
       "4       2010-12-01 08:26:00        3.39  United Kingdom     17850.00  \n",
       "...                     ...         ...             ...          ...  \n",
       "541904  2011-12-09 12:50:00        0.85          France     12680.00  \n",
       "541905  2011-12-09 12:50:00        2.10          France     12680.00  \n",
       "541906  2011-12-09 12:50:00        4.15          France     12680.00  \n",
       "541907  2011-12-09 12:50:00        4.15          France     12680.00  \n",
       "541908  2011-12-09 12:50:00        4.95          France     12680.00  \n",
       "\n",
       "[541909 rows x 8 columns]"
      ]
     },
     "execution_count": 15,
     "metadata": {},
     "output_type": "execute_result"
    }
   ],
   "source": [
    "df1"
   ]
  },
  {
   "cell_type": "code",
   "execution_count": 16,
   "id": "d11d1466",
   "metadata": {},
   "outputs": [
    {
     "data": {
      "text/plain": [
       "invoice_no         0\n",
       "stock_code         0\n",
       "description     1454\n",
       "quantity           0\n",
       "invoice_date       0\n",
       "unit_price         0\n",
       "country            0\n",
       "customer_id        0\n",
       "dtype: int64"
      ]
     },
     "execution_count": 16,
     "metadata": {},
     "output_type": "execute_result"
    }
   ],
   "source": [
    "df1.isna().sum()"
   ]
  },
  {
   "cell_type": "markdown",
   "id": "0a2604b2",
   "metadata": {},
   "source": [
    "## 1.6 Change dtypes"
   ]
  },
  {
   "cell_type": "code",
   "execution_count": 17,
   "id": "49b7b400",
   "metadata": {},
   "outputs": [],
   "source": [
    "# invoice_date\n",
    "df1['invoice_date'] = pd.to_datetime(df1['invoice_date']).dt.normalize()\n",
    "\n",
    "# customer_id\n",
    "df1['customer_id'] = np.int64(df1['customer_id'])"
   ]
  },
  {
   "cell_type": "code",
   "execution_count": 18,
   "id": "747effa3",
   "metadata": {},
   "outputs": [
    {
     "data": {
      "text/plain": [
       "invoice_no              object\n",
       "stock_code              object\n",
       "description             object\n",
       "quantity                 int64\n",
       "invoice_date    datetime64[ns]\n",
       "unit_price             float64\n",
       "country                 object\n",
       "customer_id              int64\n",
       "dtype: object"
      ]
     },
     "execution_count": 18,
     "metadata": {},
     "output_type": "execute_result"
    }
   ],
   "source": [
    "df1.dtypes"
   ]
  },
  {
   "cell_type": "code",
   "execution_count": 19,
   "id": "70f96307",
   "metadata": {},
   "outputs": [
    {
     "data": {
      "text/html": [
       "<div>\n",
       "<style scoped>\n",
       "    .dataframe tbody tr th:only-of-type {\n",
       "        vertical-align: middle;\n",
       "    }\n",
       "\n",
       "    .dataframe tbody tr th {\n",
       "        vertical-align: top;\n",
       "    }\n",
       "\n",
       "    .dataframe thead th {\n",
       "        text-align: right;\n",
       "    }\n",
       "</style>\n",
       "<table border=\"1\" class=\"dataframe\">\n",
       "  <thead>\n",
       "    <tr style=\"text-align: right;\">\n",
       "      <th></th>\n",
       "      <th>invoice_no</th>\n",
       "      <th>stock_code</th>\n",
       "      <th>description</th>\n",
       "      <th>quantity</th>\n",
       "      <th>invoice_date</th>\n",
       "      <th>unit_price</th>\n",
       "      <th>country</th>\n",
       "      <th>customer_id</th>\n",
       "    </tr>\n",
       "  </thead>\n",
       "  <tbody>\n",
       "    <tr>\n",
       "      <th>0</th>\n",
       "      <td>536365</td>\n",
       "      <td>85123A</td>\n",
       "      <td>WHITE HANGING HEART T-LIGHT HOLDER</td>\n",
       "      <td>6</td>\n",
       "      <td>2010-12-01</td>\n",
       "      <td>2.55</td>\n",
       "      <td>United Kingdom</td>\n",
       "      <td>17850</td>\n",
       "    </tr>\n",
       "    <tr>\n",
       "      <th>1</th>\n",
       "      <td>536365</td>\n",
       "      <td>71053</td>\n",
       "      <td>WHITE METAL LANTERN</td>\n",
       "      <td>6</td>\n",
       "      <td>2010-12-01</td>\n",
       "      <td>3.39</td>\n",
       "      <td>United Kingdom</td>\n",
       "      <td>17850</td>\n",
       "    </tr>\n",
       "  </tbody>\n",
       "</table>\n",
       "</div>"
      ],
      "text/plain": [
       "  invoice_no stock_code                         description  quantity  \\\n",
       "0     536365     85123A  WHITE HANGING HEART T-LIGHT HOLDER         6   \n",
       "1     536365      71053                 WHITE METAL LANTERN         6   \n",
       "\n",
       "  invoice_date  unit_price         country  customer_id  \n",
       "0   2010-12-01        2.55  United Kingdom        17850  \n",
       "1   2010-12-01        3.39  United Kingdom        17850  "
      ]
     },
     "execution_count": 19,
     "metadata": {},
     "output_type": "execute_result"
    }
   ],
   "source": [
    "df1.head(2)"
   ]
  },
  {
   "cell_type": "markdown",
   "id": "5d5e00dd",
   "metadata": {},
   "source": [
    "## 1.6 Descriptive Statistics"
   ]
  },
  {
   "cell_type": "code",
   "execution_count": 20,
   "id": "7a7e6ebd",
   "metadata": {},
   "outputs": [],
   "source": [
    "df_num1 = df1.select_dtypes(include = ['int64', 'float64'])\n",
    "df_cat1 = df1.select_dtypes(exclude = ['int64', 'float64', 'datetime64[ns]'])"
   ]
  },
  {
   "cell_type": "markdown",
   "id": "25baa3ec",
   "metadata": {},
   "source": [
    "### 1.6.1 Numeric Attributes"
   ]
  },
  {
   "cell_type": "code",
   "execution_count": 21,
   "id": "f10bfe52",
   "metadata": {},
   "outputs": [
    {
     "data": {
      "text/html": [
       "<div>\n",
       "<style scoped>\n",
       "    .dataframe tbody tr th:only-of-type {\n",
       "        vertical-align: middle;\n",
       "    }\n",
       "\n",
       "    .dataframe tbody tr th {\n",
       "        vertical-align: top;\n",
       "    }\n",
       "\n",
       "    .dataframe thead th {\n",
       "        text-align: right;\n",
       "    }\n",
       "</style>\n",
       "<table border=\"1\" class=\"dataframe\">\n",
       "  <thead>\n",
       "    <tr style=\"text-align: right;\">\n",
       "      <th></th>\n",
       "      <th>attributes</th>\n",
       "      <th>min</th>\n",
       "      <th>max</th>\n",
       "      <th>range</th>\n",
       "      <th>mean</th>\n",
       "      <th>median</th>\n",
       "      <th>std</th>\n",
       "      <th>skew</th>\n",
       "      <th>kurtosis</th>\n",
       "    </tr>\n",
       "  </thead>\n",
       "  <tbody>\n",
       "    <tr>\n",
       "      <th>0</th>\n",
       "      <td>quantity</td>\n",
       "      <td>-80995.00</td>\n",
       "      <td>80995.00</td>\n",
       "      <td>161990.00</td>\n",
       "      <td>9.55</td>\n",
       "      <td>3.00</td>\n",
       "      <td>218.08</td>\n",
       "      <td>-0.26</td>\n",
       "      <td>119769.16</td>\n",
       "    </tr>\n",
       "    <tr>\n",
       "      <th>1</th>\n",
       "      <td>unit_price</td>\n",
       "      <td>-11062.06</td>\n",
       "      <td>38970.00</td>\n",
       "      <td>50032.06</td>\n",
       "      <td>4.61</td>\n",
       "      <td>2.08</td>\n",
       "      <td>96.76</td>\n",
       "      <td>186.51</td>\n",
       "      <td>59005.72</td>\n",
       "    </tr>\n",
       "    <tr>\n",
       "      <th>2</th>\n",
       "      <td>customer_id</td>\n",
       "      <td>12346.00</td>\n",
       "      <td>22709.00</td>\n",
       "      <td>10363.00</td>\n",
       "      <td>16688.84</td>\n",
       "      <td>16249.00</td>\n",
       "      <td>2911.41</td>\n",
       "      <td>0.49</td>\n",
       "      <td>-0.80</td>\n",
       "    </tr>\n",
       "  </tbody>\n",
       "</table>\n",
       "</div>"
      ],
      "text/plain": [
       "    attributes       min      max     range     mean   median     std   skew  \\\n",
       "0     quantity -80995.00 80995.00 161990.00     9.55     3.00  218.08  -0.26   \n",
       "1   unit_price -11062.06 38970.00  50032.06     4.61     2.08   96.76 186.51   \n",
       "2  customer_id  12346.00 22709.00  10363.00 16688.84 16249.00 2911.41   0.49   \n",
       "\n",
       "   kurtosis  \n",
       "0 119769.16  \n",
       "1  59005.72  \n",
       "2     -0.80  "
      ]
     },
     "execution_count": 21,
     "metadata": {},
     "output_type": "execute_result"
    }
   ],
   "source": [
    "# central tendency - mean, median\n",
    "ct1 = pd.DataFrame(df_num1.apply(np.mean)).T\n",
    "ct2 = pd.DataFrame(df_num1.apply(np.median)).T\n",
    "\n",
    "# dispersion - std, min, max, range, skew, kurtosis\n",
    "d1 = pd.DataFrame(df_num1.apply(np.std)).T \n",
    "d2 = pd.DataFrame(df_num1.apply(min)).T\n",
    "d3 = pd.DataFrame(df_num1.apply(max)).T\n",
    "d4 = pd.DataFrame(df_num1.apply(lambda x: x.max() - x.min())).T\n",
    "d5 = pd.DataFrame(df_num1.apply(lambda x: x.skew())).T\n",
    "d6 = pd.DataFrame(df_num1.apply(lambda x: x.kurtosis())).T\n",
    "\n",
    "# concat\n",
    "num1_summary = pd.concat([d2, d3, d4, ct1, ct2, d1, d5, d6]).T.reset_index()\n",
    "num1_summary.columns = ['attributes', 'min', 'max', 'range', 'mean', 'median', 'std', 'skew', 'kurtosis']\n",
    "num1_summary"
   ]
  },
  {
   "cell_type": "markdown",
   "id": "bae100b7",
   "metadata": {},
   "source": [
    "Can negative `quantity` be a return?     \n",
    "Can `unit_price` equal to zero be a promotion?"
   ]
  },
  {
   "cell_type": "markdown",
   "id": "eeb86e45",
   "metadata": {},
   "source": [
    "#### Quantity"
   ]
  },
  {
   "cell_type": "code",
   "execution_count": 22,
   "id": "316e549f",
   "metadata": {},
   "outputs": [
    {
     "data": {
      "text/html": [
       "<div>\n",
       "<style scoped>\n",
       "    .dataframe tbody tr th:only-of-type {\n",
       "        vertical-align: middle;\n",
       "    }\n",
       "\n",
       "    .dataframe tbody tr th {\n",
       "        vertical-align: top;\n",
       "    }\n",
       "\n",
       "    .dataframe thead th {\n",
       "        text-align: right;\n",
       "    }\n",
       "</style>\n",
       "<table border=\"1\" class=\"dataframe\">\n",
       "  <thead>\n",
       "    <tr style=\"text-align: right;\">\n",
       "      <th></th>\n",
       "      <th>invoice_no</th>\n",
       "      <th>stock_code</th>\n",
       "      <th>description</th>\n",
       "      <th>quantity</th>\n",
       "      <th>invoice_date</th>\n",
       "      <th>unit_price</th>\n",
       "      <th>country</th>\n",
       "      <th>customer_id</th>\n",
       "    </tr>\n",
       "  </thead>\n",
       "  <tbody>\n",
       "    <tr>\n",
       "      <th>540422</th>\n",
       "      <td>C581484</td>\n",
       "      <td>23843</td>\n",
       "      <td>PAPER CRAFT , LITTLE BIRDIE</td>\n",
       "      <td>-80995</td>\n",
       "      <td>2011-12-09</td>\n",
       "      <td>2.08</td>\n",
       "      <td>United Kingdom</td>\n",
       "      <td>16446</td>\n",
       "    </tr>\n",
       "    <tr>\n",
       "      <th>61624</th>\n",
       "      <td>C541433</td>\n",
       "      <td>23166</td>\n",
       "      <td>MEDIUM CERAMIC TOP STORAGE JAR</td>\n",
       "      <td>-74215</td>\n",
       "      <td>2011-01-18</td>\n",
       "      <td>1.04</td>\n",
       "      <td>United Kingdom</td>\n",
       "      <td>12346</td>\n",
       "    </tr>\n",
       "    <tr>\n",
       "      <th>225529</th>\n",
       "      <td>556690</td>\n",
       "      <td>23005</td>\n",
       "      <td>printing smudges/thrown away</td>\n",
       "      <td>-9600</td>\n",
       "      <td>2011-06-14</td>\n",
       "      <td>0.00</td>\n",
       "      <td>United Kingdom</td>\n",
       "      <td>20914</td>\n",
       "    </tr>\n",
       "    <tr>\n",
       "      <th>225530</th>\n",
       "      <td>556691</td>\n",
       "      <td>23005</td>\n",
       "      <td>printing smudges/thrown away</td>\n",
       "      <td>-9600</td>\n",
       "      <td>2011-06-14</td>\n",
       "      <td>0.00</td>\n",
       "      <td>United Kingdom</td>\n",
       "      <td>20915</td>\n",
       "    </tr>\n",
       "    <tr>\n",
       "      <th>4287</th>\n",
       "      <td>C536757</td>\n",
       "      <td>84347</td>\n",
       "      <td>ROTATING SILVER ANGELS T-LIGHT HLDR</td>\n",
       "      <td>-9360</td>\n",
       "      <td>2010-12-02</td>\n",
       "      <td>0.03</td>\n",
       "      <td>United Kingdom</td>\n",
       "      <td>15838</td>\n",
       "    </tr>\n",
       "    <tr>\n",
       "      <th>225528</th>\n",
       "      <td>556687</td>\n",
       "      <td>23003</td>\n",
       "      <td>Printing smudges/thrown away</td>\n",
       "      <td>-9058</td>\n",
       "      <td>2011-06-14</td>\n",
       "      <td>0.00</td>\n",
       "      <td>United Kingdom</td>\n",
       "      <td>20913</td>\n",
       "    </tr>\n",
       "    <tr>\n",
       "      <th>115818</th>\n",
       "      <td>546152</td>\n",
       "      <td>72140F</td>\n",
       "      <td>throw away</td>\n",
       "      <td>-5368</td>\n",
       "      <td>2011-03-09</td>\n",
       "      <td>0.00</td>\n",
       "      <td>United Kingdom</td>\n",
       "      <td>19837</td>\n",
       "    </tr>\n",
       "    <tr>\n",
       "      <th>431381</th>\n",
       "      <td>573596</td>\n",
       "      <td>79323W</td>\n",
       "      <td>Unsaleable, destroyed.</td>\n",
       "      <td>-4830</td>\n",
       "      <td>2011-10-31</td>\n",
       "      <td>0.00</td>\n",
       "      <td>United Kingdom</td>\n",
       "      <td>22229</td>\n",
       "    </tr>\n",
       "    <tr>\n",
       "      <th>341601</th>\n",
       "      <td>566768</td>\n",
       "      <td>16045</td>\n",
       "      <td>NaN</td>\n",
       "      <td>-3667</td>\n",
       "      <td>2011-09-14</td>\n",
       "      <td>0.00</td>\n",
       "      <td>United Kingdom</td>\n",
       "      <td>21714</td>\n",
       "    </tr>\n",
       "    <tr>\n",
       "      <th>323458</th>\n",
       "      <td>565304</td>\n",
       "      <td>16259</td>\n",
       "      <td>NaN</td>\n",
       "      <td>-3167</td>\n",
       "      <td>2011-09-02</td>\n",
       "      <td>0.00</td>\n",
       "      <td>United Kingdom</td>\n",
       "      <td>21629</td>\n",
       "    </tr>\n",
       "  </tbody>\n",
       "</table>\n",
       "</div>"
      ],
      "text/plain": [
       "       invoice_no stock_code                          description  quantity  \\\n",
       "540422    C581484      23843          PAPER CRAFT , LITTLE BIRDIE    -80995   \n",
       "61624     C541433      23166       MEDIUM CERAMIC TOP STORAGE JAR    -74215   \n",
       "225529     556690      23005         printing smudges/thrown away     -9600   \n",
       "225530     556691      23005         printing smudges/thrown away     -9600   \n",
       "4287      C536757      84347  ROTATING SILVER ANGELS T-LIGHT HLDR     -9360   \n",
       "225528     556687      23003         Printing smudges/thrown away     -9058   \n",
       "115818     546152     72140F                           throw away     -5368   \n",
       "431381     573596     79323W               Unsaleable, destroyed.     -4830   \n",
       "341601     566768      16045                                  NaN     -3667   \n",
       "323458     565304      16259                                  NaN     -3167   \n",
       "\n",
       "       invoice_date  unit_price         country  customer_id  \n",
       "540422   2011-12-09        2.08  United Kingdom        16446  \n",
       "61624    2011-01-18        1.04  United Kingdom        12346  \n",
       "225529   2011-06-14        0.00  United Kingdom        20914  \n",
       "225530   2011-06-14        0.00  United Kingdom        20915  \n",
       "4287     2010-12-02        0.03  United Kingdom        15838  \n",
       "225528   2011-06-14        0.00  United Kingdom        20913  \n",
       "115818   2011-03-09        0.00  United Kingdom        19837  \n",
       "431381   2011-10-31        0.00  United Kingdom        22229  \n",
       "341601   2011-09-14        0.00  United Kingdom        21714  \n",
       "323458   2011-09-02        0.00  United Kingdom        21629  "
      ]
     },
     "execution_count": 22,
     "metadata": {},
     "output_type": "execute_result"
    }
   ],
   "source": [
    "df1.sort_values('quantity').head(10)"
   ]
  },
  {
   "cell_type": "markdown",
   "id": "bd84f937",
   "metadata": {},
   "source": [
    "#### Customer Id"
   ]
  },
  {
   "cell_type": "markdown",
   "id": "30139d04",
   "metadata": {},
   "source": [
    "Let's take a look at the `custumers_id` for the two smallest `quantity` values."
   ]
  },
  {
   "cell_type": "code",
   "execution_count": 23,
   "id": "6d75c987",
   "metadata": {},
   "outputs": [
    {
     "data": {
      "text/html": [
       "<div>\n",
       "<style scoped>\n",
       "    .dataframe tbody tr th:only-of-type {\n",
       "        vertical-align: middle;\n",
       "    }\n",
       "\n",
       "    .dataframe tbody tr th {\n",
       "        vertical-align: top;\n",
       "    }\n",
       "\n",
       "    .dataframe thead th {\n",
       "        text-align: right;\n",
       "    }\n",
       "</style>\n",
       "<table border=\"1\" class=\"dataframe\">\n",
       "  <thead>\n",
       "    <tr style=\"text-align: right;\">\n",
       "      <th></th>\n",
       "      <th>invoice_no</th>\n",
       "      <th>stock_code</th>\n",
       "      <th>description</th>\n",
       "      <th>quantity</th>\n",
       "      <th>invoice_date</th>\n",
       "      <th>unit_price</th>\n",
       "      <th>country</th>\n",
       "      <th>customer_id</th>\n",
       "    </tr>\n",
       "  </thead>\n",
       "  <tbody>\n",
       "    <tr>\n",
       "      <th>194354</th>\n",
       "      <td>553573</td>\n",
       "      <td>22980</td>\n",
       "      <td>PANTRY SCRUBBING BRUSH</td>\n",
       "      <td>1</td>\n",
       "      <td>2011-05-18</td>\n",
       "      <td>1.65</td>\n",
       "      <td>United Kingdom</td>\n",
       "      <td>16446</td>\n",
       "    </tr>\n",
       "    <tr>\n",
       "      <th>194355</th>\n",
       "      <td>553573</td>\n",
       "      <td>22982</td>\n",
       "      <td>PANTRY PASTRY BRUSH</td>\n",
       "      <td>1</td>\n",
       "      <td>2011-05-18</td>\n",
       "      <td>1.25</td>\n",
       "      <td>United Kingdom</td>\n",
       "      <td>16446</td>\n",
       "    </tr>\n",
       "    <tr>\n",
       "      <th>540421</th>\n",
       "      <td>581483</td>\n",
       "      <td>23843</td>\n",
       "      <td>PAPER CRAFT , LITTLE BIRDIE</td>\n",
       "      <td>80995</td>\n",
       "      <td>2011-12-09</td>\n",
       "      <td>2.08</td>\n",
       "      <td>United Kingdom</td>\n",
       "      <td>16446</td>\n",
       "    </tr>\n",
       "    <tr>\n",
       "      <th>540422</th>\n",
       "      <td>C581484</td>\n",
       "      <td>23843</td>\n",
       "      <td>PAPER CRAFT , LITTLE BIRDIE</td>\n",
       "      <td>-80995</td>\n",
       "      <td>2011-12-09</td>\n",
       "      <td>2.08</td>\n",
       "      <td>United Kingdom</td>\n",
       "      <td>16446</td>\n",
       "    </tr>\n",
       "  </tbody>\n",
       "</table>\n",
       "</div>"
      ],
      "text/plain": [
       "       invoice_no stock_code                  description  quantity  \\\n",
       "194354     553573      22980       PANTRY SCRUBBING BRUSH         1   \n",
       "194355     553573      22982          PANTRY PASTRY BRUSH         1   \n",
       "540421     581483      23843  PAPER CRAFT , LITTLE BIRDIE     80995   \n",
       "540422    C581484      23843  PAPER CRAFT , LITTLE BIRDIE    -80995   \n",
       "\n",
       "       invoice_date  unit_price         country  customer_id  \n",
       "194354   2011-05-18        1.65  United Kingdom        16446  \n",
       "194355   2011-05-18        1.25  United Kingdom        16446  \n",
       "540421   2011-12-09        2.08  United Kingdom        16446  \n",
       "540422   2011-12-09        2.08  United Kingdom        16446  "
      ]
     },
     "execution_count": 23,
     "metadata": {},
     "output_type": "execute_result"
    }
   ],
   "source": [
    "df1.loc[df1['customer_id'] == 16446, :]"
   ]
  },
  {
   "cell_type": "code",
   "execution_count": 24,
   "id": "f710ed97",
   "metadata": {},
   "outputs": [
    {
     "data": {
      "text/html": [
       "<div>\n",
       "<style scoped>\n",
       "    .dataframe tbody tr th:only-of-type {\n",
       "        vertical-align: middle;\n",
       "    }\n",
       "\n",
       "    .dataframe tbody tr th {\n",
       "        vertical-align: top;\n",
       "    }\n",
       "\n",
       "    .dataframe thead th {\n",
       "        text-align: right;\n",
       "    }\n",
       "</style>\n",
       "<table border=\"1\" class=\"dataframe\">\n",
       "  <thead>\n",
       "    <tr style=\"text-align: right;\">\n",
       "      <th></th>\n",
       "      <th>invoice_no</th>\n",
       "      <th>stock_code</th>\n",
       "      <th>description</th>\n",
       "      <th>quantity</th>\n",
       "      <th>invoice_date</th>\n",
       "      <th>unit_price</th>\n",
       "      <th>country</th>\n",
       "      <th>customer_id</th>\n",
       "    </tr>\n",
       "  </thead>\n",
       "  <tbody>\n",
       "    <tr>\n",
       "      <th>61619</th>\n",
       "      <td>541431</td>\n",
       "      <td>23166</td>\n",
       "      <td>MEDIUM CERAMIC TOP STORAGE JAR</td>\n",
       "      <td>74215</td>\n",
       "      <td>2011-01-18</td>\n",
       "      <td>1.04</td>\n",
       "      <td>United Kingdom</td>\n",
       "      <td>12346</td>\n",
       "    </tr>\n",
       "    <tr>\n",
       "      <th>61624</th>\n",
       "      <td>C541433</td>\n",
       "      <td>23166</td>\n",
       "      <td>MEDIUM CERAMIC TOP STORAGE JAR</td>\n",
       "      <td>-74215</td>\n",
       "      <td>2011-01-18</td>\n",
       "      <td>1.04</td>\n",
       "      <td>United Kingdom</td>\n",
       "      <td>12346</td>\n",
       "    </tr>\n",
       "  </tbody>\n",
       "</table>\n",
       "</div>"
      ],
      "text/plain": [
       "      invoice_no stock_code                     description  quantity  \\\n",
       "61619     541431      23166  MEDIUM CERAMIC TOP STORAGE JAR     74215   \n",
       "61624    C541433      23166  MEDIUM CERAMIC TOP STORAGE JAR    -74215   \n",
       "\n",
       "      invoice_date  unit_price         country  customer_id  \n",
       "61619   2011-01-18        1.04  United Kingdom        12346  \n",
       "61624   2011-01-18        1.04  United Kingdom        12346  "
      ]
     },
     "execution_count": 24,
     "metadata": {},
     "output_type": "execute_result"
    }
   ],
   "source": [
    "df1.loc[df1['customer_id'] == 12346, :]"
   ]
  },
  {
   "cell_type": "markdown",
   "id": "6b468ded",
   "metadata": {},
   "source": [
    "### 1.7.2 Categorical Attributes"
   ]
  },
  {
   "cell_type": "code",
   "execution_count": 25,
   "id": "9826068c",
   "metadata": {},
   "outputs": [
    {
     "data": {
      "text/html": [
       "<div>\n",
       "<style scoped>\n",
       "    .dataframe tbody tr th:only-of-type {\n",
       "        vertical-align: middle;\n",
       "    }\n",
       "\n",
       "    .dataframe tbody tr th {\n",
       "        vertical-align: top;\n",
       "    }\n",
       "\n",
       "    .dataframe thead th {\n",
       "        text-align: right;\n",
       "    }\n",
       "</style>\n",
       "<table border=\"1\" class=\"dataframe\">\n",
       "  <thead>\n",
       "    <tr style=\"text-align: right;\">\n",
       "      <th></th>\n",
       "      <th>invoice_no</th>\n",
       "      <th>stock_code</th>\n",
       "      <th>description</th>\n",
       "      <th>country</th>\n",
       "    </tr>\n",
       "  </thead>\n",
       "  <tbody>\n",
       "    <tr>\n",
       "      <th>0</th>\n",
       "      <td>536365</td>\n",
       "      <td>85123A</td>\n",
       "      <td>WHITE HANGING HEART T-LIGHT HOLDER</td>\n",
       "      <td>United Kingdom</td>\n",
       "    </tr>\n",
       "    <tr>\n",
       "      <th>1</th>\n",
       "      <td>536365</td>\n",
       "      <td>71053</td>\n",
       "      <td>WHITE METAL LANTERN</td>\n",
       "      <td>United Kingdom</td>\n",
       "    </tr>\n",
       "    <tr>\n",
       "      <th>2</th>\n",
       "      <td>536365</td>\n",
       "      <td>84406B</td>\n",
       "      <td>CREAM CUPID HEARTS COAT HANGER</td>\n",
       "      <td>United Kingdom</td>\n",
       "    </tr>\n",
       "    <tr>\n",
       "      <th>3</th>\n",
       "      <td>536365</td>\n",
       "      <td>84029G</td>\n",
       "      <td>KNITTED UNION FLAG HOT WATER BOTTLE</td>\n",
       "      <td>United Kingdom</td>\n",
       "    </tr>\n",
       "    <tr>\n",
       "      <th>4</th>\n",
       "      <td>536365</td>\n",
       "      <td>84029E</td>\n",
       "      <td>RED WOOLLY HOTTIE WHITE HEART.</td>\n",
       "      <td>United Kingdom</td>\n",
       "    </tr>\n",
       "  </tbody>\n",
       "</table>\n",
       "</div>"
      ],
      "text/plain": [
       "  invoice_no stock_code                          description         country\n",
       "0     536365     85123A   WHITE HANGING HEART T-LIGHT HOLDER  United Kingdom\n",
       "1     536365      71053                  WHITE METAL LANTERN  United Kingdom\n",
       "2     536365     84406B       CREAM CUPID HEARTS COAT HANGER  United Kingdom\n",
       "3     536365     84029G  KNITTED UNION FLAG HOT WATER BOTTLE  United Kingdom\n",
       "4     536365     84029E       RED WOOLLY HOTTIE WHITE HEART.  United Kingdom"
      ]
     },
     "execution_count": 25,
     "metadata": {},
     "output_type": "execute_result"
    }
   ],
   "source": [
    "df_cat1.head()"
   ]
  },
  {
   "cell_type": "markdown",
   "id": "1851a51c",
   "metadata": {},
   "source": [
    "#### Invoice No"
   ]
  },
  {
   "cell_type": "code",
   "execution_count": 26,
   "id": "d2069a90",
   "metadata": {},
   "outputs": [
    {
     "data": {
      "text/html": [
       "<div>\n",
       "<style scoped>\n",
       "    .dataframe tbody tr th:only-of-type {\n",
       "        vertical-align: middle;\n",
       "    }\n",
       "\n",
       "    .dataframe tbody tr th {\n",
       "        vertical-align: top;\n",
       "    }\n",
       "\n",
       "    .dataframe thead th {\n",
       "        text-align: right;\n",
       "    }\n",
       "</style>\n",
       "<table border=\"1\" class=\"dataframe\">\n",
       "  <thead>\n",
       "    <tr style=\"text-align: right;\">\n",
       "      <th></th>\n",
       "      <th>invoice_no</th>\n",
       "      <th>stock_code</th>\n",
       "      <th>description</th>\n",
       "      <th>quantity</th>\n",
       "      <th>invoice_date</th>\n",
       "      <th>unit_price</th>\n",
       "      <th>country</th>\n",
       "      <th>customer_id</th>\n",
       "    </tr>\n",
       "  </thead>\n",
       "  <tbody>\n",
       "    <tr>\n",
       "      <th>485826</th>\n",
       "      <td>C577688</td>\n",
       "      <td>85048</td>\n",
       "      <td>15CM CHRISTMAS GLASS BALL 20 LIGHTS</td>\n",
       "      <td>-1</td>\n",
       "      <td>2011-11-21</td>\n",
       "      <td>7.95</td>\n",
       "      <td>United Kingdom</td>\n",
       "      <td>13890</td>\n",
       "    </tr>\n",
       "    <tr>\n",
       "      <th>256305</th>\n",
       "      <td>C559486</td>\n",
       "      <td>23236</td>\n",
       "      <td>DOILEY STORAGE TIN</td>\n",
       "      <td>-1</td>\n",
       "      <td>2011-07-08</td>\n",
       "      <td>2.89</td>\n",
       "      <td>United Kingdom</td>\n",
       "      <td>13047</td>\n",
       "    </tr>\n",
       "    <tr>\n",
       "      <th>229382</th>\n",
       "      <td>C557037</td>\n",
       "      <td>22192</td>\n",
       "      <td>BLUE DINER WALL CLOCK</td>\n",
       "      <td>-1</td>\n",
       "      <td>2011-06-16</td>\n",
       "      <td>8.50</td>\n",
       "      <td>United Kingdom</td>\n",
       "      <td>16814</td>\n",
       "    </tr>\n",
       "    <tr>\n",
       "      <th>14022</th>\n",
       "      <td>C537444</td>\n",
       "      <td>22580</td>\n",
       "      <td>ADVENT CALENDAR GINGHAM SACK</td>\n",
       "      <td>-8</td>\n",
       "      <td>2010-12-07</td>\n",
       "      <td>5.95</td>\n",
       "      <td>United Kingdom</td>\n",
       "      <td>14850</td>\n",
       "    </tr>\n",
       "    <tr>\n",
       "      <th>449039</th>\n",
       "      <td>C575081</td>\n",
       "      <td>23480</td>\n",
       "      <td>MINI LIGHTS WOODLAND MUSHROOMS</td>\n",
       "      <td>-5</td>\n",
       "      <td>2011-11-08</td>\n",
       "      <td>3.75</td>\n",
       "      <td>Sweden</td>\n",
       "      <td>12483</td>\n",
       "    </tr>\n",
       "  </tbody>\n",
       "</table>\n",
       "</div>"
      ],
      "text/plain": [
       "       invoice_no stock_code                          description  quantity  \\\n",
       "485826    C577688      85048  15CM CHRISTMAS GLASS BALL 20 LIGHTS        -1   \n",
       "256305    C559486      23236                   DOILEY STORAGE TIN        -1   \n",
       "229382    C557037      22192                BLUE DINER WALL CLOCK        -1   \n",
       "14022     C537444      22580         ADVENT CALENDAR GINGHAM SACK        -8   \n",
       "449039    C575081      23480       MINI LIGHTS WOODLAND MUSHROOMS        -5   \n",
       "\n",
       "       invoice_date  unit_price         country  customer_id  \n",
       "485826   2011-11-21        7.95  United Kingdom        13890  \n",
       "256305   2011-07-08        2.89  United Kingdom        13047  \n",
       "229382   2011-06-16        8.50  United Kingdom        16814  \n",
       "14022    2010-12-07        5.95  United Kingdom        14850  \n",
       "449039   2011-11-08        3.75          Sweden        12483  "
      ]
     },
     "metadata": {},
     "output_type": "display_data"
    },
    {
     "name": "stdout",
     "output_type": "stream",
     "text": [
      "9291 rows\n"
     ]
    }
   ],
   "source": [
    "aux1 = df1.loc[df1['invoice_no'].apply(lambda x: bool(re.search('[^0-9]+', x))), :]\n",
    "\n",
    "display(aux1.sample(5))\n",
    "\n",
    "print(aux1.shape[0], 'rows')"
   ]
  },
  {
   "cell_type": "markdown",
   "id": "2d7eb959",
   "metadata": {},
   "source": [
    "We know from the data description that `invoice` in what starts with C stands for returns.   \n",
    "Another thing we discovered (in the `custumer_id` analysis) is that the database has the purchase and return invoice represented by different numbers, not just the 'C' in front."
   ]
  },
  {
   "cell_type": "markdown",
   "id": "a98ec4ab",
   "metadata": {},
   "source": [
    "#### Stock Code"
   ]
  },
  {
   "cell_type": "code",
   "execution_count": 27,
   "id": "9de633cf",
   "metadata": {},
   "outputs": [
    {
     "data": {
      "text/html": [
       "<div>\n",
       "<style scoped>\n",
       "    .dataframe tbody tr th:only-of-type {\n",
       "        vertical-align: middle;\n",
       "    }\n",
       "\n",
       "    .dataframe tbody tr th {\n",
       "        vertical-align: top;\n",
       "    }\n",
       "\n",
       "    .dataframe thead th {\n",
       "        text-align: right;\n",
       "    }\n",
       "</style>\n",
       "<table border=\"1\" class=\"dataframe\">\n",
       "  <thead>\n",
       "    <tr style=\"text-align: right;\">\n",
       "      <th></th>\n",
       "      <th>invoice_no</th>\n",
       "      <th>stock_code</th>\n",
       "      <th>description</th>\n",
       "      <th>quantity</th>\n",
       "      <th>invoice_date</th>\n",
       "      <th>unit_price</th>\n",
       "      <th>country</th>\n",
       "      <th>customer_id</th>\n",
       "    </tr>\n",
       "  </thead>\n",
       "  <tbody>\n",
       "    <tr>\n",
       "      <th>245687</th>\n",
       "      <td>558626</td>\n",
       "      <td>POST</td>\n",
       "      <td>POSTAGE</td>\n",
       "      <td>1</td>\n",
       "      <td>2011-06-30</td>\n",
       "      <td>18.00</td>\n",
       "      <td>Germany</td>\n",
       "      <td>12569</td>\n",
       "    </tr>\n",
       "    <tr>\n",
       "      <th>473280</th>\n",
       "      <td>576789</td>\n",
       "      <td>POST</td>\n",
       "      <td>POSTAGE</td>\n",
       "      <td>1</td>\n",
       "      <td>2011-11-16</td>\n",
       "      <td>18.00</td>\n",
       "      <td>Germany</td>\n",
       "      <td>12569</td>\n",
       "    </tr>\n",
       "    <tr>\n",
       "      <th>114568</th>\n",
       "      <td>546027</td>\n",
       "      <td>POST</td>\n",
       "      <td>POSTAGE</td>\n",
       "      <td>2</td>\n",
       "      <td>2011-03-09</td>\n",
       "      <td>15.00</td>\n",
       "      <td>Netherlands</td>\n",
       "      <td>12759</td>\n",
       "    </tr>\n",
       "    <tr>\n",
       "      <th>80261</th>\n",
       "      <td>543030</td>\n",
       "      <td>POST</td>\n",
       "      <td>POSTAGE</td>\n",
       "      <td>1</td>\n",
       "      <td>2011-02-02</td>\n",
       "      <td>18.00</td>\n",
       "      <td>France</td>\n",
       "      <td>12437</td>\n",
       "    </tr>\n",
       "    <tr>\n",
       "      <th>41448</th>\n",
       "      <td>539856</td>\n",
       "      <td>M</td>\n",
       "      <td>Manual</td>\n",
       "      <td>1</td>\n",
       "      <td>2010-12-22</td>\n",
       "      <td>1298.40</td>\n",
       "      <td>United Kingdom</td>\n",
       "      <td>19304</td>\n",
       "    </tr>\n",
       "  </tbody>\n",
       "</table>\n",
       "</div>"
      ],
      "text/plain": [
       "       invoice_no stock_code description  quantity invoice_date  unit_price  \\\n",
       "245687     558626       POST     POSTAGE         1   2011-06-30       18.00   \n",
       "473280     576789       POST     POSTAGE         1   2011-11-16       18.00   \n",
       "114568     546027       POST     POSTAGE         2   2011-03-09       15.00   \n",
       "80261      543030       POST     POSTAGE         1   2011-02-02       18.00   \n",
       "41448      539856          M      Manual         1   2010-12-22     1298.40   \n",
       "\n",
       "               country  customer_id  \n",
       "245687         Germany        12569  \n",
       "473280         Germany        12569  \n",
       "114568     Netherlands        12759  \n",
       "80261           France        12437  \n",
       "41448   United Kingdom        19304  "
      ]
     },
     "metadata": {},
     "output_type": "display_data"
    },
    {
     "data": {
      "text/plain": [
       "array(['POST', 'D', 'DOT', 'M', 'S', 'AMAZONFEE', 'm', 'DCGSSBOY',\n",
       "       'DCGSSGIRL', 'PADS', 'B', 'CRUK'], dtype=object)"
      ]
     },
     "execution_count": 27,
     "metadata": {},
     "output_type": "execute_result"
    }
   ],
   "source": [
    "# getting stock_code with just characters\n",
    "aux2 = df1.loc[df1['stock_code'].apply(lambda x: bool(re.search('^[a-zA-Z]+$', x))), :]\n",
    "\n",
    "display(aux2.sample(5))\n",
    "\n",
    "aux2['stock_code'].unique()"
   ]
  },
  {
   "cell_type": "markdown",
   "id": "dd992b68",
   "metadata": {},
   "source": [
    "Some `stock_code` we have an idea of what it means, such as \"post\", others we don't. Since we know that some do not represent product purchases, we will discard the lines with these categories later on."
   ]
  },
  {
   "cell_type": "markdown",
   "id": "1dfd6214",
   "metadata": {},
   "source": [
    "#### Country"
   ]
  },
  {
   "cell_type": "code",
   "execution_count": 28,
   "id": "33e9f08e",
   "metadata": {},
   "outputs": [
    {
     "data": {
      "text/plain": [
       "array(['United Kingdom', 'France', 'Australia', 'Netherlands', 'Germany',\n",
       "       'Norway', 'EIRE', 'Switzerland', 'Spain', 'Poland', 'Portugal',\n",
       "       'Italy', 'Belgium', 'Lithuania', 'Japan', 'Iceland',\n",
       "       'Channel Islands', 'Denmark', 'Cyprus', 'Sweden', 'Austria',\n",
       "       'Israel', 'Finland', 'Bahrain', 'Greece', 'Hong Kong', 'Singapore',\n",
       "       'Lebanon', 'United Arab Emirates', 'Saudi Arabia',\n",
       "       'Czech Republic', 'Canada', 'Unspecified', 'Brazil', 'USA',\n",
       "       'European Community', 'Malta', 'RSA'], dtype=object)"
      ]
     },
     "execution_count": 28,
     "metadata": {},
     "output_type": "execute_result"
    }
   ],
   "source": [
    "df1['country'].unique()"
   ]
  },
  {
   "cell_type": "code",
   "execution_count": 29,
   "id": "f928a643",
   "metadata": {},
   "outputs": [
    {
     "data": {
      "text/plain": [
       "38"
      ]
     },
     "execution_count": 29,
     "metadata": {},
     "output_type": "execute_result"
    }
   ],
   "source": [
    "len(df1['country'].unique())"
   ]
  },
  {
   "cell_type": "code",
   "execution_count": 30,
   "id": "44f1aad6",
   "metadata": {},
   "outputs": [
    {
     "data": {
      "text/plain": [
       "United Kingdom   0.91\n",
       "Germany          0.02\n",
       "France           0.02\n",
       "EIRE             0.02\n",
       "Spain            0.00\n",
       "Netherlands      0.00\n",
       "Belgium          0.00\n",
       "Switzerland      0.00\n",
       "Portugal         0.00\n",
       "Australia        0.00\n",
       "Name: country, dtype: float64"
      ]
     },
     "execution_count": 30,
     "metadata": {},
     "output_type": "execute_result"
    }
   ],
   "source": [
    "df1['country'].value_counts(normalize=True).head(10)"
   ]
  },
  {
   "cell_type": "markdown",
   "id": "b9826f62",
   "metadata": {},
   "source": [
    "For `country`, which represents the country where the purchase was made, we have that the majority was made from the United Kingdom, representing 91%."
   ]
  },
  {
   "cell_type": "code",
   "execution_count": 31,
   "id": "aaea85c6",
   "metadata": {},
   "outputs": [
    {
     "data": {
      "text/html": [
       "<div>\n",
       "<style scoped>\n",
       "    .dataframe tbody tr th:only-of-type {\n",
       "        vertical-align: middle;\n",
       "    }\n",
       "\n",
       "    .dataframe tbody tr th {\n",
       "        vertical-align: top;\n",
       "    }\n",
       "\n",
       "    .dataframe thead th {\n",
       "        text-align: right;\n",
       "    }\n",
       "</style>\n",
       "<table border=\"1\" class=\"dataframe\">\n",
       "  <thead>\n",
       "    <tr style=\"text-align: right;\">\n",
       "      <th></th>\n",
       "      <th>country</th>\n",
       "      <th>customer_id</th>\n",
       "    </tr>\n",
       "  </thead>\n",
       "  <tbody>\n",
       "    <tr>\n",
       "      <th>36</th>\n",
       "      <td>United Kingdom</td>\n",
       "      <td>7587</td>\n",
       "    </tr>\n",
       "    <tr>\n",
       "      <th>14</th>\n",
       "      <td>Germany</td>\n",
       "      <td>95</td>\n",
       "    </tr>\n",
       "    <tr>\n",
       "      <th>13</th>\n",
       "      <td>France</td>\n",
       "      <td>90</td>\n",
       "    </tr>\n",
       "    <tr>\n",
       "      <th>10</th>\n",
       "      <td>EIRE</td>\n",
       "      <td>44</td>\n",
       "    </tr>\n",
       "    <tr>\n",
       "      <th>31</th>\n",
       "      <td>Spain</td>\n",
       "      <td>31</td>\n",
       "    </tr>\n",
       "    <tr>\n",
       "      <th>3</th>\n",
       "      <td>Belgium</td>\n",
       "      <td>25</td>\n",
       "    </tr>\n",
       "    <tr>\n",
       "      <th>33</th>\n",
       "      <td>Switzerland</td>\n",
       "      <td>24</td>\n",
       "    </tr>\n",
       "    <tr>\n",
       "      <th>27</th>\n",
       "      <td>Portugal</td>\n",
       "      <td>20</td>\n",
       "    </tr>\n",
       "    <tr>\n",
       "      <th>19</th>\n",
       "      <td>Italy</td>\n",
       "      <td>15</td>\n",
       "    </tr>\n",
       "    <tr>\n",
       "      <th>16</th>\n",
       "      <td>Hong Kong</td>\n",
       "      <td>15</td>\n",
       "    </tr>\n",
       "    <tr>\n",
       "      <th>12</th>\n",
       "      <td>Finland</td>\n",
       "      <td>12</td>\n",
       "    </tr>\n",
       "    <tr>\n",
       "      <th>1</th>\n",
       "      <td>Austria</td>\n",
       "      <td>11</td>\n",
       "    </tr>\n",
       "    <tr>\n",
       "      <th>25</th>\n",
       "      <td>Norway</td>\n",
       "      <td>10</td>\n",
       "    </tr>\n",
       "    <tr>\n",
       "      <th>24</th>\n",
       "      <td>Netherlands</td>\n",
       "      <td>9</td>\n",
       "    </tr>\n",
       "    <tr>\n",
       "      <th>0</th>\n",
       "      <td>Australia</td>\n",
       "      <td>9</td>\n",
       "    </tr>\n",
       "    <tr>\n",
       "      <th>37</th>\n",
       "      <td>Unspecified</td>\n",
       "      <td>9</td>\n",
       "    </tr>\n",
       "    <tr>\n",
       "      <th>9</th>\n",
       "      <td>Denmark</td>\n",
       "      <td>9</td>\n",
       "    </tr>\n",
       "    <tr>\n",
       "      <th>6</th>\n",
       "      <td>Channel Islands</td>\n",
       "      <td>9</td>\n",
       "    </tr>\n",
       "    <tr>\n",
       "      <th>7</th>\n",
       "      <td>Cyprus</td>\n",
       "      <td>8</td>\n",
       "    </tr>\n",
       "    <tr>\n",
       "      <th>32</th>\n",
       "      <td>Sweden</td>\n",
       "      <td>8</td>\n",
       "    </tr>\n",
       "    <tr>\n",
       "      <th>20</th>\n",
       "      <td>Japan</td>\n",
       "      <td>8</td>\n",
       "    </tr>\n",
       "    <tr>\n",
       "      <th>18</th>\n",
       "      <td>Israel</td>\n",
       "      <td>7</td>\n",
       "    </tr>\n",
       "    <tr>\n",
       "      <th>26</th>\n",
       "      <td>Poland</td>\n",
       "      <td>6</td>\n",
       "    </tr>\n",
       "    <tr>\n",
       "      <th>5</th>\n",
       "      <td>Canada</td>\n",
       "      <td>4</td>\n",
       "    </tr>\n",
       "    <tr>\n",
       "      <th>34</th>\n",
       "      <td>USA</td>\n",
       "      <td>4</td>\n",
       "    </tr>\n",
       "    <tr>\n",
       "      <th>2</th>\n",
       "      <td>Bahrain</td>\n",
       "      <td>4</td>\n",
       "    </tr>\n",
       "    <tr>\n",
       "      <th>15</th>\n",
       "      <td>Greece</td>\n",
       "      <td>4</td>\n",
       "    </tr>\n",
       "    <tr>\n",
       "      <th>23</th>\n",
       "      <td>Malta</td>\n",
       "      <td>2</td>\n",
       "    </tr>\n",
       "    <tr>\n",
       "      <th>35</th>\n",
       "      <td>United Arab Emirates</td>\n",
       "      <td>2</td>\n",
       "    </tr>\n",
       "    <tr>\n",
       "      <th>8</th>\n",
       "      <td>Czech Republic</td>\n",
       "      <td>1</td>\n",
       "    </tr>\n",
       "    <tr>\n",
       "      <th>22</th>\n",
       "      <td>Lithuania</td>\n",
       "      <td>1</td>\n",
       "    </tr>\n",
       "    <tr>\n",
       "      <th>11</th>\n",
       "      <td>European Community</td>\n",
       "      <td>1</td>\n",
       "    </tr>\n",
       "    <tr>\n",
       "      <th>21</th>\n",
       "      <td>Lebanon</td>\n",
       "      <td>1</td>\n",
       "    </tr>\n",
       "    <tr>\n",
       "      <th>28</th>\n",
       "      <td>RSA</td>\n",
       "      <td>1</td>\n",
       "    </tr>\n",
       "    <tr>\n",
       "      <th>29</th>\n",
       "      <td>Saudi Arabia</td>\n",
       "      <td>1</td>\n",
       "    </tr>\n",
       "    <tr>\n",
       "      <th>30</th>\n",
       "      <td>Singapore</td>\n",
       "      <td>1</td>\n",
       "    </tr>\n",
       "    <tr>\n",
       "      <th>17</th>\n",
       "      <td>Iceland</td>\n",
       "      <td>1</td>\n",
       "    </tr>\n",
       "    <tr>\n",
       "      <th>4</th>\n",
       "      <td>Brazil</td>\n",
       "      <td>1</td>\n",
       "    </tr>\n",
       "  </tbody>\n",
       "</table>\n",
       "</div>"
      ],
      "text/plain": [
       "                 country  customer_id\n",
       "36        United Kingdom         7587\n",
       "14               Germany           95\n",
       "13                France           90\n",
       "10                  EIRE           44\n",
       "31                 Spain           31\n",
       "3                Belgium           25\n",
       "33           Switzerland           24\n",
       "27              Portugal           20\n",
       "19                 Italy           15\n",
       "16             Hong Kong           15\n",
       "12               Finland           12\n",
       "1                Austria           11\n",
       "25                Norway           10\n",
       "24           Netherlands            9\n",
       "0              Australia            9\n",
       "37           Unspecified            9\n",
       "9                Denmark            9\n",
       "6        Channel Islands            9\n",
       "7                 Cyprus            8\n",
       "32                Sweden            8\n",
       "20                 Japan            8\n",
       "18                Israel            7\n",
       "26                Poland            6\n",
       "5                 Canada            4\n",
       "34                   USA            4\n",
       "2                Bahrain            4\n",
       "15                Greece            4\n",
       "23                 Malta            2\n",
       "35  United Arab Emirates            2\n",
       "8         Czech Republic            1\n",
       "22             Lithuania            1\n",
       "11    European Community            1\n",
       "21               Lebanon            1\n",
       "28                   RSA            1\n",
       "29          Saudi Arabia            1\n",
       "30             Singapore            1\n",
       "17               Iceland            1\n",
       "4                 Brazil            1"
      ]
     },
     "execution_count": 31,
     "metadata": {},
     "output_type": "execute_result"
    }
   ],
   "source": [
    "df1[['customer_id', 'country']].drop_duplicates().groupby('country').count().reset_index().sort_values('customer_id', ascending=False)"
   ]
  },
  {
   "cell_type": "markdown",
   "id": "b74cd0b3",
   "metadata": {},
   "source": [
    "# 2 DATA FILTERING"
   ]
  },
  {
   "cell_type": "code",
   "execution_count": 32,
   "id": "e9d3826c",
   "metadata": {},
   "outputs": [],
   "source": [
    "df2 = df1.copy()"
   ]
  },
  {
   "cell_type": "code",
   "execution_count": 33,
   "id": "3639bb48",
   "metadata": {},
   "outputs": [],
   "source": [
    "# unit_price\n",
    "df2 = df2.loc[df2['unit_price'] >= 0.04, :] # assuming that less than this value is gift\n",
    "\n",
    "# categorical attributes\n",
    "df2 = df2[~df2['stock_code'].isin(['POST', 'D', 'DOT', 'M', 'S', 'AMAZONFEE', 'm', 'DCGSSBOY', 'DCGSSGIRL', 'PADS', 'B', 'CRUK'])]\n",
    "\n",
    "# description\n",
    "# at this point we will not use the feature description, since it is unlikely to influence the clustering\n",
    "df2 = df2.drop(columns='description', axis=1)\n",
    "\n",
    "# country\n",
    "# For now, we will also not use countries, since 91% of the purchases were made from a single country. \n",
    "df2 = df2.drop(columns='country', axis=1)\n",
    "\n",
    "# quantity\n",
    "df2_cancelations = df2.loc[df1['quantity'] < 0, :]\n",
    "df2_purchases = df2.loc[df1['quantity'] >= 0, :]"
   ]
  },
  {
   "cell_type": "markdown",
   "id": "d7c36fb2",
   "metadata": {},
   "source": [
    "# 3.0  FEATURE ENGINEERING"
   ]
  },
  {
   "cell_type": "code",
   "execution_count": 34,
   "id": "454a9d70",
   "metadata": {},
   "outputs": [],
   "source": [
    "df3 = df2.copy() \n",
    "df3_cancelations = df2_cancelations.copy()\n",
    "df3_purchases = df2_purchases.copy()"
   ]
  },
  {
   "cell_type": "markdown",
   "id": "450f844b",
   "metadata": {},
   "source": [
    "## 3.1 Features Creation"
   ]
  },
  {
   "cell_type": "code",
   "execution_count": 35,
   "id": "2bacd074",
   "metadata": {},
   "outputs": [
    {
     "data": {
      "text/html": [
       "<div>\n",
       "<style scoped>\n",
       "    .dataframe tbody tr th:only-of-type {\n",
       "        vertical-align: middle;\n",
       "    }\n",
       "\n",
       "    .dataframe tbody tr th {\n",
       "        vertical-align: top;\n",
       "    }\n",
       "\n",
       "    .dataframe thead th {\n",
       "        text-align: right;\n",
       "    }\n",
       "</style>\n",
       "<table border=\"1\" class=\"dataframe\">\n",
       "  <thead>\n",
       "    <tr style=\"text-align: right;\">\n",
       "      <th></th>\n",
       "      <th>customer_id</th>\n",
       "    </tr>\n",
       "  </thead>\n",
       "  <tbody>\n",
       "    <tr>\n",
       "      <th>0</th>\n",
       "      <td>17850</td>\n",
       "    </tr>\n",
       "    <tr>\n",
       "      <th>1</th>\n",
       "      <td>13047</td>\n",
       "    </tr>\n",
       "    <tr>\n",
       "      <th>2</th>\n",
       "      <td>12583</td>\n",
       "    </tr>\n",
       "    <tr>\n",
       "      <th>3</th>\n",
       "      <td>13748</td>\n",
       "    </tr>\n",
       "    <tr>\n",
       "      <th>4</th>\n",
       "      <td>15100</td>\n",
       "    </tr>\n",
       "  </tbody>\n",
       "</table>\n",
       "</div>"
      ],
      "text/plain": [
       "   customer_id\n",
       "0        17850\n",
       "1        13047\n",
       "2        12583\n",
       "3        13748\n",
       "4        15100"
      ]
     },
     "execution_count": 35,
     "metadata": {},
     "output_type": "execute_result"
    }
   ],
   "source": [
    "# reference table\n",
    "df_ref = df3.drop(['invoice_no', 'stock_code', 'quantity', \n",
    "                   'invoice_date', 'unit_price'], axis=1).drop_duplicates(ignore_index=True)\n",
    "\n",
    "df_ref.head()"
   ]
  },
  {
   "cell_type": "markdown",
   "id": "8bda0912",
   "metadata": {},
   "source": [
    "####  Gross Revenue"
   ]
  },
  {
   "cell_type": "code",
   "execution_count": 36,
   "id": "deae7a75",
   "metadata": {},
   "outputs": [],
   "source": [
    "# gross revenue\n",
    "df3['gross_revenue'] = df3['quantity'] * df3['unit_price']\n",
    "\n",
    "df_gross_revenue = df3[['customer_id', 'gross_revenue']].groupby('customer_id').sum().reset_index()\n",
    "\n",
    "df_ref = pd.merge(df_ref, df_gross_revenue, on='customer_id', how='left')"
   ]
  },
  {
   "cell_type": "code",
   "execution_count": 37,
   "id": "861cc488",
   "metadata": {},
   "outputs": [
    {
     "data": {
      "text/html": [
       "<div>\n",
       "<style scoped>\n",
       "    .dataframe tbody tr th:only-of-type {\n",
       "        vertical-align: middle;\n",
       "    }\n",
       "\n",
       "    .dataframe tbody tr th {\n",
       "        vertical-align: top;\n",
       "    }\n",
       "\n",
       "    .dataframe thead th {\n",
       "        text-align: right;\n",
       "    }\n",
       "</style>\n",
       "<table border=\"1\" class=\"dataframe\">\n",
       "  <thead>\n",
       "    <tr style=\"text-align: right;\">\n",
       "      <th></th>\n",
       "      <th>customer_id</th>\n",
       "      <th>gross_revenue</th>\n",
       "    </tr>\n",
       "  </thead>\n",
       "  <tbody>\n",
       "    <tr>\n",
       "      <th>5615</th>\n",
       "      <td>22515</td>\n",
       "      <td>-1208.04</td>\n",
       "    </tr>\n",
       "    <tr>\n",
       "      <th>217</th>\n",
       "      <td>14213</td>\n",
       "      <td>-1192.20</td>\n",
       "    </tr>\n",
       "    <tr>\n",
       "      <th>3782</th>\n",
       "      <td>21005</td>\n",
       "      <td>-1096.14</td>\n",
       "    </tr>\n",
       "    <tr>\n",
       "      <th>1419</th>\n",
       "      <td>19439</td>\n",
       "      <td>-1050.15</td>\n",
       "    </tr>\n",
       "    <tr>\n",
       "      <th>794</th>\n",
       "      <td>19207</td>\n",
       "      <td>-966.92</td>\n",
       "    </tr>\n",
       "  </tbody>\n",
       "</table>\n",
       "</div>"
      ],
      "text/plain": [
       "      customer_id  gross_revenue\n",
       "5615        22515       -1208.04\n",
       "217         14213       -1192.20\n",
       "3782        21005       -1096.14\n",
       "1419        19439       -1050.15\n",
       "794         19207        -966.92"
      ]
     },
     "execution_count": 37,
     "metadata": {},
     "output_type": "execute_result"
    }
   ],
   "source": [
    "df_ref.sort_values('gross_revenue').head()"
   ]
  },
  {
   "cell_type": "markdown",
   "id": "edd84c0d",
   "metadata": {},
   "source": [
    "It doesn't make sense to have clients with negative `gross_revenue`, since to have a product canceled you must have bought that product, and the smallest possible value of `gross_revenue` that makes sense is 0. So let's eliminate those negative values from our analysis."
   ]
  },
  {
   "cell_type": "code",
   "execution_count": 38,
   "id": "d7d8a6ef",
   "metadata": {},
   "outputs": [],
   "source": [
    "df_ref = df_ref.loc[df_ref['gross_revenue'] >= 0].reset_index(drop = True)"
   ]
  },
  {
   "cell_type": "code",
   "execution_count": 39,
   "id": "a8806433",
   "metadata": {},
   "outputs": [
    {
     "data": {
      "text/html": [
       "<div>\n",
       "<style scoped>\n",
       "    .dataframe tbody tr th:only-of-type {\n",
       "        vertical-align: middle;\n",
       "    }\n",
       "\n",
       "    .dataframe tbody tr th {\n",
       "        vertical-align: top;\n",
       "    }\n",
       "\n",
       "    .dataframe thead th {\n",
       "        text-align: right;\n",
       "    }\n",
       "</style>\n",
       "<table border=\"1\" class=\"dataframe\">\n",
       "  <thead>\n",
       "    <tr style=\"text-align: right;\">\n",
       "      <th></th>\n",
       "      <th>customer_id</th>\n",
       "      <th>gross_revenue</th>\n",
       "    </tr>\n",
       "  </thead>\n",
       "  <tbody>\n",
       "    <tr>\n",
       "      <th>1205</th>\n",
       "      <td>13672</td>\n",
       "      <td>0.00</td>\n",
       "    </tr>\n",
       "    <tr>\n",
       "      <th>4092</th>\n",
       "      <td>18268</td>\n",
       "      <td>0.00</td>\n",
       "    </tr>\n",
       "    <tr>\n",
       "      <th>4827</th>\n",
       "      <td>14792</td>\n",
       "      <td>0.00</td>\n",
       "    </tr>\n",
       "    <tr>\n",
       "      <th>1350</th>\n",
       "      <td>12346</td>\n",
       "      <td>0.00</td>\n",
       "    </tr>\n",
       "    <tr>\n",
       "      <th>4722</th>\n",
       "      <td>13364</td>\n",
       "      <td>0.00</td>\n",
       "    </tr>\n",
       "  </tbody>\n",
       "</table>\n",
       "</div>"
      ],
      "text/plain": [
       "      customer_id  gross_revenue\n",
       "1205        13672           0.00\n",
       "4092        18268           0.00\n",
       "4827        14792           0.00\n",
       "1350        12346           0.00\n",
       "4722        13364           0.00"
      ]
     },
     "execution_count": 39,
     "metadata": {},
     "output_type": "execute_result"
    }
   ],
   "source": [
    "df_ref.sort_values('gross_revenue').head()"
   ]
  },
  {
   "cell_type": "markdown",
   "id": "345c11a9",
   "metadata": {},
   "source": [
    "#### Mean Ticket "
   ]
  },
  {
   "cell_type": "code",
   "execution_count": 40,
   "id": "85c804b2",
   "metadata": {},
   "outputs": [],
   "source": [
    "df_mean_ticket = (df3[['customer_id', 'gross_revenue']].groupby('customer_id').mean()\n",
    "                                                                              .reset_index()\n",
    "                                                                              .rename(columns={'gross_revenue':'mean_ticket'}))\n",
    "\n",
    "df_ref = pd.merge(df_ref, df_mean_ticket, on='customer_id', how='left')"
   ]
  },
  {
   "cell_type": "markdown",
   "id": "7363c1a3",
   "metadata": {},
   "source": [
    "#### Purchase Quantity"
   ]
  },
  {
   "cell_type": "code",
   "execution_count": 41,
   "id": "b5ef07e3",
   "metadata": {},
   "outputs": [],
   "source": [
    "df_qtdpurchases = (df3_purchases[['customer_id', 'invoice_no']].drop_duplicates().groupby('customer_id')\n",
    "                                                                                 .count()\n",
    "                                                                                 .reset_index()\n",
    "                                                                                 .rename(columns={'invoice_no': 'qtd_purchases'}))\n",
    "\n",
    "df_ref = pd.merge(df_ref, df_qtdpurchases, on='customer_id', how='left')"
   ]
  },
  {
   "cell_type": "markdown",
   "id": "22716257",
   "metadata": {},
   "source": [
    "#### Quantity of Products"
   ]
  },
  {
   "cell_type": "code",
   "execution_count": 42,
   "id": "10c68cd1",
   "metadata": {},
   "outputs": [],
   "source": [
    "df_qtdproducts = (df3_purchases[['customer_id', 'quantity']].groupby('customer_id').sum()\n",
    "                                                                                   .reset_index()\n",
    "                                                                                   .rename(columns={'quantity': 'qtd_products'}))\n",
    "                                                        \n",
    "                                                        \n",
    "df_ref = pd.merge(df_ref, df_qtdproducts, on = 'customer_id', how ='left')"
   ]
  },
  {
   "cell_type": "markdown",
   "id": "50715a70",
   "metadata": {},
   "source": [
    "#### Basket Size | Average of Products Per Purchase"
   ]
  },
  {
   "cell_type": "code",
   "execution_count": 43,
   "id": "2720abbd",
   "metadata": {},
   "outputs": [],
   "source": [
    "df_basket_size = (df3_purchases[['customer_id', 'invoice_no', 'quantity']].groupby('customer_id')\n",
    "                                                                          .agg(n_purchase=('invoice_no', 'nunique'),\n",
    "                                                                               n_products=('quantity', 'sum')).reset_index())\n",
    "\n",
    "df_basket_size['avg_products'] = df_basket_size['n_products'] / df_basket_size['n_purchase']\n",
    "\n",
    "df_ref = pd.merge(df_ref, df_basket_size[['customer_id', 'avg_products']], how='left', on='customer_id')"
   ]
  },
  {
   "cell_type": "markdown",
   "id": "de7fe6fa",
   "metadata": {},
   "source": [
    "#### Average of Distinct Products Per Purchase"
   ]
  },
  {
   "cell_type": "code",
   "execution_count": 44,
   "id": "b1ed7f3e",
   "metadata": {},
   "outputs": [],
   "source": [
    "df_dist_products = (df2_purchases[['customer_id', 'invoice_no', 'stock_code']].groupby('customer_id')\n",
    "                                                                              .agg(n_purchase=('invoice_no', 'nunique'),\n",
    "                                                                                   n_products=('stock_code', 'nunique')).reset_index())\n",
    "\n",
    "df_dist_products['avg_unique_products'] = df_dist_products['n_products'] / df_dist_products['n_purchase']\n",
    "\n",
    "df_ref = pd.merge(df_ref, df_dist_products[['customer_id', 'avg_unique_products']], how='left', on='customer_id')"
   ]
  },
  {
   "cell_type": "markdown",
   "id": "61ebd57c",
   "metadata": {},
   "source": [
    "#### Recency | Days Since Last Purchase"
   ]
  },
  {
   "cell_type": "code",
   "execution_count": 45,
   "id": "604839ff",
   "metadata": {},
   "outputs": [],
   "source": [
    "df_recency = df3_purchases[['customer_id', 'invoice_date']].groupby('customer_id').max().reset_index()\n",
    "df_recency['recency_days'] = (df3_purchases['invoice_date'].max() - df_recency['invoice_date']).dt.days\n",
    "df_recency = df_recency[['customer_id', 'recency_days']].copy()\n",
    "\n",
    "df_ref = pd.merge(df_ref, df_recency, on='customer_id', how='left')"
   ]
  },
  {
   "cell_type": "markdown",
   "id": "b65f4b2c",
   "metadata": {},
   "source": [
    "#### Frequency of Purchase"
   ]
  },
  {
   "cell_type": "code",
   "execution_count": 46,
   "id": "be4bfc9e",
   "metadata": {},
   "outputs": [],
   "source": [
    "df_frequency = (df3_purchases[['customer_id', 'invoice_no', 'invoice_date']].drop_duplicates()\n",
    "                                                                            .groupby('customer_id')\n",
    "                                                                            .agg(max_ = ('invoice_date', 'max'), \n",
    "                                                                                 min_ = ('invoice_date', 'min'),\n",
    "                                                                                 days_= ('invoice_date', lambda x: ((x.max() - x.min()).days) + 1),\n",
    "                                                                                 buy_ = ('invoice_no', 'count')).reset_index())\n",
    "\n",
    "df_frequency['purchase_frequency'] = df_frequency[['buy_', 'days_']].apply(lambda x: x['buy_'] / x['days_'] if x['days_'] != 0 else 0, axis=1)\n",
    "\n",
    "df_ref = pd.merge( df_ref, df_frequency[['customer_id', 'purchase_frequency']], on='customer_id', how='left' )"
   ]
  },
  {
   "cell_type": "markdown",
   "id": "d3404727",
   "metadata": {},
   "source": [
    "#### Quantity of Products Cancelled"
   ]
  },
  {
   "cell_type": "code",
   "execution_count": 47,
   "id": "5111d95c",
   "metadata": {},
   "outputs": [],
   "source": [
    "df_cancelations = (df3_cancelations[['customer_id', 'quantity']].groupby('customer_id').sum()\n",
    "                                                                                       .reset_index()\n",
    "                                                                                       .rename(columns={'quantity':'qtd_cancelled_products'}))\n",
    "\n",
    "df_cancelations['qtd_cancelled_products'] = df_cancelations['qtd_cancelled_products'] * -1\n",
    "\n",
    "df_ref = pd.merge(df_ref, df_cancelations, how='left', on='customer_id')\n",
    "df_ref.loc[df_ref['qtd_cancelled_products'].isna(), 'qtd_cancelled_products'] = 0\n",
    "df_ref['qtd_cancelled_products'] = df_ref['qtd_cancelled_products'].astype(np.int64)"
   ]
  },
  {
   "cell_type": "markdown",
   "id": "80577bb2",
   "metadata": {},
   "source": [
    "#### Cancelled Products Over Purchased Products"
   ]
  },
  {
   "cell_type": "code",
   "execution_count": 48,
   "id": "fd0b8e1c",
   "metadata": {},
   "outputs": [],
   "source": [
    "df_ref['cancelled_over_purchased'] = (df_ref[['qtd_products', 'qtd_cancelled_products']]\n",
    "                                      .apply(lambda x: x['qtd_cancelled_products'] / x['qtd_products'], axis=1))"
   ]
  },
  {
   "cell_type": "code",
   "execution_count": 49,
   "id": "c4cf3de6",
   "metadata": {},
   "outputs": [
    {
     "data": {
      "text/html": [
       "<div>\n",
       "<style scoped>\n",
       "    .dataframe tbody tr th:only-of-type {\n",
       "        vertical-align: middle;\n",
       "    }\n",
       "\n",
       "    .dataframe tbody tr th {\n",
       "        vertical-align: top;\n",
       "    }\n",
       "\n",
       "    .dataframe thead th {\n",
       "        text-align: right;\n",
       "    }\n",
       "</style>\n",
       "<table border=\"1\" class=\"dataframe\">\n",
       "  <thead>\n",
       "    <tr style=\"text-align: right;\">\n",
       "      <th></th>\n",
       "      <th>customer_id</th>\n",
       "      <th>gross_revenue</th>\n",
       "      <th>mean_ticket</th>\n",
       "      <th>qtd_purchases</th>\n",
       "      <th>qtd_products</th>\n",
       "      <th>avg_products</th>\n",
       "      <th>avg_unique_products</th>\n",
       "      <th>recency_days</th>\n",
       "      <th>purchase_frequency</th>\n",
       "      <th>qtd_cancelled_products</th>\n",
       "      <th>cancelled_over_purchased</th>\n",
       "    </tr>\n",
       "  </thead>\n",
       "  <tbody>\n",
       "    <tr>\n",
       "      <th>0</th>\n",
       "      <td>17850</td>\n",
       "      <td>5288.63</td>\n",
       "      <td>16.95</td>\n",
       "      <td>34</td>\n",
       "      <td>1733</td>\n",
       "      <td>50.97</td>\n",
       "      <td>0.62</td>\n",
       "      <td>372</td>\n",
       "      <td>17.00</td>\n",
       "      <td>40</td>\n",
       "      <td>0.02</td>\n",
       "    </tr>\n",
       "    <tr>\n",
       "      <th>1</th>\n",
       "      <td>13047</td>\n",
       "      <td>3089.10</td>\n",
       "      <td>15.92</td>\n",
       "      <td>9</td>\n",
       "      <td>1390</td>\n",
       "      <td>154.44</td>\n",
       "      <td>11.67</td>\n",
       "      <td>56</td>\n",
       "      <td>0.03</td>\n",
       "      <td>35</td>\n",
       "      <td>0.03</td>\n",
       "    </tr>\n",
       "    <tr>\n",
       "      <th>2</th>\n",
       "      <td>12583</td>\n",
       "      <td>6629.34</td>\n",
       "      <td>28.21</td>\n",
       "      <td>15</td>\n",
       "      <td>5028</td>\n",
       "      <td>335.20</td>\n",
       "      <td>7.60</td>\n",
       "      <td>2</td>\n",
       "      <td>0.04</td>\n",
       "      <td>50</td>\n",
       "      <td>0.01</td>\n",
       "    </tr>\n",
       "    <tr>\n",
       "      <th>3</th>\n",
       "      <td>13748</td>\n",
       "      <td>948.25</td>\n",
       "      <td>33.87</td>\n",
       "      <td>5</td>\n",
       "      <td>439</td>\n",
       "      <td>87.80</td>\n",
       "      <td>4.80</td>\n",
       "      <td>95</td>\n",
       "      <td>0.02</td>\n",
       "      <td>0</td>\n",
       "      <td>0.00</td>\n",
       "    </tr>\n",
       "    <tr>\n",
       "      <th>4</th>\n",
       "      <td>15100</td>\n",
       "      <td>635.10</td>\n",
       "      <td>105.85</td>\n",
       "      <td>3</td>\n",
       "      <td>80</td>\n",
       "      <td>26.67</td>\n",
       "      <td>0.33</td>\n",
       "      <td>333</td>\n",
       "      <td>0.07</td>\n",
       "      <td>22</td>\n",
       "      <td>0.28</td>\n",
       "    </tr>\n",
       "  </tbody>\n",
       "</table>\n",
       "</div>"
      ],
      "text/plain": [
       "   customer_id  gross_revenue  mean_ticket  qtd_purchases  qtd_products  \\\n",
       "0        17850        5288.63        16.95             34          1733   \n",
       "1        13047        3089.10        15.92              9          1390   \n",
       "2        12583        6629.34        28.21             15          5028   \n",
       "3        13748         948.25        33.87              5           439   \n",
       "4        15100         635.10       105.85              3            80   \n",
       "\n",
       "   avg_products  avg_unique_products  recency_days  purchase_frequency  \\\n",
       "0         50.97                 0.62           372               17.00   \n",
       "1        154.44                11.67            56                0.03   \n",
       "2        335.20                 7.60             2                0.04   \n",
       "3         87.80                 4.80            95                0.02   \n",
       "4         26.67                 0.33           333                0.07   \n",
       "\n",
       "   qtd_cancelled_products  cancelled_over_purchased  \n",
       "0                      40                      0.02  \n",
       "1                      35                      0.03  \n",
       "2                      50                      0.01  \n",
       "3                       0                      0.00  \n",
       "4                      22                      0.28  "
      ]
     },
     "execution_count": 49,
     "metadata": {},
     "output_type": "execute_result"
    }
   ],
   "source": [
    "df_ref.head()"
   ]
  },
  {
   "cell_type": "code",
   "execution_count": 50,
   "id": "eeba67af",
   "metadata": {},
   "outputs": [
    {
     "data": {
      "text/plain": [
       "customer_id                 0\n",
       "gross_revenue               0\n",
       "mean_ticket                 0\n",
       "qtd_purchases               0\n",
       "qtd_products                0\n",
       "avg_products                0\n",
       "avg_unique_products         0\n",
       "recency_days                0\n",
       "purchase_frequency          0\n",
       "qtd_cancelled_products      0\n",
       "cancelled_over_purchased    0\n",
       "dtype: int64"
      ]
     },
     "execution_count": 50,
     "metadata": {},
     "output_type": "execute_result"
    }
   ],
   "source": [
    "df_ref.isna().sum()"
   ]
  },
  {
   "cell_type": "markdown",
   "id": "118176df",
   "metadata": {},
   "source": [
    "# 4 EXPLORATORY DATA ANALYSIS"
   ]
  },
  {
   "cell_type": "code",
   "execution_count": 51,
   "id": "5b0987ec",
   "metadata": {},
   "outputs": [],
   "source": [
    "df4 = df_ref.copy()"
   ]
  },
  {
   "cell_type": "markdown",
   "id": "c4024d73",
   "metadata": {},
   "source": [
    "# 5 DATA PREPARATION"
   ]
  },
  {
   "cell_type": "code",
   "execution_count": 52,
   "id": "519598a0",
   "metadata": {},
   "outputs": [],
   "source": [
    "df5 = df4.copy()"
   ]
  },
  {
   "cell_type": "code",
   "execution_count": 53,
   "id": "3729f430",
   "metadata": {},
   "outputs": [],
   "source": [
    "mms = pp.MinMaxScaler()\n",
    "\n",
    "df5['gross_revenue'] = mms.fit_transform(df5[['gross_revenue']])\n",
    "df5['mean_ticket'] = mms.fit_transform(df5[['mean_ticket']])\n",
    "df5['qtd_purchases'] = mms.fit_transform(df5[['qtd_purchases']])\n",
    "df5['qtd_cancelled_products'] = mms.fit_transform(df5[['qtd_cancelled_products']])\n",
    "df5['cancelled_over_purchased'] = mms.fit_transform(df5[['cancelled_over_purchased']])\n",
    "df5['qtd_products'] = mms.fit_transform(df5[['qtd_products']])\n",
    "df5['avg_products'] = mms.fit_transform(df5[['avg_products']])\n",
    "df5['avg_unique_products'] = mms.fit_transform(df5[['avg_unique_products']])\n",
    "df5['recency_days'] = mms.fit_transform(df5[['recency_days']])\n",
    "df5['purchase_frequency'] = mms.fit_transform(df5[['purchase_frequency']])"
   ]
  },
  {
   "cell_type": "markdown",
   "id": "98b5f802",
   "metadata": {},
   "source": [
    "# 6 FEATURES SELECTION"
   ]
  },
  {
   "cell_type": "code",
   "execution_count": 54,
   "id": "0467b569",
   "metadata": {},
   "outputs": [],
   "source": [
    "df6 = df5.copy()"
   ]
  },
  {
   "cell_type": "markdown",
   "id": "2c55f6f3",
   "metadata": {},
   "source": [
    "# 7 HYPERPARAMETER FINE TUNNING"
   ]
  },
  {
   "cell_type": "code",
   "execution_count": 55,
   "id": "7efde538",
   "metadata": {},
   "outputs": [],
   "source": [
    "df7 = df6.copy()"
   ]
  },
  {
   "cell_type": "code",
   "execution_count": 56,
   "id": "8f01f5b3",
   "metadata": {},
   "outputs": [],
   "source": [
    "X = df7.drop(columns=['customer_id'])\n",
    "\n",
    "clusters = [2, 3, 4, 5, 6, 7]"
   ]
  },
  {
   "cell_type": "markdown",
   "id": "9c1a75a9",
   "metadata": {},
   "source": [
    "## 7.1 Within-Cluster Sum of Squares (WSS)"
   ]
  },
  {
   "cell_type": "code",
   "execution_count": 57,
   "id": "6a5b1792",
   "metadata": {},
   "outputs": [
    {
     "data": {
      "image/png": "[encoded data removed]",
      "text/plain": [
       "<Figure size 432x288 with 1 Axes>"
      ]
     },
     "metadata": {
      "needs_background": "light"
     },
     "output_type": "display_data"
    }
   ],
   "source": [
    "kmeans = KElbowVisualizer(c.KMeans(), k=clusters, timings=False)\n",
    "kmeans.fit(X)\n",
    "kmeans.show();"
   ]
  },
  {
   "cell_type": "markdown",
   "id": "2cb76af5",
   "metadata": {},
   "source": [
    "## 7.2 Silhouette Score"
   ]
  },
  {
   "cell_type": "code",
   "execution_count": 58,
   "id": "1c271a18",
   "metadata": {},
   "outputs": [
    {
     "data": {
      "image/png": "[encoded data removed]",
      "text/plain": [
       "<Figure size 432x288 with 1 Axes>"
      ]
     },
     "metadata": {
      "needs_background": "light"
     },
     "output_type": "display_data"
    }
   ],
   "source": [
    "kmeans = KElbowVisualizer(c.KMeans(), k=clusters, metric='silhouette', timings=False)\n",
    "kmeans.fit(X)\n",
    "\n",
    "kmeans.show();"
   ]
  },
  {
   "cell_type": "markdown",
   "id": "9a0288e0",
   "metadata": {},
   "source": [
    "## 7.3 Silhouette Analysis"
   ]
  },
  {
   "cell_type": "code",
   "execution_count": 59,
   "id": "5824da80",
   "metadata": {},
   "outputs": [
    {
     "data": {
      "image/png": "[encoded data removed]",
      "text/plain": [
       "<Figure size 1728x1296 with 6 Axes>"
      ]
     },
     "metadata": {
      "needs_background": "light"
     },
     "output_type": "display_data"
    }
   ],
   "source": [
    "fig, ax = plt.subplots(3, 2, figsize=(24, 18))\n",
    "\n",
    "for k in clusters:\n",
    "    km = c.KMeans(n_clusters=k, init='random', n_init=10, max_iter=100, random_state=42)\n",
    "    q, mod = divmod(k, 2)\n",
    "    \n",
    "    visualizer =  SilhouetteVisualizer(km, colors='yellowbrick', ax=ax[q-1][mod])\n",
    "    visualizer.fit(X)\n",
    "    visualizer.finalize()\n",
    "    \n",
    "ax[0, 0].title.set_text('Number of clusters = 2')\n",
    "ax[0, 1].title.set_text('Number of clusters = 3')\n",
    "ax[1, 0].title.set_text('Number of clusters = 4')\n",
    "ax[1, 1].title.set_text('Number of clusters = 5')\n",
    "ax[2, 0].title.set_text('Number of clusters = 6')\n",
    "ax[2, 1].title.set_text('Number of clusters = 7')\n",
    "\n",
    "plt.show()"
   ]
  },
  {
   "cell_type": "markdown",
   "id": "b87ce49b",
   "metadata": {},
   "source": [
    "# 8.0 MODEL TRAINING"
   ]
  },
  {
   "cell_type": "markdown",
   "id": "add7f0e9",
   "metadata": {},
   "source": [
    "## 8.1 K-Means"
   ]
  },
  {
   "cell_type": "code",
   "execution_count": 60,
   "id": "001250aa",
   "metadata": {},
   "outputs": [],
   "source": [
    "# model definition\n",
    "\n",
    "# keep 4 clusters to analyze with the result of the previous cycle\n",
    "k = 4          \n",
    "kmeans = c.KMeans(init='random', n_clusters=k, n_init=10, max_iter=300, random_state=42)\n",
    "\n",
    "# model training\n",
    "kmeans.fit(X)\n",
    "\n",
    "# clustering\n",
    "labels = kmeans.labels_"
   ]
  },
  {
   "cell_type": "markdown",
   "id": "2fa2062d",
   "metadata": {},
   "source": [
    "## 8.2 Cluster Validation"
   ]
  },
  {
   "cell_type": "code",
   "execution_count": 61,
   "id": "0845596e",
   "metadata": {},
   "outputs": [
    {
     "name": "stdout",
     "output_type": "stream",
     "text": [
      "WSS: 102.40\n",
      "SS : 0.43\n"
     ]
    }
   ],
   "source": [
    "## WSS \n",
    "print(f'WSS: {kmeans.inertia_:.2f}')\n",
    "\n",
    "## SS\n",
    "print(f'SS : {m.silhouette_score(X, labels, metric=\"euclidean\"):.2f}')"
   ]
  },
  {
   "cell_type": "markdown",
   "id": "100501d0",
   "metadata": {},
   "source": [
    "# 9 CLUSTER ANALYSIS"
   ]
  },
  {
   "cell_type": "code",
   "execution_count": 62,
   "id": "9cb15c7a",
   "metadata": {},
   "outputs": [
    {
     "data": {
      "text/html": [
       "<div>\n",
       "<style scoped>\n",
       "    .dataframe tbody tr th:only-of-type {\n",
       "        vertical-align: middle;\n",
       "    }\n",
       "\n",
       "    .dataframe tbody tr th {\n",
       "        vertical-align: top;\n",
       "    }\n",
       "\n",
       "    .dataframe thead th {\n",
       "        text-align: right;\n",
       "    }\n",
       "</style>\n",
       "<table border=\"1\" class=\"dataframe\">\n",
       "  <thead>\n",
       "    <tr style=\"text-align: right;\">\n",
       "      <th></th>\n",
       "      <th>customer_id</th>\n",
       "      <th>gross_revenue</th>\n",
       "      <th>mean_ticket</th>\n",
       "      <th>qtd_purchases</th>\n",
       "      <th>qtd_products</th>\n",
       "      <th>avg_products</th>\n",
       "      <th>avg_unique_products</th>\n",
       "      <th>recency_days</th>\n",
       "      <th>purchase_frequency</th>\n",
       "      <th>qtd_cancelled_products</th>\n",
       "      <th>cancelled_over_purchased</th>\n",
       "      <th>cluster</th>\n",
       "    </tr>\n",
       "  </thead>\n",
       "  <tbody>\n",
       "    <tr>\n",
       "      <th>0</th>\n",
       "      <td>17850</td>\n",
       "      <td>5288.63</td>\n",
       "      <td>16.95</td>\n",
       "      <td>34</td>\n",
       "      <td>1733</td>\n",
       "      <td>50.97</td>\n",
       "      <td>0.62</td>\n",
       "      <td>372</td>\n",
       "      <td>17.00</td>\n",
       "      <td>40</td>\n",
       "      <td>0.02</td>\n",
       "      <td>2</td>\n",
       "    </tr>\n",
       "    <tr>\n",
       "      <th>1</th>\n",
       "      <td>13047</td>\n",
       "      <td>3089.10</td>\n",
       "      <td>15.92</td>\n",
       "      <td>9</td>\n",
       "      <td>1390</td>\n",
       "      <td>154.44</td>\n",
       "      <td>11.67</td>\n",
       "      <td>56</td>\n",
       "      <td>0.03</td>\n",
       "      <td>35</td>\n",
       "      <td>0.03</td>\n",
       "      <td>3</td>\n",
       "    </tr>\n",
       "    <tr>\n",
       "      <th>2</th>\n",
       "      <td>12583</td>\n",
       "      <td>6629.34</td>\n",
       "      <td>28.21</td>\n",
       "      <td>15</td>\n",
       "      <td>5028</td>\n",
       "      <td>335.20</td>\n",
       "      <td>7.60</td>\n",
       "      <td>2</td>\n",
       "      <td>0.04</td>\n",
       "      <td>50</td>\n",
       "      <td>0.01</td>\n",
       "      <td>1</td>\n",
       "    </tr>\n",
       "    <tr>\n",
       "      <th>3</th>\n",
       "      <td>13748</td>\n",
       "      <td>948.25</td>\n",
       "      <td>33.87</td>\n",
       "      <td>5</td>\n",
       "      <td>439</td>\n",
       "      <td>87.80</td>\n",
       "      <td>4.80</td>\n",
       "      <td>95</td>\n",
       "      <td>0.02</td>\n",
       "      <td>0</td>\n",
       "      <td>0.00</td>\n",
       "      <td>3</td>\n",
       "    </tr>\n",
       "    <tr>\n",
       "      <th>4</th>\n",
       "      <td>15100</td>\n",
       "      <td>635.10</td>\n",
       "      <td>105.85</td>\n",
       "      <td>3</td>\n",
       "      <td>80</td>\n",
       "      <td>26.67</td>\n",
       "      <td>0.33</td>\n",
       "      <td>333</td>\n",
       "      <td>0.07</td>\n",
       "      <td>22</td>\n",
       "      <td>0.28</td>\n",
       "      <td>2</td>\n",
       "    </tr>\n",
       "  </tbody>\n",
       "</table>\n",
       "</div>"
      ],
      "text/plain": [
       "   customer_id  gross_revenue  mean_ticket  qtd_purchases  qtd_products  \\\n",
       "0        17850        5288.63        16.95             34          1733   \n",
       "1        13047        3089.10        15.92              9          1390   \n",
       "2        12583        6629.34        28.21             15          5028   \n",
       "3        13748         948.25        33.87              5           439   \n",
       "4        15100         635.10       105.85              3            80   \n",
       "\n",
       "   avg_products  avg_unique_products  recency_days  purchase_frequency  \\\n",
       "0         50.97                 0.62           372               17.00   \n",
       "1        154.44                11.67            56                0.03   \n",
       "2        335.20                 7.60             2                0.04   \n",
       "3         87.80                 4.80            95                0.02   \n",
       "4         26.67                 0.33           333                0.07   \n",
       "\n",
       "   qtd_cancelled_products  cancelled_over_purchased  cluster  \n",
       "0                      40                      0.02        2  \n",
       "1                      35                      0.03        3  \n",
       "2                      50                      0.01        1  \n",
       "3                       0                      0.00        3  \n",
       "4                      22                      0.28        2  "
      ]
     },
     "execution_count": 62,
     "metadata": {},
     "output_type": "execute_result"
    }
   ],
   "source": [
    "df9 = df_ref.copy()\n",
    "df9['cluster'] = labels\n",
    "df9.head()"
   ]
  },
  {
   "cell_type": "markdown",
   "id": "3f79ab30",
   "metadata": {},
   "source": [
    "## 9.2 UMAP"
   ]
  },
  {
   "cell_type": "code",
   "execution_count": 63,
   "id": "9f2f17aa",
   "metadata": {},
   "outputs": [
    {
     "data": {
      "image/png": "[encoded data removed]",
      "text/plain": [
       "<Figure size 864x576 with 1 Axes>"
      ]
     },
     "metadata": {
      "needs_background": "light"
     },
     "output_type": "display_data"
    }
   ],
   "source": [
    "df_viz = df9.drop(columns='customer_id', axis=1)\n",
    "reducer = umap.UMAP(n_neighbors=40, random_state=42)\n",
    "embedding = reducer.fit_transform(X)\n",
    "\n",
    "# embedding\n",
    "df_viz['embedding_x'] = embedding[:,0]\n",
    "df_viz['embedding_y'] = embedding[:,1]\n",
    "\n",
    "# plot UMAP\n",
    "plt.figure(figsize=(12, 8))\n",
    "sns.scatterplot(x='embedding_x', \n",
    "                y='embedding_y', \n",
    "                hue='cluster',\n",
    "                palette=sns.color_palette('hls', n_colors=len(df_viz['cluster'].unique())),\n",
    "                data=df_viz);"
   ]
  },
  {
   "cell_type": "markdown",
   "id": "57bec7c8",
   "metadata": {},
   "source": [
    "## 9.3 Cluster Profile"
   ]
  },
  {
   "cell_type": "code",
   "execution_count": 64,
   "id": "15f9c6ee",
   "metadata": {},
   "outputs": [],
   "source": [
    "# number of customers\n",
    "df_cluster = df9[['customer_id', 'cluster']].groupby('cluster').count().reset_index().rename(columns={'customer_id': 'qtd_customers'})\n",
    "df_cluster['perc_customer'] = df_cluster['qtd_customers'] / (df_cluster['qtd_customers'].sum()) * 100\n",
    "\n",
    "# gross revenue\n",
    "df_gross_revenue = df9[['gross_revenue', 'cluster']].groupby('cluster').mean().reset_index()\n",
    "df_cluster = pd.merge(df_cluster, df_gross_revenue, how='inner', on='cluster' )\n",
    "\n",
    "# mean ticket\n",
    "df_ticket = df9[['mean_ticket', 'cluster']].groupby('cluster').mean().reset_index()\n",
    "df_cluster = pd.merge(df_cluster, df_ticket, how='inner', on='cluster')\n",
    "\n",
    "# qtd purchases\n",
    "df_purchases = (df9[['qtd_purchases', 'cluster']].groupby('cluster').mean()\n",
    "                                                                    .reset_index().rename(columns={'qtd_purchases':'purchases'}))\n",
    "\n",
    "df_cluster = pd.merge(df_cluster, df_purchases, how='inner', on='cluster')\n",
    "\n",
    "# qtd products\n",
    "df_products = (df9[['qtd_products', 'cluster']].groupby('cluster').mean()\n",
    "                                                                  .reset_index()\n",
    "                                                                  .rename(columns={'qtd_products':'products'}))\n",
    "\n",
    "df_cluster = pd.merge(df_cluster, df_products, how='inner', on='cluster')\n",
    "\n",
    "# qtd unique products\n",
    "df_unique_products = (df9[['avg_unique_products', 'cluster']].groupby('cluster').mean()\n",
    "                                                                                .reset_index()\n",
    "                                                                                .rename(columns={'avg_unique_products':'unique_products'}))\n",
    "\n",
    "df_cluster = pd.merge(df_cluster, df_unique_products, how='inner', on='cluster')\n",
    "\n",
    "# recency days\n",
    "df_recency_days = df9[['recency_days', 'cluster']].groupby('cluster').mean().reset_index()\n",
    "df_cluster = pd.merge(df_cluster, df_recency_days, how='inner', on='cluster')\n",
    "\n",
    "# purchased frequency\n",
    "df_purchased_frequency = df9[['purchase_frequency', 'cluster']].groupby('cluster').mean().reset_index()\n",
    "df_cluster = pd.merge(df_cluster, df_purchased_frequency, how='inner', on='cluster')\n",
    "\n",
    "# qtd cancelled products\n",
    "df_cancelled_products = (df9[['qtd_cancelled_products', 'cluster']].groupby('cluster').mean()\n",
    "                                                                                      .reset_index()\n",
    "                                                                                      .rename(columns={'qtd_cancelled_products':'cancelled_products'}))                            \n",
    "\n",
    "df_cluster = pd.merge(df_cluster, df_cancelled_products, how='inner', on='cluster')\n",
    "\n",
    "# cancelled products over purchased products\n",
    "df_cluster['cancelled_over_purchased'] = (df_cluster[['products', 'cancelled_products']]\n",
    "                                          .apply(lambda x: x['cancelled_products'] / x['products'], axis=1))"
   ]
  },
  {
   "cell_type": "code",
   "execution_count": 65,
   "id": "0c710eaa",
   "metadata": {},
   "outputs": [
    {
     "data": {
      "text/html": [
       "<div>\n",
       "<style scoped>\n",
       "    .dataframe tbody tr th:only-of-type {\n",
       "        vertical-align: middle;\n",
       "    }\n",
       "\n",
       "    .dataframe tbody tr th {\n",
       "        vertical-align: top;\n",
       "    }\n",
       "\n",
       "    .dataframe thead th {\n",
       "        text-align: right;\n",
       "    }\n",
       "</style>\n",
       "<table border=\"1\" class=\"dataframe\">\n",
       "  <thead>\n",
       "    <tr style=\"text-align: right;\">\n",
       "      <th></th>\n",
       "      <th>cluster</th>\n",
       "      <th>qtd_customers</th>\n",
       "      <th>perc_customer</th>\n",
       "      <th>gross_revenue</th>\n",
       "      <th>mean_ticket</th>\n",
       "      <th>purchases</th>\n",
       "      <th>products</th>\n",
       "      <th>unique_products</th>\n",
       "      <th>recency_days</th>\n",
       "      <th>purchase_frequency</th>\n",
       "      <th>cancelled_products</th>\n",
       "      <th>cancelled_over_purchased</th>\n",
       "    </tr>\n",
       "  </thead>\n",
       "  <tbody>\n",
       "    <tr>\n",
       "      <th>0</th>\n",
       "      <td>0</td>\n",
       "      <td>1080</td>\n",
       "      <td>18.94</td>\n",
       "      <td>663.45</td>\n",
       "      <td>33.85</td>\n",
       "      <td>1.49</td>\n",
       "      <td>295.77</td>\n",
       "      <td>40.74</td>\n",
       "      <td>190.83</td>\n",
       "      <td>0.77</td>\n",
       "      <td>11.89</td>\n",
       "      <td>0.04</td>\n",
       "    </tr>\n",
       "    <tr>\n",
       "      <th>1</th>\n",
       "      <td>1</td>\n",
       "      <td>2367</td>\n",
       "      <td>41.50</td>\n",
       "      <td>3018.87</td>\n",
       "      <td>28.73</td>\n",
       "      <td>5.97</td>\n",
       "      <td>1783.25</td>\n",
       "      <td>30.17</td>\n",
       "      <td>19.73</td>\n",
       "      <td>0.27</td>\n",
       "      <td>66.99</td>\n",
       "      <td>0.04</td>\n",
       "    </tr>\n",
       "    <tr>\n",
       "      <th>2</th>\n",
       "      <td>2</td>\n",
       "      <td>987</td>\n",
       "      <td>17.31</td>\n",
       "      <td>700.65</td>\n",
       "      <td>22.85</td>\n",
       "      <td>1.17</td>\n",
       "      <td>321.16</td>\n",
       "      <td>53.75</td>\n",
       "      <td>311.58</td>\n",
       "      <td>0.96</td>\n",
       "      <td>77.94</td>\n",
       "      <td>0.24</td>\n",
       "    </tr>\n",
       "    <tr>\n",
       "      <th>3</th>\n",
       "      <td>3</td>\n",
       "      <td>1269</td>\n",
       "      <td>22.25</td>\n",
       "      <td>989.19</td>\n",
       "      <td>26.66</td>\n",
       "      <td>2.28</td>\n",
       "      <td>566.75</td>\n",
       "      <td>34.69</td>\n",
       "      <td>83.40</td>\n",
       "      <td>0.55</td>\n",
       "      <td>7.43</td>\n",
       "      <td>0.01</td>\n",
       "    </tr>\n",
       "  </tbody>\n",
       "</table>\n",
       "</div>"
      ],
      "text/plain": [
       "   cluster  qtd_customers  perc_customer  gross_revenue  mean_ticket  \\\n",
       "0        0           1080          18.94         663.45        33.85   \n",
       "1        1           2367          41.50        3018.87        28.73   \n",
       "2        2            987          17.31         700.65        22.85   \n",
       "3        3           1269          22.25         989.19        26.66   \n",
       "\n",
       "   purchases  products  unique_products  recency_days  purchase_frequency  \\\n",
       "0       1.49    295.77            40.74        190.83                0.77   \n",
       "1       5.97   1783.25            30.17         19.73                0.27   \n",
       "2       1.17    321.16            53.75        311.58                0.96   \n",
       "3       2.28    566.75            34.69         83.40                0.55   \n",
       "\n",
       "   cancelled_products  cancelled_over_purchased  \n",
       "0               11.89                      0.04  \n",
       "1               66.99                      0.04  \n",
       "2               77.94                      0.24  \n",
       "3                7.43                      0.01  "
      ]
     },
     "execution_count": 65,
     "metadata": {},
     "output_type": "execute_result"
    }
   ],
   "source": [
    "df_cluster "
   ]
  }
 ],
 "metadata": {
  "kernelspec": {
   "display_name": "Python 3 (ipykernel)",
   "language": "python",
   "name": "python3"
  },
  "language_info": {
   "codemirror_mode": {
    "name": "ipython",
    "version": 3
   },
   "file_extension": ".py",
   "mimetype": "text/x-python",
   "name": "python",
   "nbconvert_exporter": "python",
   "pygments_lexer": "ipython3",
   "version": "3.9.12"
  }
 },
 "nbformat": 4,
 "nbformat_minor": 5
}
