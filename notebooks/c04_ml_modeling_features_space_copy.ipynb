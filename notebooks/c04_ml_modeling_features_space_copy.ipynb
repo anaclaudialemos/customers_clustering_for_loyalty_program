{
 "cells": [
  {
   "cell_type": "markdown",
   "id": "25464eb3",
   "metadata": {},
   "source": [
    "# 0.0 IMPORTS"
   ]
  },
  {
   "cell_type": "code",
   "execution_count": 87,
   "id": "abc1b00b",
   "metadata": {},
   "outputs": [],
   "source": [
    "import re\n",
    "import sweetviz  \n",
    "import optuna\n",
    "\n",
    "import numpy                 as np\n",
    "import pandas                as pd\n",
    "\n",
    "import seaborn               as sns\n",
    "import matplotlib.patches    as mpatches\n",
    "import matplotlib.cm         as cm\n",
    "import scikitplot            as skplt\n",
    "import plotly.express        as px\n",
    "import umap.umap_            as umap\n",
    "\n",
    "from sklearn import cluster  as c\n",
    "from sklearn import metrics  as m\n",
    "\n",
    "from pandas_profiling        import ProfileReport\n",
    "from matplotlib              import pyplot as plt\n",
    "from IPython.core.display    import HTML\n",
    "from IPython.display         import Image\n",
    "\n",
    "from sklearn                 import preprocessing as pp\n",
    "from yellowbrick.cluster     import KElbowVisualizer, SilhouetteVisualizer\n",
    "from sklearn.metrics         import silhouette_samples, silhouette_score\n",
    "\n",
    "from sklearn                 import ensemble      as en\n",
    "from sklearn                 import decomposition as dd\n",
    "from sklearn                 import manifold      as mn\n",
    "from sklearn                 import mixture       as mx\n",
    "from scipy.cluster           import hierarchy     as hc\n",
    "\n",
    "from collections             import Counter"
   ]
  },
  {
   "cell_type": "markdown",
   "id": "fc8afad7",
   "metadata": {},
   "source": [
    "## 0.1 Helper Functions"
   ]
  },
  {
   "cell_type": "code",
   "execution_count": 2,
   "id": "315361e8",
   "metadata": {},
   "outputs": [],
   "source": [
    "def personal_settings():   \n",
    "    display(HTML('<style>.container{width:80% !important;}</style>'))\n",
    "    np.set_printoptions(suppress=True)\n",
    "    pd.options.display.float_format = '{:.6f}'.format\n",
    "    pd.options.mode.chained_assignment = None\n",
    "    \n",
    "    plt.style.use( 'bmh' )\n",
    "    plt.rcParams['figure.figsize'] = [20,10]\n",
    "    plt.rcParams['font.size'] = 24\n",
    "    \n",
    "    sns.set()"
   ]
  },
  {
   "cell_type": "code",
   "execution_count": 3,
   "id": "21002aaf",
   "metadata": {},
   "outputs": [
    {
     "data": {
      "text/html": [
       "<style>.container{width:80% !important;}</style>"
      ],
      "text/plain": [
       "<IPython.core.display.HTML object>"
      ]
     },
     "metadata": {},
     "output_type": "display_data"
    }
   ],
   "source": [
    "personal_settings()"
   ]
  },
  {
   "cell_type": "markdown",
   "id": "660ba11f",
   "metadata": {},
   "source": [
    "## 0.2 Load Data"
   ]
  },
  {
   "cell_type": "code",
   "execution_count": 4,
   "id": "a4ce7ec4",
   "metadata": {},
   "outputs": [],
   "source": [
    "df_raw = pd.read_csv('../data/OnlineRetail.csv')"
   ]
  },
  {
   "cell_type": "markdown",
   "id": "88cc188d",
   "metadata": {},
   "source": [
    "# 1 DATA DESCRIPTION"
   ]
  },
  {
   "cell_type": "code",
   "execution_count": 5,
   "id": "1494f3ab",
   "metadata": {},
   "outputs": [],
   "source": [
    "df1 = df_raw.copy()"
   ]
  },
  {
   "cell_type": "code",
   "execution_count": 6,
   "id": "f7e345bf",
   "metadata": {},
   "outputs": [
    {
     "data": {
      "text/html": [
       "<div>\n",
       "<style scoped>\n",
       "    .dataframe tbody tr th:only-of-type {\n",
       "        vertical-align: middle;\n",
       "    }\n",
       "\n",
       "    .dataframe tbody tr th {\n",
       "        vertical-align: top;\n",
       "    }\n",
       "\n",
       "    .dataframe thead th {\n",
       "        text-align: right;\n",
       "    }\n",
       "</style>\n",
       "<table border=\"1\" class=\"dataframe\">\n",
       "  <thead>\n",
       "    <tr style=\"text-align: right;\">\n",
       "      <th></th>\n",
       "      <th>InvoiceNo</th>\n",
       "      <th>StockCode</th>\n",
       "      <th>Description</th>\n",
       "      <th>Quantity</th>\n",
       "      <th>InvoiceDate</th>\n",
       "      <th>UnitPrice</th>\n",
       "      <th>CustomerID</th>\n",
       "      <th>Country</th>\n",
       "    </tr>\n",
       "  </thead>\n",
       "  <tbody>\n",
       "    <tr>\n",
       "      <th>0</th>\n",
       "      <td>536365</td>\n",
       "      <td>85123A</td>\n",
       "      <td>WHITE HANGING HEART T-LIGHT HOLDER</td>\n",
       "      <td>6</td>\n",
       "      <td>2010-12-01 08:26:00</td>\n",
       "      <td>2.550000</td>\n",
       "      <td>17850.000000</td>\n",
       "      <td>United Kingdom</td>\n",
       "    </tr>\n",
       "    <tr>\n",
       "      <th>1</th>\n",
       "      <td>536365</td>\n",
       "      <td>71053</td>\n",
       "      <td>WHITE METAL LANTERN</td>\n",
       "      <td>6</td>\n",
       "      <td>2010-12-01 08:26:00</td>\n",
       "      <td>3.390000</td>\n",
       "      <td>17850.000000</td>\n",
       "      <td>United Kingdom</td>\n",
       "    </tr>\n",
       "    <tr>\n",
       "      <th>2</th>\n",
       "      <td>536365</td>\n",
       "      <td>84406B</td>\n",
       "      <td>CREAM CUPID HEARTS COAT HANGER</td>\n",
       "      <td>8</td>\n",
       "      <td>2010-12-01 08:26:00</td>\n",
       "      <td>2.750000</td>\n",
       "      <td>17850.000000</td>\n",
       "      <td>United Kingdom</td>\n",
       "    </tr>\n",
       "    <tr>\n",
       "      <th>3</th>\n",
       "      <td>536365</td>\n",
       "      <td>84029G</td>\n",
       "      <td>KNITTED UNION FLAG HOT WATER BOTTLE</td>\n",
       "      <td>6</td>\n",
       "      <td>2010-12-01 08:26:00</td>\n",
       "      <td>3.390000</td>\n",
       "      <td>17850.000000</td>\n",
       "      <td>United Kingdom</td>\n",
       "    </tr>\n",
       "    <tr>\n",
       "      <th>4</th>\n",
       "      <td>536365</td>\n",
       "      <td>84029E</td>\n",
       "      <td>RED WOOLLY HOTTIE WHITE HEART.</td>\n",
       "      <td>6</td>\n",
       "      <td>2010-12-01 08:26:00</td>\n",
       "      <td>3.390000</td>\n",
       "      <td>17850.000000</td>\n",
       "      <td>United Kingdom</td>\n",
       "    </tr>\n",
       "  </tbody>\n",
       "</table>\n",
       "</div>"
      ],
      "text/plain": [
       "  InvoiceNo StockCode                          Description  Quantity  \\\n",
       "0    536365    85123A   WHITE HANGING HEART T-LIGHT HOLDER         6   \n",
       "1    536365     71053                  WHITE METAL LANTERN         6   \n",
       "2    536365    84406B       CREAM CUPID HEARTS COAT HANGER         8   \n",
       "3    536365    84029G  KNITTED UNION FLAG HOT WATER BOTTLE         6   \n",
       "4    536365    84029E       RED WOOLLY HOTTIE WHITE HEART.         6   \n",
       "\n",
       "           InvoiceDate  UnitPrice   CustomerID         Country  \n",
       "0  2010-12-01 08:26:00   2.550000 17850.000000  United Kingdom  \n",
       "1  2010-12-01 08:26:00   3.390000 17850.000000  United Kingdom  \n",
       "2  2010-12-01 08:26:00   2.750000 17850.000000  United Kingdom  \n",
       "3  2010-12-01 08:26:00   3.390000 17850.000000  United Kingdom  \n",
       "4  2010-12-01 08:26:00   3.390000 17850.000000  United Kingdom  "
      ]
     },
     "execution_count": 6,
     "metadata": {},
     "output_type": "execute_result"
    }
   ],
   "source": [
    "df1.head()"
   ]
  },
  {
   "cell_type": "markdown",
   "id": "f0e3205d",
   "metadata": {},
   "source": [
    "## 1.1 Data Dimensions"
   ]
  },
  {
   "cell_type": "code",
   "execution_count": 7,
   "id": "b84cdb22",
   "metadata": {},
   "outputs": [
    {
     "name": "stdout",
     "output_type": "stream",
     "text": [
      "541909 rows\n",
      "8 columns\n"
     ]
    }
   ],
   "source": [
    "print(df1.shape[0], 'rows')\n",
    "print(df1.shape[1], 'columns')"
   ]
  },
  {
   "cell_type": "markdown",
   "id": "692b1ab8",
   "metadata": {},
   "source": [
    "## 1.2 Rename columns"
   ]
  },
  {
   "cell_type": "code",
   "execution_count": 8,
   "id": "54908cbc",
   "metadata": {},
   "outputs": [
    {
     "data": {
      "text/plain": [
       "Index(['InvoiceNo', 'StockCode', 'Description', 'Quantity', 'InvoiceDate',\n",
       "       'UnitPrice', 'CustomerID', 'Country'],\n",
       "      dtype='object')"
      ]
     },
     "execution_count": 8,
     "metadata": {},
     "output_type": "execute_result"
    }
   ],
   "source": [
    "df1.columns "
   ]
  },
  {
   "cell_type": "code",
   "execution_count": 9,
   "id": "86b24d6b",
   "metadata": {},
   "outputs": [],
   "source": [
    "cols_new = ['invoice_no', 'stock_code', 'description', 'quantity', 'invoice_date','unit_price', 'customer_id', 'country']\n",
    "df1.columns = cols_new"
   ]
  },
  {
   "cell_type": "markdown",
   "id": "d91691f2",
   "metadata": {},
   "source": [
    "## 1.2 Data Descriptions"
   ]
  },
  {
   "cell_type": "markdown",
   "id": "e7b79098",
   "metadata": {},
   "source": [
    "* `invoice_no` | A 6-digit integral number uniquely assigned to each transaction. If this code starts with letter `c`, it indicates a cancellation. \n",
    "* `stock_code` | A 5-digit integral number uniquely assigned to each distinct product.   \n",
    "* `description` | Product name. \n",
    "* `quantity` | The quantities of each product (item) per transaction.  \n",
    "* `invoice_date` | The day and time when each transaction was generated.    \n",
    "* `unit_price` | Product price per unit in sterling.\n",
    "* `customer_iD` | A 5-digit integral number uniquely assigned to each customer.    \n",
    "* `country` | The name of the country where each customer resides.   "
   ]
  },
  {
   "cell_type": "markdown",
   "id": "6aa37832",
   "metadata": {},
   "source": [
    "## 1.3 Data Types"
   ]
  },
  {
   "cell_type": "code",
   "execution_count": 10,
   "id": "c023965a",
   "metadata": {},
   "outputs": [
    {
     "data": {
      "text/html": [
       "<div>\n",
       "<style scoped>\n",
       "    .dataframe tbody tr th:only-of-type {\n",
       "        vertical-align: middle;\n",
       "    }\n",
       "\n",
       "    .dataframe tbody tr th {\n",
       "        vertical-align: top;\n",
       "    }\n",
       "\n",
       "    .dataframe thead th {\n",
       "        text-align: right;\n",
       "    }\n",
       "</style>\n",
       "<table border=\"1\" class=\"dataframe\">\n",
       "  <thead>\n",
       "    <tr style=\"text-align: right;\">\n",
       "      <th></th>\n",
       "      <th>attributes</th>\n",
       "      <th>dtypes</th>\n",
       "      <th>nunique</th>\n",
       "      <th>sample</th>\n",
       "    </tr>\n",
       "  </thead>\n",
       "  <tbody>\n",
       "    <tr>\n",
       "      <th>0</th>\n",
       "      <td>invoice_no</td>\n",
       "      <td>object</td>\n",
       "      <td>25900</td>\n",
       "      <td>[555000, 578451]</td>\n",
       "    </tr>\n",
       "    <tr>\n",
       "      <th>1</th>\n",
       "      <td>stock_code</td>\n",
       "      <td>object</td>\n",
       "      <td>4070</td>\n",
       "      <td>[84797B, 21157]</td>\n",
       "    </tr>\n",
       "    <tr>\n",
       "      <th>2</th>\n",
       "      <td>description</td>\n",
       "      <td>object</td>\n",
       "      <td>4223</td>\n",
       "      <td>[VINTAGE DOILY JUMBO BAG RED , IVORY CHANDELIE...</td>\n",
       "    </tr>\n",
       "    <tr>\n",
       "      <th>3</th>\n",
       "      <td>quantity</td>\n",
       "      <td>int64</td>\n",
       "      <td>722</td>\n",
       "      <td>[3000, 375]</td>\n",
       "    </tr>\n",
       "    <tr>\n",
       "      <th>4</th>\n",
       "      <td>invoice_date</td>\n",
       "      <td>object</td>\n",
       "      <td>23260</td>\n",
       "      <td>[2011-11-15 11:30:00, 2011-02-11 14:12:00]</td>\n",
       "    </tr>\n",
       "    <tr>\n",
       "      <th>5</th>\n",
       "      <td>unit_price</td>\n",
       "      <td>float64</td>\n",
       "      <td>1630</td>\n",
       "      <td>[182.37, 455.75]</td>\n",
       "    </tr>\n",
       "    <tr>\n",
       "      <th>6</th>\n",
       "      <td>customer_id</td>\n",
       "      <td>float64</td>\n",
       "      <td>4372</td>\n",
       "      <td>[12425.0, 16182.0]</td>\n",
       "    </tr>\n",
       "    <tr>\n",
       "      <th>7</th>\n",
       "      <td>country</td>\n",
       "      <td>object</td>\n",
       "      <td>38</td>\n",
       "      <td>[Austria, Portugal]</td>\n",
       "    </tr>\n",
       "  </tbody>\n",
       "</table>\n",
       "</div>"
      ],
      "text/plain": [
       "     attributes   dtypes  nunique  \\\n",
       "0    invoice_no   object    25900   \n",
       "1    stock_code   object     4070   \n",
       "2   description   object     4223   \n",
       "3      quantity    int64      722   \n",
       "4  invoice_date   object    23260   \n",
       "5    unit_price  float64     1630   \n",
       "6   customer_id  float64     4372   \n",
       "7       country   object       38   \n",
       "\n",
       "                                              sample  \n",
       "0                                   [555000, 578451]  \n",
       "1                                    [84797B, 21157]  \n",
       "2  [VINTAGE DOILY JUMBO BAG RED , IVORY CHANDELIE...  \n",
       "3                                        [3000, 375]  \n",
       "4         [2011-11-15 11:30:00, 2011-02-11 14:12:00]  \n",
       "5                                   [182.37, 455.75]  \n",
       "6                                 [12425.0, 16182.0]  \n",
       "7                                [Austria, Portugal]  "
      ]
     },
     "execution_count": 10,
     "metadata": {},
     "output_type": "execute_result"
    }
   ],
   "source": [
    "description = []\n",
    "\n",
    "for i in df1.columns:\n",
    "    description.append([\n",
    "        i,\n",
    "        df1[i].dtypes,\n",
    "        df1[i].nunique(),\n",
    "        df1[i].drop_duplicates().sample(2).values\n",
    "    ])\n",
    "\n",
    "pd.DataFrame(data = description, columns=['attributes', 'dtypes', 'nunique', 'sample'])"
   ]
  },
  {
   "cell_type": "markdown",
   "id": "cb01ebe0",
   "metadata": {},
   "source": [
    "## 1.4 Check NA"
   ]
  },
  {
   "cell_type": "code",
   "execution_count": 11,
   "id": "09b8734d",
   "metadata": {},
   "outputs": [
    {
     "data": {
      "text/html": [
       "<div>\n",
       "<style scoped>\n",
       "    .dataframe tbody tr th:only-of-type {\n",
       "        vertical-align: middle;\n",
       "    }\n",
       "\n",
       "    .dataframe tbody tr th {\n",
       "        vertical-align: top;\n",
       "    }\n",
       "\n",
       "    .dataframe thead th {\n",
       "        text-align: right;\n",
       "    }\n",
       "</style>\n",
       "<table border=\"1\" class=\"dataframe\">\n",
       "  <thead>\n",
       "    <tr style=\"text-align: right;\">\n",
       "      <th></th>\n",
       "      <th>attributes</th>\n",
       "      <th>null</th>\n",
       "      <th>%null</th>\n",
       "    </tr>\n",
       "  </thead>\n",
       "  <tbody>\n",
       "    <tr>\n",
       "      <th>0</th>\n",
       "      <td>invoice_no</td>\n",
       "      <td>0</td>\n",
       "      <td>0</td>\n",
       "    </tr>\n",
       "    <tr>\n",
       "      <th>1</th>\n",
       "      <td>stock_code</td>\n",
       "      <td>0</td>\n",
       "      <td>0</td>\n",
       "    </tr>\n",
       "    <tr>\n",
       "      <th>2</th>\n",
       "      <td>description</td>\n",
       "      <td>1454</td>\n",
       "      <td>0</td>\n",
       "    </tr>\n",
       "    <tr>\n",
       "      <th>3</th>\n",
       "      <td>quantity</td>\n",
       "      <td>0</td>\n",
       "      <td>0</td>\n",
       "    </tr>\n",
       "    <tr>\n",
       "      <th>4</th>\n",
       "      <td>invoice_date</td>\n",
       "      <td>0</td>\n",
       "      <td>0</td>\n",
       "    </tr>\n",
       "    <tr>\n",
       "      <th>5</th>\n",
       "      <td>unit_price</td>\n",
       "      <td>0</td>\n",
       "      <td>0</td>\n",
       "    </tr>\n",
       "    <tr>\n",
       "      <th>6</th>\n",
       "      <td>customer_id</td>\n",
       "      <td>135080</td>\n",
       "      <td>25</td>\n",
       "    </tr>\n",
       "    <tr>\n",
       "      <th>7</th>\n",
       "      <td>country</td>\n",
       "      <td>0</td>\n",
       "      <td>0</td>\n",
       "    </tr>\n",
       "  </tbody>\n",
       "</table>\n",
       "</div>"
      ],
      "text/plain": [
       "     attributes    null  %null\n",
       "0    invoice_no       0      0\n",
       "1    stock_code       0      0\n",
       "2   description    1454      0\n",
       "3      quantity       0      0\n",
       "4  invoice_date       0      0\n",
       "5    unit_price       0      0\n",
       "6   customer_id  135080     25\n",
       "7       country       0      0"
      ]
     },
     "execution_count": 11,
     "metadata": {},
     "output_type": "execute_result"
    }
   ],
   "source": [
    "description = []\n",
    "\n",
    "for i in df1.columns:\n",
    "    description.append([\n",
    "        i,\n",
    "        df1[i].isna().sum(),\n",
    "        round((df1[i].isna().sum()/len(df1))*100)\n",
    "    ])\n",
    "\n",
    "pd.DataFrame(data = description, columns=['attributes','null', '%null'])"
   ]
  },
  {
   "cell_type": "markdown",
   "id": "83f40fdd",
   "metadata": {},
   "source": [
    "## 1.5 Replace NA"
   ]
  },
  {
   "cell_type": "markdown",
   "id": "b99c9098",
   "metadata": {},
   "source": [
    "Since the total `customer_id` nulls represent 25% of the dataset, we are missing a lot of data about the customer's behavior. Therefore, we will replace the nulls by grouping by `invoice_no`, with values greater than the maximum `customer_id` in the dataset. Of course, in this case these `customer_id` cannot be defined as part of the customer Insiders, because in this context we don't have who these customers are, but by using them we can use them to improve our clustering.  "
   ]
  },
  {
   "cell_type": "code",
   "execution_count": 12,
   "id": "b14a5398",
   "metadata": {},
   "outputs": [],
   "source": [
    "df_missing = df1.loc[df1['customer_id'].isna(), :]\n",
    "df_not_missing = df1.loc[~df1['customer_id'].isna(), :]"
   ]
  },
  {
   "cell_type": "code",
   "execution_count": 13,
   "id": "32c4c615",
   "metadata": {},
   "outputs": [
    {
     "data": {
      "text/plain": [
       "18287.0"
      ]
     },
     "execution_count": 13,
     "metadata": {},
     "output_type": "execute_result"
    }
   ],
   "source": [
    "df_not_missing['customer_id'].max()"
   ]
  },
  {
   "cell_type": "code",
   "execution_count": 14,
   "id": "1436e31e",
   "metadata": {},
   "outputs": [],
   "source": [
    "# creating reference\n",
    "df_backup = pd.DataFrame(df_missing['invoice_no'].drop_duplicates())\n",
    "df_backup['customer_id'] = np.arange(19000, 19000+len(df_backup), 1)\n",
    "\n",
    "# merge \n",
    "df1 = pd.merge(df1, df_backup, on='invoice_no', how='left')\n",
    "\n",
    "# coalesce \n",
    "df1['customer_id'] = df1['customer_id_x'].combine_first(df1['customer_id_y'])\n",
    "\n",
    "# drop extra columns\n",
    "df1 = df1.drop(columns=['customer_id_x', 'customer_id_y'], axis=1)"
   ]
  },
  {
   "cell_type": "code",
   "execution_count": 15,
   "id": "2797b082",
   "metadata": {},
   "outputs": [
    {
     "data": {
      "text/html": [
       "<div>\n",
       "<style scoped>\n",
       "    .dataframe tbody tr th:only-of-type {\n",
       "        vertical-align: middle;\n",
       "    }\n",
       "\n",
       "    .dataframe tbody tr th {\n",
       "        vertical-align: top;\n",
       "    }\n",
       "\n",
       "    .dataframe thead th {\n",
       "        text-align: right;\n",
       "    }\n",
       "</style>\n",
       "<table border=\"1\" class=\"dataframe\">\n",
       "  <thead>\n",
       "    <tr style=\"text-align: right;\">\n",
       "      <th></th>\n",
       "      <th>invoice_no</th>\n",
       "      <th>stock_code</th>\n",
       "      <th>description</th>\n",
       "      <th>quantity</th>\n",
       "      <th>invoice_date</th>\n",
       "      <th>unit_price</th>\n",
       "      <th>country</th>\n",
       "      <th>customer_id</th>\n",
       "    </tr>\n",
       "  </thead>\n",
       "  <tbody>\n",
       "    <tr>\n",
       "      <th>0</th>\n",
       "      <td>536365</td>\n",
       "      <td>85123A</td>\n",
       "      <td>WHITE HANGING HEART T-LIGHT HOLDER</td>\n",
       "      <td>6</td>\n",
       "      <td>2010-12-01 08:26:00</td>\n",
       "      <td>2.550000</td>\n",
       "      <td>United Kingdom</td>\n",
       "      <td>17850.000000</td>\n",
       "    </tr>\n",
       "    <tr>\n",
       "      <th>1</th>\n",
       "      <td>536365</td>\n",
       "      <td>71053</td>\n",
       "      <td>WHITE METAL LANTERN</td>\n",
       "      <td>6</td>\n",
       "      <td>2010-12-01 08:26:00</td>\n",
       "      <td>3.390000</td>\n",
       "      <td>United Kingdom</td>\n",
       "      <td>17850.000000</td>\n",
       "    </tr>\n",
       "    <tr>\n",
       "      <th>2</th>\n",
       "      <td>536365</td>\n",
       "      <td>84406B</td>\n",
       "      <td>CREAM CUPID HEARTS COAT HANGER</td>\n",
       "      <td>8</td>\n",
       "      <td>2010-12-01 08:26:00</td>\n",
       "      <td>2.750000</td>\n",
       "      <td>United Kingdom</td>\n",
       "      <td>17850.000000</td>\n",
       "    </tr>\n",
       "    <tr>\n",
       "      <th>3</th>\n",
       "      <td>536365</td>\n",
       "      <td>84029G</td>\n",
       "      <td>KNITTED UNION FLAG HOT WATER BOTTLE</td>\n",
       "      <td>6</td>\n",
       "      <td>2010-12-01 08:26:00</td>\n",
       "      <td>3.390000</td>\n",
       "      <td>United Kingdom</td>\n",
       "      <td>17850.000000</td>\n",
       "    </tr>\n",
       "    <tr>\n",
       "      <th>4</th>\n",
       "      <td>536365</td>\n",
       "      <td>84029E</td>\n",
       "      <td>RED WOOLLY HOTTIE WHITE HEART.</td>\n",
       "      <td>6</td>\n",
       "      <td>2010-12-01 08:26:00</td>\n",
       "      <td>3.390000</td>\n",
       "      <td>United Kingdom</td>\n",
       "      <td>17850.000000</td>\n",
       "    </tr>\n",
       "    <tr>\n",
       "      <th>...</th>\n",
       "      <td>...</td>\n",
       "      <td>...</td>\n",
       "      <td>...</td>\n",
       "      <td>...</td>\n",
       "      <td>...</td>\n",
       "      <td>...</td>\n",
       "      <td>...</td>\n",
       "      <td>...</td>\n",
       "    </tr>\n",
       "    <tr>\n",
       "      <th>541904</th>\n",
       "      <td>581587</td>\n",
       "      <td>22613</td>\n",
       "      <td>PACK OF 20 SPACEBOY NAPKINS</td>\n",
       "      <td>12</td>\n",
       "      <td>2011-12-09 12:50:00</td>\n",
       "      <td>0.850000</td>\n",
       "      <td>France</td>\n",
       "      <td>12680.000000</td>\n",
       "    </tr>\n",
       "    <tr>\n",
       "      <th>541905</th>\n",
       "      <td>581587</td>\n",
       "      <td>22899</td>\n",
       "      <td>CHILDREN'S APRON DOLLY GIRL</td>\n",
       "      <td>6</td>\n",
       "      <td>2011-12-09 12:50:00</td>\n",
       "      <td>2.100000</td>\n",
       "      <td>France</td>\n",
       "      <td>12680.000000</td>\n",
       "    </tr>\n",
       "    <tr>\n",
       "      <th>541906</th>\n",
       "      <td>581587</td>\n",
       "      <td>23254</td>\n",
       "      <td>CHILDRENS CUTLERY DOLLY GIRL</td>\n",
       "      <td>4</td>\n",
       "      <td>2011-12-09 12:50:00</td>\n",
       "      <td>4.150000</td>\n",
       "      <td>France</td>\n",
       "      <td>12680.000000</td>\n",
       "    </tr>\n",
       "    <tr>\n",
       "      <th>541907</th>\n",
       "      <td>581587</td>\n",
       "      <td>23255</td>\n",
       "      <td>CHILDRENS CUTLERY CIRCUS PARADE</td>\n",
       "      <td>4</td>\n",
       "      <td>2011-12-09 12:50:00</td>\n",
       "      <td>4.150000</td>\n",
       "      <td>France</td>\n",
       "      <td>12680.000000</td>\n",
       "    </tr>\n",
       "    <tr>\n",
       "      <th>541908</th>\n",
       "      <td>581587</td>\n",
       "      <td>22138</td>\n",
       "      <td>BAKING SET 9 PIECE RETROSPOT</td>\n",
       "      <td>3</td>\n",
       "      <td>2011-12-09 12:50:00</td>\n",
       "      <td>4.950000</td>\n",
       "      <td>France</td>\n",
       "      <td>12680.000000</td>\n",
       "    </tr>\n",
       "  </tbody>\n",
       "</table>\n",
       "<p>541909 rows × 8 columns</p>\n",
       "</div>"
      ],
      "text/plain": [
       "       invoice_no stock_code                          description  quantity  \\\n",
       "0          536365     85123A   WHITE HANGING HEART T-LIGHT HOLDER         6   \n",
       "1          536365      71053                  WHITE METAL LANTERN         6   \n",
       "2          536365     84406B       CREAM CUPID HEARTS COAT HANGER         8   \n",
       "3          536365     84029G  KNITTED UNION FLAG HOT WATER BOTTLE         6   \n",
       "4          536365     84029E       RED WOOLLY HOTTIE WHITE HEART.         6   \n",
       "...           ...        ...                                  ...       ...   \n",
       "541904     581587      22613          PACK OF 20 SPACEBOY NAPKINS        12   \n",
       "541905     581587      22899         CHILDREN'S APRON DOLLY GIRL          6   \n",
       "541906     581587      23254        CHILDRENS CUTLERY DOLLY GIRL          4   \n",
       "541907     581587      23255      CHILDRENS CUTLERY CIRCUS PARADE         4   \n",
       "541908     581587      22138        BAKING SET 9 PIECE RETROSPOT          3   \n",
       "\n",
       "               invoice_date  unit_price         country  customer_id  \n",
       "0       2010-12-01 08:26:00    2.550000  United Kingdom 17850.000000  \n",
       "1       2010-12-01 08:26:00    3.390000  United Kingdom 17850.000000  \n",
       "2       2010-12-01 08:26:00    2.750000  United Kingdom 17850.000000  \n",
       "3       2010-12-01 08:26:00    3.390000  United Kingdom 17850.000000  \n",
       "4       2010-12-01 08:26:00    3.390000  United Kingdom 17850.000000  \n",
       "...                     ...         ...             ...          ...  \n",
       "541904  2011-12-09 12:50:00    0.850000          France 12680.000000  \n",
       "541905  2011-12-09 12:50:00    2.100000          France 12680.000000  \n",
       "541906  2011-12-09 12:50:00    4.150000          France 12680.000000  \n",
       "541907  2011-12-09 12:50:00    4.150000          France 12680.000000  \n",
       "541908  2011-12-09 12:50:00    4.950000          France 12680.000000  \n",
       "\n",
       "[541909 rows x 8 columns]"
      ]
     },
     "execution_count": 15,
     "metadata": {},
     "output_type": "execute_result"
    }
   ],
   "source": [
    "df1"
   ]
  },
  {
   "cell_type": "code",
   "execution_count": 16,
   "id": "d11d1466",
   "metadata": {},
   "outputs": [
    {
     "data": {
      "text/plain": [
       "invoice_no         0\n",
       "stock_code         0\n",
       "description     1454\n",
       "quantity           0\n",
       "invoice_date       0\n",
       "unit_price         0\n",
       "country            0\n",
       "customer_id        0\n",
       "dtype: int64"
      ]
     },
     "execution_count": 16,
     "metadata": {},
     "output_type": "execute_result"
    }
   ],
   "source": [
    "df1.isna().sum()"
   ]
  },
  {
   "cell_type": "markdown",
   "id": "0a2604b2",
   "metadata": {},
   "source": [
    "## 1.6 Change dtypes"
   ]
  },
  {
   "cell_type": "code",
   "execution_count": 17,
   "id": "49b7b400",
   "metadata": {},
   "outputs": [],
   "source": [
    "# invoice_date\n",
    "df1['invoice_date'] = pd.to_datetime(df1['invoice_date']).dt.normalize()\n",
    "\n",
    "# customer_id\n",
    "df1['customer_id'] = np.int64(df1['customer_id'])"
   ]
  },
  {
   "cell_type": "code",
   "execution_count": 18,
   "id": "747effa3",
   "metadata": {},
   "outputs": [
    {
     "data": {
      "text/plain": [
       "invoice_no              object\n",
       "stock_code              object\n",
       "description             object\n",
       "quantity                 int64\n",
       "invoice_date    datetime64[ns]\n",
       "unit_price             float64\n",
       "country                 object\n",
       "customer_id              int64\n",
       "dtype: object"
      ]
     },
     "execution_count": 18,
     "metadata": {},
     "output_type": "execute_result"
    }
   ],
   "source": [
    "df1.dtypes"
   ]
  },
  {
   "cell_type": "code",
   "execution_count": 19,
   "id": "70f96307",
   "metadata": {},
   "outputs": [
    {
     "data": {
      "text/html": [
       "<div>\n",
       "<style scoped>\n",
       "    .dataframe tbody tr th:only-of-type {\n",
       "        vertical-align: middle;\n",
       "    }\n",
       "\n",
       "    .dataframe tbody tr th {\n",
       "        vertical-align: top;\n",
       "    }\n",
       "\n",
       "    .dataframe thead th {\n",
       "        text-align: right;\n",
       "    }\n",
       "</style>\n",
       "<table border=\"1\" class=\"dataframe\">\n",
       "  <thead>\n",
       "    <tr style=\"text-align: right;\">\n",
       "      <th></th>\n",
       "      <th>invoice_no</th>\n",
       "      <th>stock_code</th>\n",
       "      <th>description</th>\n",
       "      <th>quantity</th>\n",
       "      <th>invoice_date</th>\n",
       "      <th>unit_price</th>\n",
       "      <th>country</th>\n",
       "      <th>customer_id</th>\n",
       "    </tr>\n",
       "  </thead>\n",
       "  <tbody>\n",
       "    <tr>\n",
       "      <th>0</th>\n",
       "      <td>536365</td>\n",
       "      <td>85123A</td>\n",
       "      <td>WHITE HANGING HEART T-LIGHT HOLDER</td>\n",
       "      <td>6</td>\n",
       "      <td>2010-12-01</td>\n",
       "      <td>2.550000</td>\n",
       "      <td>United Kingdom</td>\n",
       "      <td>17850</td>\n",
       "    </tr>\n",
       "    <tr>\n",
       "      <th>1</th>\n",
       "      <td>536365</td>\n",
       "      <td>71053</td>\n",
       "      <td>WHITE METAL LANTERN</td>\n",
       "      <td>6</td>\n",
       "      <td>2010-12-01</td>\n",
       "      <td>3.390000</td>\n",
       "      <td>United Kingdom</td>\n",
       "      <td>17850</td>\n",
       "    </tr>\n",
       "  </tbody>\n",
       "</table>\n",
       "</div>"
      ],
      "text/plain": [
       "  invoice_no stock_code                         description  quantity  \\\n",
       "0     536365     85123A  WHITE HANGING HEART T-LIGHT HOLDER         6   \n",
       "1     536365      71053                 WHITE METAL LANTERN         6   \n",
       "\n",
       "  invoice_date  unit_price         country  customer_id  \n",
       "0   2010-12-01    2.550000  United Kingdom        17850  \n",
       "1   2010-12-01    3.390000  United Kingdom        17850  "
      ]
     },
     "execution_count": 19,
     "metadata": {},
     "output_type": "execute_result"
    }
   ],
   "source": [
    "df1.head(2)"
   ]
  },
  {
   "cell_type": "markdown",
   "id": "5d5e00dd",
   "metadata": {},
   "source": [
    "## 1.6 Descriptive Statistics"
   ]
  },
  {
   "cell_type": "code",
   "execution_count": 20,
   "id": "7a7e6ebd",
   "metadata": {},
   "outputs": [],
   "source": [
    "df_num1 = df1.select_dtypes(include = ['int64', 'float64'])\n",
    "df_cat1 = df1.select_dtypes(exclude = ['int64', 'float64', 'datetime64[ns]'])"
   ]
  },
  {
   "cell_type": "markdown",
   "id": "25baa3ec",
   "metadata": {},
   "source": [
    "### 1.6.1 Numeric Attributes"
   ]
  },
  {
   "cell_type": "code",
   "execution_count": 21,
   "id": "f10bfe52",
   "metadata": {},
   "outputs": [
    {
     "data": {
      "text/html": [
       "<div>\n",
       "<style scoped>\n",
       "    .dataframe tbody tr th:only-of-type {\n",
       "        vertical-align: middle;\n",
       "    }\n",
       "\n",
       "    .dataframe tbody tr th {\n",
       "        vertical-align: top;\n",
       "    }\n",
       "\n",
       "    .dataframe thead th {\n",
       "        text-align: right;\n",
       "    }\n",
       "</style>\n",
       "<table border=\"1\" class=\"dataframe\">\n",
       "  <thead>\n",
       "    <tr style=\"text-align: right;\">\n",
       "      <th></th>\n",
       "      <th>attributes</th>\n",
       "      <th>min</th>\n",
       "      <th>max</th>\n",
       "      <th>range</th>\n",
       "      <th>mean</th>\n",
       "      <th>median</th>\n",
       "      <th>std</th>\n",
       "      <th>skew</th>\n",
       "      <th>kurtosis</th>\n",
       "    </tr>\n",
       "  </thead>\n",
       "  <tbody>\n",
       "    <tr>\n",
       "      <th>0</th>\n",
       "      <td>quantity</td>\n",
       "      <td>-80995.000000</td>\n",
       "      <td>80995.000000</td>\n",
       "      <td>161990.000000</td>\n",
       "      <td>9.552250</td>\n",
       "      <td>3.000000</td>\n",
       "      <td>218.080957</td>\n",
       "      <td>-0.264076</td>\n",
       "      <td>119769.160031</td>\n",
       "    </tr>\n",
       "    <tr>\n",
       "      <th>1</th>\n",
       "      <td>unit_price</td>\n",
       "      <td>-11062.060000</td>\n",
       "      <td>38970.000000</td>\n",
       "      <td>50032.060000</td>\n",
       "      <td>4.611114</td>\n",
       "      <td>2.080000</td>\n",
       "      <td>96.759764</td>\n",
       "      <td>186.506972</td>\n",
       "      <td>59005.719097</td>\n",
       "    </tr>\n",
       "    <tr>\n",
       "      <th>2</th>\n",
       "      <td>customer_id</td>\n",
       "      <td>12346.000000</td>\n",
       "      <td>22709.000000</td>\n",
       "      <td>10363.000000</td>\n",
       "      <td>16688.840453</td>\n",
       "      <td>16249.000000</td>\n",
       "      <td>2911.408666</td>\n",
       "      <td>0.487449</td>\n",
       "      <td>-0.804287</td>\n",
       "    </tr>\n",
       "  </tbody>\n",
       "</table>\n",
       "</div>"
      ],
      "text/plain": [
       "    attributes           min          max         range         mean  \\\n",
       "0     quantity -80995.000000 80995.000000 161990.000000     9.552250   \n",
       "1   unit_price -11062.060000 38970.000000  50032.060000     4.611114   \n",
       "2  customer_id  12346.000000 22709.000000  10363.000000 16688.840453   \n",
       "\n",
       "        median         std       skew      kurtosis  \n",
       "0     3.000000  218.080957  -0.264076 119769.160031  \n",
       "1     2.080000   96.759764 186.506972  59005.719097  \n",
       "2 16249.000000 2911.408666   0.487449     -0.804287  "
      ]
     },
     "execution_count": 21,
     "metadata": {},
     "output_type": "execute_result"
    }
   ],
   "source": [
    "# central tendency - mean, median\n",
    "ct1 = pd.DataFrame(df_num1.apply(np.mean)).T\n",
    "ct2 = pd.DataFrame(df_num1.apply(np.median)).T\n",
    "\n",
    "# dispersion - std, min, max, range, skew, kurtosis\n",
    "d1 = pd.DataFrame(df_num1.apply(np.std)).T \n",
    "d2 = pd.DataFrame(df_num1.apply(min)).T\n",
    "d3 = pd.DataFrame(df_num1.apply(max)).T\n",
    "d4 = pd.DataFrame(df_num1.apply(lambda x: x.max() - x.min())).T\n",
    "d5 = pd.DataFrame(df_num1.apply(lambda x: x.skew())).T\n",
    "d6 = pd.DataFrame(df_num1.apply(lambda x: x.kurtosis())).T\n",
    "\n",
    "# concat\n",
    "num1_summary = pd.concat([d2, d3, d4, ct1, ct2, d1, d5, d6]).T.reset_index()\n",
    "num1_summary.columns = ['attributes', 'min', 'max', 'range', 'mean', 'median', 'std', 'skew', 'kurtosis']\n",
    "num1_summary"
   ]
  },
  {
   "cell_type": "markdown",
   "id": "bae100b7",
   "metadata": {},
   "source": [
    "Can negative `quantity` be a return?     \n",
    "Can `unit_price` equal to zero be a promotion?"
   ]
  },
  {
   "cell_type": "markdown",
   "id": "eeb86e45",
   "metadata": {},
   "source": [
    "#### Quantity"
   ]
  },
  {
   "cell_type": "code",
   "execution_count": 22,
   "id": "316e549f",
   "metadata": {},
   "outputs": [
    {
     "data": {
      "text/html": [
       "<div>\n",
       "<style scoped>\n",
       "    .dataframe tbody tr th:only-of-type {\n",
       "        vertical-align: middle;\n",
       "    }\n",
       "\n",
       "    .dataframe tbody tr th {\n",
       "        vertical-align: top;\n",
       "    }\n",
       "\n",
       "    .dataframe thead th {\n",
       "        text-align: right;\n",
       "    }\n",
       "</style>\n",
       "<table border=\"1\" class=\"dataframe\">\n",
       "  <thead>\n",
       "    <tr style=\"text-align: right;\">\n",
       "      <th></th>\n",
       "      <th>invoice_no</th>\n",
       "      <th>stock_code</th>\n",
       "      <th>description</th>\n",
       "      <th>quantity</th>\n",
       "      <th>invoice_date</th>\n",
       "      <th>unit_price</th>\n",
       "      <th>country</th>\n",
       "      <th>customer_id</th>\n",
       "    </tr>\n",
       "  </thead>\n",
       "  <tbody>\n",
       "    <tr>\n",
       "      <th>540422</th>\n",
       "      <td>C581484</td>\n",
       "      <td>23843</td>\n",
       "      <td>PAPER CRAFT , LITTLE BIRDIE</td>\n",
       "      <td>-80995</td>\n",
       "      <td>2011-12-09</td>\n",
       "      <td>2.080000</td>\n",
       "      <td>United Kingdom</td>\n",
       "      <td>16446</td>\n",
       "    </tr>\n",
       "    <tr>\n",
       "      <th>61624</th>\n",
       "      <td>C541433</td>\n",
       "      <td>23166</td>\n",
       "      <td>MEDIUM CERAMIC TOP STORAGE JAR</td>\n",
       "      <td>-74215</td>\n",
       "      <td>2011-01-18</td>\n",
       "      <td>1.040000</td>\n",
       "      <td>United Kingdom</td>\n",
       "      <td>12346</td>\n",
       "    </tr>\n",
       "    <tr>\n",
       "      <th>225529</th>\n",
       "      <td>556690</td>\n",
       "      <td>23005</td>\n",
       "      <td>printing smudges/thrown away</td>\n",
       "      <td>-9600</td>\n",
       "      <td>2011-06-14</td>\n",
       "      <td>0.000000</td>\n",
       "      <td>United Kingdom</td>\n",
       "      <td>20914</td>\n",
       "    </tr>\n",
       "    <tr>\n",
       "      <th>225530</th>\n",
       "      <td>556691</td>\n",
       "      <td>23005</td>\n",
       "      <td>printing smudges/thrown away</td>\n",
       "      <td>-9600</td>\n",
       "      <td>2011-06-14</td>\n",
       "      <td>0.000000</td>\n",
       "      <td>United Kingdom</td>\n",
       "      <td>20915</td>\n",
       "    </tr>\n",
       "    <tr>\n",
       "      <th>4287</th>\n",
       "      <td>C536757</td>\n",
       "      <td>84347</td>\n",
       "      <td>ROTATING SILVER ANGELS T-LIGHT HLDR</td>\n",
       "      <td>-9360</td>\n",
       "      <td>2010-12-02</td>\n",
       "      <td>0.030000</td>\n",
       "      <td>United Kingdom</td>\n",
       "      <td>15838</td>\n",
       "    </tr>\n",
       "    <tr>\n",
       "      <th>225528</th>\n",
       "      <td>556687</td>\n",
       "      <td>23003</td>\n",
       "      <td>Printing smudges/thrown away</td>\n",
       "      <td>-9058</td>\n",
       "      <td>2011-06-14</td>\n",
       "      <td>0.000000</td>\n",
       "      <td>United Kingdom</td>\n",
       "      <td>20913</td>\n",
       "    </tr>\n",
       "    <tr>\n",
       "      <th>115818</th>\n",
       "      <td>546152</td>\n",
       "      <td>72140F</td>\n",
       "      <td>throw away</td>\n",
       "      <td>-5368</td>\n",
       "      <td>2011-03-09</td>\n",
       "      <td>0.000000</td>\n",
       "      <td>United Kingdom</td>\n",
       "      <td>19837</td>\n",
       "    </tr>\n",
       "    <tr>\n",
       "      <th>431381</th>\n",
       "      <td>573596</td>\n",
       "      <td>79323W</td>\n",
       "      <td>Unsaleable, destroyed.</td>\n",
       "      <td>-4830</td>\n",
       "      <td>2011-10-31</td>\n",
       "      <td>0.000000</td>\n",
       "      <td>United Kingdom</td>\n",
       "      <td>22229</td>\n",
       "    </tr>\n",
       "    <tr>\n",
       "      <th>341601</th>\n",
       "      <td>566768</td>\n",
       "      <td>16045</td>\n",
       "      <td>NaN</td>\n",
       "      <td>-3667</td>\n",
       "      <td>2011-09-14</td>\n",
       "      <td>0.000000</td>\n",
       "      <td>United Kingdom</td>\n",
       "      <td>21714</td>\n",
       "    </tr>\n",
       "    <tr>\n",
       "      <th>323458</th>\n",
       "      <td>565304</td>\n",
       "      <td>16259</td>\n",
       "      <td>NaN</td>\n",
       "      <td>-3167</td>\n",
       "      <td>2011-09-02</td>\n",
       "      <td>0.000000</td>\n",
       "      <td>United Kingdom</td>\n",
       "      <td>21629</td>\n",
       "    </tr>\n",
       "  </tbody>\n",
       "</table>\n",
       "</div>"
      ],
      "text/plain": [
       "       invoice_no stock_code                          description  quantity  \\\n",
       "540422    C581484      23843          PAPER CRAFT , LITTLE BIRDIE    -80995   \n",
       "61624     C541433      23166       MEDIUM CERAMIC TOP STORAGE JAR    -74215   \n",
       "225529     556690      23005         printing smudges/thrown away     -9600   \n",
       "225530     556691      23005         printing smudges/thrown away     -9600   \n",
       "4287      C536757      84347  ROTATING SILVER ANGELS T-LIGHT HLDR     -9360   \n",
       "225528     556687      23003         Printing smudges/thrown away     -9058   \n",
       "115818     546152     72140F                           throw away     -5368   \n",
       "431381     573596     79323W               Unsaleable, destroyed.     -4830   \n",
       "341601     566768      16045                                  NaN     -3667   \n",
       "323458     565304      16259                                  NaN     -3167   \n",
       "\n",
       "       invoice_date  unit_price         country  customer_id  \n",
       "540422   2011-12-09    2.080000  United Kingdom        16446  \n",
       "61624    2011-01-18    1.040000  United Kingdom        12346  \n",
       "225529   2011-06-14    0.000000  United Kingdom        20914  \n",
       "225530   2011-06-14    0.000000  United Kingdom        20915  \n",
       "4287     2010-12-02    0.030000  United Kingdom        15838  \n",
       "225528   2011-06-14    0.000000  United Kingdom        20913  \n",
       "115818   2011-03-09    0.000000  United Kingdom        19837  \n",
       "431381   2011-10-31    0.000000  United Kingdom        22229  \n",
       "341601   2011-09-14    0.000000  United Kingdom        21714  \n",
       "323458   2011-09-02    0.000000  United Kingdom        21629  "
      ]
     },
     "execution_count": 22,
     "metadata": {},
     "output_type": "execute_result"
    }
   ],
   "source": [
    "df1.sort_values('quantity').head(10)"
   ]
  },
  {
   "cell_type": "markdown",
   "id": "bd84f937",
   "metadata": {},
   "source": [
    "#### Customer Id"
   ]
  },
  {
   "cell_type": "markdown",
   "id": "30139d04",
   "metadata": {},
   "source": [
    "Let's take a look at the `custumers_id` for the two smallest `quantity` values."
   ]
  },
  {
   "cell_type": "code",
   "execution_count": 23,
   "id": "6d75c987",
   "metadata": {},
   "outputs": [
    {
     "data": {
      "text/html": [
       "<div>\n",
       "<style scoped>\n",
       "    .dataframe tbody tr th:only-of-type {\n",
       "        vertical-align: middle;\n",
       "    }\n",
       "\n",
       "    .dataframe tbody tr th {\n",
       "        vertical-align: top;\n",
       "    }\n",
       "\n",
       "    .dataframe thead th {\n",
       "        text-align: right;\n",
       "    }\n",
       "</style>\n",
       "<table border=\"1\" class=\"dataframe\">\n",
       "  <thead>\n",
       "    <tr style=\"text-align: right;\">\n",
       "      <th></th>\n",
       "      <th>invoice_no</th>\n",
       "      <th>stock_code</th>\n",
       "      <th>description</th>\n",
       "      <th>quantity</th>\n",
       "      <th>invoice_date</th>\n",
       "      <th>unit_price</th>\n",
       "      <th>country</th>\n",
       "      <th>customer_id</th>\n",
       "    </tr>\n",
       "  </thead>\n",
       "  <tbody>\n",
       "    <tr>\n",
       "      <th>194354</th>\n",
       "      <td>553573</td>\n",
       "      <td>22980</td>\n",
       "      <td>PANTRY SCRUBBING BRUSH</td>\n",
       "      <td>1</td>\n",
       "      <td>2011-05-18</td>\n",
       "      <td>1.650000</td>\n",
       "      <td>United Kingdom</td>\n",
       "      <td>16446</td>\n",
       "    </tr>\n",
       "    <tr>\n",
       "      <th>194355</th>\n",
       "      <td>553573</td>\n",
       "      <td>22982</td>\n",
       "      <td>PANTRY PASTRY BRUSH</td>\n",
       "      <td>1</td>\n",
       "      <td>2011-05-18</td>\n",
       "      <td>1.250000</td>\n",
       "      <td>United Kingdom</td>\n",
       "      <td>16446</td>\n",
       "    </tr>\n",
       "    <tr>\n",
       "      <th>540421</th>\n",
       "      <td>581483</td>\n",
       "      <td>23843</td>\n",
       "      <td>PAPER CRAFT , LITTLE BIRDIE</td>\n",
       "      <td>80995</td>\n",
       "      <td>2011-12-09</td>\n",
       "      <td>2.080000</td>\n",
       "      <td>United Kingdom</td>\n",
       "      <td>16446</td>\n",
       "    </tr>\n",
       "    <tr>\n",
       "      <th>540422</th>\n",
       "      <td>C581484</td>\n",
       "      <td>23843</td>\n",
       "      <td>PAPER CRAFT , LITTLE BIRDIE</td>\n",
       "      <td>-80995</td>\n",
       "      <td>2011-12-09</td>\n",
       "      <td>2.080000</td>\n",
       "      <td>United Kingdom</td>\n",
       "      <td>16446</td>\n",
       "    </tr>\n",
       "  </tbody>\n",
       "</table>\n",
       "</div>"
      ],
      "text/plain": [
       "       invoice_no stock_code                  description  quantity  \\\n",
       "194354     553573      22980       PANTRY SCRUBBING BRUSH         1   \n",
       "194355     553573      22982          PANTRY PASTRY BRUSH         1   \n",
       "540421     581483      23843  PAPER CRAFT , LITTLE BIRDIE     80995   \n",
       "540422    C581484      23843  PAPER CRAFT , LITTLE BIRDIE    -80995   \n",
       "\n",
       "       invoice_date  unit_price         country  customer_id  \n",
       "194354   2011-05-18    1.650000  United Kingdom        16446  \n",
       "194355   2011-05-18    1.250000  United Kingdom        16446  \n",
       "540421   2011-12-09    2.080000  United Kingdom        16446  \n",
       "540422   2011-12-09    2.080000  United Kingdom        16446  "
      ]
     },
     "execution_count": 23,
     "metadata": {},
     "output_type": "execute_result"
    }
   ],
   "source": [
    "df1.loc[df1['customer_id'] == 16446, :]"
   ]
  },
  {
   "cell_type": "code",
   "execution_count": 24,
   "id": "f710ed97",
   "metadata": {},
   "outputs": [
    {
     "data": {
      "text/html": [
       "<div>\n",
       "<style scoped>\n",
       "    .dataframe tbody tr th:only-of-type {\n",
       "        vertical-align: middle;\n",
       "    }\n",
       "\n",
       "    .dataframe tbody tr th {\n",
       "        vertical-align: top;\n",
       "    }\n",
       "\n",
       "    .dataframe thead th {\n",
       "        text-align: right;\n",
       "    }\n",
       "</style>\n",
       "<table border=\"1\" class=\"dataframe\">\n",
       "  <thead>\n",
       "    <tr style=\"text-align: right;\">\n",
       "      <th></th>\n",
       "      <th>invoice_no</th>\n",
       "      <th>stock_code</th>\n",
       "      <th>description</th>\n",
       "      <th>quantity</th>\n",
       "      <th>invoice_date</th>\n",
       "      <th>unit_price</th>\n",
       "      <th>country</th>\n",
       "      <th>customer_id</th>\n",
       "    </tr>\n",
       "  </thead>\n",
       "  <tbody>\n",
       "    <tr>\n",
       "      <th>61619</th>\n",
       "      <td>541431</td>\n",
       "      <td>23166</td>\n",
       "      <td>MEDIUM CERAMIC TOP STORAGE JAR</td>\n",
       "      <td>74215</td>\n",
       "      <td>2011-01-18</td>\n",
       "      <td>1.040000</td>\n",
       "      <td>United Kingdom</td>\n",
       "      <td>12346</td>\n",
       "    </tr>\n",
       "    <tr>\n",
       "      <th>61624</th>\n",
       "      <td>C541433</td>\n",
       "      <td>23166</td>\n",
       "      <td>MEDIUM CERAMIC TOP STORAGE JAR</td>\n",
       "      <td>-74215</td>\n",
       "      <td>2011-01-18</td>\n",
       "      <td>1.040000</td>\n",
       "      <td>United Kingdom</td>\n",
       "      <td>12346</td>\n",
       "    </tr>\n",
       "  </tbody>\n",
       "</table>\n",
       "</div>"
      ],
      "text/plain": [
       "      invoice_no stock_code                     description  quantity  \\\n",
       "61619     541431      23166  MEDIUM CERAMIC TOP STORAGE JAR     74215   \n",
       "61624    C541433      23166  MEDIUM CERAMIC TOP STORAGE JAR    -74215   \n",
       "\n",
       "      invoice_date  unit_price         country  customer_id  \n",
       "61619   2011-01-18    1.040000  United Kingdom        12346  \n",
       "61624   2011-01-18    1.040000  United Kingdom        12346  "
      ]
     },
     "execution_count": 24,
     "metadata": {},
     "output_type": "execute_result"
    }
   ],
   "source": [
    "df1.loc[df1['customer_id'] == 12346, :]"
   ]
  },
  {
   "cell_type": "markdown",
   "id": "6b468ded",
   "metadata": {},
   "source": [
    "### 1.7.2 Categorical Attributes"
   ]
  },
  {
   "cell_type": "code",
   "execution_count": 25,
   "id": "9826068c",
   "metadata": {},
   "outputs": [
    {
     "data": {
      "text/html": [
       "<div>\n",
       "<style scoped>\n",
       "    .dataframe tbody tr th:only-of-type {\n",
       "        vertical-align: middle;\n",
       "    }\n",
       "\n",
       "    .dataframe tbody tr th {\n",
       "        vertical-align: top;\n",
       "    }\n",
       "\n",
       "    .dataframe thead th {\n",
       "        text-align: right;\n",
       "    }\n",
       "</style>\n",
       "<table border=\"1\" class=\"dataframe\">\n",
       "  <thead>\n",
       "    <tr style=\"text-align: right;\">\n",
       "      <th></th>\n",
       "      <th>invoice_no</th>\n",
       "      <th>stock_code</th>\n",
       "      <th>description</th>\n",
       "      <th>country</th>\n",
       "    </tr>\n",
       "  </thead>\n",
       "  <tbody>\n",
       "    <tr>\n",
       "      <th>0</th>\n",
       "      <td>536365</td>\n",
       "      <td>85123A</td>\n",
       "      <td>WHITE HANGING HEART T-LIGHT HOLDER</td>\n",
       "      <td>United Kingdom</td>\n",
       "    </tr>\n",
       "    <tr>\n",
       "      <th>1</th>\n",
       "      <td>536365</td>\n",
       "      <td>71053</td>\n",
       "      <td>WHITE METAL LANTERN</td>\n",
       "      <td>United Kingdom</td>\n",
       "    </tr>\n",
       "    <tr>\n",
       "      <th>2</th>\n",
       "      <td>536365</td>\n",
       "      <td>84406B</td>\n",
       "      <td>CREAM CUPID HEARTS COAT HANGER</td>\n",
       "      <td>United Kingdom</td>\n",
       "    </tr>\n",
       "    <tr>\n",
       "      <th>3</th>\n",
       "      <td>536365</td>\n",
       "      <td>84029G</td>\n",
       "      <td>KNITTED UNION FLAG HOT WATER BOTTLE</td>\n",
       "      <td>United Kingdom</td>\n",
       "    </tr>\n",
       "    <tr>\n",
       "      <th>4</th>\n",
       "      <td>536365</td>\n",
       "      <td>84029E</td>\n",
       "      <td>RED WOOLLY HOTTIE WHITE HEART.</td>\n",
       "      <td>United Kingdom</td>\n",
       "    </tr>\n",
       "  </tbody>\n",
       "</table>\n",
       "</div>"
      ],
      "text/plain": [
       "  invoice_no stock_code                          description         country\n",
       "0     536365     85123A   WHITE HANGING HEART T-LIGHT HOLDER  United Kingdom\n",
       "1     536365      71053                  WHITE METAL LANTERN  United Kingdom\n",
       "2     536365     84406B       CREAM CUPID HEARTS COAT HANGER  United Kingdom\n",
       "3     536365     84029G  KNITTED UNION FLAG HOT WATER BOTTLE  United Kingdom\n",
       "4     536365     84029E       RED WOOLLY HOTTIE WHITE HEART.  United Kingdom"
      ]
     },
     "execution_count": 25,
     "metadata": {},
     "output_type": "execute_result"
    }
   ],
   "source": [
    "df_cat1.head()"
   ]
  },
  {
   "cell_type": "markdown",
   "id": "1851a51c",
   "metadata": {},
   "source": [
    "#### Invoice No"
   ]
  },
  {
   "cell_type": "code",
   "execution_count": 26,
   "id": "d2069a90",
   "metadata": {},
   "outputs": [
    {
     "data": {
      "text/html": [
       "<div>\n",
       "<style scoped>\n",
       "    .dataframe tbody tr th:only-of-type {\n",
       "        vertical-align: middle;\n",
       "    }\n",
       "\n",
       "    .dataframe tbody tr th {\n",
       "        vertical-align: top;\n",
       "    }\n",
       "\n",
       "    .dataframe thead th {\n",
       "        text-align: right;\n",
       "    }\n",
       "</style>\n",
       "<table border=\"1\" class=\"dataframe\">\n",
       "  <thead>\n",
       "    <tr style=\"text-align: right;\">\n",
       "      <th></th>\n",
       "      <th>invoice_no</th>\n",
       "      <th>stock_code</th>\n",
       "      <th>description</th>\n",
       "      <th>quantity</th>\n",
       "      <th>invoice_date</th>\n",
       "      <th>unit_price</th>\n",
       "      <th>country</th>\n",
       "      <th>customer_id</th>\n",
       "    </tr>\n",
       "  </thead>\n",
       "  <tbody>\n",
       "    <tr>\n",
       "      <th>154540</th>\n",
       "      <td>C549919</td>\n",
       "      <td>22672</td>\n",
       "      <td>FRENCH BATHROOM SIGN BLUE METAL</td>\n",
       "      <td>-2</td>\n",
       "      <td>2011-04-13</td>\n",
       "      <td>1.650000</td>\n",
       "      <td>United Kingdom</td>\n",
       "      <td>15201</td>\n",
       "    </tr>\n",
       "    <tr>\n",
       "      <th>44405</th>\n",
       "      <td>C540171</td>\n",
       "      <td>D</td>\n",
       "      <td>Discount</td>\n",
       "      <td>-1</td>\n",
       "      <td>2011-01-05</td>\n",
       "      <td>22.970000</td>\n",
       "      <td>United Kingdom</td>\n",
       "      <td>14527</td>\n",
       "    </tr>\n",
       "    <tr>\n",
       "      <th>94808</th>\n",
       "      <td>C544419</td>\n",
       "      <td>85232A</td>\n",
       "      <td>SET/3 POLKADOT STACKING TINS</td>\n",
       "      <td>-3</td>\n",
       "      <td>2011-02-18</td>\n",
       "      <td>4.950000</td>\n",
       "      <td>Belgium</td>\n",
       "      <td>12395</td>\n",
       "    </tr>\n",
       "    <tr>\n",
       "      <th>282047</th>\n",
       "      <td>C561619</td>\n",
       "      <td>23170</td>\n",
       "      <td>REGENCY TEA PLATE ROSES</td>\n",
       "      <td>-2</td>\n",
       "      <td>2011-07-28</td>\n",
       "      <td>1.650000</td>\n",
       "      <td>United Kingdom</td>\n",
       "      <td>13408</td>\n",
       "    </tr>\n",
       "    <tr>\n",
       "      <th>224558</th>\n",
       "      <td>C556535</td>\n",
       "      <td>82486</td>\n",
       "      <td>WOOD S/3 CABINET ANT WHITE FINISH</td>\n",
       "      <td>-1</td>\n",
       "      <td>2011-06-13</td>\n",
       "      <td>8.950000</td>\n",
       "      <td>United Kingdom</td>\n",
       "      <td>17169</td>\n",
       "    </tr>\n",
       "  </tbody>\n",
       "</table>\n",
       "</div>"
      ],
      "text/plain": [
       "       invoice_no stock_code                        description  quantity  \\\n",
       "154540    C549919      22672    FRENCH BATHROOM SIGN BLUE METAL        -2   \n",
       "44405     C540171          D                           Discount        -1   \n",
       "94808     C544419     85232A       SET/3 POLKADOT STACKING TINS        -3   \n",
       "282047    C561619      23170           REGENCY TEA PLATE ROSES         -2   \n",
       "224558    C556535      82486  WOOD S/3 CABINET ANT WHITE FINISH        -1   \n",
       "\n",
       "       invoice_date  unit_price         country  customer_id  \n",
       "154540   2011-04-13    1.650000  United Kingdom        15201  \n",
       "44405    2011-01-05   22.970000  United Kingdom        14527  \n",
       "94808    2011-02-18    4.950000         Belgium        12395  \n",
       "282047   2011-07-28    1.650000  United Kingdom        13408  \n",
       "224558   2011-06-13    8.950000  United Kingdom        17169  "
      ]
     },
     "metadata": {},
     "output_type": "display_data"
    },
    {
     "name": "stdout",
     "output_type": "stream",
     "text": [
      "9291 rows\n"
     ]
    }
   ],
   "source": [
    "aux1 = df1.loc[df1['invoice_no'].apply(lambda x: bool(re.search('[^0-9]+', x))), :]\n",
    "\n",
    "display(aux1.sample(5))\n",
    "\n",
    "print(aux1.shape[0], 'rows')"
   ]
  },
  {
   "cell_type": "markdown",
   "id": "2d7eb959",
   "metadata": {},
   "source": [
    "We know from the data description that `invoice` in what starts with C stands for returns.   \n",
    "Another thing we discovered (in the `custumer_id` analysis) is that the database has the purchase and return invoice represented by different numbers, not just the 'C' in front."
   ]
  },
  {
   "cell_type": "markdown",
   "id": "a98ec4ab",
   "metadata": {},
   "source": [
    "#### Stock Code"
   ]
  },
  {
   "cell_type": "code",
   "execution_count": 27,
   "id": "9de633cf",
   "metadata": {},
   "outputs": [
    {
     "data": {
      "text/html": [
       "<div>\n",
       "<style scoped>\n",
       "    .dataframe tbody tr th:only-of-type {\n",
       "        vertical-align: middle;\n",
       "    }\n",
       "\n",
       "    .dataframe tbody tr th {\n",
       "        vertical-align: top;\n",
       "    }\n",
       "\n",
       "    .dataframe thead th {\n",
       "        text-align: right;\n",
       "    }\n",
       "</style>\n",
       "<table border=\"1\" class=\"dataframe\">\n",
       "  <thead>\n",
       "    <tr style=\"text-align: right;\">\n",
       "      <th></th>\n",
       "      <th>invoice_no</th>\n",
       "      <th>stock_code</th>\n",
       "      <th>description</th>\n",
       "      <th>quantity</th>\n",
       "      <th>invoice_date</th>\n",
       "      <th>unit_price</th>\n",
       "      <th>country</th>\n",
       "      <th>customer_id</th>\n",
       "    </tr>\n",
       "  </thead>\n",
       "  <tbody>\n",
       "    <tr>\n",
       "      <th>76982</th>\n",
       "      <td>542664</td>\n",
       "      <td>DOT</td>\n",
       "      <td>DOTCOM POSTAGE</td>\n",
       "      <td>1</td>\n",
       "      <td>2011-01-31</td>\n",
       "      <td>157.760000</td>\n",
       "      <td>United Kingdom</td>\n",
       "      <td>19556</td>\n",
       "    </tr>\n",
       "    <tr>\n",
       "      <th>217651</th>\n",
       "      <td>555928</td>\n",
       "      <td>POST</td>\n",
       "      <td>POSTAGE</td>\n",
       "      <td>2</td>\n",
       "      <td>2011-06-08</td>\n",
       "      <td>15.000000</td>\n",
       "      <td>Belgium</td>\n",
       "      <td>12383</td>\n",
       "    </tr>\n",
       "    <tr>\n",
       "      <th>96690</th>\n",
       "      <td>C544580</td>\n",
       "      <td>S</td>\n",
       "      <td>SAMPLES</td>\n",
       "      <td>-1</td>\n",
       "      <td>2011-02-21</td>\n",
       "      <td>7.000000</td>\n",
       "      <td>United Kingdom</td>\n",
       "      <td>19707</td>\n",
       "    </tr>\n",
       "    <tr>\n",
       "      <th>302922</th>\n",
       "      <td>563480</td>\n",
       "      <td>POST</td>\n",
       "      <td>POSTAGE</td>\n",
       "      <td>1</td>\n",
       "      <td>2011-08-16</td>\n",
       "      <td>2.450000</td>\n",
       "      <td>United Kingdom</td>\n",
       "      <td>21512</td>\n",
       "    </tr>\n",
       "    <tr>\n",
       "      <th>293839</th>\n",
       "      <td>C562622</td>\n",
       "      <td>M</td>\n",
       "      <td>Manual</td>\n",
       "      <td>-1</td>\n",
       "      <td>2011-08-08</td>\n",
       "      <td>48.000000</td>\n",
       "      <td>United Kingdom</td>\n",
       "      <td>15299</td>\n",
       "    </tr>\n",
       "  </tbody>\n",
       "</table>\n",
       "</div>"
      ],
      "text/plain": [
       "       invoice_no stock_code     description  quantity invoice_date  \\\n",
       "76982      542664        DOT  DOTCOM POSTAGE         1   2011-01-31   \n",
       "217651     555928       POST         POSTAGE         2   2011-06-08   \n",
       "96690     C544580          S         SAMPLES        -1   2011-02-21   \n",
       "302922     563480       POST         POSTAGE         1   2011-08-16   \n",
       "293839    C562622          M          Manual        -1   2011-08-08   \n",
       "\n",
       "        unit_price         country  customer_id  \n",
       "76982   157.760000  United Kingdom        19556  \n",
       "217651   15.000000         Belgium        12383  \n",
       "96690     7.000000  United Kingdom        19707  \n",
       "302922    2.450000  United Kingdom        21512  \n",
       "293839   48.000000  United Kingdom        15299  "
      ]
     },
     "metadata": {},
     "output_type": "display_data"
    },
    {
     "data": {
      "text/plain": [
       "array(['POST', 'D', 'DOT', 'M', 'S', 'AMAZONFEE', 'm', 'DCGSSBOY',\n",
       "       'DCGSSGIRL', 'PADS', 'B', 'CRUK'], dtype=object)"
      ]
     },
     "execution_count": 27,
     "metadata": {},
     "output_type": "execute_result"
    }
   ],
   "source": [
    "# getting stock_code with just characters\n",
    "aux2 = df1.loc[df1['stock_code'].apply(lambda x: bool(re.search('^[a-zA-Z]+$', x))), :]\n",
    "\n",
    "display(aux2.sample(5))\n",
    "\n",
    "aux2['stock_code'].unique()"
   ]
  },
  {
   "cell_type": "markdown",
   "id": "dd992b68",
   "metadata": {},
   "source": [
    "Some `stock_code` we have an idea of what it means, such as \"post\", others we don't. Since we know that some do not represent product purchases, we will discard the lines with these categories later on."
   ]
  },
  {
   "cell_type": "markdown",
   "id": "1dfd6214",
   "metadata": {},
   "source": [
    "#### Country"
   ]
  },
  {
   "cell_type": "code",
   "execution_count": 28,
   "id": "33e9f08e",
   "metadata": {},
   "outputs": [
    {
     "data": {
      "text/plain": [
       "array(['United Kingdom', 'France', 'Australia', 'Netherlands', 'Germany',\n",
       "       'Norway', 'EIRE', 'Switzerland', 'Spain', 'Poland', 'Portugal',\n",
       "       'Italy', 'Belgium', 'Lithuania', 'Japan', 'Iceland',\n",
       "       'Channel Islands', 'Denmark', 'Cyprus', 'Sweden', 'Austria',\n",
       "       'Israel', 'Finland', 'Bahrain', 'Greece', 'Hong Kong', 'Singapore',\n",
       "       'Lebanon', 'United Arab Emirates', 'Saudi Arabia',\n",
       "       'Czech Republic', 'Canada', 'Unspecified', 'Brazil', 'USA',\n",
       "       'European Community', 'Malta', 'RSA'], dtype=object)"
      ]
     },
     "execution_count": 28,
     "metadata": {},
     "output_type": "execute_result"
    }
   ],
   "source": [
    "df1['country'].unique()"
   ]
  },
  {
   "cell_type": "code",
   "execution_count": 29,
   "id": "f928a643",
   "metadata": {},
   "outputs": [
    {
     "data": {
      "text/plain": [
       "38"
      ]
     },
     "execution_count": 29,
     "metadata": {},
     "output_type": "execute_result"
    }
   ],
   "source": [
    "len(df1['country'].unique())"
   ]
  },
  {
   "cell_type": "code",
   "execution_count": 30,
   "id": "44f1aad6",
   "metadata": {},
   "outputs": [
    {
     "data": {
      "text/plain": [
       "United Kingdom   0.914320\n",
       "Germany          0.017521\n",
       "France           0.015790\n",
       "EIRE             0.015124\n",
       "Spain            0.004674\n",
       "Netherlands      0.004375\n",
       "Belgium          0.003818\n",
       "Switzerland      0.003694\n",
       "Portugal         0.002803\n",
       "Australia        0.002323\n",
       "Name: country, dtype: float64"
      ]
     },
     "execution_count": 30,
     "metadata": {},
     "output_type": "execute_result"
    }
   ],
   "source": [
    "df1['country'].value_counts(normalize=True).head(10)"
   ]
  },
  {
   "cell_type": "markdown",
   "id": "b9826f62",
   "metadata": {},
   "source": [
    "For `country`, which represents the country where the purchase was made, we have that the majority was made from the United Kingdom, representing 91%."
   ]
  },
  {
   "cell_type": "code",
   "execution_count": 31,
   "id": "aaea85c6",
   "metadata": {},
   "outputs": [
    {
     "data": {
      "text/html": [
       "<div>\n",
       "<style scoped>\n",
       "    .dataframe tbody tr th:only-of-type {\n",
       "        vertical-align: middle;\n",
       "    }\n",
       "\n",
       "    .dataframe tbody tr th {\n",
       "        vertical-align: top;\n",
       "    }\n",
       "\n",
       "    .dataframe thead th {\n",
       "        text-align: right;\n",
       "    }\n",
       "</style>\n",
       "<table border=\"1\" class=\"dataframe\">\n",
       "  <thead>\n",
       "    <tr style=\"text-align: right;\">\n",
       "      <th></th>\n",
       "      <th>country</th>\n",
       "      <th>customer_id</th>\n",
       "    </tr>\n",
       "  </thead>\n",
       "  <tbody>\n",
       "    <tr>\n",
       "      <th>36</th>\n",
       "      <td>United Kingdom</td>\n",
       "      <td>7587</td>\n",
       "    </tr>\n",
       "    <tr>\n",
       "      <th>14</th>\n",
       "      <td>Germany</td>\n",
       "      <td>95</td>\n",
       "    </tr>\n",
       "    <tr>\n",
       "      <th>13</th>\n",
       "      <td>France</td>\n",
       "      <td>90</td>\n",
       "    </tr>\n",
       "    <tr>\n",
       "      <th>10</th>\n",
       "      <td>EIRE</td>\n",
       "      <td>44</td>\n",
       "    </tr>\n",
       "    <tr>\n",
       "      <th>31</th>\n",
       "      <td>Spain</td>\n",
       "      <td>31</td>\n",
       "    </tr>\n",
       "    <tr>\n",
       "      <th>3</th>\n",
       "      <td>Belgium</td>\n",
       "      <td>25</td>\n",
       "    </tr>\n",
       "    <tr>\n",
       "      <th>33</th>\n",
       "      <td>Switzerland</td>\n",
       "      <td>24</td>\n",
       "    </tr>\n",
       "    <tr>\n",
       "      <th>27</th>\n",
       "      <td>Portugal</td>\n",
       "      <td>20</td>\n",
       "    </tr>\n",
       "    <tr>\n",
       "      <th>19</th>\n",
       "      <td>Italy</td>\n",
       "      <td>15</td>\n",
       "    </tr>\n",
       "    <tr>\n",
       "      <th>16</th>\n",
       "      <td>Hong Kong</td>\n",
       "      <td>15</td>\n",
       "    </tr>\n",
       "    <tr>\n",
       "      <th>12</th>\n",
       "      <td>Finland</td>\n",
       "      <td>12</td>\n",
       "    </tr>\n",
       "    <tr>\n",
       "      <th>1</th>\n",
       "      <td>Austria</td>\n",
       "      <td>11</td>\n",
       "    </tr>\n",
       "    <tr>\n",
       "      <th>25</th>\n",
       "      <td>Norway</td>\n",
       "      <td>10</td>\n",
       "    </tr>\n",
       "    <tr>\n",
       "      <th>24</th>\n",
       "      <td>Netherlands</td>\n",
       "      <td>9</td>\n",
       "    </tr>\n",
       "    <tr>\n",
       "      <th>0</th>\n",
       "      <td>Australia</td>\n",
       "      <td>9</td>\n",
       "    </tr>\n",
       "    <tr>\n",
       "      <th>37</th>\n",
       "      <td>Unspecified</td>\n",
       "      <td>9</td>\n",
       "    </tr>\n",
       "    <tr>\n",
       "      <th>9</th>\n",
       "      <td>Denmark</td>\n",
       "      <td>9</td>\n",
       "    </tr>\n",
       "    <tr>\n",
       "      <th>6</th>\n",
       "      <td>Channel Islands</td>\n",
       "      <td>9</td>\n",
       "    </tr>\n",
       "    <tr>\n",
       "      <th>7</th>\n",
       "      <td>Cyprus</td>\n",
       "      <td>8</td>\n",
       "    </tr>\n",
       "    <tr>\n",
       "      <th>32</th>\n",
       "      <td>Sweden</td>\n",
       "      <td>8</td>\n",
       "    </tr>\n",
       "    <tr>\n",
       "      <th>20</th>\n",
       "      <td>Japan</td>\n",
       "      <td>8</td>\n",
       "    </tr>\n",
       "    <tr>\n",
       "      <th>18</th>\n",
       "      <td>Israel</td>\n",
       "      <td>7</td>\n",
       "    </tr>\n",
       "    <tr>\n",
       "      <th>26</th>\n",
       "      <td>Poland</td>\n",
       "      <td>6</td>\n",
       "    </tr>\n",
       "    <tr>\n",
       "      <th>5</th>\n",
       "      <td>Canada</td>\n",
       "      <td>4</td>\n",
       "    </tr>\n",
       "    <tr>\n",
       "      <th>34</th>\n",
       "      <td>USA</td>\n",
       "      <td>4</td>\n",
       "    </tr>\n",
       "    <tr>\n",
       "      <th>2</th>\n",
       "      <td>Bahrain</td>\n",
       "      <td>4</td>\n",
       "    </tr>\n",
       "    <tr>\n",
       "      <th>15</th>\n",
       "      <td>Greece</td>\n",
       "      <td>4</td>\n",
       "    </tr>\n",
       "    <tr>\n",
       "      <th>23</th>\n",
       "      <td>Malta</td>\n",
       "      <td>2</td>\n",
       "    </tr>\n",
       "    <tr>\n",
       "      <th>35</th>\n",
       "      <td>United Arab Emirates</td>\n",
       "      <td>2</td>\n",
       "    </tr>\n",
       "    <tr>\n",
       "      <th>8</th>\n",
       "      <td>Czech Republic</td>\n",
       "      <td>1</td>\n",
       "    </tr>\n",
       "    <tr>\n",
       "      <th>22</th>\n",
       "      <td>Lithuania</td>\n",
       "      <td>1</td>\n",
       "    </tr>\n",
       "    <tr>\n",
       "      <th>11</th>\n",
       "      <td>European Community</td>\n",
       "      <td>1</td>\n",
       "    </tr>\n",
       "    <tr>\n",
       "      <th>21</th>\n",
       "      <td>Lebanon</td>\n",
       "      <td>1</td>\n",
       "    </tr>\n",
       "    <tr>\n",
       "      <th>28</th>\n",
       "      <td>RSA</td>\n",
       "      <td>1</td>\n",
       "    </tr>\n",
       "    <tr>\n",
       "      <th>29</th>\n",
       "      <td>Saudi Arabia</td>\n",
       "      <td>1</td>\n",
       "    </tr>\n",
       "    <tr>\n",
       "      <th>30</th>\n",
       "      <td>Singapore</td>\n",
       "      <td>1</td>\n",
       "    </tr>\n",
       "    <tr>\n",
       "      <th>17</th>\n",
       "      <td>Iceland</td>\n",
       "      <td>1</td>\n",
       "    </tr>\n",
       "    <tr>\n",
       "      <th>4</th>\n",
       "      <td>Brazil</td>\n",
       "      <td>1</td>\n",
       "    </tr>\n",
       "  </tbody>\n",
       "</table>\n",
       "</div>"
      ],
      "text/plain": [
       "                 country  customer_id\n",
       "36        United Kingdom         7587\n",
       "14               Germany           95\n",
       "13                France           90\n",
       "10                  EIRE           44\n",
       "31                 Spain           31\n",
       "3                Belgium           25\n",
       "33           Switzerland           24\n",
       "27              Portugal           20\n",
       "19                 Italy           15\n",
       "16             Hong Kong           15\n",
       "12               Finland           12\n",
       "1                Austria           11\n",
       "25                Norway           10\n",
       "24           Netherlands            9\n",
       "0              Australia            9\n",
       "37           Unspecified            9\n",
       "9                Denmark            9\n",
       "6        Channel Islands            9\n",
       "7                 Cyprus            8\n",
       "32                Sweden            8\n",
       "20                 Japan            8\n",
       "18                Israel            7\n",
       "26                Poland            6\n",
       "5                 Canada            4\n",
       "34                   USA            4\n",
       "2                Bahrain            4\n",
       "15                Greece            4\n",
       "23                 Malta            2\n",
       "35  United Arab Emirates            2\n",
       "8         Czech Republic            1\n",
       "22             Lithuania            1\n",
       "11    European Community            1\n",
       "21               Lebanon            1\n",
       "28                   RSA            1\n",
       "29          Saudi Arabia            1\n",
       "30             Singapore            1\n",
       "17               Iceland            1\n",
       "4                 Brazil            1"
      ]
     },
     "execution_count": 31,
     "metadata": {},
     "output_type": "execute_result"
    }
   ],
   "source": [
    "df1[['customer_id', 'country']].drop_duplicates().groupby('country').count().reset_index().sort_values('customer_id', ascending=False)"
   ]
  },
  {
   "cell_type": "markdown",
   "id": "b74cd0b3",
   "metadata": {},
   "source": [
    "# 2 DATA FILTERING"
   ]
  },
  {
   "cell_type": "code",
   "execution_count": 32,
   "id": "e9d3826c",
   "metadata": {},
   "outputs": [],
   "source": [
    "df2 = df1.copy()"
   ]
  },
  {
   "cell_type": "code",
   "execution_count": 33,
   "id": "3639bb48",
   "metadata": {},
   "outputs": [],
   "source": [
    "# unit_price\n",
    "df2 = df2.loc[df2['unit_price'] >= 0.04, :] # assuming that less than this value is gift\n",
    "\n",
    "# categorical attributes\n",
    "df2 = df2[~df2['stock_code'].isin(['POST', 'D', 'DOT', 'M', 'S', 'AMAZONFEE', 'm', 'DCGSSBOY', 'DCGSSGIRL', 'PADS', 'B', 'CRUK'])]\n",
    "\n",
    "# description\n",
    "# at this point we will not use the feature description, since it is unlikely to influence the clustering\n",
    "df2 = df2.drop(columns='description', axis=1)\n",
    "\n",
    "# country\n",
    "# For now, we will also not use countries, since 91% of the purchases were made from a single country. \n",
    "df2 = df2.drop(columns='country', axis=1)\n",
    "\n",
    "# quantity\n",
    "df2_cancelations = df2.loc[df1['quantity'] < 0, :]\n",
    "df2_purchases = df2.loc[df1['quantity'] >= 0, :]"
   ]
  },
  {
   "cell_type": "markdown",
   "id": "d7c36fb2",
   "metadata": {},
   "source": [
    "# 3.0  FEATURE ENGINEERING"
   ]
  },
  {
   "cell_type": "code",
   "execution_count": 34,
   "id": "454a9d70",
   "metadata": {},
   "outputs": [],
   "source": [
    "df3 = df2.copy() \n",
    "df3_cancelations = df2_cancelations.copy()\n",
    "df3_purchases = df2_purchases.copy()"
   ]
  },
  {
   "cell_type": "markdown",
   "id": "450f844b",
   "metadata": {},
   "source": [
    "## 3.1 Features Creation"
   ]
  },
  {
   "cell_type": "code",
   "execution_count": 35,
   "id": "2bacd074",
   "metadata": {},
   "outputs": [
    {
     "data": {
      "text/html": [
       "<div>\n",
       "<style scoped>\n",
       "    .dataframe tbody tr th:only-of-type {\n",
       "        vertical-align: middle;\n",
       "    }\n",
       "\n",
       "    .dataframe tbody tr th {\n",
       "        vertical-align: top;\n",
       "    }\n",
       "\n",
       "    .dataframe thead th {\n",
       "        text-align: right;\n",
       "    }\n",
       "</style>\n",
       "<table border=\"1\" class=\"dataframe\">\n",
       "  <thead>\n",
       "    <tr style=\"text-align: right;\">\n",
       "      <th></th>\n",
       "      <th>customer_id</th>\n",
       "    </tr>\n",
       "  </thead>\n",
       "  <tbody>\n",
       "    <tr>\n",
       "      <th>0</th>\n",
       "      <td>17850</td>\n",
       "    </tr>\n",
       "    <tr>\n",
       "      <th>1</th>\n",
       "      <td>13047</td>\n",
       "    </tr>\n",
       "    <tr>\n",
       "      <th>2</th>\n",
       "      <td>12583</td>\n",
       "    </tr>\n",
       "    <tr>\n",
       "      <th>3</th>\n",
       "      <td>13748</td>\n",
       "    </tr>\n",
       "    <tr>\n",
       "      <th>4</th>\n",
       "      <td>15100</td>\n",
       "    </tr>\n",
       "  </tbody>\n",
       "</table>\n",
       "</div>"
      ],
      "text/plain": [
       "   customer_id\n",
       "0        17850\n",
       "1        13047\n",
       "2        12583\n",
       "3        13748\n",
       "4        15100"
      ]
     },
     "execution_count": 35,
     "metadata": {},
     "output_type": "execute_result"
    }
   ],
   "source": [
    "# reference table\n",
    "df_ref = df3.drop(['invoice_no', 'stock_code', 'quantity', \n",
    "                   'invoice_date', 'unit_price'], axis=1).drop_duplicates(ignore_index=True)\n",
    "\n",
    "df_ref.head()"
   ]
  },
  {
   "cell_type": "markdown",
   "id": "8bda0912",
   "metadata": {},
   "source": [
    "####  Gross Revenue"
   ]
  },
  {
   "cell_type": "code",
   "execution_count": 36,
   "id": "deae7a75",
   "metadata": {},
   "outputs": [],
   "source": [
    "# gross revenue\n",
    "df3['gross_revenue'] = df3['quantity'] * df3['unit_price']\n",
    "\n",
    "df_gross_revenue = df3[['customer_id', 'gross_revenue']].groupby('customer_id').sum().reset_index()\n",
    "\n",
    "df_ref = pd.merge(df_ref, df_gross_revenue, on='customer_id', how='left')"
   ]
  },
  {
   "cell_type": "code",
   "execution_count": 37,
   "id": "861cc488",
   "metadata": {},
   "outputs": [
    {
     "data": {
      "text/html": [
       "<div>\n",
       "<style scoped>\n",
       "    .dataframe tbody tr th:only-of-type {\n",
       "        vertical-align: middle;\n",
       "    }\n",
       "\n",
       "    .dataframe tbody tr th {\n",
       "        vertical-align: top;\n",
       "    }\n",
       "\n",
       "    .dataframe thead th {\n",
       "        text-align: right;\n",
       "    }\n",
       "</style>\n",
       "<table border=\"1\" class=\"dataframe\">\n",
       "  <thead>\n",
       "    <tr style=\"text-align: right;\">\n",
       "      <th></th>\n",
       "      <th>customer_id</th>\n",
       "      <th>gross_revenue</th>\n",
       "    </tr>\n",
       "  </thead>\n",
       "  <tbody>\n",
       "    <tr>\n",
       "      <th>5615</th>\n",
       "      <td>22515</td>\n",
       "      <td>-1208.040000</td>\n",
       "    </tr>\n",
       "    <tr>\n",
       "      <th>217</th>\n",
       "      <td>14213</td>\n",
       "      <td>-1192.200000</td>\n",
       "    </tr>\n",
       "    <tr>\n",
       "      <th>3782</th>\n",
       "      <td>21005</td>\n",
       "      <td>-1096.140000</td>\n",
       "    </tr>\n",
       "    <tr>\n",
       "      <th>1419</th>\n",
       "      <td>19439</td>\n",
       "      <td>-1050.150000</td>\n",
       "    </tr>\n",
       "    <tr>\n",
       "      <th>794</th>\n",
       "      <td>19207</td>\n",
       "      <td>-966.920000</td>\n",
       "    </tr>\n",
       "  </tbody>\n",
       "</table>\n",
       "</div>"
      ],
      "text/plain": [
       "      customer_id  gross_revenue\n",
       "5615        22515   -1208.040000\n",
       "217         14213   -1192.200000\n",
       "3782        21005   -1096.140000\n",
       "1419        19439   -1050.150000\n",
       "794         19207    -966.920000"
      ]
     },
     "execution_count": 37,
     "metadata": {},
     "output_type": "execute_result"
    }
   ],
   "source": [
    "df_ref.sort_values('gross_revenue').head()"
   ]
  },
  {
   "cell_type": "markdown",
   "id": "edd84c0d",
   "metadata": {},
   "source": [
    "It doesn't make sense to have clients with negative `gross_revenue`, since to have a product canceled you must have bought that product, and the smallest possible value of `gross_revenue` that makes sense is 0. So let's eliminate those negative values from our analysis."
   ]
  },
  {
   "cell_type": "code",
   "execution_count": 38,
   "id": "d7d8a6ef",
   "metadata": {},
   "outputs": [],
   "source": [
    "df_ref = df_ref.loc[df_ref['gross_revenue'] >= 0].reset_index(drop = True)"
   ]
  },
  {
   "cell_type": "code",
   "execution_count": 39,
   "id": "a8806433",
   "metadata": {},
   "outputs": [
    {
     "data": {
      "text/html": [
       "<div>\n",
       "<style scoped>\n",
       "    .dataframe tbody tr th:only-of-type {\n",
       "        vertical-align: middle;\n",
       "    }\n",
       "\n",
       "    .dataframe tbody tr th {\n",
       "        vertical-align: top;\n",
       "    }\n",
       "\n",
       "    .dataframe thead th {\n",
       "        text-align: right;\n",
       "    }\n",
       "</style>\n",
       "<table border=\"1\" class=\"dataframe\">\n",
       "  <thead>\n",
       "    <tr style=\"text-align: right;\">\n",
       "      <th></th>\n",
       "      <th>customer_id</th>\n",
       "      <th>gross_revenue</th>\n",
       "    </tr>\n",
       "  </thead>\n",
       "  <tbody>\n",
       "    <tr>\n",
       "      <th>1205</th>\n",
       "      <td>13672</td>\n",
       "      <td>0.000000</td>\n",
       "    </tr>\n",
       "    <tr>\n",
       "      <th>4092</th>\n",
       "      <td>18268</td>\n",
       "      <td>0.000000</td>\n",
       "    </tr>\n",
       "    <tr>\n",
       "      <th>4827</th>\n",
       "      <td>14792</td>\n",
       "      <td>0.000000</td>\n",
       "    </tr>\n",
       "    <tr>\n",
       "      <th>1350</th>\n",
       "      <td>12346</td>\n",
       "      <td>0.000000</td>\n",
       "    </tr>\n",
       "    <tr>\n",
       "      <th>4722</th>\n",
       "      <td>13364</td>\n",
       "      <td>0.000000</td>\n",
       "    </tr>\n",
       "  </tbody>\n",
       "</table>\n",
       "</div>"
      ],
      "text/plain": [
       "      customer_id  gross_revenue\n",
       "1205        13672       0.000000\n",
       "4092        18268       0.000000\n",
       "4827        14792       0.000000\n",
       "1350        12346       0.000000\n",
       "4722        13364       0.000000"
      ]
     },
     "execution_count": 39,
     "metadata": {},
     "output_type": "execute_result"
    }
   ],
   "source": [
    "df_ref.sort_values('gross_revenue').head()"
   ]
  },
  {
   "cell_type": "markdown",
   "id": "345c11a9",
   "metadata": {},
   "source": [
    "#### Mean Ticket "
   ]
  },
  {
   "cell_type": "code",
   "execution_count": 40,
   "id": "85c804b2",
   "metadata": {},
   "outputs": [],
   "source": [
    "df_mean_ticket = (df3[['customer_id', 'gross_revenue']].groupby('customer_id').mean()\n",
    "                                                                              .reset_index()\n",
    "                                                                              .rename(columns={'gross_revenue':'mean_ticket'}))\n",
    "\n",
    "df_ref = pd.merge(df_ref, df_mean_ticket, on='customer_id', how='left')"
   ]
  },
  {
   "cell_type": "markdown",
   "id": "7363c1a3",
   "metadata": {},
   "source": [
    "#### Purchase Quantity"
   ]
  },
  {
   "cell_type": "code",
   "execution_count": 41,
   "id": "b5ef07e3",
   "metadata": {},
   "outputs": [],
   "source": [
    "df_qtdpurchases = (df3_purchases[['customer_id', 'invoice_no']].drop_duplicates().groupby('customer_id')\n",
    "                                                                                 .count()\n",
    "                                                                                 .reset_index()\n",
    "                                                                                 .rename(columns={'invoice_no': 'qtd_purchases'}))\n",
    "\n",
    "df_ref = pd.merge(df_ref, df_qtdpurchases, on='customer_id', how='left')"
   ]
  },
  {
   "cell_type": "markdown",
   "id": "22716257",
   "metadata": {},
   "source": [
    "#### Quantity of Products"
   ]
  },
  {
   "cell_type": "code",
   "execution_count": 42,
   "id": "10c68cd1",
   "metadata": {},
   "outputs": [],
   "source": [
    "df_qtdproducts = (df3_purchases[['customer_id', 'quantity']].groupby('customer_id').sum()\n",
    "                                                                                   .reset_index()\n",
    "                                                                                   .rename(columns={'quantity': 'qtd_products'}))\n",
    "                                                        \n",
    "                                                        \n",
    "df_ref = pd.merge(df_ref, df_qtdproducts, on = 'customer_id', how ='left')"
   ]
  },
  {
   "cell_type": "markdown",
   "id": "50715a70",
   "metadata": {},
   "source": [
    "#### Basket Size | Average of Products Per Purchase"
   ]
  },
  {
   "cell_type": "code",
   "execution_count": 43,
   "id": "2720abbd",
   "metadata": {},
   "outputs": [],
   "source": [
    "df_basket_size = (df3_purchases[['customer_id', 'invoice_no', 'quantity']].groupby('customer_id')\n",
    "                                                                          .agg(n_purchase=('invoice_no', 'nunique'),\n",
    "                                                                               n_products=('quantity', 'sum')).reset_index())\n",
    "\n",
    "df_basket_size['avg_products'] = df_basket_size['n_products'] / df_basket_size['n_purchase']\n",
    "\n",
    "df_ref = pd.merge(df_ref, df_basket_size[['customer_id', 'avg_products']], how='left', on='customer_id')"
   ]
  },
  {
   "cell_type": "markdown",
   "id": "de7fe6fa",
   "metadata": {},
   "source": [
    "#### Average of Distinct Products Per Purchase"
   ]
  },
  {
   "cell_type": "code",
   "execution_count": 44,
   "id": "b1ed7f3e",
   "metadata": {},
   "outputs": [],
   "source": [
    "df_dist_products = (df2_purchases[['customer_id', 'invoice_no', 'stock_code']].groupby('customer_id')\n",
    "                                                                              .agg(n_purchase=('invoice_no', 'nunique'),\n",
    "                                                                                   n_products=('stock_code', 'nunique')).reset_index())\n",
    "\n",
    "df_dist_products['avg_unique_products'] = df_dist_products['n_products'] / df_dist_products['n_purchase']\n",
    "\n",
    "df_ref = pd.merge(df_ref, df_dist_products[['customer_id', 'avg_unique_products']], how='left', on='customer_id')"
   ]
  },
  {
   "cell_type": "markdown",
   "id": "61ebd57c",
   "metadata": {},
   "source": [
    "#### Recency | Days Since Last Purchase"
   ]
  },
  {
   "cell_type": "code",
   "execution_count": 45,
   "id": "604839ff",
   "metadata": {},
   "outputs": [],
   "source": [
    "df_recency = df3_purchases[['customer_id', 'invoice_date']].groupby('customer_id').max().reset_index()\n",
    "df_recency['recency_days'] = (df3_purchases['invoice_date'].max() - df_recency['invoice_date']).dt.days\n",
    "df_recency = df_recency[['customer_id', 'recency_days']].copy()\n",
    "\n",
    "df_ref = pd.merge(df_ref, df_recency, on='customer_id', how='left')"
   ]
  },
  {
   "cell_type": "markdown",
   "id": "b65f4b2c",
   "metadata": {},
   "source": [
    "#### Frequency of Purchase"
   ]
  },
  {
   "cell_type": "code",
   "execution_count": 46,
   "id": "be4bfc9e",
   "metadata": {},
   "outputs": [],
   "source": [
    "df_frequency = (df3_purchases[['customer_id', 'invoice_no', 'invoice_date']].drop_duplicates()\n",
    "                                                                            .groupby('customer_id')\n",
    "                                                                            .agg(max_ = ('invoice_date', 'max'), \n",
    "                                                                                 min_ = ('invoice_date', 'min'),\n",
    "                                                                                 days_= ('invoice_date', lambda x: ((x.max() - x.min()).days) + 1),\n",
    "                                                                                 buy_ = ('invoice_no', 'count')).reset_index())\n",
    "\n",
    "df_frequency['purchase_frequency'] = df_frequency[['buy_', 'days_']].apply(lambda x: x['buy_'] / x['days_'] if x['days_'] != 0 else 0, axis=1)\n",
    "\n",
    "df_ref = pd.merge( df_ref, df_frequency[['customer_id', 'purchase_frequency']], on='customer_id', how='left' )"
   ]
  },
  {
   "cell_type": "markdown",
   "id": "d3404727",
   "metadata": {},
   "source": [
    "#### Quantity of Products Cancelled"
   ]
  },
  {
   "cell_type": "code",
   "execution_count": 47,
   "id": "5111d95c",
   "metadata": {},
   "outputs": [],
   "source": [
    "df_cancelations = (df3_cancelations[['customer_id', 'quantity']].groupby('customer_id').sum()\n",
    "                                                                                       .reset_index()\n",
    "                                                                                       .rename(columns={'quantity':'qtd_cancelled_products'}))\n",
    "\n",
    "df_cancelations['qtd_cancelled_products'] = df_cancelations['qtd_cancelled_products'] * -1\n",
    "\n",
    "df_ref = pd.merge(df_ref, df_cancelations, how='left', on='customer_id')\n",
    "df_ref.loc[df_ref['qtd_cancelled_products'].isna(), 'qtd_cancelled_products'] = 0\n",
    "df_ref['qtd_cancelled_products'] = df_ref['qtd_cancelled_products'].astype(np.int64)"
   ]
  },
  {
   "cell_type": "markdown",
   "id": "80577bb2",
   "metadata": {},
   "source": [
    "#### Cancelled Products Over Purchased Products"
   ]
  },
  {
   "cell_type": "code",
   "execution_count": 48,
   "id": "fd0b8e1c",
   "metadata": {},
   "outputs": [],
   "source": [
    "df_ref['cancelled_over_purchased'] = (df_ref[['qtd_products', 'qtd_cancelled_products']]\n",
    "                                      .apply(lambda x: x['qtd_cancelled_products'] / x['qtd_products'], axis=1))"
   ]
  },
  {
   "cell_type": "code",
   "execution_count": 49,
   "id": "c4cf3de6",
   "metadata": {},
   "outputs": [
    {
     "data": {
      "text/html": [
       "<div>\n",
       "<style scoped>\n",
       "    .dataframe tbody tr th:only-of-type {\n",
       "        vertical-align: middle;\n",
       "    }\n",
       "\n",
       "    .dataframe tbody tr th {\n",
       "        vertical-align: top;\n",
       "    }\n",
       "\n",
       "    .dataframe thead th {\n",
       "        text-align: right;\n",
       "    }\n",
       "</style>\n",
       "<table border=\"1\" class=\"dataframe\">\n",
       "  <thead>\n",
       "    <tr style=\"text-align: right;\">\n",
       "      <th></th>\n",
       "      <th>customer_id</th>\n",
       "      <th>gross_revenue</th>\n",
       "      <th>mean_ticket</th>\n",
       "      <th>qtd_purchases</th>\n",
       "      <th>qtd_products</th>\n",
       "      <th>avg_products</th>\n",
       "      <th>avg_unique_products</th>\n",
       "      <th>recency_days</th>\n",
       "      <th>purchase_frequency</th>\n",
       "      <th>qtd_cancelled_products</th>\n",
       "      <th>cancelled_over_purchased</th>\n",
       "    </tr>\n",
       "  </thead>\n",
       "  <tbody>\n",
       "    <tr>\n",
       "      <th>0</th>\n",
       "      <td>17850</td>\n",
       "      <td>5288.630000</td>\n",
       "      <td>16.950737</td>\n",
       "      <td>34</td>\n",
       "      <td>1733</td>\n",
       "      <td>50.970588</td>\n",
       "      <td>0.617647</td>\n",
       "      <td>372</td>\n",
       "      <td>17.000000</td>\n",
       "      <td>40</td>\n",
       "      <td>0.023081</td>\n",
       "    </tr>\n",
       "    <tr>\n",
       "      <th>1</th>\n",
       "      <td>13047</td>\n",
       "      <td>3089.100000</td>\n",
       "      <td>15.923196</td>\n",
       "      <td>9</td>\n",
       "      <td>1390</td>\n",
       "      <td>154.444444</td>\n",
       "      <td>11.666667</td>\n",
       "      <td>56</td>\n",
       "      <td>0.028302</td>\n",
       "      <td>35</td>\n",
       "      <td>0.025180</td>\n",
       "    </tr>\n",
       "    <tr>\n",
       "      <th>2</th>\n",
       "      <td>12583</td>\n",
       "      <td>6629.340000</td>\n",
       "      <td>28.209957</td>\n",
       "      <td>15</td>\n",
       "      <td>5028</td>\n",
       "      <td>335.200000</td>\n",
       "      <td>7.600000</td>\n",
       "      <td>2</td>\n",
       "      <td>0.040323</td>\n",
       "      <td>50</td>\n",
       "      <td>0.009944</td>\n",
       "    </tr>\n",
       "    <tr>\n",
       "      <th>3</th>\n",
       "      <td>13748</td>\n",
       "      <td>948.250000</td>\n",
       "      <td>33.866071</td>\n",
       "      <td>5</td>\n",
       "      <td>439</td>\n",
       "      <td>87.800000</td>\n",
       "      <td>4.800000</td>\n",
       "      <td>95</td>\n",
       "      <td>0.017921</td>\n",
       "      <td>0</td>\n",
       "      <td>0.000000</td>\n",
       "    </tr>\n",
       "    <tr>\n",
       "      <th>4</th>\n",
       "      <td>15100</td>\n",
       "      <td>635.100000</td>\n",
       "      <td>105.850000</td>\n",
       "      <td>3</td>\n",
       "      <td>80</td>\n",
       "      <td>26.666667</td>\n",
       "      <td>0.333333</td>\n",
       "      <td>333</td>\n",
       "      <td>0.073171</td>\n",
       "      <td>22</td>\n",
       "      <td>0.275000</td>\n",
       "    </tr>\n",
       "  </tbody>\n",
       "</table>\n",
       "</div>"
      ],
      "text/plain": [
       "   customer_id  gross_revenue  mean_ticket  qtd_purchases  qtd_products  \\\n",
       "0        17850    5288.630000    16.950737             34          1733   \n",
       "1        13047    3089.100000    15.923196              9          1390   \n",
       "2        12583    6629.340000    28.209957             15          5028   \n",
       "3        13748     948.250000    33.866071              5           439   \n",
       "4        15100     635.100000   105.850000              3            80   \n",
       "\n",
       "   avg_products  avg_unique_products  recency_days  purchase_frequency  \\\n",
       "0     50.970588             0.617647           372           17.000000   \n",
       "1    154.444444            11.666667            56            0.028302   \n",
       "2    335.200000             7.600000             2            0.040323   \n",
       "3     87.800000             4.800000            95            0.017921   \n",
       "4     26.666667             0.333333           333            0.073171   \n",
       "\n",
       "   qtd_cancelled_products  cancelled_over_purchased  \n",
       "0                      40                  0.023081  \n",
       "1                      35                  0.025180  \n",
       "2                      50                  0.009944  \n",
       "3                       0                  0.000000  \n",
       "4                      22                  0.275000  "
      ]
     },
     "execution_count": 49,
     "metadata": {},
     "output_type": "execute_result"
    }
   ],
   "source": [
    "df_ref.head()"
   ]
  },
  {
   "cell_type": "code",
   "execution_count": 50,
   "id": "eeba67af",
   "metadata": {},
   "outputs": [
    {
     "data": {
      "text/plain": [
       "customer_id                 0\n",
       "gross_revenue               0\n",
       "mean_ticket                 0\n",
       "qtd_purchases               0\n",
       "qtd_products                0\n",
       "avg_products                0\n",
       "avg_unique_products         0\n",
       "recency_days                0\n",
       "purchase_frequency          0\n",
       "qtd_cancelled_products      0\n",
       "cancelled_over_purchased    0\n",
       "dtype: int64"
      ]
     },
     "execution_count": 50,
     "metadata": {},
     "output_type": "execute_result"
    }
   ],
   "source": [
    "df_ref.isna().sum()"
   ]
  },
  {
   "cell_type": "markdown",
   "id": "118176df",
   "metadata": {},
   "source": [
    "# 4 EXPLORATORY DATA ANALYSIS"
   ]
  },
  {
   "cell_type": "markdown",
   "id": "4c9abad9",
   "metadata": {},
   "source": [
    "Both univariate and bivariate analysis are important to verify that the variables that have been created make sense and that there are no fuzziness in the data, so as not to compromise the clustering. "
   ]
  },
  {
   "cell_type": "code",
   "execution_count": 51,
   "id": "5b0987ec",
   "metadata": {},
   "outputs": [],
   "source": [
    "df4 = df_ref.copy()"
   ]
  },
  {
   "cell_type": "markdown",
   "id": "2d9c6e5b",
   "metadata": {},
   "source": [
    "## 4.1 Univariate Analysis"
   ]
  },
  {
   "cell_type": "markdown",
   "id": "135d82a5",
   "metadata": {},
   "source": [
    "In addition to checking that the variables created make sense and that there is no fuzziness in the data, in univariate analysis we try we try to analyze the varaibility in the features, because if a feature varies a lot on an axis, i.e., has a large range, it means that when I combine it with any other feature the chance of forming clusters cohesive and distant from each other is higher.\n",
    "\n",
    "To do this we will look at the measures of dispersion - minimum, maximum and range; the mean and median - if equal, it have no outliers, and here outliers can be good, since the best customers are not like the majority; standard deviation and variance - a high standard deviation shows that at the mean the data are far from the center; coefficient of variation, represented by the standard deviation over the mean, we want a high coefficient of variation; and histogram - how the data is distributed. \n",
    "\n",
    "We will bring here only those features that we believe need a better look. The complete analysis can be found in the file `eda.html`"
   ]
  },
  {
   "cell_type": "code",
   "execution_count": 52,
   "id": "c3e3862b",
   "metadata": {},
   "outputs": [],
   "source": [
    "## analyzing the dataset ProfileReport\n",
    "#profile = ProfileReport(df4)\n",
    "#profile.to_file('eda.html')"
   ]
  },
  {
   "cell_type": "markdown",
   "id": "fb1a64b1",
   "metadata": {},
   "source": [
    "#### Gross Revenue"
   ]
  },
  {
   "cell_type": "code",
   "execution_count": 53,
   "id": "b139d650",
   "metadata": {},
   "outputs": [
    {
     "data": {
      "text/html": [
       "<div>\n",
       "<style scoped>\n",
       "    .dataframe tbody tr th:only-of-type {\n",
       "        vertical-align: middle;\n",
       "    }\n",
       "\n",
       "    .dataframe tbody tr th {\n",
       "        vertical-align: top;\n",
       "    }\n",
       "\n",
       "    .dataframe thead th {\n",
       "        text-align: right;\n",
       "    }\n",
       "</style>\n",
       "<table border=\"1\" class=\"dataframe\">\n",
       "  <thead>\n",
       "    <tr style=\"text-align: right;\">\n",
       "      <th></th>\n",
       "      <th>customer_id</th>\n",
       "      <th>gross_revenue</th>\n",
       "      <th>mean_ticket</th>\n",
       "      <th>qtd_purchases</th>\n",
       "      <th>qtd_products</th>\n",
       "      <th>avg_products</th>\n",
       "      <th>avg_unique_products</th>\n",
       "      <th>recency_days</th>\n",
       "      <th>purchase_frequency</th>\n",
       "      <th>qtd_cancelled_products</th>\n",
       "      <th>cancelled_over_purchased</th>\n",
       "    </tr>\n",
       "  </thead>\n",
       "  <tbody>\n",
       "    <tr>\n",
       "      <th>992</th>\n",
       "      <td>14646</td>\n",
       "      <td>278778.020000</td>\n",
       "      <td>135.197876</td>\n",
       "      <td>72</td>\n",
       "      <td>196844</td>\n",
       "      <td>2733.944444</td>\n",
       "      <td>9.708333</td>\n",
       "      <td>1</td>\n",
       "      <td>0.203390</td>\n",
       "      <td>288</td>\n",
       "      <td>0.001463</td>\n",
       "    </tr>\n",
       "    <tr>\n",
       "      <th>481</th>\n",
       "      <td>18102</td>\n",
       "      <td>259657.300000</td>\n",
       "      <td>602.453132</td>\n",
       "      <td>60</td>\n",
       "      <td>64124</td>\n",
       "      <td>1068.733333</td>\n",
       "      <td>2.500000</td>\n",
       "      <td>0</td>\n",
       "      <td>0.163043</td>\n",
       "      <td>0</td>\n",
       "      <td>0.000000</td>\n",
       "    </tr>\n",
       "    <tr>\n",
       "      <th>423</th>\n",
       "      <td>17450</td>\n",
       "      <td>189735.530000</td>\n",
       "      <td>558.045676</td>\n",
       "      <td>46</td>\n",
       "      <td>69993</td>\n",
       "      <td>1521.586957</td>\n",
       "      <td>2.695652</td>\n",
       "      <td>8</td>\n",
       "      <td>0.127778</td>\n",
       "      <td>952</td>\n",
       "      <td>0.013601</td>\n",
       "    </tr>\n",
       "    <tr>\n",
       "      <th>65</th>\n",
       "      <td>14911</td>\n",
       "      <td>133007.130000</td>\n",
       "      <td>22.558876</td>\n",
       "      <td>199</td>\n",
       "      <td>80263</td>\n",
       "      <td>403.331658</td>\n",
       "      <td>8.974874</td>\n",
       "      <td>1</td>\n",
       "      <td>0.533512</td>\n",
       "      <td>3332</td>\n",
       "      <td>0.041514</td>\n",
       "    </tr>\n",
       "    <tr>\n",
       "      <th>1121</th>\n",
       "      <td>12415</td>\n",
       "      <td>123638.180000</td>\n",
       "      <td>159.739251</td>\n",
       "      <td>20</td>\n",
       "      <td>77373</td>\n",
       "      <td>3868.650000</td>\n",
       "      <td>22.150000</td>\n",
       "      <td>24</td>\n",
       "      <td>0.063694</td>\n",
       "      <td>427</td>\n",
       "      <td>0.005519</td>\n",
       "    </tr>\n",
       "  </tbody>\n",
       "</table>\n",
       "</div>"
      ],
      "text/plain": [
       "      customer_id  gross_revenue  mean_ticket  qtd_purchases  qtd_products  \\\n",
       "992         14646  278778.020000   135.197876             72        196844   \n",
       "481         18102  259657.300000   602.453132             60         64124   \n",
       "423         17450  189735.530000   558.045676             46         69993   \n",
       "65          14911  133007.130000    22.558876            199         80263   \n",
       "1121        12415  123638.180000   159.739251             20         77373   \n",
       "\n",
       "      avg_products  avg_unique_products  recency_days  purchase_frequency  \\\n",
       "992    2733.944444             9.708333             1            0.203390   \n",
       "481    1068.733333             2.500000             0            0.163043   \n",
       "423    1521.586957             2.695652             8            0.127778   \n",
       "65      403.331658             8.974874             1            0.533512   \n",
       "1121   3868.650000            22.150000            24            0.063694   \n",
       "\n",
       "      qtd_cancelled_products  cancelled_over_purchased  \n",
       "992                      288                  0.001463  \n",
       "481                        0                  0.000000  \n",
       "423                      952                  0.013601  \n",
       "65                      3332                  0.041514  \n",
       "1121                     427                  0.005519  "
      ]
     },
     "execution_count": 53,
     "metadata": {},
     "output_type": "execute_result"
    }
   ],
   "source": [
    "# taking a look at the maximum values\n",
    "df4.sort_values('gross_revenue', ascending=False).head()"
   ]
  },
  {
   "cell_type": "markdown",
   "id": "27664893",
   "metadata": {},
   "source": [
    "Clients with higher gross_revenue have low cancellations and low recency, which is very good for business."
   ]
  },
  {
   "cell_type": "markdown",
   "id": "c97a8108",
   "metadata": {},
   "source": [
    "#### Mean Ticket"
   ]
  },
  {
   "cell_type": "code",
   "execution_count": 54,
   "id": "e1519571",
   "metadata": {},
   "outputs": [
    {
     "data": {
      "text/html": [
       "<div>\n",
       "<style scoped>\n",
       "    .dataframe tbody tr th:only-of-type {\n",
       "        vertical-align: middle;\n",
       "    }\n",
       "\n",
       "    .dataframe tbody tr th {\n",
       "        vertical-align: top;\n",
       "    }\n",
       "\n",
       "    .dataframe thead th {\n",
       "        text-align: right;\n",
       "    }\n",
       "</style>\n",
       "<table border=\"1\" class=\"dataframe\">\n",
       "  <thead>\n",
       "    <tr style=\"text-align: right;\">\n",
       "      <th></th>\n",
       "      <th>customer_id</th>\n",
       "      <th>gross_revenue</th>\n",
       "      <th>mean_ticket</th>\n",
       "      <th>qtd_purchases</th>\n",
       "      <th>qtd_products</th>\n",
       "      <th>avg_products</th>\n",
       "      <th>avg_unique_products</th>\n",
       "      <th>recency_days</th>\n",
       "      <th>purchase_frequency</th>\n",
       "      <th>qtd_cancelled_products</th>\n",
       "      <th>cancelled_over_purchased</th>\n",
       "    </tr>\n",
       "  </thead>\n",
       "  <tbody>\n",
       "    <tr>\n",
       "      <th>3574</th>\n",
       "      <td>15098</td>\n",
       "      <td>39619.500000</td>\n",
       "      <td>9904.875000</td>\n",
       "      <td>3</td>\n",
       "      <td>121</td>\n",
       "      <td>40.333333</td>\n",
       "      <td>0.333333</td>\n",
       "      <td>182</td>\n",
       "      <td>3.000000</td>\n",
       "      <td>60</td>\n",
       "      <td>0.495868</td>\n",
       "    </tr>\n",
       "    <tr>\n",
       "      <th>5683</th>\n",
       "      <td>15195</td>\n",
       "      <td>3861.000000</td>\n",
       "      <td>3861.000000</td>\n",
       "      <td>1</td>\n",
       "      <td>1404</td>\n",
       "      <td>1404.000000</td>\n",
       "      <td>1.000000</td>\n",
       "      <td>2</td>\n",
       "      <td>1.000000</td>\n",
       "      <td>0</td>\n",
       "      <td>0.000000</td>\n",
       "    </tr>\n",
       "    <tr>\n",
       "      <th>3404</th>\n",
       "      <td>13135</td>\n",
       "      <td>3096.000000</td>\n",
       "      <td>3096.000000</td>\n",
       "      <td>1</td>\n",
       "      <td>4300</td>\n",
       "      <td>4300.000000</td>\n",
       "      <td>1.000000</td>\n",
       "      <td>196</td>\n",
       "      <td>1.000000</td>\n",
       "      <td>0</td>\n",
       "      <td>0.000000</td>\n",
       "    </tr>\n",
       "    <tr>\n",
       "      <th>1107</th>\n",
       "      <td>16532</td>\n",
       "      <td>6748.800000</td>\n",
       "      <td>1687.200000</td>\n",
       "      <td>3</td>\n",
       "      <td>2016</td>\n",
       "      <td>672.000000</td>\n",
       "      <td>0.666667</td>\n",
       "      <td>17</td>\n",
       "      <td>0.009317</td>\n",
       "      <td>0</td>\n",
       "      <td>0.000000</td>\n",
       "    </tr>\n",
       "    <tr>\n",
       "      <th>1232</th>\n",
       "      <td>15749</td>\n",
       "      <td>21535.900000</td>\n",
       "      <td>1435.726667</td>\n",
       "      <td>3</td>\n",
       "      <td>18028</td>\n",
       "      <td>6009.333333</td>\n",
       "      <td>1.666667</td>\n",
       "      <td>235</td>\n",
       "      <td>0.030612</td>\n",
       "      <td>9014</td>\n",
       "      <td>0.500000</td>\n",
       "    </tr>\n",
       "  </tbody>\n",
       "</table>\n",
       "</div>"
      ],
      "text/plain": [
       "      customer_id  gross_revenue  mean_ticket  qtd_purchases  qtd_products  \\\n",
       "3574        15098   39619.500000  9904.875000              3           121   \n",
       "5683        15195    3861.000000  3861.000000              1          1404   \n",
       "3404        13135    3096.000000  3096.000000              1          4300   \n",
       "1107        16532    6748.800000  1687.200000              3          2016   \n",
       "1232        15749   21535.900000  1435.726667              3         18028   \n",
       "\n",
       "      avg_products  avg_unique_products  recency_days  purchase_frequency  \\\n",
       "3574     40.333333             0.333333           182            3.000000   \n",
       "5683   1404.000000             1.000000             2            1.000000   \n",
       "3404   4300.000000             1.000000           196            1.000000   \n",
       "1107    672.000000             0.666667            17            0.009317   \n",
       "1232   6009.333333             1.666667           235            0.030612   \n",
       "\n",
       "      qtd_cancelled_products  cancelled_over_purchased  \n",
       "3574                      60                  0.495868  \n",
       "5683                       0                  0.000000  \n",
       "3404                       0                  0.000000  \n",
       "1107                       0                  0.000000  \n",
       "1232                    9014                  0.500000  "
      ]
     },
     "execution_count": 54,
     "metadata": {},
     "output_type": "execute_result"
    }
   ],
   "source": [
    "# taking a look at the maximum values\n",
    "df4.sort_values('mean_ticket', ascending=False).head()"
   ]
  },
  {
   "cell_type": "markdown",
   "id": "1a36afd9",
   "metadata": {},
   "source": [
    "The customers with the highest average ticket, had 50% of their products cancelled. The fifth highest, too."
   ]
  },
  {
   "cell_type": "code",
   "execution_count": 55,
   "id": "dc5bd4b9",
   "metadata": {},
   "outputs": [
    {
     "data": {
      "text/html": [
       "<div>\n",
       "<style scoped>\n",
       "    .dataframe tbody tr th:only-of-type {\n",
       "        vertical-align: middle;\n",
       "    }\n",
       "\n",
       "    .dataframe tbody tr th {\n",
       "        vertical-align: top;\n",
       "    }\n",
       "\n",
       "    .dataframe thead th {\n",
       "        text-align: right;\n",
       "    }\n",
       "</style>\n",
       "<table border=\"1\" class=\"dataframe\">\n",
       "  <thead>\n",
       "    <tr style=\"text-align: right;\">\n",
       "      <th></th>\n",
       "      <th>invoice_no</th>\n",
       "      <th>stock_code</th>\n",
       "      <th>quantity</th>\n",
       "      <th>invoice_date</th>\n",
       "      <th>unit_price</th>\n",
       "      <th>customer_id</th>\n",
       "      <th>gross_revenue</th>\n",
       "    </tr>\n",
       "  </thead>\n",
       "  <tbody>\n",
       "    <tr>\n",
       "      <th>222670</th>\n",
       "      <td>556442</td>\n",
       "      <td>22502</td>\n",
       "      <td>60</td>\n",
       "      <td>2011-06-10</td>\n",
       "      <td>4.950000</td>\n",
       "      <td>15098</td>\n",
       "      <td>297.000000</td>\n",
       "    </tr>\n",
       "    <tr>\n",
       "      <th>222680</th>\n",
       "      <td>556444</td>\n",
       "      <td>22502</td>\n",
       "      <td>60</td>\n",
       "      <td>2011-06-10</td>\n",
       "      <td>649.500000</td>\n",
       "      <td>15098</td>\n",
       "      <td>38970.000000</td>\n",
       "    </tr>\n",
       "    <tr>\n",
       "      <th>222682</th>\n",
       "      <td>556446</td>\n",
       "      <td>22502</td>\n",
       "      <td>1</td>\n",
       "      <td>2011-06-10</td>\n",
       "      <td>649.500000</td>\n",
       "      <td>15098</td>\n",
       "      <td>649.500000</td>\n",
       "    </tr>\n",
       "    <tr>\n",
       "      <th>222692</th>\n",
       "      <td>C556448</td>\n",
       "      <td>22502</td>\n",
       "      <td>-60</td>\n",
       "      <td>2011-06-10</td>\n",
       "      <td>4.950000</td>\n",
       "      <td>15098</td>\n",
       "      <td>-297.000000</td>\n",
       "    </tr>\n",
       "  </tbody>\n",
       "</table>\n",
       "</div>"
      ],
      "text/plain": [
       "       invoice_no stock_code  quantity invoice_date  unit_price  customer_id  \\\n",
       "222670     556442      22502        60   2011-06-10    4.950000        15098   \n",
       "222680     556444      22502        60   2011-06-10  649.500000        15098   \n",
       "222682     556446      22502         1   2011-06-10  649.500000        15098   \n",
       "222692    C556448      22502       -60   2011-06-10    4.950000        15098   \n",
       "\n",
       "        gross_revenue  \n",
       "222670     297.000000  \n",
       "222680   38970.000000  \n",
       "222682     649.500000  \n",
       "222692    -297.000000  "
      ]
     },
     "execution_count": 55,
     "metadata": {},
     "output_type": "execute_result"
    }
   ],
   "source": [
    "df3[df3['customer_id']==15098]"
   ]
  },
  {
   "cell_type": "code",
   "execution_count": 56,
   "id": "bb7a8299",
   "metadata": {},
   "outputs": [
    {
     "data": {
      "text/html": [
       "<div>\n",
       "<style scoped>\n",
       "    .dataframe tbody tr th:only-of-type {\n",
       "        vertical-align: middle;\n",
       "    }\n",
       "\n",
       "    .dataframe tbody tr th {\n",
       "        vertical-align: top;\n",
       "    }\n",
       "\n",
       "    .dataframe thead th {\n",
       "        text-align: right;\n",
       "    }\n",
       "</style>\n",
       "<table border=\"1\" class=\"dataframe\">\n",
       "  <thead>\n",
       "    <tr style=\"text-align: right;\">\n",
       "      <th></th>\n",
       "      <th>invoice_no</th>\n",
       "      <th>stock_code</th>\n",
       "      <th>quantity</th>\n",
       "      <th>invoice_date</th>\n",
       "      <th>unit_price</th>\n",
       "      <th>customer_id</th>\n",
       "      <th>gross_revenue</th>\n",
       "    </tr>\n",
       "  </thead>\n",
       "  <tbody>\n",
       "    <tr>\n",
       "      <th>52709</th>\n",
       "      <td>540815</td>\n",
       "      <td>85123A</td>\n",
       "      <td>1930</td>\n",
       "      <td>2011-01-11</td>\n",
       "      <td>2.550000</td>\n",
       "      <td>15749</td>\n",
       "      <td>4921.500000</td>\n",
       "    </tr>\n",
       "    <tr>\n",
       "      <th>52710</th>\n",
       "      <td>540815</td>\n",
       "      <td>21175</td>\n",
       "      <td>2000</td>\n",
       "      <td>2011-01-11</td>\n",
       "      <td>1.850000</td>\n",
       "      <td>15749</td>\n",
       "      <td>3700.000000</td>\n",
       "    </tr>\n",
       "    <tr>\n",
       "      <th>52711</th>\n",
       "      <td>540815</td>\n",
       "      <td>21108</td>\n",
       "      <td>3114</td>\n",
       "      <td>2011-01-11</td>\n",
       "      <td>2.100000</td>\n",
       "      <td>15749</td>\n",
       "      <td>6539.400000</td>\n",
       "    </tr>\n",
       "    <tr>\n",
       "      <th>52771</th>\n",
       "      <td>540818</td>\n",
       "      <td>47556B</td>\n",
       "      <td>1300</td>\n",
       "      <td>2011-01-11</td>\n",
       "      <td>2.550000</td>\n",
       "      <td>15749</td>\n",
       "      <td>3315.000000</td>\n",
       "    </tr>\n",
       "    <tr>\n",
       "      <th>52772</th>\n",
       "      <td>540818</td>\n",
       "      <td>48185</td>\n",
       "      <td>670</td>\n",
       "      <td>2011-01-11</td>\n",
       "      <td>6.750000</td>\n",
       "      <td>15749</td>\n",
       "      <td>4522.500000</td>\n",
       "    </tr>\n",
       "    <tr>\n",
       "      <th>160141</th>\n",
       "      <td>C550456</td>\n",
       "      <td>48185</td>\n",
       "      <td>-670</td>\n",
       "      <td>2011-04-18</td>\n",
       "      <td>6.750000</td>\n",
       "      <td>15749</td>\n",
       "      <td>-4522.500000</td>\n",
       "    </tr>\n",
       "    <tr>\n",
       "      <th>160142</th>\n",
       "      <td>C550456</td>\n",
       "      <td>47566B</td>\n",
       "      <td>-1300</td>\n",
       "      <td>2011-04-18</td>\n",
       "      <td>2.550000</td>\n",
       "      <td>15749</td>\n",
       "      <td>-3315.000000</td>\n",
       "    </tr>\n",
       "    <tr>\n",
       "      <th>160143</th>\n",
       "      <td>C550456</td>\n",
       "      <td>85123A</td>\n",
       "      <td>-1930</td>\n",
       "      <td>2011-04-18</td>\n",
       "      <td>2.550000</td>\n",
       "      <td>15749</td>\n",
       "      <td>-4921.500000</td>\n",
       "    </tr>\n",
       "    <tr>\n",
       "      <th>160144</th>\n",
       "      <td>C550456</td>\n",
       "      <td>21175</td>\n",
       "      <td>-2000</td>\n",
       "      <td>2011-04-18</td>\n",
       "      <td>1.850000</td>\n",
       "      <td>15749</td>\n",
       "      <td>-3700.000000</td>\n",
       "    </tr>\n",
       "    <tr>\n",
       "      <th>160145</th>\n",
       "      <td>C550456</td>\n",
       "      <td>21108</td>\n",
       "      <td>-3114</td>\n",
       "      <td>2011-04-18</td>\n",
       "      <td>2.100000</td>\n",
       "      <td>15749</td>\n",
       "      <td>-6539.400000</td>\n",
       "    </tr>\n",
       "    <tr>\n",
       "      <th>160542</th>\n",
       "      <td>550461</td>\n",
       "      <td>85123A</td>\n",
       "      <td>1930</td>\n",
       "      <td>2011-04-18</td>\n",
       "      <td>2.400000</td>\n",
       "      <td>15749</td>\n",
       "      <td>4632.000000</td>\n",
       "    </tr>\n",
       "    <tr>\n",
       "      <th>160543</th>\n",
       "      <td>550461</td>\n",
       "      <td>47556B</td>\n",
       "      <td>1300</td>\n",
       "      <td>2011-04-18</td>\n",
       "      <td>2.100000</td>\n",
       "      <td>15749</td>\n",
       "      <td>2730.000000</td>\n",
       "    </tr>\n",
       "    <tr>\n",
       "      <th>160544</th>\n",
       "      <td>550461</td>\n",
       "      <td>48185</td>\n",
       "      <td>670</td>\n",
       "      <td>2011-04-18</td>\n",
       "      <td>6.350000</td>\n",
       "      <td>15749</td>\n",
       "      <td>4254.500000</td>\n",
       "    </tr>\n",
       "    <tr>\n",
       "      <th>160545</th>\n",
       "      <td>550461</td>\n",
       "      <td>21175</td>\n",
       "      <td>2000</td>\n",
       "      <td>2011-04-18</td>\n",
       "      <td>1.690000</td>\n",
       "      <td>15749</td>\n",
       "      <td>3380.000000</td>\n",
       "    </tr>\n",
       "    <tr>\n",
       "      <th>160546</th>\n",
       "      <td>550461</td>\n",
       "      <td>21108</td>\n",
       "      <td>3114</td>\n",
       "      <td>2011-04-18</td>\n",
       "      <td>2.100000</td>\n",
       "      <td>15749</td>\n",
       "      <td>6539.400000</td>\n",
       "    </tr>\n",
       "  </tbody>\n",
       "</table>\n",
       "</div>"
      ],
      "text/plain": [
       "       invoice_no stock_code  quantity invoice_date  unit_price  customer_id  \\\n",
       "52709      540815     85123A      1930   2011-01-11    2.550000        15749   \n",
       "52710      540815      21175      2000   2011-01-11    1.850000        15749   \n",
       "52711      540815      21108      3114   2011-01-11    2.100000        15749   \n",
       "52771      540818     47556B      1300   2011-01-11    2.550000        15749   \n",
       "52772      540818      48185       670   2011-01-11    6.750000        15749   \n",
       "160141    C550456      48185      -670   2011-04-18    6.750000        15749   \n",
       "160142    C550456     47566B     -1300   2011-04-18    2.550000        15749   \n",
       "160143    C550456     85123A     -1930   2011-04-18    2.550000        15749   \n",
       "160144    C550456      21175     -2000   2011-04-18    1.850000        15749   \n",
       "160145    C550456      21108     -3114   2011-04-18    2.100000        15749   \n",
       "160542     550461     85123A      1930   2011-04-18    2.400000        15749   \n",
       "160543     550461     47556B      1300   2011-04-18    2.100000        15749   \n",
       "160544     550461      48185       670   2011-04-18    6.350000        15749   \n",
       "160545     550461      21175      2000   2011-04-18    1.690000        15749   \n",
       "160546     550461      21108      3114   2011-04-18    2.100000        15749   \n",
       "\n",
       "        gross_revenue  \n",
       "52709     4921.500000  \n",
       "52710     3700.000000  \n",
       "52711     6539.400000  \n",
       "52771     3315.000000  \n",
       "52772     4522.500000  \n",
       "160141   -4522.500000  \n",
       "160142   -3315.000000  \n",
       "160143   -4921.500000  \n",
       "160144   -3700.000000  \n",
       "160145   -6539.400000  \n",
       "160542    4632.000000  \n",
       "160543    2730.000000  \n",
       "160544    4254.500000  \n",
       "160545    3380.000000  \n",
       "160546    6539.400000  "
      ]
     },
     "execution_count": 56,
     "metadata": {},
     "output_type": "execute_result"
    }
   ],
   "source": [
    "df3[df3['customer_id']==15749]"
   ]
  },
  {
   "cell_type": "markdown",
   "id": "334e3e23",
   "metadata": {},
   "source": [
    "#### Quantity of Products"
   ]
  },
  {
   "cell_type": "code",
   "execution_count": 57,
   "id": "a1fc823e",
   "metadata": {},
   "outputs": [
    {
     "data": {
      "text/html": [
       "<div>\n",
       "<style scoped>\n",
       "    .dataframe tbody tr th:only-of-type {\n",
       "        vertical-align: middle;\n",
       "    }\n",
       "\n",
       "    .dataframe tbody tr th {\n",
       "        vertical-align: top;\n",
       "    }\n",
       "\n",
       "    .dataframe thead th {\n",
       "        text-align: right;\n",
       "    }\n",
       "</style>\n",
       "<table border=\"1\" class=\"dataframe\">\n",
       "  <thead>\n",
       "    <tr style=\"text-align: right;\">\n",
       "      <th></th>\n",
       "      <th>customer_id</th>\n",
       "      <th>gross_revenue</th>\n",
       "      <th>mean_ticket</th>\n",
       "      <th>qtd_purchases</th>\n",
       "      <th>qtd_products</th>\n",
       "      <th>avg_products</th>\n",
       "      <th>avg_unique_products</th>\n",
       "      <th>recency_days</th>\n",
       "      <th>purchase_frequency</th>\n",
       "      <th>qtd_cancelled_products</th>\n",
       "      <th>cancelled_over_purchased</th>\n",
       "    </tr>\n",
       "  </thead>\n",
       "  <tbody>\n",
       "    <tr>\n",
       "      <th>992</th>\n",
       "      <td>14646</td>\n",
       "      <td>278778.020000</td>\n",
       "      <td>135.197876</td>\n",
       "      <td>72</td>\n",
       "      <td>196844</td>\n",
       "      <td>2733.944444</td>\n",
       "      <td>9.708333</td>\n",
       "      <td>1</td>\n",
       "      <td>0.203390</td>\n",
       "      <td>288</td>\n",
       "      <td>0.001463</td>\n",
       "    </tr>\n",
       "    <tr>\n",
       "      <th>3283</th>\n",
       "      <td>16446</td>\n",
       "      <td>2.900000</td>\n",
       "      <td>0.725000</td>\n",
       "      <td>2</td>\n",
       "      <td>80997</td>\n",
       "      <td>40498.500000</td>\n",
       "      <td>1.500000</td>\n",
       "      <td>0</td>\n",
       "      <td>0.009709</td>\n",
       "      <td>80995</td>\n",
       "      <td>0.999975</td>\n",
       "    </tr>\n",
       "    <tr>\n",
       "      <th>65</th>\n",
       "      <td>14911</td>\n",
       "      <td>133007.130000</td>\n",
       "      <td>22.558876</td>\n",
       "      <td>199</td>\n",
       "      <td>80263</td>\n",
       "      <td>403.331658</td>\n",
       "      <td>8.974874</td>\n",
       "      <td>1</td>\n",
       "      <td>0.533512</td>\n",
       "      <td>3332</td>\n",
       "      <td>0.041514</td>\n",
       "    </tr>\n",
       "    <tr>\n",
       "      <th>1121</th>\n",
       "      <td>12415</td>\n",
       "      <td>123638.180000</td>\n",
       "      <td>159.739251</td>\n",
       "      <td>20</td>\n",
       "      <td>77373</td>\n",
       "      <td>3868.650000</td>\n",
       "      <td>22.150000</td>\n",
       "      <td>24</td>\n",
       "      <td>0.063694</td>\n",
       "      <td>427</td>\n",
       "      <td>0.005519</td>\n",
       "    </tr>\n",
       "    <tr>\n",
       "      <th>1350</th>\n",
       "      <td>12346</td>\n",
       "      <td>0.000000</td>\n",
       "      <td>0.000000</td>\n",
       "      <td>1</td>\n",
       "      <td>74215</td>\n",
       "      <td>74215.000000</td>\n",
       "      <td>1.000000</td>\n",
       "      <td>325</td>\n",
       "      <td>1.000000</td>\n",
       "      <td>74215</td>\n",
       "      <td>1.000000</td>\n",
       "    </tr>\n",
       "  </tbody>\n",
       "</table>\n",
       "</div>"
      ],
      "text/plain": [
       "      customer_id  gross_revenue  mean_ticket  qtd_purchases  qtd_products  \\\n",
       "992         14646  278778.020000   135.197876             72        196844   \n",
       "3283        16446       2.900000     0.725000              2         80997   \n",
       "65          14911  133007.130000    22.558876            199         80263   \n",
       "1121        12415  123638.180000   159.739251             20         77373   \n",
       "1350        12346       0.000000     0.000000              1         74215   \n",
       "\n",
       "      avg_products  avg_unique_products  recency_days  purchase_frequency  \\\n",
       "992    2733.944444             9.708333             1            0.203390   \n",
       "3283  40498.500000             1.500000             0            0.009709   \n",
       "65      403.331658             8.974874             1            0.533512   \n",
       "1121   3868.650000            22.150000            24            0.063694   \n",
       "1350  74215.000000             1.000000           325            1.000000   \n",
       "\n",
       "      qtd_cancelled_products  cancelled_over_purchased  \n",
       "992                      288                  0.001463  \n",
       "3283                   80995                  0.999975  \n",
       "65                      3332                  0.041514  \n",
       "1121                     427                  0.005519  \n",
       "1350                   74215                  1.000000  "
      ]
     },
     "execution_count": 57,
     "metadata": {},
     "output_type": "execute_result"
    }
   ],
   "source": [
    "# taking a look at the maximum values\n",
    "df4.sort_values('qtd_products', ascending=False).head()"
   ]
  },
  {
   "cell_type": "markdown",
   "id": "ddd4d72d",
   "metadata": {},
   "source": [
    "#### Quantity of Cancelled Products"
   ]
  },
  {
   "cell_type": "code",
   "execution_count": 58,
   "id": "8e34636d",
   "metadata": {},
   "outputs": [
    {
     "data": {
      "text/html": [
       "<div>\n",
       "<style scoped>\n",
       "    .dataframe tbody tr th:only-of-type {\n",
       "        vertical-align: middle;\n",
       "    }\n",
       "\n",
       "    .dataframe tbody tr th {\n",
       "        vertical-align: top;\n",
       "    }\n",
       "\n",
       "    .dataframe thead th {\n",
       "        text-align: right;\n",
       "    }\n",
       "</style>\n",
       "<table border=\"1\" class=\"dataframe\">\n",
       "  <thead>\n",
       "    <tr style=\"text-align: right;\">\n",
       "      <th></th>\n",
       "      <th>customer_id</th>\n",
       "      <th>gross_revenue</th>\n",
       "      <th>mean_ticket</th>\n",
       "      <th>qtd_purchases</th>\n",
       "      <th>qtd_products</th>\n",
       "      <th>avg_products</th>\n",
       "      <th>avg_unique_products</th>\n",
       "      <th>recency_days</th>\n",
       "      <th>purchase_frequency</th>\n",
       "      <th>qtd_cancelled_products</th>\n",
       "      <th>cancelled_over_purchased</th>\n",
       "    </tr>\n",
       "  </thead>\n",
       "  <tbody>\n",
       "    <tr>\n",
       "      <th>3283</th>\n",
       "      <td>16446</td>\n",
       "      <td>2.900000</td>\n",
       "      <td>0.725000</td>\n",
       "      <td>2</td>\n",
       "      <td>80997</td>\n",
       "      <td>40498.500000</td>\n",
       "      <td>1.500000</td>\n",
       "      <td>0</td>\n",
       "      <td>0.009709</td>\n",
       "      <td>80995</td>\n",
       "      <td>0.999975</td>\n",
       "    </tr>\n",
       "    <tr>\n",
       "      <th>1350</th>\n",
       "      <td>12346</td>\n",
       "      <td>0.000000</td>\n",
       "      <td>0.000000</td>\n",
       "      <td>1</td>\n",
       "      <td>74215</td>\n",
       "      <td>74215.000000</td>\n",
       "      <td>1.000000</td>\n",
       "      <td>325</td>\n",
       "      <td>1.000000</td>\n",
       "      <td>74215</td>\n",
       "      <td>1.000000</td>\n",
       "    </tr>\n",
       "    <tr>\n",
       "      <th>1232</th>\n",
       "      <td>15749</td>\n",
       "      <td>21535.900000</td>\n",
       "      <td>1435.726667</td>\n",
       "      <td>3</td>\n",
       "      <td>18028</td>\n",
       "      <td>6009.333333</td>\n",
       "      <td>1.666667</td>\n",
       "      <td>235</td>\n",
       "      <td>0.030612</td>\n",
       "      <td>9014</td>\n",
       "      <td>0.500000</td>\n",
       "    </tr>\n",
       "    <tr>\n",
       "      <th>12</th>\n",
       "      <td>16029</td>\n",
       "      <td>58193.850000</td>\n",
       "      <td>220.431250</td>\n",
       "      <td>62</td>\n",
       "      <td>40207</td>\n",
       "      <td>648.500000</td>\n",
       "      <td>0.693548</td>\n",
       "      <td>38</td>\n",
       "      <td>0.184524</td>\n",
       "      <td>8004</td>\n",
       "      <td>0.199070</td>\n",
       "    </tr>\n",
       "    <tr>\n",
       "      <th>946</th>\n",
       "      <td>12931</td>\n",
       "      <td>33544.810000</td>\n",
       "      <td>332.126832</td>\n",
       "      <td>15</td>\n",
       "      <td>28004</td>\n",
       "      <td>1866.933333</td>\n",
       "      <td>1.866667</td>\n",
       "      <td>21</td>\n",
       "      <td>0.044510</td>\n",
       "      <td>4427</td>\n",
       "      <td>0.158085</td>\n",
       "    </tr>\n",
       "  </tbody>\n",
       "</table>\n",
       "</div>"
      ],
      "text/plain": [
       "      customer_id  gross_revenue  mean_ticket  qtd_purchases  qtd_products  \\\n",
       "3283        16446       2.900000     0.725000              2         80997   \n",
       "1350        12346       0.000000     0.000000              1         74215   \n",
       "1232        15749   21535.900000  1435.726667              3         18028   \n",
       "12          16029   58193.850000   220.431250             62         40207   \n",
       "946         12931   33544.810000   332.126832             15         28004   \n",
       "\n",
       "      avg_products  avg_unique_products  recency_days  purchase_frequency  \\\n",
       "3283  40498.500000             1.500000             0            0.009709   \n",
       "1350  74215.000000             1.000000           325            1.000000   \n",
       "1232   6009.333333             1.666667           235            0.030612   \n",
       "12      648.500000             0.693548            38            0.184524   \n",
       "946    1866.933333             1.866667            21            0.044510   \n",
       "\n",
       "      qtd_cancelled_products  cancelled_over_purchased  \n",
       "3283                   80995                  0.999975  \n",
       "1350                   74215                  1.000000  \n",
       "1232                    9014                  0.500000  \n",
       "12                      8004                  0.199070  \n",
       "946                     4427                  0.158085  "
      ]
     },
     "execution_count": 58,
     "metadata": {},
     "output_type": "execute_result"
    }
   ],
   "source": [
    "# taking a look at the maximum values\n",
    "df4.sort_values('qtd_cancelled_products', ascending=False).head()"
   ]
  },
  {
   "cell_type": "code",
   "execution_count": 59,
   "id": "9894ff23",
   "metadata": {},
   "outputs": [
    {
     "data": {
      "text/html": [
       "<div>\n",
       "<style scoped>\n",
       "    .dataframe tbody tr th:only-of-type {\n",
       "        vertical-align: middle;\n",
       "    }\n",
       "\n",
       "    .dataframe tbody tr th {\n",
       "        vertical-align: top;\n",
       "    }\n",
       "\n",
       "    .dataframe thead th {\n",
       "        text-align: right;\n",
       "    }\n",
       "</style>\n",
       "<table border=\"1\" class=\"dataframe\">\n",
       "  <thead>\n",
       "    <tr style=\"text-align: right;\">\n",
       "      <th></th>\n",
       "      <th>invoice_no</th>\n",
       "      <th>stock_code</th>\n",
       "      <th>quantity</th>\n",
       "      <th>invoice_date</th>\n",
       "      <th>unit_price</th>\n",
       "      <th>customer_id</th>\n",
       "      <th>gross_revenue</th>\n",
       "    </tr>\n",
       "  </thead>\n",
       "  <tbody>\n",
       "    <tr>\n",
       "      <th>194354</th>\n",
       "      <td>553573</td>\n",
       "      <td>22980</td>\n",
       "      <td>1</td>\n",
       "      <td>2011-05-18</td>\n",
       "      <td>1.650000</td>\n",
       "      <td>16446</td>\n",
       "      <td>1.650000</td>\n",
       "    </tr>\n",
       "    <tr>\n",
       "      <th>194355</th>\n",
       "      <td>553573</td>\n",
       "      <td>22982</td>\n",
       "      <td>1</td>\n",
       "      <td>2011-05-18</td>\n",
       "      <td>1.250000</td>\n",
       "      <td>16446</td>\n",
       "      <td>1.250000</td>\n",
       "    </tr>\n",
       "    <tr>\n",
       "      <th>540421</th>\n",
       "      <td>581483</td>\n",
       "      <td>23843</td>\n",
       "      <td>80995</td>\n",
       "      <td>2011-12-09</td>\n",
       "      <td>2.080000</td>\n",
       "      <td>16446</td>\n",
       "      <td>168469.600000</td>\n",
       "    </tr>\n",
       "    <tr>\n",
       "      <th>540422</th>\n",
       "      <td>C581484</td>\n",
       "      <td>23843</td>\n",
       "      <td>-80995</td>\n",
       "      <td>2011-12-09</td>\n",
       "      <td>2.080000</td>\n",
       "      <td>16446</td>\n",
       "      <td>-168469.600000</td>\n",
       "    </tr>\n",
       "  </tbody>\n",
       "</table>\n",
       "</div>"
      ],
      "text/plain": [
       "       invoice_no stock_code  quantity invoice_date  unit_price  customer_id  \\\n",
       "194354     553573      22980         1   2011-05-18    1.650000        16446   \n",
       "194355     553573      22982         1   2011-05-18    1.250000        16446   \n",
       "540421     581483      23843     80995   2011-12-09    2.080000        16446   \n",
       "540422    C581484      23843    -80995   2011-12-09    2.080000        16446   \n",
       "\n",
       "        gross_revenue  \n",
       "194354       1.650000  \n",
       "194355       1.250000  \n",
       "540421  168469.600000  \n",
       "540422 -168469.600000  "
      ]
     },
     "execution_count": 59,
     "metadata": {},
     "output_type": "execute_result"
    }
   ],
   "source": [
    "df3[df3['customer_id']==16446]"
   ]
  },
  {
   "cell_type": "markdown",
   "id": "741f7c07",
   "metadata": {},
   "source": [
    "## 4.2 Bivariate Analysis"
   ]
  },
  {
   "cell_type": "markdown",
   "id": "42cc37d4",
   "metadata": {},
   "source": [
    "In addition to checking that the variables created make sense and that there is no fuzziness in the data, in the bivariate analysis, we try to find features that combined can help form cohesive and distant clusters."
   ]
  },
  {
   "cell_type": "code",
   "execution_count": 60,
   "id": "bd43e157",
   "metadata": {},
   "outputs": [],
   "source": [
    "#df42 = df4.drop('customer_id', axis=1)\n",
    "\n",
    "#plt.figure(figsize=(25, 12))\n",
    "#sns.pairplot(df42);"
   ]
  },
  {
   "cell_type": "markdown",
   "id": "5ad4d197",
   "metadata": {},
   "source": [
    "When using the pair plot we notice that `qtd_canceled_products` and `avg_products` have low variance combined with any other feature. "
   ]
  },
  {
   "cell_type": "markdown",
   "id": "20c79c8b",
   "metadata": {},
   "source": [
    "## 4.3 Spaces Study"
   ]
  },
  {
   "cell_type": "code",
   "execution_count": 61,
   "id": "fe0fcac8",
   "metadata": {},
   "outputs": [],
   "source": [
    "df43 = df4.drop( columns=['customer_id'], axis=1 ).copy()"
   ]
  },
  {
   "cell_type": "code",
   "execution_count": 62,
   "id": "54376efb",
   "metadata": {},
   "outputs": [],
   "source": [
    "mms = pp.MinMaxScaler()\n",
    "\n",
    "df43['gross_revenue'] = mms.fit_transform(df43[['gross_revenue']])\n",
    "df43['mean_ticket'] = mms.fit_transform(df43[['mean_ticket']])\n",
    "df43['qtd_purchases'] = mms.fit_transform(df43[['qtd_purchases']])\n",
    "df43['qtd_cancelled_products'] = mms.fit_transform(df43[['qtd_cancelled_products']])\n",
    "df43['cancelled_over_purchased'] = mms.fit_transform(df43[['cancelled_over_purchased']])\n",
    "df43['qtd_products'] = mms.fit_transform(df43[['qtd_products']])\n",
    "df43['avg_products'] = mms.fit_transform(df43[['avg_products']])\n",
    "df43['avg_unique_products'] = mms.fit_transform(df43[['avg_unique_products']])\n",
    "df43['recency_days'] = mms.fit_transform(df43[['recency_days']])\n",
    "df43['purchase_frequency'] = mms.fit_transform(df43[['purchase_frequency']])"
   ]
  },
  {
   "cell_type": "code",
   "execution_count": 63,
   "id": "3f2e17aa",
   "metadata": {},
   "outputs": [],
   "source": [
    "X = df43.copy()"
   ]
  },
  {
   "cell_type": "markdown",
   "id": "baa6e780",
   "metadata": {},
   "source": [
    "### 4.3.1 PCA"
   ]
  },
  {
   "cell_type": "code",
   "execution_count": 64,
   "id": "f2b1a8c6",
   "metadata": {},
   "outputs": [
    {
     "data": {
      "image/png": "[encoded data removed]",
      "text/plain": [
       "<Figure size 864x432 with 1 Axes>"
      ]
     },
     "metadata": {
      "needs_background": "light"
     },
     "output_type": "display_data"
    }
   ],
   "source": [
    "pca = dd.PCA(n_components=X.shape[1])\n",
    "\n",
    "principal_components = pca.fit_transform(X)\n",
    "\n",
    "# plot explained variable\n",
    "features = range(pca.n_components_)\n",
    "\n",
    "plt.figure(figsize=(12, 6))\n",
    "plt.bar(features, pca.explained_variance_ratio_, color='black');"
   ]
  },
  {
   "cell_type": "code",
   "execution_count": 65,
   "id": "ec101c15",
   "metadata": {},
   "outputs": [
    {
     "data": {
      "image/png": "[encoded data removed]",
      "text/plain": [
       "<Figure size 864x432 with 1 Axes>"
      ]
     },
     "metadata": {
      "needs_background": "light"
     },
     "output_type": "display_data"
    }
   ],
   "source": [
    "# pca component\n",
    "df_pca = pd.DataFrame(principal_components)\n",
    "\n",
    "# looking at components 0 and 1\n",
    "plt.figure(figsize=(12, 6))\n",
    "sns.scatterplot(x=0, y=1, data=df_pca);"
   ]
  },
  {
   "cell_type": "markdown",
   "id": "75bc2533",
   "metadata": {},
   "source": [
    "### 4.3.2 UMAP"
   ]
  },
  {
   "cell_type": "code",
   "execution_count": 66,
   "id": "70f14d00",
   "metadata": {},
   "outputs": [
    {
     "data": {
      "image/png": "[encoded data removed]",
      "text/plain": [
       "<Figure size 864x432 with 1 Axes>"
      ]
     },
     "metadata": {
      "needs_background": "light"
     },
     "output_type": "display_data"
    }
   ],
   "source": [
    "df_umap = pd.DataFrame()\n",
    "reducer = umap.UMAP(n_neighbors=45, random_state=42)\n",
    "embedding = reducer.fit_transform(X)\n",
    "\n",
    "# embedding\n",
    "df_umap['embedding_x'] = embedding[:, 0]\n",
    "df_umap['embedding_y'] = embedding[:, 1]\n",
    "\n",
    "# plot UMAP\n",
    "plt.figure(figsize=(12, 6))\n",
    "sns.scatterplot(x='embedding_x', y='embedding_y', data=df_umap);"
   ]
  },
  {
   "cell_type": "markdown",
   "id": "c6775d7e",
   "metadata": {},
   "source": [
    "### 4.3.3 t-SNE"
   ]
  },
  {
   "cell_type": "code",
   "execution_count": 67,
   "id": "6465e5d3",
   "metadata": {},
   "outputs": [
    {
     "data": {
      "image/png": "[encoded data removed]",
      "text/plain": [
       "<Figure size 864x432 with 1 Axes>"
      ]
     },
     "metadata": {
      "needs_background": "light"
     },
     "output_type": "display_data"
    }
   ],
   "source": [
    "df_tsne = pd.DataFrame()\n",
    "reducer = mn.TSNE(n_components=2, learning_rate='auto', n_jobs=-1, init='random', random_state=42)\n",
    "embedding = reducer.fit_transform(X)\n",
    "\n",
    "# embedding\n",
    "df_tsne['embedding_x'] = embedding[:, 0]\n",
    "df_tsne['embedding_y'] = embedding[:, 1]\n",
    "\n",
    "# plot t-SNE\n",
    "plt.figure(figsize=(12, 6))\n",
    "sns.scatterplot(x='embedding_x', y='embedding_y', data=df_tsne);"
   ]
  },
  {
   "cell_type": "markdown",
   "id": "ec486515",
   "metadata": {},
   "source": [
    "### 4.3.4 Tree-Based Embedding"
   ]
  },
  {
   "cell_type": "code",
   "execution_count": 68,
   "id": "9fb910de",
   "metadata": {},
   "outputs": [],
   "source": [
    "# training dataset\n",
    "X_rf = df4.drop(columns=['customer_id', 'gross_revenue'], axis=1)\n",
    "y_rf = df4['gross_revenue']\n",
    "\n",
    "# model definition\n",
    "rf_model = en.RandomForestRegressor(n_estimators=100, random_state=42)\n",
    "\n",
    "# model training\n",
    "rf_model.fit(X_rf, y_rf);"
   ]
  },
  {
   "cell_type": "code",
   "execution_count": 69,
   "id": "0818a104",
   "metadata": {},
   "outputs": [
    {
     "data": {
      "text/html": [
       "<div>\n",
       "<style scoped>\n",
       "    .dataframe tbody tr th:only-of-type {\n",
       "        vertical-align: middle;\n",
       "    }\n",
       "\n",
       "    .dataframe tbody tr th {\n",
       "        vertical-align: top;\n",
       "    }\n",
       "\n",
       "    .dataframe thead th {\n",
       "        text-align: right;\n",
       "    }\n",
       "</style>\n",
       "<table border=\"1\" class=\"dataframe\">\n",
       "  <thead>\n",
       "    <tr style=\"text-align: right;\">\n",
       "      <th></th>\n",
       "      <th>0</th>\n",
       "      <th>1</th>\n",
       "      <th>2</th>\n",
       "      <th>3</th>\n",
       "      <th>4</th>\n",
       "      <th>5</th>\n",
       "      <th>6</th>\n",
       "      <th>7</th>\n",
       "      <th>8</th>\n",
       "      <th>9</th>\n",
       "      <th>...</th>\n",
       "      <th>90</th>\n",
       "      <th>91</th>\n",
       "      <th>92</th>\n",
       "      <th>93</th>\n",
       "      <th>94</th>\n",
       "      <th>95</th>\n",
       "      <th>96</th>\n",
       "      <th>97</th>\n",
       "      <th>98</th>\n",
       "      <th>99</th>\n",
       "    </tr>\n",
       "  </thead>\n",
       "  <tbody>\n",
       "    <tr>\n",
       "      <th>0</th>\n",
       "      <td>6295</td>\n",
       "      <td>6479</td>\n",
       "      <td>6294</td>\n",
       "      <td>6663</td>\n",
       "      <td>6175</td>\n",
       "      <td>6339</td>\n",
       "      <td>6354</td>\n",
       "      <td>6378</td>\n",
       "      <td>6625</td>\n",
       "      <td>6496</td>\n",
       "      <td>...</td>\n",
       "      <td>6402</td>\n",
       "      <td>6130</td>\n",
       "      <td>6344</td>\n",
       "      <td>6513</td>\n",
       "      <td>6176</td>\n",
       "      <td>6160</td>\n",
       "      <td>6547</td>\n",
       "      <td>6282</td>\n",
       "      <td>6478</td>\n",
       "      <td>6288</td>\n",
       "    </tr>\n",
       "    <tr>\n",
       "      <th>1</th>\n",
       "      <td>6250</td>\n",
       "      <td>6142</td>\n",
       "      <td>6021</td>\n",
       "      <td>6076</td>\n",
       "      <td>6093</td>\n",
       "      <td>6278</td>\n",
       "      <td>6293</td>\n",
       "      <td>5858</td>\n",
       "      <td>5914</td>\n",
       "      <td>6486</td>\n",
       "      <td>...</td>\n",
       "      <td>6223</td>\n",
       "      <td>6007</td>\n",
       "      <td>6298</td>\n",
       "      <td>6417</td>\n",
       "      <td>5932</td>\n",
       "      <td>5778</td>\n",
       "      <td>5866</td>\n",
       "      <td>6269</td>\n",
       "      <td>6217</td>\n",
       "      <td>6217</td>\n",
       "    </tr>\n",
       "    <tr>\n",
       "      <th>2</th>\n",
       "      <td>6925</td>\n",
       "      <td>6947</td>\n",
       "      <td>6885</td>\n",
       "      <td>6892</td>\n",
       "      <td>6849</td>\n",
       "      <td>6910</td>\n",
       "      <td>6801</td>\n",
       "      <td>6911</td>\n",
       "      <td>6955</td>\n",
       "      <td>7017</td>\n",
       "      <td>...</td>\n",
       "      <td>6995</td>\n",
       "      <td>6883</td>\n",
       "      <td>7046</td>\n",
       "      <td>6902</td>\n",
       "      <td>6747</td>\n",
       "      <td>6815</td>\n",
       "      <td>6995</td>\n",
       "      <td>6946</td>\n",
       "      <td>6877</td>\n",
       "      <td>6984</td>\n",
       "    </tr>\n",
       "    <tr>\n",
       "      <th>3</th>\n",
       "      <td>4089</td>\n",
       "      <td>4600</td>\n",
       "      <td>4355</td>\n",
       "      <td>4419</td>\n",
       "      <td>4505</td>\n",
       "      <td>4179</td>\n",
       "      <td>4579</td>\n",
       "      <td>4216</td>\n",
       "      <td>4498</td>\n",
       "      <td>4384</td>\n",
       "      <td>...</td>\n",
       "      <td>4466</td>\n",
       "      <td>4469</td>\n",
       "      <td>4429</td>\n",
       "      <td>4466</td>\n",
       "      <td>4324</td>\n",
       "      <td>4301</td>\n",
       "      <td>4071</td>\n",
       "      <td>4607</td>\n",
       "      <td>4445</td>\n",
       "      <td>4336</td>\n",
       "    </tr>\n",
       "    <tr>\n",
       "      <th>4</th>\n",
       "      <td>1426</td>\n",
       "      <td>964</td>\n",
       "      <td>1792</td>\n",
       "      <td>1240</td>\n",
       "      <td>1345</td>\n",
       "      <td>1800</td>\n",
       "      <td>1357</td>\n",
       "      <td>1416</td>\n",
       "      <td>953</td>\n",
       "      <td>2024</td>\n",
       "      <td>...</td>\n",
       "      <td>1254</td>\n",
       "      <td>1319</td>\n",
       "      <td>1371</td>\n",
       "      <td>1341</td>\n",
       "      <td>1748</td>\n",
       "      <td>1371</td>\n",
       "      <td>1526</td>\n",
       "      <td>1313</td>\n",
       "      <td>1272</td>\n",
       "      <td>1721</td>\n",
       "    </tr>\n",
       "  </tbody>\n",
       "</table>\n",
       "<p>5 rows × 100 columns</p>\n",
       "</div>"
      ],
      "text/plain": [
       "     0     1     2     3     4     5     6     7     8     9   ...    90  \\\n",
       "0  6295  6479  6294  6663  6175  6339  6354  6378  6625  6496  ...  6402   \n",
       "1  6250  6142  6021  6076  6093  6278  6293  5858  5914  6486  ...  6223   \n",
       "2  6925  6947  6885  6892  6849  6910  6801  6911  6955  7017  ...  6995   \n",
       "3  4089  4600  4355  4419  4505  4179  4579  4216  4498  4384  ...  4466   \n",
       "4  1426   964  1792  1240  1345  1800  1357  1416   953  2024  ...  1254   \n",
       "\n",
       "     91    92    93    94    95    96    97    98    99  \n",
       "0  6130  6344  6513  6176  6160  6547  6282  6478  6288  \n",
       "1  6007  6298  6417  5932  5778  5866  6269  6217  6217  \n",
       "2  6883  7046  6902  6747  6815  6995  6946  6877  6984  \n",
       "3  4469  4429  4466  4324  4301  4071  4607  4445  4336  \n",
       "4  1319  1371  1341  1748  1371  1526  1313  1272  1721  \n",
       "\n",
       "[5 rows x 100 columns]"
      ]
     },
     "execution_count": 69,
     "metadata": {},
     "output_type": "execute_result"
    }
   ],
   "source": [
    "df_leaf = pd.DataFrame(rf_model.apply(X_rf))\n",
    "df_leaf.head()"
   ]
  },
  {
   "cell_type": "code",
   "execution_count": 70,
   "id": "14763a74",
   "metadata": {},
   "outputs": [
    {
     "data": {
      "image/png": "[encoded data removed]",
      "text/plain": [
       "<Figure size 864x432 with 1 Axes>"
      ]
     },
     "metadata": {
      "needs_background": "light"
     },
     "output_type": "display_data"
    }
   ],
   "source": [
    "# dimensionality reduction\n",
    "df_reduced_rf = pd.DataFrame()\n",
    "reducer = umap.UMAP(n_neighbors=45, random_state=42)\n",
    "embedding = reducer.fit_transform(df_leaf)\n",
    "\n",
    "# embedding\n",
    "df_reduced_rf['embedding_x'] = embedding[:, 0]\n",
    "df_reduced_rf['embedding_y'] = embedding[:, 1]\n",
    "\n",
    "# plot UMAP\n",
    "plt.figure(figsize=(12, 6))\n",
    "sns.scatterplot(x='embedding_x', y='embedding_y', data=df_reduced_rf);"
   ]
  },
  {
   "cell_type": "markdown",
   "id": "c4024d73",
   "metadata": {},
   "source": [
    "# 5 DATA PREPARATION"
   ]
  },
  {
   "cell_type": "code",
   "execution_count": 71,
   "id": "519598a0",
   "metadata": {},
   "outputs": [],
   "source": [
    "df5 = df4.copy()"
   ]
  },
  {
   "cell_type": "code",
   "execution_count": 72,
   "id": "3729f430",
   "metadata": {},
   "outputs": [],
   "source": [
    "mms = pp.MinMaxScaler()\n",
    "\n",
    "df5['gross_revenue'] = mms.fit_transform(df5[['gross_revenue']])\n",
    "df5['mean_ticket'] = mms.fit_transform(df5[['mean_ticket']])\n",
    "df5['qtd_purchases'] = mms.fit_transform(df5[['qtd_purchases']])\n",
    "df5['qtd_cancelled_products'] = mms.fit_transform(df5[['qtd_cancelled_products']])\n",
    "df5['cancelled_over_purchased'] = mms.fit_transform(df5[['cancelled_over_purchased']])\n",
    "df5['qtd_products'] = mms.fit_transform(df5[['qtd_products']])\n",
    "df5['avg_products'] = mms.fit_transform(df5[['avg_products']])\n",
    "df5['avg_unique_products'] = mms.fit_transform(df5[['avg_unique_products']])\n",
    "df5['recency_days'] = mms.fit_transform(df5[['recency_days']])\n",
    "df5['purchase_frequency'] = mms.fit_transform(df5[['purchase_frequency']])"
   ]
  },
  {
   "cell_type": "markdown",
   "id": "98b5f802",
   "metadata": {},
   "source": [
    "# 6 FEATURES SELECTION"
   ]
  },
  {
   "cell_type": "code",
   "execution_count": 73,
   "id": "0467b569",
   "metadata": {},
   "outputs": [],
   "source": [
    "df6 = df5.copy()"
   ]
  },
  {
   "cell_type": "markdown",
   "id": "2c55f6f3",
   "metadata": {},
   "source": [
    "# 7 HYPERPARAMETER FINE TUNNING"
   ]
  },
  {
   "cell_type": "code",
   "execution_count": 74,
   "id": "7efde538",
   "metadata": {},
   "outputs": [],
   "source": [
    "df7 = df6.copy()"
   ]
  },
  {
   "cell_type": "code",
   "execution_count": 75,
   "id": "8f01f5b3",
   "metadata": {},
   "outputs": [],
   "source": [
    "X = df7.drop(columns=['customer_id'])\n",
    "\n",
    "clusters = [2, 3, 4, 5, 6, 7]"
   ]
  },
  {
   "cell_type": "markdown",
   "id": "61783099",
   "metadata": {},
   "source": [
    "## 7.1 K-Means"
   ]
  },
  {
   "cell_type": "code",
   "execution_count": 76,
   "id": "e95a9036",
   "metadata": {},
   "outputs": [],
   "source": [
    "kmeans_list = []\n",
    "\n",
    "for k in clusters:\n",
    "    # model definition\n",
    "    kmeans_model = c.KMeans(init='random', n_clusters=k, n_init=10, max_iter=300, random_state=42)\n",
    "\n",
    "    # model training\n",
    "    kmeans_model.fit(X)\n",
    "\n",
    "    # model predict\n",
    "    labels = kmeans_model.predict(X)\n",
    "\n",
    "    # performance\n",
    "    sil = m.silhouette_score(X, labels, metric='euclidean')\n",
    "    kmeans_list.append(sil)"
   ]
  },
  {
   "cell_type": "code",
   "execution_count": 77,
   "id": "80f8f4e5",
   "metadata": {},
   "outputs": [
    {
     "data": {
      "image/png": "[encoded data removed]",
      "text/plain": [
       "<Figure size 864x432 with 1 Axes>"
      ]
     },
     "metadata": {
      "needs_background": "light"
     },
     "output_type": "display_data"
    }
   ],
   "source": [
    "plt.figure(figsize=(12, 6))\n",
    "plt.plot(clusters, kmeans_list, linestyle='--', marker='o')\n",
    "plt.xlabel('K');\n",
    "plt.ylabel('Silhouette Score');\n",
    "plt.title('Silhouette Score x K for K-Means');"
   ]
  },
  {
   "cell_type": "markdown",
   "id": "e330ae7f",
   "metadata": {},
   "source": [
    "## 7.2 GMM"
   ]
  },
  {
   "cell_type": "code",
   "execution_count": 78,
   "id": "5cc028e3",
   "metadata": {},
   "outputs": [],
   "source": [
    "gmm_list = []\n",
    "\n",
    "for k in clusters:\n",
    "    # model\n",
    "    gmm_model = mx.GaussianMixture(n_components=k)\n",
    "    \n",
    "    # training\n",
    "    gmm_model.fit(X)\n",
    "    \n",
    "    # predict\n",
    "    labels = gmm_model.predict(X)\n",
    "    \n",
    "    # performance\n",
    "    sil = m.silhouette_score(X, labels, metric='euclidean')\n",
    "    gmm_list.append(sil)"
   ]
  },
  {
   "cell_type": "code",
   "execution_count": 79,
   "id": "ad3adca1",
   "metadata": {},
   "outputs": [
    {
     "data": {
      "image/png": "[encoded data removed]",
      "text/plain": [
       "<Figure size 864x432 with 1 Axes>"
      ]
     },
     "metadata": {
      "needs_background": "light"
     },
     "output_type": "display_data"
    }
   ],
   "source": [
    "plt.figure(figsize=(12, 6))\n",
    "plt.plot(clusters, gmm_list, linestyle='--', marker='o')\n",
    "plt.xlabel('K');\n",
    "plt.ylabel('Silhouette Score');\n",
    "plt.title('Silhouette Score x K for GMM');"
   ]
  },
  {
   "cell_type": "markdown",
   "id": "14163e0a",
   "metadata": {},
   "source": [
    "## 7.3 Hierarchical Clustering"
   ]
  },
  {
   "cell_type": "code",
   "execution_count": 80,
   "id": "ae6e3c28",
   "metadata": {},
   "outputs": [],
   "source": [
    "# model definition and training\n",
    "hc_model = hc.linkage(X, 'ward')"
   ]
  },
  {
   "cell_type": "code",
   "execution_count": 81,
   "id": "235440a5",
   "metadata": {},
   "outputs": [
    {
     "data": {
      "image/png": "[encoded data removed]",
      "text/plain": [
       "<Figure size 432x288 with 1 Axes>"
      ]
     },
     "metadata": {
      "needs_background": "light"
     },
     "output_type": "display_data"
    }
   ],
   "source": [
    "hc.dendrogram( \n",
    "    hc_model,\n",
    "    truncate_mode='lastp',\n",
    "    p=12,\n",
    "    leaf_rotation=90,\n",
    "    leaf_font_size=8,\n",
    "    show_contracted=True)\n",
    "\n",
    "plt.show();"
   ]
  },
  {
   "cell_type": "code",
   "execution_count": 82,
   "id": "dc009951",
   "metadata": {},
   "outputs": [],
   "source": [
    "hc_list = []\n",
    "\n",
    "for k in clusters:\n",
    "    # model definition and training\n",
    "    hc_model = hc.linkage(X, 'ward')\n",
    "    \n",
    "    # prediction\n",
    "    labels = hc.fcluster(hc_model, k, criterion='maxclust')\n",
    "    \n",
    "    # performance\n",
    "    sil = m.silhouette_score(X, labels, metric='euclidean')\n",
    "    hc_list.append(sil)"
   ]
  },
  {
   "cell_type": "code",
   "execution_count": 83,
   "id": "778b8fd2",
   "metadata": {},
   "outputs": [
    {
     "data": {
      "image/png": "[encoded data removed]",
      "text/plain": [
       "<Figure size 864x432 with 1 Axes>"
      ]
     },
     "metadata": {
      "needs_background": "light"
     },
     "output_type": "display_data"
    }
   ],
   "source": [
    "plt.figure(figsize=(12, 6))\n",
    "plt.plot(clusters, hc_list, linestyle='--', marker='o')\n",
    "plt.xlabel('K');\n",
    "plt.ylabel('Silhouette Score');\n",
    "plt.title('Silhouette Score x K for Hierarchical Clustering');"
   ]
  },
  {
   "cell_type": "markdown",
   "id": "0ab71ca7",
   "metadata": {},
   "source": [
    "## 7.4 DBSCAN"
   ]
  },
  {
   "cell_type": "code",
   "execution_count": 108,
   "id": "48ebc6e1",
   "metadata": {},
   "outputs": [],
   "source": [
    "# defining an objective function to be optimized\n",
    "\n",
    "def bayesian_opt_objective(trial):\n",
    "    eps = trial.suggest_float('eps', 0.01, 0.5, step=0.005)\n",
    "    min_samples = trial.suggest_int('min_samples', 10, 100, step=10)\n",
    "\n",
    "    # defining the model\n",
    "    dbscan_model = c.DBSCAN(eps=eps, min_samples=min_samples, n_jobs=-1)\n",
    "\n",
    "    # training the model and predicting\n",
    "    labels = dbscan_model.fit_predict(X)\n",
    "\n",
    "    # performance\n",
    "    sil = silhouette_score(X, labels, metric='euclidean')\n",
    "\n",
    "    return sil "
   ]
  },
  {
   "cell_type": "code",
   "execution_count": 109,
   "id": "4e9d79e5",
   "metadata": {},
   "outputs": [
    {
     "name": "stderr",
     "output_type": "stream",
     "text": [
      "\u001b[32m[I 2022-11-24 20:21:46,258]\u001b[0m A new study created in memory with name: no-name-bec1c238-1379-496a-9df8-d743aa4829c9\u001b[0m\n",
      "\u001b[32m[I 2022-11-24 20:21:47,457]\u001b[0m Trial 0 finished with value: 0.296903624937954 and parameters: {'eps': 0.060000000000000005, 'min_samples': 60}. Best is trial 0 with value: 0.296903624937954.\u001b[0m\n",
      "\u001b[32m[I 2022-11-24 20:21:48,978]\u001b[0m Trial 1 finished with value: 0.7056587326356369 and parameters: {'eps': 0.42500000000000004, 'min_samples': 40}. Best is trial 1 with value: 0.7056587326356369.\u001b[0m\n",
      "\u001b[32m[I 2022-11-24 20:21:50,372]\u001b[0m Trial 2 finished with value: 0.6870730836920401 and parameters: {'eps': 0.36000000000000004, 'min_samples': 70}. Best is trial 1 with value: 0.7056587326356369.\u001b[0m\n",
      "\u001b[32m[I 2022-11-24 20:21:51,618]\u001b[0m Trial 3 finished with value: 0.5721610809396303 and parameters: {'eps': 0.19, 'min_samples': 40}. Best is trial 1 with value: 0.7056587326356369.\u001b[0m\n",
      "\u001b[32m[I 2022-11-24 20:21:52,955]\u001b[0m Trial 4 finished with value: 0.6735318639940946 and parameters: {'eps': 0.31, 'min_samples': 60}. Best is trial 1 with value: 0.7056587326356369.\u001b[0m\n",
      "\u001b[32m[I 2022-11-24 20:21:54,142]\u001b[0m Trial 5 finished with value: 0.40651413137358716 and parameters: {'eps': 0.12, 'min_samples': 30}. Best is trial 1 with value: 0.7056587326356369.\u001b[0m\n",
      "\u001b[32m[I 2022-11-24 20:21:55,190]\u001b[0m Trial 6 finished with value: 0.2717428160035015 and parameters: {'eps': 0.055, 'min_samples': 50}. Best is trial 1 with value: 0.7056587326356369.\u001b[0m\n",
      "\u001b[32m[I 2022-11-24 20:21:56,539]\u001b[0m Trial 7 finished with value: 0.5113272659091778 and parameters: {'eps': 0.15000000000000002, 'min_samples': 100}. Best is trial 1 with value: 0.7056587326356369.\u001b[0m\n",
      "\u001b[32m[I 2022-11-24 20:21:57,759]\u001b[0m Trial 8 finished with value: 0.286135034749727 and parameters: {'eps': 0.060000000000000005, 'min_samples': 100}. Best is trial 1 with value: 0.7056587326356369.\u001b[0m\n",
      "\u001b[32m[I 2022-11-24 20:21:59,207]\u001b[0m Trial 9 finished with value: 0.5681161981629919 and parameters: {'eps': 0.2, 'min_samples': 60}. Best is trial 1 with value: 0.7056587326356369.\u001b[0m\n",
      "\u001b[32m[I 2022-11-24 20:22:00,680]\u001b[0m Trial 10 finished with value: 0.7391217992934013 and parameters: {'eps': 0.495, 'min_samples': 20}. Best is trial 10 with value: 0.7391217992934013.\u001b[0m\n",
      "\u001b[32m[I 2022-11-24 20:22:02,127]\u001b[0m Trial 11 finished with value: 0.7391217992934013 and parameters: {'eps': 0.5, 'min_samples': 10}. Best is trial 10 with value: 0.7391217992934013.\u001b[0m\n",
      "\u001b[32m[I 2022-11-24 20:22:03,540]\u001b[0m Trial 12 finished with value: 0.7391217992934013 and parameters: {'eps': 0.49, 'min_samples': 10}. Best is trial 10 with value: 0.7391217992934013.\u001b[0m\n",
      "\u001b[32m[I 2022-11-24 20:22:04,953]\u001b[0m Trial 13 finished with value: 0.7391217992934013 and parameters: {'eps': 0.5, 'min_samples': 10}. Best is trial 10 with value: 0.7391217992934013.\u001b[0m\n",
      "\u001b[32m[I 2022-11-24 20:22:06,379]\u001b[0m Trial 14 finished with value: 0.7004052461974849 and parameters: {'eps': 0.405, 'min_samples': 20}. Best is trial 10 with value: 0.7391217992934013.\u001b[0m\n",
      "\u001b[32m[I 2022-11-24 20:22:07,641]\u001b[0m Trial 15 finished with value: 0.6870730836920401 and parameters: {'eps': 0.27, 'min_samples': 20}. Best is trial 10 with value: 0.7391217992934013.\u001b[0m\n",
      "\u001b[32m[I 2022-11-24 20:22:09,037]\u001b[0m Trial 16 finished with value: 0.6947830385207471 and parameters: {'eps': 0.44, 'min_samples': 80}. Best is trial 10 with value: 0.7391217992934013.\u001b[0m\n",
      "\u001b[32m[I 2022-11-24 20:22:10,434]\u001b[0m Trial 17 finished with value: 0.6870730836920401 and parameters: {'eps': 0.325, 'min_samples': 30}. Best is trial 10 with value: 0.7391217992934013.\u001b[0m\n",
      "\u001b[32m[I 2022-11-24 20:22:11,928]\u001b[0m Trial 18 finished with value: 0.7391217992934013 and parameters: {'eps': 0.46, 'min_samples': 10}. Best is trial 10 with value: 0.7391217992934013.\u001b[0m\n",
      "\u001b[32m[I 2022-11-24 20:22:13,532]\u001b[0m Trial 19 finished with value: 0.7325713325284797 and parameters: {'eps': 0.405, 'min_samples': 10}. Best is trial 10 with value: 0.7391217992934013.\u001b[0m\n",
      "\u001b[32m[I 2022-11-24 20:22:15,044]\u001b[0m Trial 20 finished with value: 0.6914563845090792 and parameters: {'eps': 0.36000000000000004, 'min_samples': 30}. Best is trial 10 with value: 0.7391217992934013.\u001b[0m\n",
      "\u001b[32m[I 2022-11-24 20:22:16,570]\u001b[0m Trial 21 finished with value: 0.7391217992934013 and parameters: {'eps': 0.46, 'min_samples': 20}. Best is trial 10 with value: 0.7391217992934013.\u001b[0m\n",
      "\u001b[32m[I 2022-11-24 20:22:17,981]\u001b[0m Trial 22 finished with value: 0.7391217992934013 and parameters: {'eps': 0.47000000000000003, 'min_samples': 10}. Best is trial 10 with value: 0.7391217992934013.\u001b[0m\n",
      "\u001b[32m[I 2022-11-24 20:22:19,409]\u001b[0m Trial 23 finished with value: 0.7325713325284797 and parameters: {'eps': 0.365, 'min_samples': 10}. Best is trial 10 with value: 0.7391217992934013.\u001b[0m\n",
      "\u001b[32m[I 2022-11-24 20:22:20,828]\u001b[0m Trial 24 finished with value: 0.7391217992934013 and parameters: {'eps': 0.46, 'min_samples': 20}. Best is trial 10 with value: 0.7391217992934013.\u001b[0m\n",
      "\u001b[32m[I 2022-11-24 20:22:22,232]\u001b[0m Trial 25 finished with value: 0.7167903417369701 and parameters: {'eps': 0.46, 'min_samples': 40}. Best is trial 10 with value: 0.7391217992934013.\u001b[0m\n",
      "\u001b[32m[I 2022-11-24 20:22:23,659]\u001b[0m Trial 26 finished with value: 0.6947830385207471 and parameters: {'eps': 0.395, 'min_samples': 30}. Best is trial 10 with value: 0.7391217992934013.\u001b[0m\n",
      "\u001b[32m[I 2022-11-24 20:22:24,934]\u001b[0m Trial 27 finished with value: 0.6870730836920401 and parameters: {'eps': 0.265, 'min_samples': 20}. Best is trial 10 with value: 0.7391217992934013.\u001b[0m\n",
      "\u001b[32m[I 2022-11-24 20:22:26,387]\u001b[0m Trial 28 finished with value: 0.7391217992934013 and parameters: {'eps': 0.495, 'min_samples': 10}. Best is trial 10 with value: 0.7391217992934013.\u001b[0m\n",
      "\u001b[32m[I 2022-11-24 20:22:27,761]\u001b[0m Trial 29 finished with value: 0.6829383225780692 and parameters: {'eps': 0.315, 'min_samples': 50}. Best is trial 10 with value: 0.7391217992934013.\u001b[0m\n",
      "\u001b[32m[I 2022-11-24 20:22:29,385]\u001b[0m Trial 30 finished with value: 0.6914477026667549 and parameters: {'eps': 0.43, 'min_samples': 80}. Best is trial 10 with value: 0.7391217992934013.\u001b[0m\n",
      "\u001b[32m[I 2022-11-24 20:22:30,985]\u001b[0m Trial 31 finished with value: 0.7391217992934013 and parameters: {'eps': 0.5, 'min_samples': 10}. Best is trial 10 with value: 0.7391217992934013.\u001b[0m\n",
      "\u001b[32m[I 2022-11-24 20:22:32,532]\u001b[0m Trial 32 finished with value: 0.7391217992934013 and parameters: {'eps': 0.5, 'min_samples': 10}. Best is trial 10 with value: 0.7391217992934013.\u001b[0m\n",
      "\u001b[32m[I 2022-11-24 20:22:33,919]\u001b[0m Trial 33 finished with value: 0.7391217992934013 and parameters: {'eps': 0.435, 'min_samples': 10}. Best is trial 10 with value: 0.7391217992934013.\u001b[0m\n",
      "\u001b[32m[I 2022-11-24 20:22:35,360]\u001b[0m Trial 34 finished with value: 0.7056587326356369 and parameters: {'eps': 0.43, 'min_samples': 30}. Best is trial 10 with value: 0.7391217992934013.\u001b[0m\n",
      "\u001b[32m[I 2022-11-24 20:22:36,728]\u001b[0m Trial 35 finished with value: 0.6947830385207471 and parameters: {'eps': 0.395, 'min_samples': 40}. Best is trial 10 with value: 0.7391217992934013.\u001b[0m\n",
      "\u001b[32m[I 2022-11-24 20:22:38,147]\u001b[0m Trial 36 finished with value: 0.6914563845090792 and parameters: {'eps': 0.37, 'min_samples': 20}. Best is trial 10 with value: 0.7391217992934013.\u001b[0m\n",
      "\u001b[32m[I 2022-11-24 20:22:39,674]\u001b[0m Trial 37 finished with value: 0.7391217992934013 and parameters: {'eps': 0.47500000000000003, 'min_samples': 10}. Best is trial 10 with value: 0.7391217992934013.\u001b[0m\n",
      "\u001b[32m[I 2022-11-24 20:22:41,146]\u001b[0m Trial 38 finished with value: 0.7167903417369701 and parameters: {'eps': 0.45, 'min_samples': 40}. Best is trial 10 with value: 0.7391217992934013.\u001b[0m\n",
      "\u001b[32m[I 2022-11-24 20:22:42,043]\u001b[0m Trial 39 finished with value: -0.3331375293453791 and parameters: {'eps': 0.01, 'min_samples': 20}. Best is trial 10 with value: 0.7391217992934013.\u001b[0m\n",
      "\u001b[32m[I 2022-11-24 20:22:43,525]\u001b[0m Trial 40 finished with value: 0.7391217992934013 and parameters: {'eps': 0.47000000000000003, 'min_samples': 30}. Best is trial 10 with value: 0.7391217992934013.\u001b[0m\n",
      "\u001b[32m[I 2022-11-24 20:22:45,196]\u001b[0m Trial 41 finished with value: 0.7391217992934013 and parameters: {'eps': 0.465, 'min_samples': 20}. Best is trial 10 with value: 0.7391217992934013.\u001b[0m\n",
      "\u001b[32m[I 2022-11-24 20:22:46,895]\u001b[0m Trial 42 finished with value: 0.7391217992934013 and parameters: {'eps': 0.46, 'min_samples': 30}. Best is trial 10 with value: 0.7391217992934013.\u001b[0m\n"
     ]
    },
    {
     "name": "stderr",
     "output_type": "stream",
     "text": [
      "\u001b[32m[I 2022-11-24 20:22:48,551]\u001b[0m Trial 43 finished with value: 0.7046010358054686 and parameters: {'eps': 0.41500000000000004, 'min_samples': 20}. Best is trial 10 with value: 0.7391217992934013.\u001b[0m\n",
      "\u001b[32m[I 2022-11-24 20:22:49,979]\u001b[0m Trial 44 finished with value: 0.7391217992934013 and parameters: {'eps': 0.445, 'min_samples': 20}. Best is trial 10 with value: 0.7391217992934013.\u001b[0m\n",
      "\u001b[32m[I 2022-11-24 20:22:51,525]\u001b[0m Trial 45 finished with value: 0.7325713325284797 and parameters: {'eps': 0.47000000000000003, 'min_samples': 40}. Best is trial 10 with value: 0.7391217992934013.\u001b[0m\n",
      "\u001b[32m[I 2022-11-24 20:22:52,948]\u001b[0m Trial 46 finished with value: 0.6947830385207471 and parameters: {'eps': 0.385, 'min_samples': 20}. Best is trial 10 with value: 0.7391217992934013.\u001b[0m\n",
      "\u001b[32m[I 2022-11-24 20:22:54,325]\u001b[0m Trial 47 finished with value: 0.6527383585681317 and parameters: {'eps': 0.24000000000000002, 'min_samples': 10}. Best is trial 10 with value: 0.7391217992934013.\u001b[0m\n",
      "\u001b[32m[I 2022-11-24 20:22:55,751]\u001b[0m Trial 48 finished with value: 0.7391217992934013 and parameters: {'eps': 0.48000000000000004, 'min_samples': 10}. Best is trial 10 with value: 0.7391217992934013.\u001b[0m\n",
      "\u001b[32m[I 2022-11-24 20:22:57,133]\u001b[0m Trial 49 finished with value: 0.6870730836920401 and parameters: {'eps': 0.34500000000000003, 'min_samples': 50}. Best is trial 10 with value: 0.7391217992934013.\u001b[0m\n",
      "\u001b[32m[I 2022-11-24 20:22:58,566]\u001b[0m Trial 50 finished with value: 0.7219079159159393 and parameters: {'eps': 0.48000000000000004, 'min_samples': 70}. Best is trial 10 with value: 0.7391217992934013.\u001b[0m\n",
      "\u001b[32m[I 2022-11-24 20:23:00,091]\u001b[0m Trial 51 finished with value: 0.7391217992934013 and parameters: {'eps': 0.5, 'min_samples': 10}. Best is trial 10 with value: 0.7391217992934013.\u001b[0m\n",
      "\u001b[32m[I 2022-11-24 20:23:01,839]\u001b[0m Trial 52 finished with value: 0.7391217992934013 and parameters: {'eps': 0.5, 'min_samples': 10}. Best is trial 10 with value: 0.7391217992934013.\u001b[0m\n",
      "\u001b[32m[I 2022-11-24 20:23:03,532]\u001b[0m Trial 53 finished with value: 0.7391217992934013 and parameters: {'eps': 0.42500000000000004, 'min_samples': 10}. Best is trial 10 with value: 0.7391217992934013.\u001b[0m\n",
      "\u001b[32m[I 2022-11-24 20:23:05,001]\u001b[0m Trial 54 finished with value: 0.7391217992934013 and parameters: {'eps': 0.42000000000000004, 'min_samples': 10}. Best is trial 10 with value: 0.7391217992934013.\u001b[0m\n",
      "\u001b[32m[I 2022-11-24 20:23:06,452]\u001b[0m Trial 55 finished with value: 0.7391217992934013 and parameters: {'eps': 0.44, 'min_samples': 10}. Best is trial 10 with value: 0.7391217992934013.\u001b[0m\n",
      "\u001b[32m[I 2022-11-24 20:23:07,868]\u001b[0m Trial 56 finished with value: 0.7325713325284797 and parameters: {'eps': 0.44, 'min_samples': 30}. Best is trial 10 with value: 0.7391217992934013.\u001b[0m\n",
      "\u001b[32m[I 2022-11-24 20:23:09,325]\u001b[0m Trial 57 finished with value: 0.7391217992934013 and parameters: {'eps': 0.48500000000000004, 'min_samples': 20}. Best is trial 10 with value: 0.7391217992934013.\u001b[0m\n",
      "\u001b[32m[I 2022-11-24 20:23:10,755]\u001b[0m Trial 58 finished with value: 0.7391217992934013 and parameters: {'eps': 0.48500000000000004, 'min_samples': 10}. Best is trial 10 with value: 0.7391217992934013.\u001b[0m\n",
      "\u001b[32m[I 2022-11-24 20:23:12,219]\u001b[0m Trial 59 finished with value: 0.7325713325284797 and parameters: {'eps': 0.45, 'min_samples': 30}. Best is trial 10 with value: 0.7391217992934013.\u001b[0m\n",
      "\u001b[32m[I 2022-11-24 20:23:13,457]\u001b[0m Trial 60 finished with value: 0.5370521731750018 and parameters: {'eps': 0.14, 'min_samples': 30}. Best is trial 10 with value: 0.7391217992934013.\u001b[0m\n",
      "\u001b[32m[I 2022-11-24 20:23:14,863]\u001b[0m Trial 61 finished with value: 0.7391217992934013 and parameters: {'eps': 0.41500000000000004, 'min_samples': 10}. Best is trial 10 with value: 0.7391217992934013.\u001b[0m\n",
      "\u001b[32m[I 2022-11-24 20:23:16,478]\u001b[0m Trial 62 finished with value: 0.6947830385207471 and parameters: {'eps': 0.38, 'min_samples': 20}. Best is trial 10 with value: 0.7391217992934013.\u001b[0m\n",
      "\u001b[32m[I 2022-11-24 20:23:18,137]\u001b[0m Trial 63 finished with value: 0.7391217992934013 and parameters: {'eps': 0.46, 'min_samples': 10}. Best is trial 10 with value: 0.7391217992934013.\u001b[0m\n",
      "\u001b[32m[I 2022-11-24 20:23:19,746]\u001b[0m Trial 64 finished with value: 0.7391217992934013 and parameters: {'eps': 0.48000000000000004, 'min_samples': 20}. Best is trial 10 with value: 0.7391217992934013.\u001b[0m\n",
      "\u001b[32m[I 2022-11-24 20:23:21,300]\u001b[0m Trial 65 finished with value: 0.7391217992934013 and parameters: {'eps': 0.49, 'min_samples': 10}. Best is trial 10 with value: 0.7391217992934013.\u001b[0m\n",
      "\u001b[32m[I 2022-11-24 20:23:22,760]\u001b[0m Trial 66 finished with value: 0.7391217992934013 and parameters: {'eps': 0.48000000000000004, 'min_samples': 20}. Best is trial 10 with value: 0.7391217992934013.\u001b[0m\n",
      "\u001b[32m[I 2022-11-24 20:23:24,081]\u001b[0m Trial 67 finished with value: 0.6597699340841026 and parameters: {'eps': 0.29000000000000004, 'min_samples': 10}. Best is trial 10 with value: 0.7391217992934013.\u001b[0m\n",
      "\u001b[32m[I 2022-11-24 20:23:25,445]\u001b[0m Trial 68 finished with value: 0.5684451173130199 and parameters: {'eps': 0.21500000000000002, 'min_samples': 90}. Best is trial 10 with value: 0.7391217992934013.\u001b[0m\n",
      "\u001b[32m[I 2022-11-24 20:23:26,856]\u001b[0m Trial 69 finished with value: 0.7046010358054686 and parameters: {'eps': 0.41500000000000004, 'min_samples': 20}. Best is trial 10 with value: 0.7391217992934013.\u001b[0m\n",
      "\u001b[32m[I 2022-11-24 20:23:28,360]\u001b[0m Trial 70 finished with value: 0.7391217992934013 and parameters: {'eps': 0.445, 'min_samples': 10}. Best is trial 10 with value: 0.7391217992934013.\u001b[0m\n",
      "\u001b[32m[I 2022-11-24 20:23:29,762]\u001b[0m Trial 71 finished with value: 0.7391217992934013 and parameters: {'eps': 0.445, 'min_samples': 20}. Best is trial 10 with value: 0.7391217992934013.\u001b[0m\n",
      "\u001b[32m[I 2022-11-24 20:23:31,214]\u001b[0m Trial 72 finished with value: 0.7149006264161352 and parameters: {'eps': 0.42500000000000004, 'min_samples': 20}. Best is trial 10 with value: 0.7391217992934013.\u001b[0m\n",
      "\u001b[32m[I 2022-11-24 20:23:32,891]\u001b[0m Trial 73 finished with value: 0.7391217992934013 and parameters: {'eps': 0.46, 'min_samples': 20}. Best is trial 10 with value: 0.7391217992934013.\u001b[0m\n",
      "\u001b[32m[I 2022-11-24 20:23:34,616]\u001b[0m Trial 74 finished with value: 0.7391217992934013 and parameters: {'eps': 0.495, 'min_samples': 10}. Best is trial 10 with value: 0.7391217992934013.\u001b[0m\n",
      "\u001b[32m[I 2022-11-24 20:23:36,182]\u001b[0m Trial 75 finished with value: 0.7391217992934013 and parameters: {'eps': 0.47000000000000003, 'min_samples': 30}. Best is trial 10 with value: 0.7391217992934013.\u001b[0m\n",
      "\u001b[32m[I 2022-11-24 20:23:37,612]\u001b[0m Trial 76 finished with value: 0.6947830385207471 and parameters: {'eps': 0.4, 'min_samples': 40}. Best is trial 10 with value: 0.7391217992934013.\u001b[0m\n",
      "\u001b[32m[I 2022-11-24 20:23:39,067]\u001b[0m Trial 77 finished with value: 0.7391217992934013 and parameters: {'eps': 0.465, 'min_samples': 10}. Best is trial 10 with value: 0.7391217992934013.\u001b[0m\n",
      "\u001b[32m[I 2022-11-24 20:23:40,542]\u001b[0m Trial 78 finished with value: 0.7391217992934013 and parameters: {'eps': 0.42500000000000004, 'min_samples': 10}. Best is trial 10 with value: 0.7391217992934013.\u001b[0m\n",
      "\u001b[32m[I 2022-11-24 20:23:41,978]\u001b[0m Trial 79 finished with value: 0.7391217992934013 and parameters: {'eps': 0.46, 'min_samples': 30}. Best is trial 10 with value: 0.7391217992934013.\u001b[0m\n",
      "\u001b[32m[I 2022-11-24 20:23:43,436]\u001b[0m Trial 80 finished with value: 0.7124228262980269 and parameters: {'eps': 0.435, 'min_samples': 30}. Best is trial 10 with value: 0.7391217992934013.\u001b[0m\n",
      "\u001b[32m[I 2022-11-24 20:23:44,864]\u001b[0m Trial 81 finished with value: 0.7391217992934013 and parameters: {'eps': 0.49, 'min_samples': 10}. Best is trial 10 with value: 0.7391217992934013.\u001b[0m\n",
      "\u001b[32m[I 2022-11-24 20:23:46,309]\u001b[0m Trial 82 finished with value: 0.7391217992934013 and parameters: {'eps': 0.47500000000000003, 'min_samples': 20}. Best is trial 10 with value: 0.7391217992934013.\u001b[0m\n",
      "\u001b[32m[I 2022-11-24 20:23:47,808]\u001b[0m Trial 83 finished with value: 0.7391217992934013 and parameters: {'eps': 0.47500000000000003, 'min_samples': 20}. Best is trial 10 with value: 0.7391217992934013.\u001b[0m\n",
      "\u001b[32m[I 2022-11-24 20:23:49,495]\u001b[0m Trial 84 finished with value: 0.7391217992934013 and parameters: {'eps': 0.445, 'min_samples': 20}. Best is trial 10 with value: 0.7391217992934013.\u001b[0m\n"
     ]
    },
    {
     "name": "stderr",
     "output_type": "stream",
     "text": [
      "\u001b[32m[I 2022-11-24 20:23:51,208]\u001b[0m Trial 85 finished with value: 0.7391217992934013 and parameters: {'eps': 0.5, 'min_samples': 20}. Best is trial 10 with value: 0.7391217992934013.\u001b[0m\n",
      "\u001b[32m[I 2022-11-24 20:23:52,474]\u001b[0m Trial 86 finished with value: 0.44033056465942816 and parameters: {'eps': 0.08499999999999999, 'min_samples': 40}. Best is trial 10 with value: 0.7391217992934013.\u001b[0m\n",
      "\u001b[32m[I 2022-11-24 20:23:53,942]\u001b[0m Trial 87 finished with value: 0.7391217992934013 and parameters: {'eps': 0.41000000000000003, 'min_samples': 10}. Best is trial 10 with value: 0.7391217992934013.\u001b[0m\n",
      "\u001b[32m[I 2022-11-24 20:23:55,411]\u001b[0m Trial 88 finished with value: 0.7391217992934013 and parameters: {'eps': 0.48000000000000004, 'min_samples': 10}. Best is trial 10 with value: 0.7391217992934013.\u001b[0m\n",
      "\u001b[32m[I 2022-11-24 20:23:56,844]\u001b[0m Trial 89 finished with value: 0.6870730836920401 and parameters: {'eps': 0.405, 'min_samples': 60}. Best is trial 10 with value: 0.7391217992934013.\u001b[0m\n",
      "\u001b[32m[I 2022-11-24 20:23:58,303]\u001b[0m Trial 90 finished with value: 0.7391217992934013 and parameters: {'eps': 0.45, 'min_samples': 10}. Best is trial 10 with value: 0.7391217992934013.\u001b[0m\n",
      "\u001b[32m[I 2022-11-24 20:23:59,701]\u001b[0m Trial 91 finished with value: 0.7391217992934013 and parameters: {'eps': 0.49, 'min_samples': 10}. Best is trial 10 with value: 0.7391217992934013.\u001b[0m\n",
      "\u001b[32m[I 2022-11-24 20:24:01,168]\u001b[0m Trial 92 finished with value: 0.7391217992934013 and parameters: {'eps': 0.48500000000000004, 'min_samples': 10}. Best is trial 10 with value: 0.7391217992934013.\u001b[0m\n",
      "\u001b[32m[I 2022-11-24 20:24:02,579]\u001b[0m Trial 93 finished with value: 0.7391217992934013 and parameters: {'eps': 0.455, 'min_samples': 20}. Best is trial 10 with value: 0.7391217992934013.\u001b[0m\n",
      "\u001b[32m[I 2022-11-24 20:24:04,078]\u001b[0m Trial 94 finished with value: 0.7391217992934013 and parameters: {'eps': 0.46, 'min_samples': 20}. Best is trial 10 with value: 0.7391217992934013.\u001b[0m\n",
      "\u001b[32m[I 2022-11-24 20:24:05,793]\u001b[0m Trial 95 finished with value: 0.7391217992934013 and parameters: {'eps': 0.5, 'min_samples': 30}. Best is trial 10 with value: 0.7391217992934013.\u001b[0m\n",
      "\u001b[32m[I 2022-11-24 20:24:07,506]\u001b[0m Trial 96 finished with value: 0.7391217992934013 and parameters: {'eps': 0.5, 'min_samples': 30}. Best is trial 10 with value: 0.7391217992934013.\u001b[0m\n",
      "\u001b[32m[I 2022-11-24 20:24:08,980]\u001b[0m Trial 97 finished with value: 0.7391217992934013 and parameters: {'eps': 0.48500000000000004, 'min_samples': 10}. Best is trial 10 with value: 0.7391217992934013.\u001b[0m\n",
      "\u001b[32m[I 2022-11-24 20:24:10,463]\u001b[0m Trial 98 finished with value: 0.7391217992934013 and parameters: {'eps': 0.48000000000000004, 'min_samples': 10}. Best is trial 10 with value: 0.7391217992934013.\u001b[0m\n",
      "\u001b[32m[I 2022-11-24 20:24:12,196]\u001b[0m Trial 99 finished with value: 0.7274665368670188 and parameters: {'eps': 0.47000000000000003, 'min_samples': 50}. Best is trial 10 with value: 0.7391217992934013.\u001b[0m\n"
     ]
    }
   ],
   "source": [
    "# maximizing the precision at k\n",
    "study = optuna.create_study(direction='maximize')  \n",
    "\n",
    "# optimizing the defined function and setting the number of trials\n",
    "study.optimize(bayesian_opt_objective, n_trials=100); \n",
    "\n",
    "trial = study.best_trial"
   ]
  },
  {
   "cell_type": "code",
   "execution_count": 110,
   "id": "d1373232",
   "metadata": {},
   "outputs": [
    {
     "name": "stdout",
     "output_type": "stream",
     "text": [
      "Best Silhouette Score = 0.7391217992934013\n",
      "Best Hyperparameters  = {'eps': 0.495, 'min_samples': 20}\n"
     ]
    }
   ],
   "source": [
    "print(f'Best Silhouette Score = {trial.value}')\n",
    "print(f'Best Hyperparameters  = {trial.params}')"
   ]
  },
  {
   "cell_type": "code",
   "execution_count": 111,
   "id": "8b0f90f9",
   "metadata": {},
   "outputs": [
    {
     "name": "stdout",
     "output_type": "stream",
     "text": [
      "Silhouette Score: 0.7391217992934013\n",
      "Number of Clusters: 2\n",
      "[-1  0]\n"
     ]
    }
   ],
   "source": [
    "eps = 0.495\n",
    "min_samples = 20\n",
    "\n",
    "# model definition\n",
    "dbscan_model = c.DBSCAN(eps=eps, min_samples=min_samples)\n",
    "\n",
    "# mode training & predict \n",
    "labels = dbscan_model.fit_predict(X)\n",
    "\n",
    "sil = m.silhouette_score(X, labels, metric='euclidean')\n",
    "print(f'Silhouette Score: {sil}')\n",
    "print(f'Number of Clusters: {len(np.unique(labels))}')\n",
    "print(np.unique(labels))"
   ]
  },
  {
   "cell_type": "markdown",
   "id": "ee408387",
   "metadata": {},
   "source": [
    "## 7.5. Results"
   ]
  },
  {
   "cell_type": "code",
   "execution_count": 112,
   "id": "c1a43c43",
   "metadata": {},
   "outputs": [],
   "source": [
    "df_results = pd.DataFrame({'KMeans': kmeans_list, \n",
    "                           'GMM': gmm_list,\n",
    "                           'HC': hc_list}).T\n",
    "\n",
    "df_results.columns = clusters"
   ]
  },
  {
   "cell_type": "code",
   "execution_count": 113,
   "id": "0b883ee2",
   "metadata": {},
   "outputs": [
    {
     "data": {
      "text/html": [
       "<style type=\"text/css\">\n",
       "#T_3fae9_row0_col0, #T_3fae9_row1_col1, #T_3fae9_row2_col0 {\n",
       "  background-color: lightgreen;\n",
       "}\n",
       "</style>\n",
       "<table id=\"T_3fae9\">\n",
       "  <thead>\n",
       "    <tr>\n",
       "      <th class=\"blank level0\" >&nbsp;</th>\n",
       "      <th id=\"T_3fae9_level0_col0\" class=\"col_heading level0 col0\" >2</th>\n",
       "      <th id=\"T_3fae9_level0_col1\" class=\"col_heading level0 col1\" >3</th>\n",
       "      <th id=\"T_3fae9_level0_col2\" class=\"col_heading level0 col2\" >4</th>\n",
       "      <th id=\"T_3fae9_level0_col3\" class=\"col_heading level0 col3\" >5</th>\n",
       "      <th id=\"T_3fae9_level0_col4\" class=\"col_heading level0 col4\" >6</th>\n",
       "      <th id=\"T_3fae9_level0_col5\" class=\"col_heading level0 col5\" >7</th>\n",
       "    </tr>\n",
       "  </thead>\n",
       "  <tbody>\n",
       "    <tr>\n",
       "      <th id=\"T_3fae9_level0_row0\" class=\"row_heading level0 row0\" >KMeans</th>\n",
       "      <td id=\"T_3fae9_row0_col0\" class=\"data row0 col0\" >0.639758</td>\n",
       "      <td id=\"T_3fae9_row0_col1\" class=\"data row0 col1\" >0.555609</td>\n",
       "      <td id=\"T_3fae9_row0_col2\" class=\"data row0 col2\" >0.430824</td>\n",
       "      <td id=\"T_3fae9_row0_col3\" class=\"data row0 col3\" >0.438983</td>\n",
       "      <td id=\"T_3fae9_row0_col4\" class=\"data row0 col4\" >0.460036</td>\n",
       "      <td id=\"T_3fae9_row0_col5\" class=\"data row0 col5\" >0.430625</td>\n",
       "    </tr>\n",
       "    <tr>\n",
       "      <th id=\"T_3fae9_level0_row1\" class=\"row_heading level0 row1\" >GMM</th>\n",
       "      <td id=\"T_3fae9_row1_col0\" class=\"data row1 col0\" >0.095504</td>\n",
       "      <td id=\"T_3fae9_row1_col1\" class=\"data row1 col1\" >0.167164</td>\n",
       "      <td id=\"T_3fae9_row1_col2\" class=\"data row1 col2\" >-0.059157</td>\n",
       "      <td id=\"T_3fae9_row1_col3\" class=\"data row1 col3\" >0.055382</td>\n",
       "      <td id=\"T_3fae9_row1_col4\" class=\"data row1 col4\" >0.005251</td>\n",
       "      <td id=\"T_3fae9_row1_col5\" class=\"data row1 col5\" >-0.127183</td>\n",
       "    </tr>\n",
       "    <tr>\n",
       "      <th id=\"T_3fae9_level0_row2\" class=\"row_heading level0 row2\" >HC</th>\n",
       "      <td id=\"T_3fae9_row2_col0\" class=\"data row2 col0\" >0.627576</td>\n",
       "      <td id=\"T_3fae9_row2_col1\" class=\"data row2 col1\" >0.519881</td>\n",
       "      <td id=\"T_3fae9_row2_col2\" class=\"data row2 col2\" >0.379117</td>\n",
       "      <td id=\"T_3fae9_row2_col3\" class=\"data row2 col3\" >0.387340</td>\n",
       "      <td id=\"T_3fae9_row2_col4\" class=\"data row2 col4\" >0.375002</td>\n",
       "      <td id=\"T_3fae9_row2_col5\" class=\"data row2 col5\" >0.394980</td>\n",
       "    </tr>\n",
       "  </tbody>\n",
       "</table>\n"
      ],
      "text/plain": [
       "<pandas.io.formats.style.Styler at 0x29b133585e0>"
      ]
     },
     "execution_count": 113,
     "metadata": {},
     "output_type": "execute_result"
    }
   ],
   "source": [
    "df_results.style.highlight_max(color='lightgreen', axis=1)"
   ]
  },
  {
   "cell_type": "markdown",
   "id": "9a0288e0",
   "metadata": {},
   "source": [
    "## 7.6 Silhouette Analysis"
   ]
  },
  {
   "cell_type": "code",
   "execution_count": null,
   "id": "2ea23223",
   "metadata": {},
   "outputs": [],
   "source": [
    "fig, ax = plt.subplots(3, 2, figsize=(24, 18))\n",
    "\n",
    "for k in clusters:\n",
    "    km = c.KMeans(n_clusters=k, init='random', n_init=10, max_iter=100, random_state=42)\n",
    "    q, mod = divmod(k, 2)\n",
    "    \n",
    "    visualizer =  SilhouetteVisualizer(km, colors='yellowbrick', ax=ax[q-1][mod])\n",
    "    visualizer.fit(X)\n",
    "    visualizer.finalize()\n",
    "    \n",
    "ax[0, 0].title.set_text('Number of clusters = 2')\n",
    "ax[0, 1].title.set_text('Number of clusters = 3')\n",
    "ax[1, 0].title.set_text('Number of clusters = 4')\n",
    "ax[1, 1].title.set_text('Number of clusters = 5')\n",
    "ax[2, 0].title.set_text('Number of clusters = 6')\n",
    "ax[2, 1].title.set_text('Number of clusters = 7')\n",
    "\n",
    "plt.show()"
   ]
  },
  {
   "cell_type": "markdown",
   "id": "b87ce49b",
   "metadata": {},
   "source": [
    "# 8.0 MODEL TRAINING"
   ]
  },
  {
   "cell_type": "markdown",
   "id": "add7f0e9",
   "metadata": {},
   "source": [
    "## 8.1 K-Means"
   ]
  },
  {
   "cell_type": "code",
   "execution_count": null,
   "id": "001250aa",
   "metadata": {},
   "outputs": [],
   "source": [
    "# model definition\n",
    "\n",
    "k = 4          \n",
    "kmeans = c.KMeans(init='random', n_clusters=k, n_init=10, max_iter=300, random_state=42)\n",
    "\n",
    "# model training\n",
    "kmeans.fit(X)\n",
    "\n",
    "# clustering\n",
    "labels = kmeans.labels_"
   ]
  },
  {
   "cell_type": "markdown",
   "id": "2fa2062d",
   "metadata": {},
   "source": [
    "## 8.2 Cluster Validation"
   ]
  },
  {
   "cell_type": "code",
   "execution_count": null,
   "id": "0845596e",
   "metadata": {},
   "outputs": [],
   "source": [
    "## WSS \n",
    "print(f'WSS: {kmeans.inertia_:.2f}')\n",
    "\n",
    "## SS\n",
    "print(f'SS : {m.silhouette_score(X, labels, metric=\"euclidean\"):.2f}')"
   ]
  },
  {
   "cell_type": "markdown",
   "id": "100501d0",
   "metadata": {},
   "source": [
    "# 9 CLUSTER ANALYSIS"
   ]
  },
  {
   "cell_type": "code",
   "execution_count": null,
   "id": "9cb15c7a",
   "metadata": {},
   "outputs": [],
   "source": [
    "df9 = df_ref.copy()\n",
    "df9['cluster'] = labels\n",
    "df9.head()"
   ]
  },
  {
   "cell_type": "markdown",
   "id": "3f79ab30",
   "metadata": {},
   "source": [
    "## 9.2 UMAP"
   ]
  },
  {
   "cell_type": "code",
   "execution_count": null,
   "id": "9f2f17aa",
   "metadata": {},
   "outputs": [],
   "source": [
    "df_viz = df9.drop(columns='customer_id', axis=1)\n",
    "reducer = umap.UMAP(n_neighbors=45, random_state=42)\n",
    "embedding = reducer.fit_transform(X)\n",
    "\n",
    "# embedding\n",
    "df_viz['embedding_x'] = embedding[:,0]\n",
    "df_viz['embedding_y'] = embedding[:,1]\n",
    "\n",
    "# plot UMAP\n",
    "plt.figure(figsize=(12, 6))\n",
    "sns.scatterplot(x='embedding_x', \n",
    "                y='embedding_y', \n",
    "                hue='cluster',\n",
    "                palette=sns.color_palette('hls', n_colors=len(df_viz['cluster'].unique())),\n",
    "                data=df_viz);"
   ]
  },
  {
   "cell_type": "markdown",
   "id": "57bec7c8",
   "metadata": {},
   "source": [
    "## 9.3 Cluster Profile"
   ]
  },
  {
   "cell_type": "code",
   "execution_count": null,
   "id": "15f9c6ee",
   "metadata": {},
   "outputs": [],
   "source": [
    "# number of customers\n",
    "df_cluster = df9[['customer_id', 'cluster']].groupby('cluster').count().reset_index().rename(columns={'customer_id': 'qtd_customers'})\n",
    "df_cluster['perc_customer'] = df_cluster['qtd_customers'] / (df_cluster['qtd_customers'].sum()) * 100\n",
    "\n",
    "# gross revenue\n",
    "df_gross_revenue = df9[['gross_revenue', 'cluster']].groupby('cluster').mean().reset_index()\n",
    "df_cluster = pd.merge(df_cluster, df_gross_revenue, how='inner', on='cluster' )\n",
    "\n",
    "# mean ticket\n",
    "df_ticket = df9[['mean_ticket', 'cluster']].groupby('cluster').mean().reset_index()\n",
    "df_cluster = pd.merge(df_cluster, df_ticket, how='inner', on='cluster')\n",
    "\n",
    "# qtd purchases\n",
    "df_purchases = (df9[['qtd_purchases', 'cluster']].groupby('cluster').mean()\n",
    "                                                                    .reset_index().rename(columns={'qtd_purchases':'purchases'}))\n",
    "\n",
    "df_cluster = pd.merge(df_cluster, df_purchases, how='inner', on='cluster')\n",
    "\n",
    "# qtd products\n",
    "df_products = (df9[['qtd_products', 'cluster']].groupby('cluster').mean()\n",
    "                                                                  .reset_index()\n",
    "                                                                  .rename(columns={'qtd_products':'products'}))\n",
    "\n",
    "df_cluster = pd.merge(df_cluster, df_products, how='inner', on='cluster')\n",
    "\n",
    "# qtd unique products\n",
    "df_unique_products = (df9[['avg_unique_products', 'cluster']].groupby('cluster').mean()\n",
    "                                                                                .reset_index()\n",
    "                                                                                .rename(columns={'avg_unique_products':'unique_products'}))\n",
    "\n",
    "df_cluster = pd.merge(df_cluster, df_unique_products, how='inner', on='cluster')\n",
    "\n",
    "# recency days\n",
    "df_recency_days = df9[['recency_days', 'cluster']].groupby('cluster').mean().reset_index()\n",
    "df_cluster = pd.merge(df_cluster, df_recency_days, how='inner', on='cluster')\n",
    "\n",
    "# purchased frequency\n",
    "df_purchased_frequency = df9[['purchase_frequency', 'cluster']].groupby('cluster').mean().reset_index()\n",
    "df_cluster = pd.merge(df_cluster, df_purchased_frequency, how='inner', on='cluster')\n",
    "\n",
    "# qtd cancelled products\n",
    "df_cancelled_products = (df9[['qtd_cancelled_products', 'cluster']].groupby('cluster').mean()\n",
    "                                                                                      .reset_index()\n",
    "                                                                                      .rename(columns={'qtd_cancelled_products':'cancelled_products'}))                            \n",
    "\n",
    "df_cluster = pd.merge(df_cluster, df_cancelled_products, how='inner', on='cluster')\n",
    "\n",
    "# cancelled products over purchased products\n",
    "df_cluster['cancelled_over_purchased'] = (df_cluster[['products', 'cancelled_products']]\n",
    "                                          .apply(lambda x: x['cancelled_products'] / x['products'], axis=1))"
   ]
  },
  {
   "cell_type": "code",
   "execution_count": null,
   "id": "0c710eaa",
   "metadata": {},
   "outputs": [],
   "source": [
    "df_cluster "
   ]
  }
 ],
 "metadata": {
  "kernelspec": {
   "display_name": "Python 3 (ipykernel)",
   "language": "python",
   "name": "python3"
  },
  "language_info": {
   "codemirror_mode": {
    "name": "ipython",
    "version": 3
   },
   "file_extension": ".py",
   "mimetype": "text/x-python",
   "name": "python",
   "nbconvert_exporter": "python",
   "pygments_lexer": "ipython3",
   "version": "3.9.12"
  }
 },
 "nbformat": 4,
 "nbformat_minor": 5
}
