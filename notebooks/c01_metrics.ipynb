{
 "cells": [
  {
   "cell_type": "markdown",
   "id": "1bc4001d",
   "metadata": {},
   "source": [
    "The goal in this first cycle is to perform clustering using basic features, where the result will provide the basis for checking progress."
   ]
  },
  {
   "cell_type": "markdown",
   "id": "25464eb3",
   "metadata": {},
   "source": [
    "# 0.0 IMPORTS"
   ]
  },
  {
   "cell_type": "code",
   "execution_count": 1,
   "id": "abc1b00b",
   "metadata": {},
   "outputs": [],
   "source": [
    "import re \n",
    "import numpy                 as np\n",
    "import pandas                as pd\n",
    "\n",
    "import seaborn               as sns\n",
    "import matplotlib.patches    as mpatches\n",
    "import scikitplot            as skplt\n",
    "import plotly.express        as px\n",
    "import umap.umap_            as umap\n",
    "\n",
    "from sklearn import cluster  as c\n",
    "from sklearn import metrics  as m\n",
    "\n",
    "from matplotlib              import pyplot as plt\n",
    "from IPython.core.display    import HTML\n",
    "from IPython.display         import Image\n",
    "\n",
    "from sklearn                 import preprocessing as pp\n",
    "from yellowbrick.cluster     import KElbowVisualizer, SilhouetteVisualizer"
   ]
  },
  {
   "cell_type": "markdown",
   "id": "fc8afad7",
   "metadata": {},
   "source": [
    "## 0.1 Helper Functions"
   ]
  },
  {
   "cell_type": "code",
   "execution_count": 2,
   "id": "315361e8",
   "metadata": {},
   "outputs": [],
   "source": [
    "def personal_settings():   \n",
    "    display(HTML('<style>.container{width:80% !important;}</style>'))\n",
    "    np.set_printoptions(suppress=True)\n",
    "    pd.options.display.float_format = '{:.2f}'.format\n",
    "    pd.options.mode.chained_assignment = None\n",
    "    \n",
    "    plt.style.use( 'bmh' )\n",
    "    plt.rcParams['figure.figsize'] = [20,10]\n",
    "    plt.rcParams['font.size'] = 24\n",
    "    \n",
    "    sns.set()"
   ]
  },
  {
   "cell_type": "code",
   "execution_count": 3,
   "id": "21002aaf",
   "metadata": {},
   "outputs": [
    {
     "data": {
      "text/html": [
       "<style>.container{width:80% !important;}</style>"
      ],
      "text/plain": [
       "<IPython.core.display.HTML object>"
      ]
     },
     "metadata": {},
     "output_type": "display_data"
    }
   ],
   "source": [
    "personal_settings()"
   ]
  },
  {
   "cell_type": "markdown",
   "id": "660ba11f",
   "metadata": {},
   "source": [
    "## 0.2 Load Data"
   ]
  },
  {
   "cell_type": "code",
   "execution_count": 4,
   "id": "a4ce7ec4",
   "metadata": {},
   "outputs": [],
   "source": [
    "df_raw = pd.read_csv('../data/OnlineRetail.csv')"
   ]
  },
  {
   "cell_type": "markdown",
   "id": "88cc188d",
   "metadata": {},
   "source": [
    "# 1 DATA DESCRIPTION"
   ]
  },
  {
   "cell_type": "code",
   "execution_count": 5,
   "id": "1494f3ab",
   "metadata": {},
   "outputs": [],
   "source": [
    "df1 = df_raw.copy()"
   ]
  },
  {
   "cell_type": "code",
   "execution_count": 6,
   "id": "f7e345bf",
   "metadata": {},
   "outputs": [
    {
     "data": {
      "text/html": [
       "<div>\n",
       "<style scoped>\n",
       "    .dataframe tbody tr th:only-of-type {\n",
       "        vertical-align: middle;\n",
       "    }\n",
       "\n",
       "    .dataframe tbody tr th {\n",
       "        vertical-align: top;\n",
       "    }\n",
       "\n",
       "    .dataframe thead th {\n",
       "        text-align: right;\n",
       "    }\n",
       "</style>\n",
       "<table border=\"1\" class=\"dataframe\">\n",
       "  <thead>\n",
       "    <tr style=\"text-align: right;\">\n",
       "      <th></th>\n",
       "      <th>InvoiceNo</th>\n",
       "      <th>StockCode</th>\n",
       "      <th>Description</th>\n",
       "      <th>Quantity</th>\n",
       "      <th>InvoiceDate</th>\n",
       "      <th>UnitPrice</th>\n",
       "      <th>CustomerID</th>\n",
       "      <th>Country</th>\n",
       "    </tr>\n",
       "  </thead>\n",
       "  <tbody>\n",
       "    <tr>\n",
       "      <th>0</th>\n",
       "      <td>536365</td>\n",
       "      <td>85123A</td>\n",
       "      <td>WHITE HANGING HEART T-LIGHT HOLDER</td>\n",
       "      <td>6</td>\n",
       "      <td>2010-12-01 08:26:00</td>\n",
       "      <td>2.55</td>\n",
       "      <td>17850.00</td>\n",
       "      <td>United Kingdom</td>\n",
       "    </tr>\n",
       "    <tr>\n",
       "      <th>1</th>\n",
       "      <td>536365</td>\n",
       "      <td>71053</td>\n",
       "      <td>WHITE METAL LANTERN</td>\n",
       "      <td>6</td>\n",
       "      <td>2010-12-01 08:26:00</td>\n",
       "      <td>3.39</td>\n",
       "      <td>17850.00</td>\n",
       "      <td>United Kingdom</td>\n",
       "    </tr>\n",
       "    <tr>\n",
       "      <th>2</th>\n",
       "      <td>536365</td>\n",
       "      <td>84406B</td>\n",
       "      <td>CREAM CUPID HEARTS COAT HANGER</td>\n",
       "      <td>8</td>\n",
       "      <td>2010-12-01 08:26:00</td>\n",
       "      <td>2.75</td>\n",
       "      <td>17850.00</td>\n",
       "      <td>United Kingdom</td>\n",
       "    </tr>\n",
       "    <tr>\n",
       "      <th>3</th>\n",
       "      <td>536365</td>\n",
       "      <td>84029G</td>\n",
       "      <td>KNITTED UNION FLAG HOT WATER BOTTLE</td>\n",
       "      <td>6</td>\n",
       "      <td>2010-12-01 08:26:00</td>\n",
       "      <td>3.39</td>\n",
       "      <td>17850.00</td>\n",
       "      <td>United Kingdom</td>\n",
       "    </tr>\n",
       "    <tr>\n",
       "      <th>4</th>\n",
       "      <td>536365</td>\n",
       "      <td>84029E</td>\n",
       "      <td>RED WOOLLY HOTTIE WHITE HEART.</td>\n",
       "      <td>6</td>\n",
       "      <td>2010-12-01 08:26:00</td>\n",
       "      <td>3.39</td>\n",
       "      <td>17850.00</td>\n",
       "      <td>United Kingdom</td>\n",
       "    </tr>\n",
       "  </tbody>\n",
       "</table>\n",
       "</div>"
      ],
      "text/plain": [
       "  InvoiceNo StockCode                          Description  Quantity  \\\n",
       "0    536365    85123A   WHITE HANGING HEART T-LIGHT HOLDER         6   \n",
       "1    536365     71053                  WHITE METAL LANTERN         6   \n",
       "2    536365    84406B       CREAM CUPID HEARTS COAT HANGER         8   \n",
       "3    536365    84029G  KNITTED UNION FLAG HOT WATER BOTTLE         6   \n",
       "4    536365    84029E       RED WOOLLY HOTTIE WHITE HEART.         6   \n",
       "\n",
       "           InvoiceDate  UnitPrice  CustomerID         Country  \n",
       "0  2010-12-01 08:26:00       2.55    17850.00  United Kingdom  \n",
       "1  2010-12-01 08:26:00       3.39    17850.00  United Kingdom  \n",
       "2  2010-12-01 08:26:00       2.75    17850.00  United Kingdom  \n",
       "3  2010-12-01 08:26:00       3.39    17850.00  United Kingdom  \n",
       "4  2010-12-01 08:26:00       3.39    17850.00  United Kingdom  "
      ]
     },
     "execution_count": 6,
     "metadata": {},
     "output_type": "execute_result"
    }
   ],
   "source": [
    "df1.head()"
   ]
  },
  {
   "cell_type": "markdown",
   "id": "f0e3205d",
   "metadata": {},
   "source": [
    "## 1.1 Data Dimensions"
   ]
  },
  {
   "cell_type": "code",
   "execution_count": 7,
   "id": "b84cdb22",
   "metadata": {},
   "outputs": [
    {
     "name": "stdout",
     "output_type": "stream",
     "text": [
      "541909 rows\n",
      "8 columns\n"
     ]
    }
   ],
   "source": [
    "print(df1.shape[0], 'rows')\n",
    "print(df1.shape[1], 'columns')"
   ]
  },
  {
   "cell_type": "markdown",
   "id": "692b1ab8",
   "metadata": {},
   "source": [
    "## 1.2 Rename columns"
   ]
  },
  {
   "cell_type": "code",
   "execution_count": 8,
   "id": "54908cbc",
   "metadata": {},
   "outputs": [
    {
     "data": {
      "text/plain": [
       "Index(['InvoiceNo', 'StockCode', 'Description', 'Quantity', 'InvoiceDate',\n",
       "       'UnitPrice', 'CustomerID', 'Country'],\n",
       "      dtype='object')"
      ]
     },
     "execution_count": 8,
     "metadata": {},
     "output_type": "execute_result"
    }
   ],
   "source": [
    "df1.columns "
   ]
  },
  {
   "cell_type": "code",
   "execution_count": 9,
   "id": "86b24d6b",
   "metadata": {},
   "outputs": [],
   "source": [
    "cols_new = ['invoice_no', 'stock_code', 'description', 'quantity', 'invoice_date','unit_price', 'customer_id', 'country']\n",
    "df1.columns = cols_new"
   ]
  },
  {
   "cell_type": "markdown",
   "id": "d91691f2",
   "metadata": {},
   "source": [
    "## 1.2 Data Descriptions"
   ]
  },
  {
   "cell_type": "markdown",
   "id": "e7b79098",
   "metadata": {},
   "source": [
    "* `invoice_no` | A 6-digit integral number uniquely assigned to each transaction. If this code starts with letter `c`, it indicates a cancellation. \n",
    "* `stock_code` | A 5-digit integral number uniquely assigned to each distinct product.   \n",
    "* `description` | Product name. \n",
    "* `quantity` | The quantities of each product (item) per transaction.  \n",
    "* `invoice_date` | The day and time when each transaction was generated.    \n",
    "* `unit_price` | Product price per unit in sterling.\n",
    "* `customer_iD` | A 5-digit integral number uniquely assigned to each customer.    \n",
    "* `country` | The name of the country where each customer resides.   "
   ]
  },
  {
   "cell_type": "markdown",
   "id": "6aa37832",
   "metadata": {},
   "source": [
    "## 1.3 Data Types"
   ]
  },
  {
   "cell_type": "code",
   "execution_count": 10,
   "id": "c023965a",
   "metadata": {},
   "outputs": [
    {
     "data": {
      "text/html": [
       "<div>\n",
       "<style scoped>\n",
       "    .dataframe tbody tr th:only-of-type {\n",
       "        vertical-align: middle;\n",
       "    }\n",
       "\n",
       "    .dataframe tbody tr th {\n",
       "        vertical-align: top;\n",
       "    }\n",
       "\n",
       "    .dataframe thead th {\n",
       "        text-align: right;\n",
       "    }\n",
       "</style>\n",
       "<table border=\"1\" class=\"dataframe\">\n",
       "  <thead>\n",
       "    <tr style=\"text-align: right;\">\n",
       "      <th></th>\n",
       "      <th>attributes</th>\n",
       "      <th>dtypes</th>\n",
       "      <th>nunique</th>\n",
       "      <th>sample</th>\n",
       "    </tr>\n",
       "  </thead>\n",
       "  <tbody>\n",
       "    <tr>\n",
       "      <th>0</th>\n",
       "      <td>invoice_no</td>\n",
       "      <td>object</td>\n",
       "      <td>25900</td>\n",
       "      <td>[562925, 568148]</td>\n",
       "    </tr>\n",
       "    <tr>\n",
       "      <th>1</th>\n",
       "      <td>stock_code</td>\n",
       "      <td>object</td>\n",
       "      <td>4070</td>\n",
       "      <td>[22033, 22918]</td>\n",
       "    </tr>\n",
       "    <tr>\n",
       "      <th>2</th>\n",
       "      <td>description</td>\n",
       "      <td>object</td>\n",
       "      <td>4223</td>\n",
       "      <td>[BROWN VINTAGE VICTORIAN EARRINGS, SET OF 4 FA...</td>\n",
       "    </tr>\n",
       "    <tr>\n",
       "      <th>3</th>\n",
       "      <td>quantity</td>\n",
       "      <td>int64</td>\n",
       "      <td>722</td>\n",
       "      <td>[123, 120]</td>\n",
       "    </tr>\n",
       "    <tr>\n",
       "      <th>4</th>\n",
       "      <td>invoice_date</td>\n",
       "      <td>object</td>\n",
       "      <td>23260</td>\n",
       "      <td>[2011-02-24 10:05:00, 2010-12-03 17:20:00]</td>\n",
       "    </tr>\n",
       "    <tr>\n",
       "      <th>5</th>\n",
       "      <td>unit_price</td>\n",
       "      <td>float64</td>\n",
       "      <td>1630</td>\n",
       "      <td>[4.21, 109.25]</td>\n",
       "    </tr>\n",
       "    <tr>\n",
       "      <th>6</th>\n",
       "      <td>customer_id</td>\n",
       "      <td>float64</td>\n",
       "      <td>4372</td>\n",
       "      <td>[12598.0, 14535.0]</td>\n",
       "    </tr>\n",
       "    <tr>\n",
       "      <th>7</th>\n",
       "      <td>country</td>\n",
       "      <td>object</td>\n",
       "      <td>38</td>\n",
       "      <td>[Italy, Brazil]</td>\n",
       "    </tr>\n",
       "  </tbody>\n",
       "</table>\n",
       "</div>"
      ],
      "text/plain": [
       "     attributes   dtypes  nunique  \\\n",
       "0    invoice_no   object    25900   \n",
       "1    stock_code   object     4070   \n",
       "2   description   object     4223   \n",
       "3      quantity    int64      722   \n",
       "4  invoice_date   object    23260   \n",
       "5    unit_price  float64     1630   \n",
       "6   customer_id  float64     4372   \n",
       "7       country   object       38   \n",
       "\n",
       "                                              sample  \n",
       "0                                   [562925, 568148]  \n",
       "1                                     [22033, 22918]  \n",
       "2  [BROWN VINTAGE VICTORIAN EARRINGS, SET OF 4 FA...  \n",
       "3                                         [123, 120]  \n",
       "4         [2011-02-24 10:05:00, 2010-12-03 17:20:00]  \n",
       "5                                     [4.21, 109.25]  \n",
       "6                                 [12598.0, 14535.0]  \n",
       "7                                    [Italy, Brazil]  "
      ]
     },
     "execution_count": 10,
     "metadata": {},
     "output_type": "execute_result"
    }
   ],
   "source": [
    "description = []\n",
    "\n",
    "for i in df1.columns:\n",
    "    description.append([\n",
    "        i,\n",
    "        df1[i].dtypes,\n",
    "        df1[i].nunique(),\n",
    "        df1[i].drop_duplicates().sample(2).values\n",
    "    ])\n",
    "\n",
    "pd.DataFrame(data = description, columns=['attributes', 'dtypes', 'nunique', 'sample'])"
   ]
  },
  {
   "cell_type": "markdown",
   "id": "cb01ebe0",
   "metadata": {},
   "source": [
    "## 1.4 Check NA"
   ]
  },
  {
   "cell_type": "code",
   "execution_count": 11,
   "id": "09b8734d",
   "metadata": {},
   "outputs": [
    {
     "data": {
      "text/html": [
       "<div>\n",
       "<style scoped>\n",
       "    .dataframe tbody tr th:only-of-type {\n",
       "        vertical-align: middle;\n",
       "    }\n",
       "\n",
       "    .dataframe tbody tr th {\n",
       "        vertical-align: top;\n",
       "    }\n",
       "\n",
       "    .dataframe thead th {\n",
       "        text-align: right;\n",
       "    }\n",
       "</style>\n",
       "<table border=\"1\" class=\"dataframe\">\n",
       "  <thead>\n",
       "    <tr style=\"text-align: right;\">\n",
       "      <th></th>\n",
       "      <th>attributes</th>\n",
       "      <th>null</th>\n",
       "      <th>%null</th>\n",
       "    </tr>\n",
       "  </thead>\n",
       "  <tbody>\n",
       "    <tr>\n",
       "      <th>0</th>\n",
       "      <td>invoice_no</td>\n",
       "      <td>0</td>\n",
       "      <td>0</td>\n",
       "    </tr>\n",
       "    <tr>\n",
       "      <th>1</th>\n",
       "      <td>stock_code</td>\n",
       "      <td>0</td>\n",
       "      <td>0</td>\n",
       "    </tr>\n",
       "    <tr>\n",
       "      <th>2</th>\n",
       "      <td>description</td>\n",
       "      <td>1454</td>\n",
       "      <td>0</td>\n",
       "    </tr>\n",
       "    <tr>\n",
       "      <th>3</th>\n",
       "      <td>quantity</td>\n",
       "      <td>0</td>\n",
       "      <td>0</td>\n",
       "    </tr>\n",
       "    <tr>\n",
       "      <th>4</th>\n",
       "      <td>invoice_date</td>\n",
       "      <td>0</td>\n",
       "      <td>0</td>\n",
       "    </tr>\n",
       "    <tr>\n",
       "      <th>5</th>\n",
       "      <td>unit_price</td>\n",
       "      <td>0</td>\n",
       "      <td>0</td>\n",
       "    </tr>\n",
       "    <tr>\n",
       "      <th>6</th>\n",
       "      <td>customer_id</td>\n",
       "      <td>135080</td>\n",
       "      <td>25</td>\n",
       "    </tr>\n",
       "    <tr>\n",
       "      <th>7</th>\n",
       "      <td>country</td>\n",
       "      <td>0</td>\n",
       "      <td>0</td>\n",
       "    </tr>\n",
       "  </tbody>\n",
       "</table>\n",
       "</div>"
      ],
      "text/plain": [
       "     attributes    null  %null\n",
       "0    invoice_no       0      0\n",
       "1    stock_code       0      0\n",
       "2   description    1454      0\n",
       "3      quantity       0      0\n",
       "4  invoice_date       0      0\n",
       "5    unit_price       0      0\n",
       "6   customer_id  135080     25\n",
       "7       country       0      0"
      ]
     },
     "execution_count": 11,
     "metadata": {},
     "output_type": "execute_result"
    }
   ],
   "source": [
    "description = []\n",
    "\n",
    "for i in df1.columns:\n",
    "    description.append([\n",
    "        i,\n",
    "        df1[i].isna().sum(),\n",
    "        round((df1[i].isna().sum()/len(df1))*100)\n",
    "    ])\n",
    "\n",
    "pd.DataFrame(data = description, columns=['attributes','null', '%null'])"
   ]
  },
  {
   "cell_type": "markdown",
   "id": "83f40fdd",
   "metadata": {},
   "source": [
    "## 1.5 Replace NA"
   ]
  },
  {
   "cell_type": "markdown",
   "id": "b99c9098",
   "metadata": {},
   "source": [
    "As this is the first cycle, our goal is to get a premilinar analysis of possible clusters, we will eliminate the lines with null values, and in another cycle we will think about replacing the null values."
   ]
  },
  {
   "cell_type": "code",
   "execution_count": 12,
   "id": "b14a5398",
   "metadata": {},
   "outputs": [
    {
     "data": {
      "text/plain": [
       "invoice_no      0\n",
       "stock_code      0\n",
       "description     0\n",
       "quantity        0\n",
       "invoice_date    0\n",
       "unit_price      0\n",
       "customer_id     0\n",
       "country         0\n",
       "dtype: int64"
      ]
     },
     "execution_count": 12,
     "metadata": {},
     "output_type": "execute_result"
    }
   ],
   "source": [
    "df1.dropna(subset=['description', 'customer_id'], inplace=True)\n",
    "\n",
    "df1.isna().sum()"
   ]
  },
  {
   "cell_type": "markdown",
   "id": "0a2604b2",
   "metadata": {},
   "source": [
    "## 1.6 Change dtypes"
   ]
  },
  {
   "cell_type": "code",
   "execution_count": 13,
   "id": "49b7b400",
   "metadata": {},
   "outputs": [],
   "source": [
    "# invoice_date\n",
    "df1['invoice_date'] = pd.to_datetime(df1['invoice_date']).dt.normalize()\n",
    "\n",
    "# customer_id\n",
    "df1['customer_id'] = np.int64(df1['customer_id'])"
   ]
  },
  {
   "cell_type": "code",
   "execution_count": 14,
   "id": "747effa3",
   "metadata": {},
   "outputs": [
    {
     "data": {
      "text/plain": [
       "invoice_no              object\n",
       "stock_code              object\n",
       "description             object\n",
       "quantity                 int64\n",
       "invoice_date    datetime64[ns]\n",
       "unit_price             float64\n",
       "customer_id              int64\n",
       "country                 object\n",
       "dtype: object"
      ]
     },
     "execution_count": 14,
     "metadata": {},
     "output_type": "execute_result"
    }
   ],
   "source": [
    "df1.dtypes"
   ]
  },
  {
   "cell_type": "code",
   "execution_count": 15,
   "id": "70f96307",
   "metadata": {},
   "outputs": [
    {
     "data": {
      "text/html": [
       "<div>\n",
       "<style scoped>\n",
       "    .dataframe tbody tr th:only-of-type {\n",
       "        vertical-align: middle;\n",
       "    }\n",
       "\n",
       "    .dataframe tbody tr th {\n",
       "        vertical-align: top;\n",
       "    }\n",
       "\n",
       "    .dataframe thead th {\n",
       "        text-align: right;\n",
       "    }\n",
       "</style>\n",
       "<table border=\"1\" class=\"dataframe\">\n",
       "  <thead>\n",
       "    <tr style=\"text-align: right;\">\n",
       "      <th></th>\n",
       "      <th>invoice_no</th>\n",
       "      <th>stock_code</th>\n",
       "      <th>description</th>\n",
       "      <th>quantity</th>\n",
       "      <th>invoice_date</th>\n",
       "      <th>unit_price</th>\n",
       "      <th>customer_id</th>\n",
       "      <th>country</th>\n",
       "    </tr>\n",
       "  </thead>\n",
       "  <tbody>\n",
       "    <tr>\n",
       "      <th>0</th>\n",
       "      <td>536365</td>\n",
       "      <td>85123A</td>\n",
       "      <td>WHITE HANGING HEART T-LIGHT HOLDER</td>\n",
       "      <td>6</td>\n",
       "      <td>2010-12-01</td>\n",
       "      <td>2.55</td>\n",
       "      <td>17850</td>\n",
       "      <td>United Kingdom</td>\n",
       "    </tr>\n",
       "    <tr>\n",
       "      <th>1</th>\n",
       "      <td>536365</td>\n",
       "      <td>71053</td>\n",
       "      <td>WHITE METAL LANTERN</td>\n",
       "      <td>6</td>\n",
       "      <td>2010-12-01</td>\n",
       "      <td>3.39</td>\n",
       "      <td>17850</td>\n",
       "      <td>United Kingdom</td>\n",
       "    </tr>\n",
       "  </tbody>\n",
       "</table>\n",
       "</div>"
      ],
      "text/plain": [
       "  invoice_no stock_code                         description  quantity  \\\n",
       "0     536365     85123A  WHITE HANGING HEART T-LIGHT HOLDER         6   \n",
       "1     536365      71053                 WHITE METAL LANTERN         6   \n",
       "\n",
       "  invoice_date  unit_price  customer_id         country  \n",
       "0   2010-12-01        2.55        17850  United Kingdom  \n",
       "1   2010-12-01        3.39        17850  United Kingdom  "
      ]
     },
     "execution_count": 15,
     "metadata": {},
     "output_type": "execute_result"
    }
   ],
   "source": [
    "df1.head(2)"
   ]
  },
  {
   "cell_type": "markdown",
   "id": "e06e0409",
   "metadata": {},
   "source": [
    "## 1.6 Descriptive Statistics"
   ]
  },
  {
   "cell_type": "code",
   "execution_count": 16,
   "id": "f52b953d",
   "metadata": {},
   "outputs": [],
   "source": [
    "df_num1 = df1.select_dtypes(include = ['int64', 'float64'])\n",
    "df_cat1 = df1.select_dtypes(exclude = ['int64', 'float64', 'datetime64[ns]'])"
   ]
  },
  {
   "cell_type": "markdown",
   "id": "188729f3",
   "metadata": {},
   "source": [
    "### 1.6.1 Numeric Attributes"
   ]
  },
  {
   "cell_type": "code",
   "execution_count": 17,
   "id": "4b2db420",
   "metadata": {},
   "outputs": [
    {
     "data": {
      "text/html": [
       "<div>\n",
       "<style scoped>\n",
       "    .dataframe tbody tr th:only-of-type {\n",
       "        vertical-align: middle;\n",
       "    }\n",
       "\n",
       "    .dataframe tbody tr th {\n",
       "        vertical-align: top;\n",
       "    }\n",
       "\n",
       "    .dataframe thead th {\n",
       "        text-align: right;\n",
       "    }\n",
       "</style>\n",
       "<table border=\"1\" class=\"dataframe\">\n",
       "  <thead>\n",
       "    <tr style=\"text-align: right;\">\n",
       "      <th></th>\n",
       "      <th>attributes</th>\n",
       "      <th>min</th>\n",
       "      <th>max</th>\n",
       "      <th>range</th>\n",
       "      <th>mean</th>\n",
       "      <th>median</th>\n",
       "      <th>std</th>\n",
       "      <th>skew</th>\n",
       "      <th>kurtosis</th>\n",
       "    </tr>\n",
       "  </thead>\n",
       "  <tbody>\n",
       "    <tr>\n",
       "      <th>0</th>\n",
       "      <td>quantity</td>\n",
       "      <td>-80995.00</td>\n",
       "      <td>80995.00</td>\n",
       "      <td>161990.00</td>\n",
       "      <td>12.06</td>\n",
       "      <td>5.00</td>\n",
       "      <td>248.69</td>\n",
       "      <td>0.18</td>\n",
       "      <td>94317.56</td>\n",
       "    </tr>\n",
       "    <tr>\n",
       "      <th>1</th>\n",
       "      <td>unit_price</td>\n",
       "      <td>0.00</td>\n",
       "      <td>38970.00</td>\n",
       "      <td>38970.00</td>\n",
       "      <td>3.46</td>\n",
       "      <td>1.95</td>\n",
       "      <td>69.32</td>\n",
       "      <td>452.22</td>\n",
       "      <td>246924.54</td>\n",
       "    </tr>\n",
       "    <tr>\n",
       "      <th>2</th>\n",
       "      <td>customer_id</td>\n",
       "      <td>12346.00</td>\n",
       "      <td>18287.00</td>\n",
       "      <td>5941.00</td>\n",
       "      <td>15287.69</td>\n",
       "      <td>15152.00</td>\n",
       "      <td>1713.60</td>\n",
       "      <td>0.03</td>\n",
       "      <td>-1.18</td>\n",
       "    </tr>\n",
       "  </tbody>\n",
       "</table>\n",
       "</div>"
      ],
      "text/plain": [
       "    attributes       min      max     range     mean   median     std   skew  \\\n",
       "0     quantity -80995.00 80995.00 161990.00    12.06     5.00  248.69   0.18   \n",
       "1   unit_price      0.00 38970.00  38970.00     3.46     1.95   69.32 452.22   \n",
       "2  customer_id  12346.00 18287.00   5941.00 15287.69 15152.00 1713.60   0.03   \n",
       "\n",
       "   kurtosis  \n",
       "0  94317.56  \n",
       "1 246924.54  \n",
       "2     -1.18  "
      ]
     },
     "execution_count": 17,
     "metadata": {},
     "output_type": "execute_result"
    }
   ],
   "source": [
    "# central tendency - mean, median\n",
    "ct1 = pd.DataFrame(df_num1.apply(np.mean)).T\n",
    "ct2 = pd.DataFrame(df_num1.apply(np.median)).T\n",
    "\n",
    "# dispersion - std, min, max, range, skew, kurtosis\n",
    "d1 = pd.DataFrame(df_num1.apply(np.std)).T \n",
    "d2 = pd.DataFrame(df_num1.apply(min)).T\n",
    "d3 = pd.DataFrame(df_num1.apply(max)).T\n",
    "d4 = pd.DataFrame(df_num1.apply(lambda x: x.max() - x.min())).T\n",
    "d5 = pd.DataFrame(df_num1.apply(lambda x: x.skew())).T\n",
    "d6 = pd.DataFrame(df_num1.apply(lambda x: x.kurtosis())).T\n",
    "\n",
    "# concat\n",
    "num1_summary = pd.concat([d2, d3, d4, ct1, ct2, d1, d5, d6]).T.reset_index()\n",
    "num1_summary.columns = ['attributes', 'min', 'max', 'range', 'mean', 'median', 'std', 'skew', 'kurtosis']\n",
    "num1_summary"
   ]
  },
  {
   "cell_type": "markdown",
   "id": "2fc4278b",
   "metadata": {},
   "source": [
    "Can negative `quantity` be a return?     \n",
    "Can `unit_price` equal to zero be a promotion?"
   ]
  },
  {
   "cell_type": "markdown",
   "id": "d9546a8c",
   "metadata": {},
   "source": [
    "### 1.7.2 Categorical Attributes"
   ]
  },
  {
   "cell_type": "code",
   "execution_count": 18,
   "id": "da0f6d84",
   "metadata": {},
   "outputs": [
    {
     "data": {
      "text/html": [
       "<div>\n",
       "<style scoped>\n",
       "    .dataframe tbody tr th:only-of-type {\n",
       "        vertical-align: middle;\n",
       "    }\n",
       "\n",
       "    .dataframe tbody tr th {\n",
       "        vertical-align: top;\n",
       "    }\n",
       "\n",
       "    .dataframe thead th {\n",
       "        text-align: right;\n",
       "    }\n",
       "</style>\n",
       "<table border=\"1\" class=\"dataframe\">\n",
       "  <thead>\n",
       "    <tr style=\"text-align: right;\">\n",
       "      <th></th>\n",
       "      <th>invoice_no</th>\n",
       "      <th>stock_code</th>\n",
       "      <th>description</th>\n",
       "      <th>country</th>\n",
       "    </tr>\n",
       "  </thead>\n",
       "  <tbody>\n",
       "    <tr>\n",
       "      <th>0</th>\n",
       "      <td>536365</td>\n",
       "      <td>85123A</td>\n",
       "      <td>WHITE HANGING HEART T-LIGHT HOLDER</td>\n",
       "      <td>United Kingdom</td>\n",
       "    </tr>\n",
       "    <tr>\n",
       "      <th>1</th>\n",
       "      <td>536365</td>\n",
       "      <td>71053</td>\n",
       "      <td>WHITE METAL LANTERN</td>\n",
       "      <td>United Kingdom</td>\n",
       "    </tr>\n",
       "    <tr>\n",
       "      <th>2</th>\n",
       "      <td>536365</td>\n",
       "      <td>84406B</td>\n",
       "      <td>CREAM CUPID HEARTS COAT HANGER</td>\n",
       "      <td>United Kingdom</td>\n",
       "    </tr>\n",
       "    <tr>\n",
       "      <th>3</th>\n",
       "      <td>536365</td>\n",
       "      <td>84029G</td>\n",
       "      <td>KNITTED UNION FLAG HOT WATER BOTTLE</td>\n",
       "      <td>United Kingdom</td>\n",
       "    </tr>\n",
       "    <tr>\n",
       "      <th>4</th>\n",
       "      <td>536365</td>\n",
       "      <td>84029E</td>\n",
       "      <td>RED WOOLLY HOTTIE WHITE HEART.</td>\n",
       "      <td>United Kingdom</td>\n",
       "    </tr>\n",
       "  </tbody>\n",
       "</table>\n",
       "</div>"
      ],
      "text/plain": [
       "  invoice_no stock_code                          description         country\n",
       "0     536365     85123A   WHITE HANGING HEART T-LIGHT HOLDER  United Kingdom\n",
       "1     536365      71053                  WHITE METAL LANTERN  United Kingdom\n",
       "2     536365     84406B       CREAM CUPID HEARTS COAT HANGER  United Kingdom\n",
       "3     536365     84029G  KNITTED UNION FLAG HOT WATER BOTTLE  United Kingdom\n",
       "4     536365     84029E       RED WOOLLY HOTTIE WHITE HEART.  United Kingdom"
      ]
     },
     "execution_count": 18,
     "metadata": {},
     "output_type": "execute_result"
    }
   ],
   "source": [
    "df_cat1.head()"
   ]
  },
  {
   "cell_type": "markdown",
   "id": "944337ee",
   "metadata": {},
   "source": [
    "#### Invoice No"
   ]
  },
  {
   "cell_type": "code",
   "execution_count": 19,
   "id": "0b9fd283",
   "metadata": {},
   "outputs": [
    {
     "data": {
      "text/html": [
       "<div>\n",
       "<style scoped>\n",
       "    .dataframe tbody tr th:only-of-type {\n",
       "        vertical-align: middle;\n",
       "    }\n",
       "\n",
       "    .dataframe tbody tr th {\n",
       "        vertical-align: top;\n",
       "    }\n",
       "\n",
       "    .dataframe thead th {\n",
       "        text-align: right;\n",
       "    }\n",
       "</style>\n",
       "<table border=\"1\" class=\"dataframe\">\n",
       "  <thead>\n",
       "    <tr style=\"text-align: right;\">\n",
       "      <th></th>\n",
       "      <th>invoice_no</th>\n",
       "      <th>stock_code</th>\n",
       "      <th>description</th>\n",
       "      <th>quantity</th>\n",
       "      <th>invoice_date</th>\n",
       "      <th>unit_price</th>\n",
       "      <th>customer_id</th>\n",
       "      <th>country</th>\n",
       "    </tr>\n",
       "  </thead>\n",
       "  <tbody>\n",
       "    <tr>\n",
       "      <th>331035</th>\n",
       "      <td>C565962</td>\n",
       "      <td>22975</td>\n",
       "      <td>SPACEBOY CHILDRENS EGG CUP</td>\n",
       "      <td>-1</td>\n",
       "      <td>2011-09-08</td>\n",
       "      <td>1.25</td>\n",
       "      <td>14410</td>\n",
       "      <td>United Kingdom</td>\n",
       "    </tr>\n",
       "    <tr>\n",
       "      <th>125652</th>\n",
       "      <td>C547054</td>\n",
       "      <td>M</td>\n",
       "      <td>Manual</td>\n",
       "      <td>-1</td>\n",
       "      <td>2011-03-20</td>\n",
       "      <td>6.95</td>\n",
       "      <td>16444</td>\n",
       "      <td>United Kingdom</td>\n",
       "    </tr>\n",
       "    <tr>\n",
       "      <th>52403</th>\n",
       "      <td>C540781</td>\n",
       "      <td>22776</td>\n",
       "      <td>SWEETHEART CAKESTAND 3 TIER</td>\n",
       "      <td>-1</td>\n",
       "      <td>2011-01-11</td>\n",
       "      <td>9.95</td>\n",
       "      <td>16875</td>\n",
       "      <td>United Kingdom</td>\n",
       "    </tr>\n",
       "    <tr>\n",
       "      <th>514652</th>\n",
       "      <td>C579739</td>\n",
       "      <td>22567</td>\n",
       "      <td>20 DOLLY PEGS RETROSPOT</td>\n",
       "      <td>-1</td>\n",
       "      <td>2011-11-30</td>\n",
       "      <td>1.45</td>\n",
       "      <td>16956</td>\n",
       "      <td>United Kingdom</td>\n",
       "    </tr>\n",
       "    <tr>\n",
       "      <th>41623</th>\n",
       "      <td>C539950</td>\n",
       "      <td>85099B</td>\n",
       "      <td>JUMBO BAG RED RETROSPOT</td>\n",
       "      <td>-10</td>\n",
       "      <td>2010-12-23</td>\n",
       "      <td>1.95</td>\n",
       "      <td>13534</td>\n",
       "      <td>United Kingdom</td>\n",
       "    </tr>\n",
       "  </tbody>\n",
       "</table>\n",
       "</div>"
      ],
      "text/plain": [
       "       invoice_no stock_code                  description  quantity  \\\n",
       "331035    C565962      22975   SPACEBOY CHILDRENS EGG CUP        -1   \n",
       "125652    C547054          M                       Manual        -1   \n",
       "52403     C540781      22776  SWEETHEART CAKESTAND 3 TIER        -1   \n",
       "514652    C579739      22567      20 DOLLY PEGS RETROSPOT        -1   \n",
       "41623     C539950     85099B      JUMBO BAG RED RETROSPOT       -10   \n",
       "\n",
       "       invoice_date  unit_price  customer_id         country  \n",
       "331035   2011-09-08        1.25        14410  United Kingdom  \n",
       "125652   2011-03-20        6.95        16444  United Kingdom  \n",
       "52403    2011-01-11        9.95        16875  United Kingdom  \n",
       "514652   2011-11-30        1.45        16956  United Kingdom  \n",
       "41623    2010-12-23        1.95        13534  United Kingdom  "
      ]
     },
     "metadata": {},
     "output_type": "display_data"
    },
    {
     "name": "stdout",
     "output_type": "stream",
     "text": [
      "8905 rows\n"
     ]
    }
   ],
   "source": [
    "aux1 = df1.loc[df1['invoice_no'].apply(lambda x: bool(re.search('[^0-9]+', x))), :]\n",
    "\n",
    "display(aux1.sample(5))\n",
    "\n",
    "print(aux1.shape[0], 'rows')"
   ]
  },
  {
   "cell_type": "markdown",
   "id": "3ac5bd49",
   "metadata": {},
   "source": [
    "We know from the data description that `invoice` in what starts with C stands for cancelled."
   ]
  },
  {
   "cell_type": "markdown",
   "id": "0d5fb86b",
   "metadata": {},
   "source": [
    "#### Stock Code"
   ]
  },
  {
   "cell_type": "code",
   "execution_count": 20,
   "id": "18923222",
   "metadata": {},
   "outputs": [
    {
     "data": {
      "text/html": [
       "<div>\n",
       "<style scoped>\n",
       "    .dataframe tbody tr th:only-of-type {\n",
       "        vertical-align: middle;\n",
       "    }\n",
       "\n",
       "    .dataframe tbody tr th {\n",
       "        vertical-align: top;\n",
       "    }\n",
       "\n",
       "    .dataframe thead th {\n",
       "        text-align: right;\n",
       "    }\n",
       "</style>\n",
       "<table border=\"1\" class=\"dataframe\">\n",
       "  <thead>\n",
       "    <tr style=\"text-align: right;\">\n",
       "      <th></th>\n",
       "      <th>invoice_no</th>\n",
       "      <th>stock_code</th>\n",
       "      <th>description</th>\n",
       "      <th>quantity</th>\n",
       "      <th>invoice_date</th>\n",
       "      <th>unit_price</th>\n",
       "      <th>customer_id</th>\n",
       "      <th>country</th>\n",
       "    </tr>\n",
       "  </thead>\n",
       "  <tbody>\n",
       "    <tr>\n",
       "      <th>480382</th>\n",
       "      <td>577299</td>\n",
       "      <td>POST</td>\n",
       "      <td>POSTAGE</td>\n",
       "      <td>1</td>\n",
       "      <td>2011-11-18</td>\n",
       "      <td>18.00</td>\n",
       "      <td>12498</td>\n",
       "      <td>Germany</td>\n",
       "    </tr>\n",
       "    <tr>\n",
       "      <th>365290</th>\n",
       "      <td>568703</td>\n",
       "      <td>M</td>\n",
       "      <td>Manual</td>\n",
       "      <td>183</td>\n",
       "      <td>2011-09-28</td>\n",
       "      <td>0.08</td>\n",
       "      <td>12748</td>\n",
       "      <td>United Kingdom</td>\n",
       "    </tr>\n",
       "    <tr>\n",
       "      <th>368907</th>\n",
       "      <td>569001</td>\n",
       "      <td>POST</td>\n",
       "      <td>POSTAGE</td>\n",
       "      <td>1</td>\n",
       "      <td>2011-09-29</td>\n",
       "      <td>18.00</td>\n",
       "      <td>12703</td>\n",
       "      <td>Germany</td>\n",
       "    </tr>\n",
       "    <tr>\n",
       "      <th>263482</th>\n",
       "      <td>C559992</td>\n",
       "      <td>D</td>\n",
       "      <td>Discount</td>\n",
       "      <td>-1</td>\n",
       "      <td>2011-07-14</td>\n",
       "      <td>13.99</td>\n",
       "      <td>14527</td>\n",
       "      <td>United Kingdom</td>\n",
       "    </tr>\n",
       "    <tr>\n",
       "      <th>52127</th>\n",
       "      <td>540688</td>\n",
       "      <td>POST</td>\n",
       "      <td>POSTAGE</td>\n",
       "      <td>5</td>\n",
       "      <td>2011-01-11</td>\n",
       "      <td>18.00</td>\n",
       "      <td>12736</td>\n",
       "      <td>France</td>\n",
       "    </tr>\n",
       "  </tbody>\n",
       "</table>\n",
       "</div>"
      ],
      "text/plain": [
       "       invoice_no stock_code description  quantity invoice_date  unit_price  \\\n",
       "480382     577299       POST     POSTAGE         1   2011-11-18       18.00   \n",
       "365290     568703          M      Manual       183   2011-09-28        0.08   \n",
       "368907     569001       POST     POSTAGE         1   2011-09-29       18.00   \n",
       "263482    C559992          D    Discount        -1   2011-07-14       13.99   \n",
       "52127      540688       POST     POSTAGE         5   2011-01-11       18.00   \n",
       "\n",
       "        customer_id         country  \n",
       "480382        12498         Germany  \n",
       "365290        12748  United Kingdom  \n",
       "368907        12703         Germany  \n",
       "263482        14527  United Kingdom  \n",
       "52127         12736          France  "
      ]
     },
     "metadata": {},
     "output_type": "display_data"
    },
    {
     "data": {
      "text/plain": [
       "array(['POST', 'D', 'M', 'PADS', 'DOT', 'CRUK'], dtype=object)"
      ]
     },
     "execution_count": 20,
     "metadata": {},
     "output_type": "execute_result"
    }
   ],
   "source": [
    "# getting stock_code with just characters\n",
    "aux2 = df1.loc[df1['stock_code'].apply(lambda x: bool(re.search('^[a-zA-Z]+$', x))), :]\n",
    "\n",
    "display(aux2.sample(5))\n",
    "\n",
    "aux2['stock_code'].unique()"
   ]
  },
  {
   "cell_type": "markdown",
   "id": "3bf29587",
   "metadata": {},
   "source": [
    "Some `stock_code` we have an idea of what it means, such as \"post\", others we don't. Since we know that some do not represent product purchases, we will discard the lines with these categories later on."
   ]
  },
  {
   "cell_type": "markdown",
   "id": "0d838cbc",
   "metadata": {},
   "source": [
    "#### Country"
   ]
  },
  {
   "cell_type": "code",
   "execution_count": 21,
   "id": "ca76eef5",
   "metadata": {},
   "outputs": [
    {
     "data": {
      "text/plain": [
       "array(['United Kingdom', 'France', 'Australia', 'Netherlands', 'Germany',\n",
       "       'Norway', 'EIRE', 'Switzerland', 'Spain', 'Poland', 'Portugal',\n",
       "       'Italy', 'Belgium', 'Lithuania', 'Japan', 'Iceland',\n",
       "       'Channel Islands', 'Denmark', 'Cyprus', 'Sweden', 'Austria',\n",
       "       'Israel', 'Finland', 'Greece', 'Singapore', 'Lebanon',\n",
       "       'United Arab Emirates', 'Saudi Arabia', 'Czech Republic', 'Canada',\n",
       "       'Unspecified', 'Brazil', 'USA', 'European Community', 'Bahrain',\n",
       "       'Malta', 'RSA'], dtype=object)"
      ]
     },
     "execution_count": 21,
     "metadata": {},
     "output_type": "execute_result"
    }
   ],
   "source": [
    "df1['country'].unique()"
   ]
  },
  {
   "cell_type": "code",
   "execution_count": 22,
   "id": "94517bd3",
   "metadata": {},
   "outputs": [
    {
     "data": {
      "text/plain": [
       "37"
      ]
     },
     "execution_count": 22,
     "metadata": {},
     "output_type": "execute_result"
    }
   ],
   "source": [
    "len(df1['country'].unique())"
   ]
  },
  {
   "cell_type": "code",
   "execution_count": 23,
   "id": "01c1f89d",
   "metadata": {},
   "outputs": [
    {
     "data": {
      "text/plain": [
       "United Kingdom   0.89\n",
       "Germany          0.02\n",
       "France           0.02\n",
       "EIRE             0.02\n",
       "Spain            0.01\n",
       "Netherlands      0.01\n",
       "Belgium          0.01\n",
       "Switzerland      0.00\n",
       "Portugal         0.00\n",
       "Australia        0.00\n",
       "Name: country, dtype: float64"
      ]
     },
     "execution_count": 23,
     "metadata": {},
     "output_type": "execute_result"
    }
   ],
   "source": [
    "df1['country'].value_counts(normalize=True).head(10)"
   ]
  },
  {
   "cell_type": "markdown",
   "id": "e456df2d",
   "metadata": {},
   "source": [
    "For `country`, that representas the country where purchase was made, we have that the majority was made from the United Kingdom, representing 89%."
   ]
  },
  {
   "cell_type": "code",
   "execution_count": 24,
   "id": "b7caab18",
   "metadata": {},
   "outputs": [
    {
     "data": {
      "text/html": [
       "<div>\n",
       "<style scoped>\n",
       "    .dataframe tbody tr th:only-of-type {\n",
       "        vertical-align: middle;\n",
       "    }\n",
       "\n",
       "    .dataframe tbody tr th {\n",
       "        vertical-align: top;\n",
       "    }\n",
       "\n",
       "    .dataframe thead th {\n",
       "        text-align: right;\n",
       "    }\n",
       "</style>\n",
       "<table border=\"1\" class=\"dataframe\">\n",
       "  <thead>\n",
       "    <tr style=\"text-align: right;\">\n",
       "      <th></th>\n",
       "      <th>country</th>\n",
       "      <th>customer_id</th>\n",
       "    </tr>\n",
       "  </thead>\n",
       "  <tbody>\n",
       "    <tr>\n",
       "      <th>35</th>\n",
       "      <td>United Kingdom</td>\n",
       "      <td>3950</td>\n",
       "    </tr>\n",
       "    <tr>\n",
       "      <th>14</th>\n",
       "      <td>Germany</td>\n",
       "      <td>95</td>\n",
       "    </tr>\n",
       "    <tr>\n",
       "      <th>13</th>\n",
       "      <td>France</td>\n",
       "      <td>87</td>\n",
       "    </tr>\n",
       "    <tr>\n",
       "      <th>30</th>\n",
       "      <td>Spain</td>\n",
       "      <td>31</td>\n",
       "    </tr>\n",
       "    <tr>\n",
       "      <th>3</th>\n",
       "      <td>Belgium</td>\n",
       "      <td>25</td>\n",
       "    </tr>\n",
       "    <tr>\n",
       "      <th>32</th>\n",
       "      <td>Switzerland</td>\n",
       "      <td>21</td>\n",
       "    </tr>\n",
       "    <tr>\n",
       "      <th>26</th>\n",
       "      <td>Portugal</td>\n",
       "      <td>19</td>\n",
       "    </tr>\n",
       "    <tr>\n",
       "      <th>18</th>\n",
       "      <td>Italy</td>\n",
       "      <td>15</td>\n",
       "    </tr>\n",
       "    <tr>\n",
       "      <th>12</th>\n",
       "      <td>Finland</td>\n",
       "      <td>12</td>\n",
       "    </tr>\n",
       "    <tr>\n",
       "      <th>1</th>\n",
       "      <td>Austria</td>\n",
       "      <td>11</td>\n",
       "    </tr>\n",
       "    <tr>\n",
       "      <th>24</th>\n",
       "      <td>Norway</td>\n",
       "      <td>10</td>\n",
       "    </tr>\n",
       "    <tr>\n",
       "      <th>23</th>\n",
       "      <td>Netherlands</td>\n",
       "      <td>9</td>\n",
       "    </tr>\n",
       "    <tr>\n",
       "      <th>0</th>\n",
       "      <td>Australia</td>\n",
       "      <td>9</td>\n",
       "    </tr>\n",
       "    <tr>\n",
       "      <th>9</th>\n",
       "      <td>Denmark</td>\n",
       "      <td>9</td>\n",
       "    </tr>\n",
       "    <tr>\n",
       "      <th>6</th>\n",
       "      <td>Channel Islands</td>\n",
       "      <td>9</td>\n",
       "    </tr>\n",
       "    <tr>\n",
       "      <th>7</th>\n",
       "      <td>Cyprus</td>\n",
       "      <td>8</td>\n",
       "    </tr>\n",
       "    <tr>\n",
       "      <th>31</th>\n",
       "      <td>Sweden</td>\n",
       "      <td>8</td>\n",
       "    </tr>\n",
       "    <tr>\n",
       "      <th>19</th>\n",
       "      <td>Japan</td>\n",
       "      <td>8</td>\n",
       "    </tr>\n",
       "    <tr>\n",
       "      <th>25</th>\n",
       "      <td>Poland</td>\n",
       "      <td>6</td>\n",
       "    </tr>\n",
       "    <tr>\n",
       "      <th>33</th>\n",
       "      <td>USA</td>\n",
       "      <td>4</td>\n",
       "    </tr>\n",
       "  </tbody>\n",
       "</table>\n",
       "</div>"
      ],
      "text/plain": [
       "            country  customer_id\n",
       "35   United Kingdom         3950\n",
       "14          Germany           95\n",
       "13           France           87\n",
       "30            Spain           31\n",
       "3           Belgium           25\n",
       "32      Switzerland           21\n",
       "26         Portugal           19\n",
       "18            Italy           15\n",
       "12          Finland           12\n",
       "1           Austria           11\n",
       "24           Norway           10\n",
       "23      Netherlands            9\n",
       "0         Australia            9\n",
       "9           Denmark            9\n",
       "6   Channel Islands            9\n",
       "7            Cyprus            8\n",
       "31           Sweden            8\n",
       "19            Japan            8\n",
       "25           Poland            6\n",
       "33              USA            4"
      ]
     },
     "execution_count": 24,
     "metadata": {},
     "output_type": "execute_result"
    }
   ],
   "source": [
    "df1[['customer_id', 'country']].drop_duplicates().groupby('country').count().reset_index().sort_values('customer_id', ascending=False).head(20)"
   ]
  },
  {
   "cell_type": "markdown",
   "id": "775b630c",
   "metadata": {},
   "source": [
    "# 2 DATA FILTERING"
   ]
  },
  {
   "cell_type": "code",
   "execution_count": 25,
   "id": "3604fcf6",
   "metadata": {},
   "outputs": [],
   "source": [
    "df2 = df1.copy()"
   ]
  },
  {
   "cell_type": "code",
   "execution_count": 26,
   "id": "d0a8581c",
   "metadata": {},
   "outputs": [],
   "source": [
    "# unit_price\n",
    "df2 = df2.loc[df2['unit_price'] >= 0.04, :] # assuming that less than this value is gift\n",
    "\n",
    "# categorical attributes\n",
    "df2 = df2[~df2['stock_code'].isin(['POST', 'D', 'M', 'PADS', 'DOT', 'CRUK'])]\n",
    "\n",
    "# description\n",
    "# at this point we will not use the feature description, since it is unlikely to influence the clustering\n",
    "df2 = df2.drop( columns='description', axis=1)\n",
    "\n",
    "# country\n",
    "# For now, we will also not use countries, since 89% of the purchases were made from a single country. \n",
    "df2 = df2.drop(columns='country', axis=1)"
   ]
  },
  {
   "cell_type": "markdown",
   "id": "8f05cf86",
   "metadata": {},
   "source": [
    "# 3 FEATURE ENGINEERING"
   ]
  },
  {
   "cell_type": "code",
   "execution_count": 27,
   "id": "454a9d70",
   "metadata": {},
   "outputs": [],
   "source": [
    "df3 = df2.copy() "
   ]
  },
  {
   "cell_type": "markdown",
   "id": "450f844b",
   "metadata": {},
   "source": [
    "## 3.1 Features Creation"
   ]
  },
  {
   "cell_type": "code",
   "execution_count": 28,
   "id": "2bacd074",
   "metadata": {},
   "outputs": [
    {
     "data": {
      "text/html": [
       "<div>\n",
       "<style scoped>\n",
       "    .dataframe tbody tr th:only-of-type {\n",
       "        vertical-align: middle;\n",
       "    }\n",
       "\n",
       "    .dataframe tbody tr th {\n",
       "        vertical-align: top;\n",
       "    }\n",
       "\n",
       "    .dataframe thead th {\n",
       "        text-align: right;\n",
       "    }\n",
       "</style>\n",
       "<table border=\"1\" class=\"dataframe\">\n",
       "  <thead>\n",
       "    <tr style=\"text-align: right;\">\n",
       "      <th></th>\n",
       "      <th>customer_id</th>\n",
       "    </tr>\n",
       "  </thead>\n",
       "  <tbody>\n",
       "    <tr>\n",
       "      <th>0</th>\n",
       "      <td>17850</td>\n",
       "    </tr>\n",
       "    <tr>\n",
       "      <th>1</th>\n",
       "      <td>13047</td>\n",
       "    </tr>\n",
       "    <tr>\n",
       "      <th>2</th>\n",
       "      <td>12583</td>\n",
       "    </tr>\n",
       "    <tr>\n",
       "      <th>3</th>\n",
       "      <td>13748</td>\n",
       "    </tr>\n",
       "    <tr>\n",
       "      <th>4</th>\n",
       "      <td>15100</td>\n",
       "    </tr>\n",
       "  </tbody>\n",
       "</table>\n",
       "</div>"
      ],
      "text/plain": [
       "   customer_id\n",
       "0        17850\n",
       "1        13047\n",
       "2        12583\n",
       "3        13748\n",
       "4        15100"
      ]
     },
     "execution_count": 28,
     "metadata": {},
     "output_type": "execute_result"
    }
   ],
   "source": [
    "# reference table\n",
    "df_ref = df3.drop(['invoice_no', 'stock_code', 'quantity', \n",
    "                   'invoice_date', 'unit_price'], axis=1).drop_duplicates(ignore_index=True)\n",
    "\n",
    "df_ref.head()"
   ]
  },
  {
   "cell_type": "code",
   "execution_count": 29,
   "id": "88e5700f",
   "metadata": {},
   "outputs": [],
   "source": [
    "# gross revenue\n",
    "df3['gross_revenue'] = df3['quantity'] * df3['unit_price']\n",
    "\n",
    "df_monetary = df3[['customer_id', 'gross_revenue']].groupby('customer_id').sum().reset_index()\n",
    "\n",
    "df_ref = pd.merge(df_ref, df_monetary, on='customer_id', how='left')\n",
    "\n",
    "# mean ticket\n",
    "df_mean_ticket = (df3[['customer_id', 'gross_revenue']].groupby('customer_id').mean()\n",
    "                                                                              .reset_index()                  \n",
    "                                                                              .rename(columns={'gross_revenue':'mean_ticket'}))\n",
    "\n",
    "df_ref = pd.merge(df_ref, df_mean_ticket, on='customer_id', how='left')\n",
    "\n",
    "# quantity of purchase\n",
    "df_purchases = (df3[['customer_id', 'invoice_no']].drop_duplicates().groupby('customer_id').count()\n",
    "                                                                                           .reset_index()\n",
    "                                                                                           .rename(columns={'invoice_no': 'qtd_purchases'}))\n",
    "df_ref = pd.merge(df_ref, df_purchases, on='customer_id', how='left')\n",
    "\n",
    "# recency\n",
    "df_recency = df3[['customer_id', 'invoice_date']].groupby('customer_id').max().reset_index()\n",
    "df_recency['recency_days'] = (df3['invoice_date'].max() - df_recency['invoice_date']).dt.days\n",
    "df_recency = df_recency[['customer_id', 'recency_days']].copy()\n",
    "\n",
    "df_ref = pd.merge(df_ref, df_recency, on='customer_id', how='left')"
   ]
  },
  {
   "cell_type": "code",
   "execution_count": 30,
   "id": "0f8d8008",
   "metadata": {},
   "outputs": [
    {
     "data": {
      "text/html": [
       "<div>\n",
       "<style scoped>\n",
       "    .dataframe tbody tr th:only-of-type {\n",
       "        vertical-align: middle;\n",
       "    }\n",
       "\n",
       "    .dataframe tbody tr th {\n",
       "        vertical-align: top;\n",
       "    }\n",
       "\n",
       "    .dataframe thead th {\n",
       "        text-align: right;\n",
       "    }\n",
       "</style>\n",
       "<table border=\"1\" class=\"dataframe\">\n",
       "  <thead>\n",
       "    <tr style=\"text-align: right;\">\n",
       "      <th></th>\n",
       "      <th>customer_id</th>\n",
       "      <th>gross_revenue</th>\n",
       "      <th>mean_ticket</th>\n",
       "      <th>qtd_purchases</th>\n",
       "      <th>recency_days</th>\n",
       "    </tr>\n",
       "  </thead>\n",
       "  <tbody>\n",
       "    <tr>\n",
       "      <th>0</th>\n",
       "      <td>17850</td>\n",
       "      <td>5288.63</td>\n",
       "      <td>16.95</td>\n",
       "      <td>35</td>\n",
       "      <td>302</td>\n",
       "    </tr>\n",
       "    <tr>\n",
       "      <th>1</th>\n",
       "      <td>13047</td>\n",
       "      <td>3089.10</td>\n",
       "      <td>15.92</td>\n",
       "      <td>16</td>\n",
       "      <td>46</td>\n",
       "    </tr>\n",
       "    <tr>\n",
       "      <th>2</th>\n",
       "      <td>12583</td>\n",
       "      <td>6629.34</td>\n",
       "      <td>28.21</td>\n",
       "      <td>17</td>\n",
       "      <td>2</td>\n",
       "    </tr>\n",
       "    <tr>\n",
       "      <th>3</th>\n",
       "      <td>13748</td>\n",
       "      <td>948.25</td>\n",
       "      <td>33.87</td>\n",
       "      <td>5</td>\n",
       "      <td>95</td>\n",
       "    </tr>\n",
       "    <tr>\n",
       "      <th>4</th>\n",
       "      <td>15100</td>\n",
       "      <td>635.10</td>\n",
       "      <td>105.85</td>\n",
       "      <td>6</td>\n",
       "      <td>330</td>\n",
       "    </tr>\n",
       "  </tbody>\n",
       "</table>\n",
       "</div>"
      ],
      "text/plain": [
       "   customer_id  gross_revenue  mean_ticket  qtd_purchases  recency_days\n",
       "0        17850        5288.63        16.95             35           302\n",
       "1        13047        3089.10        15.92             16            46\n",
       "2        12583        6629.34        28.21             17             2\n",
       "3        13748         948.25        33.87              5            95\n",
       "4        15100         635.10       105.85              6           330"
      ]
     },
     "execution_count": 30,
     "metadata": {},
     "output_type": "execute_result"
    }
   ],
   "source": [
    "df_ref.head()"
   ]
  },
  {
   "cell_type": "markdown",
   "id": "118176df",
   "metadata": {},
   "source": [
    "# 4 EXPLORATORY DATA ANALYSIS"
   ]
  },
  {
   "cell_type": "code",
   "execution_count": 34,
   "id": "c6a31e54",
   "metadata": {},
   "outputs": [],
   "source": [
    "df4 = df_ref.copy() "
   ]
  },
  {
   "cell_type": "markdown",
   "id": "c4024d73",
   "metadata": {},
   "source": [
    "# 5 DATA PREPARATION"
   ]
  },
  {
   "cell_type": "code",
   "execution_count": 35,
   "id": "004d14cc",
   "metadata": {},
   "outputs": [],
   "source": [
    "df5 = df4.copy()"
   ]
  },
  {
   "cell_type": "code",
   "execution_count": 36,
   "id": "00a9e13b",
   "metadata": {},
   "outputs": [],
   "source": [
    "mms = pp.MinMaxScaler()\n",
    "\n",
    "df5['gross_revenue'] = mms.fit_transform(df5[['gross_revenue']])\n",
    "df5['mean_ticket'] = mms.fit_transform(df5[['mean_ticket']])\n",
    "df5['qtd_purchases'] = mms.fit_transform(df5[['qtd_purchases']])\n",
    "df5['recency_days'] = mms.fit_transform(df5[['recency_days']])"
   ]
  },
  {
   "cell_type": "markdown",
   "id": "98b5f802",
   "metadata": {},
   "source": [
    "# 6 FEATURES SELECTION"
   ]
  },
  {
   "cell_type": "code",
   "execution_count": 37,
   "id": "70fbb690",
   "metadata": {},
   "outputs": [],
   "source": [
    "df6 = df5.copy()"
   ]
  },
  {
   "cell_type": "markdown",
   "id": "2c55f6f3",
   "metadata": {},
   "source": [
    "# 7 HYPERPARAMETER FINE TUNNING"
   ]
  },
  {
   "cell_type": "code",
   "execution_count": 38,
   "id": "4a792c9e",
   "metadata": {},
   "outputs": [],
   "source": [
    "df7 = df6.copy()"
   ]
  },
  {
   "cell_type": "code",
   "execution_count": 39,
   "id": "c8139e58",
   "metadata": {},
   "outputs": [],
   "source": [
    "X = df7.drop(columns=['customer_id'])\n",
    "\n",
    "clusters = [2, 3, 4, 5, 6, 7]"
   ]
  },
  {
   "cell_type": "markdown",
   "id": "9c1a75a9",
   "metadata": {},
   "source": [
    "## 7.1 Within-Cluster Sum of Squares (WSS)"
   ]
  },
  {
   "cell_type": "code",
   "execution_count": 40,
   "id": "3f376a92",
   "metadata": {},
   "outputs": [
    {
     "data": {
      "image/png": "[encoded data removed]",
      "text/plain": [
       "<Figure size 432x288 with 1 Axes>"
      ]
     },
     "metadata": {
      "needs_background": "light"
     },
     "output_type": "display_data"
    }
   ],
   "source": [
    "kmeans = KElbowVisualizer(c.KMeans(), k=clusters, timings=False)\n",
    "kmeans.fit(X)\n",
    "kmeans.show();"
   ]
  },
  {
   "cell_type": "markdown",
   "id": "2cb76af5",
   "metadata": {},
   "source": [
    "## 7.2 Silhouette Score"
   ]
  },
  {
   "cell_type": "code",
   "execution_count": 41,
   "id": "62e9ce4c",
   "metadata": {},
   "outputs": [
    {
     "data": {
      "image/png": "[encoded data removed]",
      "text/plain": [
       "<Figure size 432x288 with 1 Axes>"
      ]
     },
     "metadata": {
      "needs_background": "light"
     },
     "output_type": "display_data"
    }
   ],
   "source": [
    "kmeans = KElbowVisualizer(c.KMeans(), k=clusters, metric='silhouette', timings=False)\n",
    "kmeans.fit(X)\n",
    "\n",
    "kmeans.show();"
   ]
  },
  {
   "cell_type": "markdown",
   "id": "9a0288e0",
   "metadata": {},
   "source": [
    "## 7.3 Silhouette Analysis"
   ]
  },
  {
   "cell_type": "code",
   "execution_count": 42,
   "id": "07c7ad2c",
   "metadata": {},
   "outputs": [
    {
     "data": {
      "image/png": "[encoded data removed]",
      "text/plain": [
       "<Figure size 1728x1296 with 6 Axes>"
      ]
     },
     "metadata": {
      "needs_background": "light"
     },
     "output_type": "display_data"
    }
   ],
   "source": [
    "fig, ax = plt.subplots(3, 2, figsize=(24, 18))\n",
    "\n",
    "for k in clusters:\n",
    "    km = c.KMeans(n_clusters=k, init='random', n_init=10, max_iter=100, random_state=42)\n",
    "    q, mod = divmod(k, 2)\n",
    "    \n",
    "    visualizer = SilhouetteVisualizer(km, colors='yellowbrick', ax=ax[q-1][mod])\n",
    "    visualizer.fit(X)\n",
    "    visualizer.finalize()\n",
    "    \n",
    "ax[0, 0].title.set_text('Number of clusters = 2')\n",
    "ax[0, 1].title.set_text('Number of clusters = 3')\n",
    "ax[1, 0].title.set_text('Number of clusters = 4')\n",
    "ax[1, 1].title.set_text('Number of clusters = 5')\n",
    "ax[2, 0].title.set_text('Number of clusters = 6')\n",
    "ax[2, 1].title.set_text('Number of clusters = 7')\n",
    "\n",
    "plt.show()"
   ]
  },
  {
   "cell_type": "markdown",
   "id": "b87ce49b",
   "metadata": {},
   "source": [
    "# 8.0 MODEL TRAINING"
   ]
  },
  {
   "cell_type": "markdown",
   "id": "add7f0e9",
   "metadata": {},
   "source": [
    "## 8.1 K-Means"
   ]
  },
  {
   "cell_type": "code",
   "execution_count": 67,
   "id": "c0a5c676",
   "metadata": {},
   "outputs": [],
   "source": [
    "# model definition\n",
    "k = 4      \n",
    "kmeans = c.KMeans(init='random', n_clusters=k, n_init=10, max_iter=300, random_state=42)\n",
    "\n",
    "# model training\n",
    "kmeans.fit(X)\n",
    "\n",
    "# clustering\n",
    "labels = kmeans.labels_"
   ]
  },
  {
   "cell_type": "markdown",
   "id": "2fa2062d",
   "metadata": {},
   "source": [
    "## 8.2 Cluster Validation"
   ]
  },
  {
   "cell_type": "code",
   "execution_count": 68,
   "id": "e425b93e",
   "metadata": {},
   "outputs": [
    {
     "name": "stdout",
     "output_type": "stream",
     "text": [
      "WSS: 28.37\n",
      "SS : 0.56\n"
     ]
    }
   ],
   "source": [
    "## WSS \n",
    "print(f'WSS: {kmeans.inertia_:.2f}')\n",
    "\n",
    "## SS\n",
    "print(f'SS : {m.silhouette_score(X, labels, metric=\"euclidean\"):.2f}')"
   ]
  },
  {
   "cell_type": "markdown",
   "id": "100501d0",
   "metadata": {},
   "source": [
    "# 9 CLUSTER ANALYSIS"
   ]
  },
  {
   "cell_type": "code",
   "execution_count": 87,
   "id": "672f8a67",
   "metadata": {},
   "outputs": [
    {
     "data": {
      "text/html": [
       "<div>\n",
       "<style scoped>\n",
       "    .dataframe tbody tr th:only-of-type {\n",
       "        vertical-align: middle;\n",
       "    }\n",
       "\n",
       "    .dataframe tbody tr th {\n",
       "        vertical-align: top;\n",
       "    }\n",
       "\n",
       "    .dataframe thead th {\n",
       "        text-align: right;\n",
       "    }\n",
       "</style>\n",
       "<table border=\"1\" class=\"dataframe\">\n",
       "  <thead>\n",
       "    <tr style=\"text-align: right;\">\n",
       "      <th></th>\n",
       "      <th>customer_id</th>\n",
       "      <th>gross_revenue</th>\n",
       "      <th>mean_ticket</th>\n",
       "      <th>qtd_purchases</th>\n",
       "      <th>recency_days</th>\n",
       "      <th>cluster</th>\n",
       "    </tr>\n",
       "  </thead>\n",
       "  <tbody>\n",
       "    <tr>\n",
       "      <th>0</th>\n",
       "      <td>17850</td>\n",
       "      <td>5288.63</td>\n",
       "      <td>16.95</td>\n",
       "      <td>35</td>\n",
       "      <td>302</td>\n",
       "      <td>3</td>\n",
       "    </tr>\n",
       "    <tr>\n",
       "      <th>1</th>\n",
       "      <td>13047</td>\n",
       "      <td>3089.10</td>\n",
       "      <td>15.92</td>\n",
       "      <td>16</td>\n",
       "      <td>46</td>\n",
       "      <td>1</td>\n",
       "    </tr>\n",
       "    <tr>\n",
       "      <th>2</th>\n",
       "      <td>12583</td>\n",
       "      <td>6629.34</td>\n",
       "      <td>28.21</td>\n",
       "      <td>17</td>\n",
       "      <td>2</td>\n",
       "      <td>1</td>\n",
       "    </tr>\n",
       "    <tr>\n",
       "      <th>3</th>\n",
       "      <td>13748</td>\n",
       "      <td>948.25</td>\n",
       "      <td>33.87</td>\n",
       "      <td>5</td>\n",
       "      <td>95</td>\n",
       "      <td>0</td>\n",
       "    </tr>\n",
       "    <tr>\n",
       "      <th>4</th>\n",
       "      <td>15100</td>\n",
       "      <td>635.10</td>\n",
       "      <td>105.85</td>\n",
       "      <td>6</td>\n",
       "      <td>330</td>\n",
       "      <td>3</td>\n",
       "    </tr>\n",
       "  </tbody>\n",
       "</table>\n",
       "</div>"
      ],
      "text/plain": [
       "   customer_id  gross_revenue  mean_ticket  qtd_purchases  recency_days  \\\n",
       "0        17850        5288.63        16.95             35           302   \n",
       "1        13047        3089.10        15.92             16            46   \n",
       "2        12583        6629.34        28.21             17             2   \n",
       "3        13748         948.25        33.87              5            95   \n",
       "4        15100         635.10       105.85              6           330   \n",
       "\n",
       "   cluster  \n",
       "0        3  \n",
       "1        1  \n",
       "2        1  \n",
       "3        0  \n",
       "4        3  "
      ]
     },
     "execution_count": 87,
     "metadata": {},
     "output_type": "execute_result"
    }
   ],
   "source": [
    "df9 = df_ref.copy()\n",
    "df9['cluster'] = labels\n",
    "\n",
    "df9.head()"
   ]
  },
  {
   "cell_type": "markdown",
   "id": "7b37f0ca",
   "metadata": {},
   "source": [
    "## 9.1 2D Plot"
   ]
  },
  {
   "cell_type": "code",
   "execution_count": 88,
   "id": "d6b8599b",
   "metadata": {},
   "outputs": [
    {
     "data": {
      "image/png": "[encoded data removed]",
      "text/plain": [
       "<Figure size 765.725x720 with 20 Axes>"
      ]
     },
     "metadata": {
      "needs_background": "light"
     },
     "output_type": "display_data"
    }
   ],
   "source": [
    "df_viz = df9.drop(columns='customer_id', axis=1)\n",
    "sns.pairplot(df_viz, hue='cluster', palette=sns.color_palette('hls', n_colors=len(df_viz['cluster'].unique())));"
   ]
  },
  {
   "cell_type": "markdown",
   "id": "57bec7c8",
   "metadata": {},
   "source": [
    "## 9.2 Cluster Profile"
   ]
  },
  {
   "cell_type": "code",
   "execution_count": 89,
   "id": "21395a2d",
   "metadata": {},
   "outputs": [],
   "source": [
    "# number of customers\n",
    "df_cluster = df9[['customer_id', 'cluster']].groupby('cluster').count().reset_index().rename(columns={'customer_id': 'qtd_customers'})\n",
    "df_cluster['perc_customer'] = df_cluster['qtd_customers'] / (df_cluster['qtd_customers'].sum()) * 100\n",
    "\n",
    "# gross revenue\n",
    "df_gross_revenue = df9[['gross_revenue', 'cluster']].groupby('cluster').mean().reset_index()\n",
    "df_cluster = pd.merge( df_cluster, df_gross_revenue, how='inner', on='cluster')\n",
    "\n",
    "# mean ticket\n",
    "df_mean_ticket = df9[['mean_ticket', 'cluster']].groupby('cluster').mean().reset_index()\n",
    "df_cluster = pd.merge(df_cluster, df_mean_ticket, how='inner', on='cluster')\n",
    "\n",
    "# qtd purchases\n",
    "df_purchases = df9[['qtd_purchases', 'cluster']].groupby('cluster').mean().reset_index()\n",
    "df_cluster = pd.merge(df_cluster, df_purchases, how='inner', on='cluster')\n",
    "\n",
    "# recency days\n",
    "df_recency_days = df9[['recency_days', 'cluster']].groupby('cluster').mean().reset_index()\n",
    "df_cluster = pd.merge(df_cluster, df_recency_days, how='inner', on='cluster')"
   ]
  },
  {
   "cell_type": "code",
   "execution_count": 90,
   "id": "16fe36c1",
   "metadata": {},
   "outputs": [
    {
     "data": {
      "text/html": [
       "<div>\n",
       "<style scoped>\n",
       "    .dataframe tbody tr th:only-of-type {\n",
       "        vertical-align: middle;\n",
       "    }\n",
       "\n",
       "    .dataframe tbody tr th {\n",
       "        vertical-align: top;\n",
       "    }\n",
       "\n",
       "    .dataframe thead th {\n",
       "        text-align: right;\n",
       "    }\n",
       "</style>\n",
       "<table border=\"1\" class=\"dataframe\">\n",
       "  <thead>\n",
       "    <tr style=\"text-align: right;\">\n",
       "      <th></th>\n",
       "      <th>cluster</th>\n",
       "      <th>qtd_customers</th>\n",
       "      <th>perc_customer</th>\n",
       "      <th>gross_revenue</th>\n",
       "      <th>mean_ticket</th>\n",
       "      <th>qtd_purchases</th>\n",
       "      <th>recency_days</th>\n",
       "    </tr>\n",
       "  </thead>\n",
       "  <tbody>\n",
       "    <tr>\n",
       "      <th>0</th>\n",
       "      <td>0</td>\n",
       "      <td>1058</td>\n",
       "      <td>24.25</td>\n",
       "      <td>983.56</td>\n",
       "      <td>29.80</td>\n",
       "      <td>3.08</td>\n",
       "      <td>78.24</td>\n",
       "    </tr>\n",
       "    <tr>\n",
       "      <th>1</th>\n",
       "      <td>1</td>\n",
       "      <td>2151</td>\n",
       "      <td>49.31</td>\n",
       "      <td>3087.99</td>\n",
       "      <td>29.30</td>\n",
       "      <td>7.60</td>\n",
       "      <td>17.90</td>\n",
       "    </tr>\n",
       "    <tr>\n",
       "      <th>2</th>\n",
       "      <td>2</td>\n",
       "      <td>642</td>\n",
       "      <td>14.72</td>\n",
       "      <td>661.75</td>\n",
       "      <td>51.70</td>\n",
       "      <td>2.21</td>\n",
       "      <td>187.79</td>\n",
       "    </tr>\n",
       "    <tr>\n",
       "      <th>3</th>\n",
       "      <td>3</td>\n",
       "      <td>511</td>\n",
       "      <td>11.71</td>\n",
       "      <td>364.07</td>\n",
       "      <td>30.31</td>\n",
       "      <td>1.53</td>\n",
       "      <td>309.04</td>\n",
       "    </tr>\n",
       "  </tbody>\n",
       "</table>\n",
       "</div>"
      ],
      "text/plain": [
       "   cluster  qtd_customers  perc_customer  gross_revenue  mean_ticket  \\\n",
       "0        0           1058          24.25         983.56        29.80   \n",
       "1        1           2151          49.31        3087.99        29.30   \n",
       "2        2            642          14.72         661.75        51.70   \n",
       "3        3            511          11.71         364.07        30.31   \n",
       "\n",
       "   qtd_purchases  recency_days  \n",
       "0           3.08         78.24  \n",
       "1           7.60         17.90  \n",
       "2           2.21        187.79  \n",
       "3           1.53        309.04  "
      ]
     },
     "execution_count": 90,
     "metadata": {},
     "output_type": "execute_result"
    }
   ],
   "source": [
    "df_cluster"
   ]
  }
 ],
 "metadata": {
  "kernelspec": {
   "display_name": "Python 3 (ipykernel)",
   "language": "python",
   "name": "python3"
  },
  "language_info": {
   "codemirror_mode": {
    "name": "ipython",
    "version": 3
   },
   "file_extension": ".py",
   "mimetype": "text/x-python",
   "name": "python",
   "nbconvert_exporter": "python",
   "pygments_lexer": "ipython3",
   "version": "3.9.12"
  }
 },
 "nbformat": 4,
 "nbformat_minor": 5
}
